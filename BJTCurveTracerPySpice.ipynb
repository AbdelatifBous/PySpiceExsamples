{
 "cells": [
  {
   "cell_type": "markdown",
   "metadata": {},
   "source": [
    "\\title{BJT Charteristic Anyslies via PySpice}\n",
    "\\author{Steven K Armour}\n",
    "\\maketitle"
   ]
  },
  {
   "cell_type": "markdown",
   "metadata": {},
   "source": [
    "# Setup\n",
    "The goal of this work is to show how to accure all the pertinit measurmnts to fully chaertize a BJT Transister and make predictions for use in cirucit desighn. This exsample is an exstations of the basic BJT Tranister Chaterisi meauement esample https://pyspice.fabrice-salvaire.fr/examples/transistor/transistor.html in PySpice by  Fabrice Salvaire. \n",
    "For the recored Pyspice is not cirucit simultor in its self inseted it is a python API front in to NGSpice "
   ]
  },
  {
   "cell_type": "markdown",
   "metadata": {},
   "source": [
    "## What this work could lead to\n",
    "Right now cirucit devlopment is domintted by toboloty devlopment and lots of guess and cheak using archaiic systems. With acess to ngspice from within python cirucit devlopment can be done smater by for front end predction of data and not on ad hoc eautons and the possopley in introduce machine learning. "
   ]
  },
  {
   "cell_type": "markdown",
   "metadata": {},
   "source": [
    "## Generic python  libarys used"
   ]
  },
  {
   "cell_type": "code",
   "execution_count": 1,
   "metadata": {},
   "outputs": [],
   "source": [
    "import numpy as np\n",
    "from scipy.optimize import fsolve, curve_fit\n",
    "from scipy import interpolate as SciInterPol\n",
    "import scipy.constants as consts\n",
    "from collections import OrderedDict\n",
    "\n",
    "from sympy import *\n",
    "init_printing()\n",
    "\n",
    "import pandas as pd\n",
    "import matplotlib.pyplot as plt\n",
    "%matplotlib inline"
   ]
  },
  {
   "cell_type": "markdown",
   "metadata": {},
   "source": [
    "## Imports sceficly from PySpice"
   ]
  },
  {
   "cell_type": "code",
   "execution_count": 2,
   "metadata": {},
   "outputs": [],
   "source": [
    "import PySpice.Logging.Logging as Logging\n",
    "logger = Logging.setup_logging()\n",
    "from PySpice.Probe.Plot import plot\n",
    "from PySpice.Spice.Library import SpiceLibrary\n",
    "from PySpice.Spice.Netlist import Circuit\n",
    "from PySpice.Unit import *"
   ]
  },
  {
   "cell_type": "markdown",
   "metadata": {},
   "source": [
    "## Loading in Spice Model files\n",
    "for this exsamplle the On Semiconductor 2N222a BJT spice model is stred in a text file (.lib) in a folder parral to this notebook (for convince). the dicectory given to python and then to the `SpiceLibrary` function found (API: https://pyspice.fabrice-salvaire.fr/api/PySpice/Spice/Library.html) that then purisises the directory for the said .lib (it only looks for '.lib', '.mod', '.lib@xyce', '.mod@xyce'  spice model file types)"
   ]
  },
  {
   "cell_type": "code",
   "execution_count": 3,
   "metadata": {},
   "outputs": [
    {
     "name": "stdout",
     "output_type": "stream",
     "text": [
      "\u001b[1;32m2018-01-24 23:49:56,145\u001b[0m - \u001b[1;34mPySpice.Spice.Library.Library.__init__\u001b[0m - \u001b[1;31mDEBUG\u001b[0m - Parse SpiceLib/2N2901a.lib\n",
      "\u001b[1;32m2018-01-24 23:49:56,147\u001b[0m - \u001b[1;34mPySpice.Spice.Library.Library.__init__\u001b[0m - \u001b[1;31mDEBUG\u001b[0m - Parse SpiceLib/2N2222A.lib\n"
     ]
    }
   ],
   "source": [
    "libraries_path = 'SpiceLib/'\n",
    "spice_library = SpiceLibrary(libraries_path)"
   ]
  },
  {
   "cell_type": "markdown",
   "metadata": {},
   "source": [
    "# Things to do\n",
    "- Clean & doc\n",
    "- VTC Curve anylsis\n",
    "- Impulse REsponce test\n",
    "- Chua's Q point find\n",
    "- Generices and bind to moduel"
   ]
  },
  {
   "cell_type": "markdown",
   "metadata": {},
   "source": [
    "propboly going to parse this out into a series of notebooks, cause I maybe got a little excited"
   ]
  },
  {
   "cell_type": "markdown",
   "metadata": {},
   "source": [
    "#  The input curve Data"
   ]
  },
  {
   "cell_type": "markdown",
   "metadata": {},
   "source": [
    "## The Test Cirucit"
   ]
  },
  {
   "cell_type": "markdown",
   "metadata": {},
   "source": [
    "<img src=\"https://pyspice.fabrice-salvaire.fr/_images/transistor.png>"
   ]
  },
  {
   "cell_type": "code",
   "execution_count": 4,
   "metadata": {},
   "outputs": [
    {
     "data": {
      "text/plain": [
       "BipolarJunctionTransistor Q1"
      ]
     },
     "execution_count": 4,
     "metadata": {},
     "output_type": "execute_result"
    }
   ],
   "source": [
    "circuit = Circuit('Transistor')\n",
    "#circuit permeters\n",
    "Rb=1@u_kΩ; Rc=1@u_kΩ; VcollMax=3; TempC=25\n",
    "\n",
    "Vbase = circuit.V('base', '1', circuit.gnd, 1@u_V)\n",
    "circuit.R('base', 1, 'base', Rb)\n",
    "Vcollector = circuit.V('collector', '2', circuit.gnd, 0@u_V)\n",
    "circuit.R('collector', 2, 'collector', Rc)\n",
    "# circuit.BJT(1, 'collector', 'base', circuit.gnd, 'generic')\n",
    "# circuit.model('generic', 'npn')\n",
    "circuit.include(spice_library['2n2222a'])\n",
    "circuit.BJT(1, 'collector', 'base', circuit.gnd, '2n2222a')"
   ]
  },
  {
   "cell_type": "markdown",
   "metadata": {},
   "source": [
    "## Input Curve ($V_{be}$ vs. $I_b$)\n",
    "$$I_b=f(V_{be})$$"
   ]
  },
  {
   "cell_type": "code",
   "execution_count": 5,
   "metadata": {},
   "outputs": [
    {
     "name": "stdout",
     "output_type": "stream",
     "text": [
      "\u001b[1;32m2018-01-24 23:49:56,367\u001b[0m - \u001b[1;34mPySpice.Spice.NgSpice.Shared.NgSpiceShared.new_instance\u001b[0m - \u001b[1;31mINFO\u001b[0m - New instance for id 0\n",
      "\u001b[1;32m2018-01-24 23:49:56,480\u001b[0m - \u001b[1;34mPySpice.Spice.NgSpice.Shared.NgSpiceShared.exec_command\u001b[0m - \u001b[1;31mDEBUG\u001b[0m - Execute command: set nomoremode\n",
      "\u001b[1;32m2018-01-24 23:49:56,482\u001b[0m - \u001b[1;34mPySpice.Spice.Simulation.NgSpiceSharedCircuitSimulator._run\u001b[0m - \u001b[1;31mDEBUG\u001b[0m - desk\n",
      ".title Transistor\n",
      ".include /home/iridium/string12oil@gmail.com/MyProjects/EEM-Circuits/SpiceLib/2N2222A.lib\n",
      "Vbase 1 0 1V\n",
      "Rbase 1 base 1kOhm\n",
      "Vcollector 2 0 0V\n",
      "Rcollector 2 collector 1kOhm\n",
      "Q1 collector base 0 2n2222a \n",
      ".options TEMP = 25°C\n",
      ".options TNOM = 25°C\n",
      ".ic \n",
      ".dc Vbase 0 3 0.01\n",
      ".end\n",
      "\n",
      "\u001b[1;32m2018-01-24 23:49:56,482\u001b[0m - \u001b[1;34mPySpice.Spice.NgSpice.Shared.NgSpiceShared.exec_command\u001b[0m - \u001b[1;31mDEBUG\u001b[0m - Execute command: destroy all\n",
      "\u001b[1;32m2018-01-24 23:49:56,495\u001b[0m - \u001b[1;34mPySpice.Spice.NgSpice.Shared.NgSpiceShared.run\u001b[0m - \u001b[1;31mDEBUG\u001b[0m - Simulation is done\n",
      "\u001b[1;32m2018-01-24 23:49:56,496\u001b[0m - \u001b[1;34mPySpice.Spice.Simulation.NgSpiceSharedCircuitSimulator._run\u001b[0m - \u001b[1;31mDEBUG\u001b[0m - ['dc1', 'const']\n"
     ]
    }
   ],
   "source": [
    "simulator = circuit.simulator(temperature=TempC, nominal_temperature=TempC)\n",
    "analysisInputCurve = simulator.dc(Vbase=slice(0, VcollMax, .01))\n",
    "#! Need to figure out how to disable this message strings on the fly"
   ]
  },
  {
   "cell_type": "code",
   "execution_count": 6,
   "metadata": {},
   "outputs": [
    {
     "data": {
      "image/png": "[encoded data removed]",
      "text/plain": [
       "<matplotlib.figure.Figure at 0x7f3ceb147a20>"
      ]
     },
     "metadata": {},
     "output_type": "display_data"
    }
   ],
   "source": [
    "plt.title('$V_{be}$ vs. $I_b$ single')\n",
    "plt.plot(analysisInputCurve.base, -analysisInputCurve.Vbase*1000) # Fixme: I_Vbase, unit scale\n",
    "plt.legend(('Base-Emitter Diode curve',), loc=(.1,.8))\n",
    "plt.grid()\n",
    "plt.xlabel('Vbe [V]'); plt.ylabel('Ib [mA]');"
   ]
  },
  {
   "cell_type": "markdown",
   "metadata": {},
   "source": [
    "### Input Curve Set\n",
    "if the following we take advantge of the Python Pandas libary and PySPice to quicly setup a serires of simultion sweeps and capture there dtata in a essently sudo database"
   ]
  },
  {
   "cell_type": "code",
   "execution_count": 7,
   "metadata": {
    "scrolled": true
   },
   "outputs": [
    {
     "name": "stdout",
     "output_type": "stream",
     "text": [
      "\u001b[1;32m2018-01-24 23:49:56,996\u001b[0m - \u001b[1;34mPySpice.Spice.Simulation.NgSpiceSharedCircuitSimulator._run\u001b[0m - \u001b[1;31mDEBUG\u001b[0m - desk\n",
      ".title Transistor\n",
      ".include /home/iridium/string12oil@gmail.com/MyProjects/EEM-Circuits/SpiceLib/2N2222A.lib\n",
      "Vbase 1 0 1V\n",
      "Rbase 1 base 1kOhm\n",
      "Vcollector 2 0 0.0V\n",
      "Rcollector 2 collector 1kOhm\n",
      "Q1 collector base 0 2n2222a \n",
      ".options TEMP = 25°C\n",
      ".options TNOM = 25°C\n",
      ".ic \n",
      ".dc Vbase 0 3 0.01\n",
      ".end\n",
      "\n",
      "\u001b[1;32m2018-01-24 23:49:56,998\u001b[0m - \u001b[1;34mPySpice.Spice.NgSpice.Shared.NgSpiceShared.exec_command\u001b[0m - \u001b[1;31mDEBUG\u001b[0m - Execute command: destroy all\n",
      "\u001b[1;32m2018-01-24 23:49:57,001\u001b[0m - \u001b[1;34mPySpice.Spice.NgSpice.Shared.NgSpiceShared.run\u001b[0m - \u001b[1;31mDEBUG\u001b[0m - Simulation is done\n",
      "\u001b[1;32m2018-01-24 23:49:57,002\u001b[0m - \u001b[1;34mPySpice.Spice.Simulation.NgSpiceSharedCircuitSimulator._run\u001b[0m - \u001b[1;31mDEBUG\u001b[0m - ['dc1', 'const']\n",
      "\u001b[1;32m2018-01-24 23:49:57,005\u001b[0m - \u001b[1;34mPySpice.Spice.Simulation.NgSpiceSharedCircuitSimulator._run\u001b[0m - \u001b[1;31mDEBUG\u001b[0m - desk\n",
      ".title Transistor\n",
      ".include /home/iridium/string12oil@gmail.com/MyProjects/EEM-Circuits/SpiceLib/2N2222A.lib\n",
      "Vbase 1 0 1V\n",
      "Rbase 1 base 1kOhm\n",
      "Vcollector 2 0 1.0V\n",
      "Rcollector 2 collector 1kOhm\n",
      "Q1 collector base 0 2n2222a \n",
      ".options TEMP = 25°C\n",
      ".options TNOM = 25°C\n",
      ".ic \n",
      ".dc Vbase 0 3 0.01\n",
      ".end\n",
      "\n",
      "\u001b[1;32m2018-01-24 23:49:57,005\u001b[0m - \u001b[1;34mPySpice.Spice.NgSpice.Shared.NgSpiceShared.exec_command\u001b[0m - \u001b[1;31mDEBUG\u001b[0m - Execute command: destroy all\n",
      "\u001b[1;32m2018-01-24 23:49:57,009\u001b[0m - \u001b[1;34mPySpice.Spice.NgSpice.Shared.NgSpiceShared.run\u001b[0m - \u001b[1;31mDEBUG\u001b[0m - Simulation is done\n",
      "\u001b[1;32m2018-01-24 23:49:57,010\u001b[0m - \u001b[1;34mPySpice.Spice.Simulation.NgSpiceSharedCircuitSimulator._run\u001b[0m - \u001b[1;31mDEBUG\u001b[0m - ['dc1', 'const']\n",
      "\u001b[1;32m2018-01-24 23:49:57,012\u001b[0m - \u001b[1;34mPySpice.Spice.Simulation.NgSpiceSharedCircuitSimulator._run\u001b[0m - \u001b[1;31mDEBUG\u001b[0m - desk\n",
      ".title Transistor\n",
      ".include /home/iridium/string12oil@gmail.com/MyProjects/EEM-Circuits/SpiceLib/2N2222A.lib\n",
      "Vbase 1 0 1V\n",
      "Rbase 1 base 1kOhm\n",
      "Vcollector 2 0 2.0V\n",
      "Rcollector 2 collector 1kOhm\n",
      "Q1 collector base 0 2n2222a \n",
      ".options TEMP = 25°C\n",
      ".options TNOM = 25°C\n",
      ".ic \n",
      ".dc Vbase 0 3 0.01\n",
      ".end\n",
      "\n",
      "\u001b[1;32m2018-01-24 23:49:57,012\u001b[0m - \u001b[1;34mPySpice.Spice.NgSpice.Shared.NgSpiceShared.exec_command\u001b[0m - \u001b[1;31mDEBUG\u001b[0m - Execute command: destroy all\n",
      "\u001b[1;32m2018-01-24 23:49:57,016\u001b[0m - \u001b[1;34mPySpice.Spice.NgSpice.Shared.NgSpiceShared.run\u001b[0m - \u001b[1;31mDEBUG\u001b[0m - Simulation is done\n",
      "\u001b[1;32m2018-01-24 23:49:57,020\u001b[0m - \u001b[1;34mPySpice.Spice.Simulation.NgSpiceSharedCircuitSimulator._run\u001b[0m - \u001b[1;31mDEBUG\u001b[0m - ['dc1', 'const']\n",
      "\u001b[1;32m2018-01-24 23:49:57,023\u001b[0m - \u001b[1;34mPySpice.Spice.Simulation.NgSpiceSharedCircuitSimulator._run\u001b[0m - \u001b[1;31mDEBUG\u001b[0m - desk\n",
      ".title Transistor\n",
      ".include /home/iridium/string12oil@gmail.com/MyProjects/EEM-Circuits/SpiceLib/2N2222A.lib\n",
      "Vbase 1 0 1V\n",
      "Rbase 1 base 1kOhm\n",
      "Vcollector 2 0 3.0V\n",
      "Rcollector 2 collector 1kOhm\n",
      "Q1 collector base 0 2n2222a \n",
      ".options TEMP = 25°C\n",
      ".options TNOM = 25°C\n",
      ".ic \n",
      ".dc Vbase 0 3 0.01\n",
      ".end\n",
      "\n",
      "\u001b[1;32m2018-01-24 23:49:57,023\u001b[0m - \u001b[1;34mPySpice.Spice.NgSpice.Shared.NgSpiceShared.exec_command\u001b[0m - \u001b[1;31mDEBUG\u001b[0m - Execute command: destroy all\n",
      "\u001b[1;32m2018-01-24 23:49:57,027\u001b[0m - \u001b[1;34mPySpice.Spice.NgSpice.Shared.NgSpiceShared.run\u001b[0m - \u001b[1;31mDEBUG\u001b[0m - Simulation is done\n",
      "\u001b[1;32m2018-01-24 23:49:57,028\u001b[0m - \u001b[1;34mPySpice.Spice.Simulation.NgSpiceSharedCircuitSimulator._run\u001b[0m - \u001b[1;31mDEBUG\u001b[0m - ['dc1', 'const']\n",
      "\u001b[1;32m2018-01-24 23:49:57,030\u001b[0m - \u001b[1;34mPySpice.Spice.Simulation.NgSpiceSharedCircuitSimulator._run\u001b[0m - \u001b[1;31mDEBUG\u001b[0m - desk\n",
      ".title Transistor\n",
      ".include /home/iridium/string12oil@gmail.com/MyProjects/EEM-Circuits/SpiceLib/2N2222A.lib\n",
      "Vbase 1 0 1V\n",
      "Rbase 1 base 1kOhm\n",
      "Vcollector 2 0 4.0V\n",
      "Rcollector 2 collector 1kOhm\n",
      "Q1 collector base 0 2n2222a \n",
      ".options TEMP = 25°C\n",
      ".options TNOM = 25°C\n",
      ".ic \n",
      ".dc Vbase 0 3 0.01\n",
      ".end\n",
      "\n",
      "\u001b[1;32m2018-01-24 23:49:57,031\u001b[0m - \u001b[1;34mPySpice.Spice.NgSpice.Shared.NgSpiceShared.exec_command\u001b[0m - \u001b[1;31mDEBUG\u001b[0m - Execute command: destroy all\n",
      "\u001b[1;32m2018-01-24 23:49:57,036\u001b[0m - \u001b[1;34mPySpice.Spice.NgSpice.Shared.NgSpiceShared.run\u001b[0m - \u001b[1;31mDEBUG\u001b[0m - Simulation is done\n",
      "\u001b[1;32m2018-01-24 23:49:57,037\u001b[0m - \u001b[1;34mPySpice.Spice.Simulation.NgSpiceSharedCircuitSimulator._run\u001b[0m - \u001b[1;31mDEBUG\u001b[0m - ['dc1', 'const']\n",
      "\u001b[1;32m2018-01-24 23:49:57,040\u001b[0m - \u001b[1;34mPySpice.Spice.Simulation.NgSpiceSharedCircuitSimulator._run\u001b[0m - \u001b[1;31mDEBUG\u001b[0m - desk\n",
      ".title Transistor\n",
      ".include /home/iridium/string12oil@gmail.com/MyProjects/EEM-Circuits/SpiceLib/2N2222A.lib\n",
      "Vbase 1 0 1V\n",
      "Rbase 1 base 1kOhm\n",
      "Vcollector 2 0 5.0V\n",
      "Rcollector 2 collector 1kOhm\n",
      "Q1 collector base 0 2n2222a \n",
      ".options TEMP = 25°C\n",
      ".options TNOM = 25°C\n",
      ".ic \n",
      ".dc Vbase 0 3 0.01\n",
      ".end\n",
      "\n",
      "\u001b[1;32m2018-01-24 23:49:57,041\u001b[0m - \u001b[1;34mPySpice.Spice.NgSpice.Shared.NgSpiceShared.exec_command\u001b[0m - \u001b[1;31mDEBUG\u001b[0m - Execute command: destroy all\n",
      "\u001b[1;32m2018-01-24 23:49:57,045\u001b[0m - \u001b[1;34mPySpice.Spice.NgSpice.Shared.NgSpiceShared.run\u001b[0m - \u001b[1;31mDEBUG\u001b[0m - Simulation is done\n",
      "\u001b[1;32m2018-01-24 23:49:57,045\u001b[0m - \u001b[1;34mPySpice.Spice.Simulation.NgSpiceSharedCircuitSimulator._run\u001b[0m - \u001b[1;31mDEBUG\u001b[0m - ['dc1', 'const']\n"
     ]
    }
   ],
   "source": [
    "InputData=pd.DataFrame()\n",
    "for Vce in np.arange(0, 5+1, 1):\n",
    "    Vcollector.dc_value=Vce@u_V\n",
    "    analysisInputCurve = simulator.dc(Vbase=slice(0, 3, .01))\n",
    "    InputData[f'Vbe[V];{Vce}']=analysisInputCurve.base\n",
    "    InputData[f'Ib[A];{Vce}']=-analysisInputCurve.Vbase\n",
    "\n",
    "\n",
    "    "
   ]
  },
  {
   "cell_type": "markdown",
   "metadata": {},
   "source": [
    "Graphing the outputs"
   ]
  },
  {
   "cell_type": "code",
   "execution_count": 8,
   "metadata": {},
   "outputs": [
    {
     "data": {
      "image/png": "[encoded data removed]",
      "text/plain": [
       "<matplotlib.figure.Figure at 0x7f3cdffcc320>"
      ]
     },
     "metadata": {},
     "output_type": "display_data"
    }
   ],
   "source": [
    "#! need to incapsulte this into a function(meth) \n",
    "#! also need to move the legend to the side\n",
    "plt.title('$V_{be}$ vs. $I_b$ $V_{ce}$ Set')\n",
    "\n",
    "xs=InputData.columns[0::2]\n",
    "ys=InputData.columns[1::2]\n",
    "for x, y in zip(xs, ys):\n",
    "    plt.plot(InputData[x], InputData[y]*1000, label=f'Vce={y[6:]}[V]')\n",
    "plt.legend(loc='best')\n",
    "plt.grid()\n",
    "plt.xlabel('Vbe [V]'); plt.ylabel('Ib [mA]');\n",
    "plt.xlim(0.4, 0.9);"
   ]
  },
  {
   "cell_type": "markdown",
   "metadata": {},
   "source": [
    "Small Signal Parmaters\n",
    "\n",
    "Input:\n",
    "$$i_B=I_B(V_{BE, Q}+v_{BE}, V_{CE, Q}+v_{CE})-I_{B, Q}$$\n",
    "\n",
    "$$i_B \\approx \\dfrac{\\partial I_B}{\\partial V_{BE}}\\bigg\\rvert_Q + v_{BE}+\\dfrac{\\partial I_B}{\\partial V_{CE}}\\bigg\\rvert_Q v_{CE} +..$$\n",
    "\n",
    "$$i_B \\approx \\dfrac{1}{r_{\\pi}}v_{BE}+ g_{\\pi}v_{CE}$$\n",
    "\n",
    "Output:\n",
    "\n",
    "$$i_C=I_C(V_{BE, Q}+v_{BE}, V_{CE, Q}+v_{CE})-I_{C, Q}$$\n",
    "\n",
    "$$i_C \\approx \\dfrac{\\partial I_C}{\\partial V_{BE}}\\bigg\\rvert_Q + v_{BE}+\\dfrac{\\partial I_C}{\\partial V_{CE}}\\bigg\\rvert_Q v_{CE} +..$$\n",
    "\n",
    "$$i_C \\approx g_{m} v_{BE}+ \\dfrac{1}{r_{0}}v_{CE}$$\n",
    "\n",
    "\n",
    "Tietze & Schenk 2nd Ed 41-43"
   ]
  },
  {
   "cell_type": "markdown",
   "metadata": {},
   "source": [
    "\n",
    "### Input Resistance\n",
    "$$g_{\\pi}=\\dfrac{\\partial I_b}{\\partial V_{be}}$$"
   ]
  },
  {
   "cell_type": "code",
   "execution_count": 9,
   "metadata": {},
   "outputs": [
    {
     "data": {
      "text/html": [
       "<div>\n",
       "<style scoped>\n",
       "    .dataframe tbody tr th:only-of-type {\n",
       "        vertical-align: middle;\n",
       "    }\n",
       "\n",
       "    .dataframe tbody tr th {\n",
       "        vertical-align: top;\n",
       "    }\n",
       "\n",
       "    .dataframe thead th {\n",
       "        text-align: right;\n",
       "    }\n",
       "</style>\n",
       "<table border=\"1\" class=\"dataframe\">\n",
       "  <thead>\n",
       "    <tr style=\"text-align: right;\">\n",
       "      <th></th>\n",
       "      <th>Vbe[V];0</th>\n",
       "      <th>gpi;0</th>\n",
       "      <th>Vbe[V];1</th>\n",
       "      <th>gpi;1</th>\n",
       "      <th>Vbe[V];2</th>\n",
       "      <th>gpi;2</th>\n",
       "      <th>Vbe[V];3</th>\n",
       "      <th>gpi;3</th>\n",
       "      <th>Vbe[V];4</th>\n",
       "      <th>gpi;4</th>\n",
       "      <th>Vbe[V];5</th>\n",
       "      <th>gpi;5</th>\n",
       "    </tr>\n",
       "  </thead>\n",
       "  <tbody>\n",
       "    <tr>\n",
       "      <th>count</th>\n",
       "      <td>3.010000e+02</td>\n",
       "      <td>3.010000e+02</td>\n",
       "      <td>3.010000e+02</td>\n",
       "      <td>3.010000e+02</td>\n",
       "      <td>3.010000e+02</td>\n",
       "      <td>3.010000e+02</td>\n",
       "      <td>3.010000e+02</td>\n",
       "      <td>3.010000e+02</td>\n",
       "      <td>3.010000e+02</td>\n",
       "      <td>3.010000e+02</td>\n",
       "      <td>3.010000e+02</td>\n",
       "      <td>3.010000e+02</td>\n",
       "    </tr>\n",
       "    <tr>\n",
       "      <th>mean</th>\n",
       "      <td>6.791673e-01</td>\n",
       "      <td>2.745422e-02</td>\n",
       "      <td>6.808358e-01</td>\n",
       "      <td>2.815954e-02</td>\n",
       "      <td>6.822101e-01</td>\n",
       "      <td>2.887341e-02</td>\n",
       "      <td>6.834671e-01</td>\n",
       "      <td>2.959622e-02</td>\n",
       "      <td>6.846464e-01</td>\n",
       "      <td>3.032862e-02</td>\n",
       "      <td>6.857641e-01</td>\n",
       "      <td>3.106991e-02</td>\n",
       "    </tr>\n",
       "    <tr>\n",
       "      <th>std</th>\n",
       "      <td>2.103343e-01</td>\n",
       "      <td>2.414132e-02</td>\n",
       "      <td>2.108504e-01</td>\n",
       "      <td>2.453145e-02</td>\n",
       "      <td>2.113884e-01</td>\n",
       "      <td>2.493254e-02</td>\n",
       "      <td>2.119131e-01</td>\n",
       "      <td>2.534460e-02</td>\n",
       "      <td>2.124238e-01</td>\n",
       "      <td>2.576734e-02</td>\n",
       "      <td>2.129210e-01</td>\n",
       "      <td>2.620199e-02</td>\n",
       "    </tr>\n",
       "    <tr>\n",
       "      <th>min</th>\n",
       "      <td>4.652014e-26</td>\n",
       "      <td>3.041871e-10</td>\n",
       "      <td>1.115396e-08</td>\n",
       "      <td>2.052600e-10</td>\n",
       "      <td>1.216694e-08</td>\n",
       "      <td>2.052191e-10</td>\n",
       "      <td>1.316825e-08</td>\n",
       "      <td>2.052156e-10</td>\n",
       "      <td>1.416857e-08</td>\n",
       "      <td>2.052156e-10</td>\n",
       "      <td>1.516868e-08</td>\n",
       "      <td>2.052156e-10</td>\n",
       "    </tr>\n",
       "    <tr>\n",
       "      <th>25%</th>\n",
       "      <td>6.982164e-01</td>\n",
       "      <td>1.631662e-03</td>\n",
       "      <td>7.064140e-01</td>\n",
       "      <td>2.035259e-03</td>\n",
       "      <td>7.136072e-01</td>\n",
       "      <td>2.446076e-03</td>\n",
       "      <td>7.199527e-01</td>\n",
       "      <td>2.745902e-03</td>\n",
       "      <td>7.248942e-01</td>\n",
       "      <td>1.771334e-03</td>\n",
       "      <td>7.249347e-01</td>\n",
       "      <td>5.817966e-04</td>\n",
       "    </tr>\n",
       "    <tr>\n",
       "      <th>50%</th>\n",
       "      <td>7.787331e-01</td>\n",
       "      <td>2.414242e-02</td>\n",
       "      <td>7.803279e-01</td>\n",
       "      <td>2.501656e-02</td>\n",
       "      <td>7.818910e-01</td>\n",
       "      <td>2.590763e-02</td>\n",
       "      <td>7.834239e-01</td>\n",
       "      <td>2.681623e-02</td>\n",
       "      <td>7.849279e-01</td>\n",
       "      <td>2.774293e-02</td>\n",
       "      <td>7.864040e-01</td>\n",
       "      <td>2.868825e-02</td>\n",
       "    </tr>\n",
       "    <tr>\n",
       "      <th>75%</th>\n",
       "      <td>7.995846e-01</td>\n",
       "      <td>4.858901e-02</td>\n",
       "      <td>8.006212e-01</td>\n",
       "      <td>4.965083e-02</td>\n",
       "      <td>8.016466e-01</td>\n",
       "      <td>5.072943e-02</td>\n",
       "      <td>8.026612e-01</td>\n",
       "      <td>5.182517e-02</td>\n",
       "      <td>8.036650e-01</td>\n",
       "      <td>5.293842e-02</td>\n",
       "      <td>8.046584e-01</td>\n",
       "      <td>5.406950e-02</td>\n",
       "    </tr>\n",
       "    <tr>\n",
       "      <th>max</th>\n",
       "      <td>8.118732e-01</td>\n",
       "      <td>7.293963e-02</td>\n",
       "      <td>8.126843e-01</td>\n",
       "      <td>7.414117e-02</td>\n",
       "      <td>8.134894e-01</td>\n",
       "      <td>7.535914e-02</td>\n",
       "      <td>8.142884e-01</td>\n",
       "      <td>7.659380e-02</td>\n",
       "      <td>8.150814e-01</td>\n",
       "      <td>7.784544e-02</td>\n",
       "      <td>8.158686e-01</td>\n",
       "      <td>7.911430e-02</td>\n",
       "    </tr>\n",
       "  </tbody>\n",
       "</table>\n",
       "</div>"
      ],
      "text/plain": [
       "           Vbe[V];0         gpi;0      Vbe[V];1         gpi;1      Vbe[V];2  \\\n",
       "count  3.010000e+02  3.010000e+02  3.010000e+02  3.010000e+02  3.010000e+02   \n",
       "mean   6.791673e-01  2.745422e-02  6.808358e-01  2.815954e-02  6.822101e-01   \n",
       "std    2.103343e-01  2.414132e-02  2.108504e-01  2.453145e-02  2.113884e-01   \n",
       "min    4.652014e-26  3.041871e-10  1.115396e-08  2.052600e-10  1.216694e-08   \n",
       "25%    6.982164e-01  1.631662e-03  7.064140e-01  2.035259e-03  7.136072e-01   \n",
       "50%    7.787331e-01  2.414242e-02  7.803279e-01  2.501656e-02  7.818910e-01   \n",
       "75%    7.995846e-01  4.858901e-02  8.006212e-01  4.965083e-02  8.016466e-01   \n",
       "max    8.118732e-01  7.293963e-02  8.126843e-01  7.414117e-02  8.134894e-01   \n",
       "\n",
       "              gpi;2      Vbe[V];3         gpi;3      Vbe[V];4         gpi;4  \\\n",
       "count  3.010000e+02  3.010000e+02  3.010000e+02  3.010000e+02  3.010000e+02   \n",
       "mean   2.887341e-02  6.834671e-01  2.959622e-02  6.846464e-01  3.032862e-02   \n",
       "std    2.493254e-02  2.119131e-01  2.534460e-02  2.124238e-01  2.576734e-02   \n",
       "min    2.052191e-10  1.316825e-08  2.052156e-10  1.416857e-08  2.052156e-10   \n",
       "25%    2.446076e-03  7.199527e-01  2.745902e-03  7.248942e-01  1.771334e-03   \n",
       "50%    2.590763e-02  7.834239e-01  2.681623e-02  7.849279e-01  2.774293e-02   \n",
       "75%    5.072943e-02  8.026612e-01  5.182517e-02  8.036650e-01  5.293842e-02   \n",
       "max    7.535914e-02  8.142884e-01  7.659380e-02  8.150814e-01  7.784544e-02   \n",
       "\n",
       "           Vbe[V];5         gpi;5  \n",
       "count  3.010000e+02  3.010000e+02  \n",
       "mean   6.857641e-01  3.106991e-02  \n",
       "std    2.129210e-01  2.620199e-02  \n",
       "min    1.516868e-08  2.052156e-10  \n",
       "25%    7.249347e-01  5.817966e-04  \n",
       "50%    7.864040e-01  2.868825e-02  \n",
       "75%    8.046584e-01  5.406950e-02  \n",
       "max    8.158686e-01  7.911430e-02  "
      ]
     },
     "execution_count": 9,
     "metadata": {},
     "output_type": "execute_result"
    }
   ],
   "source": [
    "xs=InputData.columns[0::2]\n",
    "ys=InputData.columns[1::2]\n",
    "InputCondutance=pd.DataFrame()\n",
    "for x, y in zip(xs, ys):\n",
    "    InputCondutance[x]=InputData[x]\n",
    "    InputCondutance[f'gpi;{y[6:]}']=np.gradient(InputData[y], InputData[x])\n",
    "InputCondutance.describe()"
   ]
  },
  {
   "cell_type": "code",
   "execution_count": 10,
   "metadata": {},
   "outputs": [
    {
     "data": {
      "image/png": "[encoded data removed]",
      "text/plain": [
       "<matplotlib.figure.Figure at 0x7f3cddafb550>"
      ]
     },
     "metadata": {},
     "output_type": "display_data"
    }
   ],
   "source": [
    "plt.title('$g_{\\pi}$ vs. $V_{be}$')\n",
    "\n",
    "xs=InputCondutance.columns[0::2]\n",
    "ys=InputCondutance.columns[1::2]\n",
    "for x, y in zip(xs, ys):\n",
    "    plt.plot(InputCondutance[x], InputCondutance[y], label=f'Vce={y[4:]}[V]')\n",
    "plt.axhline(y=0.01, linestyle='--', label='Thershhold Cond 0.01')\n",
    "plt.legend(loc='best')\n",
    "plt.grid()\n",
    "plt.xlabel('Vbe [V]'); plt.ylabel(r'$g_{\\pi}[\\Omega^{-1}]$')\n",
    "plt.xlim(0.6, 0.9);\n"
   ]
  },
  {
   "cell_type": "markdown",
   "metadata": {},
   "source": [
    "#### fiting fiting with the data from the def of the $r_{\\pi}$\n",
    "Horenstein page 329 Eq 8.15"
   ]
  },
  {
   "cell_type": "code",
   "execution_count": 11,
   "metadata": {},
   "outputs": [
    {
     "data": {
      "image/png": "[encoded data removed]",
      "text/latex": [
       "$$V_{T} = \\frac{T k}{q}$$"
      ],
      "text/plain": [
       "      T⋅k\n",
       "V_T = ───\n",
       "       q "
      ]
     },
     "execution_count": 11,
     "metadata": {},
     "output_type": "execute_result"
    }
   ],
   "source": [
    "VTherm, k, T, q=symbols('V_T, k, T, q')\n",
    "VThermDef=k*T/q\n",
    "VThermEq=Eq(VTherm, VThermDef)\n",
    "VThermEq"
   ]
  },
  {
   "cell_type": "code",
   "execution_count": 12,
   "metadata": {},
   "outputs": [
    {
     "data": {
      "image/png": "[encoded data removed]",
      "text/latex": [
       "$$V_{T} = 0.0256925704004131$$"
      ],
      "text/plain": [
       "V_T = 0.0256925704004131"
      ]
     },
     "execution_count": 12,
     "metadata": {},
     "output_type": "execute_result"
    }
   ],
   "source": [
    "supsVT={T:consts.convert_temperature(TempC, 'C', 'K'), \n",
    "       k:consts.Boltzmann, q:consts.elementary_charge}\n",
    "VThermEq.subs(supsVT)"
   ]
  },
  {
   "cell_type": "code",
   "execution_count": 13,
   "metadata": {},
   "outputs": [],
   "source": [
    "rpi, fit, Ib=symbols('r_pi, eta, I_b')"
   ]
  },
  {
   "cell_type": "code",
   "execution_count": 14,
   "metadata": {},
   "outputs": [
    {
     "data": {
      "image/png": "[encoded data removed]",
      "text/latex": [
       "$$r_{\\pi} = \\frac{V_{T} \\eta}{I_{b}}$$"
      ],
      "text/plain": [
       "      V_T⋅η\n",
       "rₚᵢ = ─────\n",
       "       I_b "
      ]
     },
     "execution_count": 14,
     "metadata": {},
     "output_type": "execute_result"
    }
   ],
   "source": [
    "rpiDef=fit*VTherm/Ib; rpiDef\n",
    "rpiEq=Eq(rpi, rpiDef)\n",
    "rpiEq"
   ]
  },
  {
   "cell_type": "code",
   "execution_count": 15,
   "metadata": {},
   "outputs": [
    {
     "data": {
      "image/png": "[encoded data removed]",
      "text/latex": [
       "$$g_{\\pi} = \\frac{I_{b}}{V_{T} \\eta}$$"
      ],
      "text/plain": [
       "       I_b \n",
       "gₚᵢ = ─────\n",
       "      V_T⋅η"
      ]
     },
     "execution_count": 15,
     "metadata": {},
     "output_type": "execute_result"
    }
   ],
   "source": [
    "gpi=symbols('g_pi')\n",
    "gpiDef=1/rpiDef\n",
    "gpiEq=Eq(gpi, gpiDef)\n",
    "gpiEq"
   ]
  },
  {
   "cell_type": "code",
   "execution_count": 16,
   "metadata": {},
   "outputs": [],
   "source": [
    "rpiN=lambdify((Ib, fit), rpiDef.subs({VTherm: VThermDef.subs(supsVT)}),\n",
    "              dummify=False)"
   ]
  },
  {
   "cell_type": "code",
   "execution_count": 17,
   "metadata": {},
   "outputs": [
    {
     "data": {
      "text/plain": [
       "(array([ -5.95240911e-18,  -1.18368181e-02,   2.35496974e-02,\n",
       "         -6.60911863e-02,  -1.44024079e-01,  -1.07981531e-01]),\n",
       " array([[  2.82122197e-37],\n",
       "        [  4.82126183e-04],\n",
       "        [  4.41935323e-05],\n",
       "        [  1.24380429e-04],\n",
       "        [  6.07288427e-04],\n",
       "        [  9.00137528e-04]]))"
      ]
     },
     "execution_count": 17,
     "metadata": {},
     "output_type": "execute_result"
    }
   ],
   "source": [
    "xs=InputData.columns[1::2] #Ib currents\n",
    "ys=InputCondutance.columns[1::2] #g_{\\pi}\n",
    "fitNs=[]; fitNsError=[]\n",
    "for x, y in zip(xs, ys):\n",
    "    fitN, pcov=curve_fit(rpiN, InputData[x], 1/InputCondutance[y])\n",
    "    fitNs.append(*fitN); fitNsError.append(*pcov)\n",
    "fitNs=np.array(fitNs); fitNsError=np.array(fitNsError)\n",
    "fitNs, fitNsError"
   ]
  },
  {
   "cell_type": "code",
   "execution_count": 18,
   "metadata": {},
   "outputs": [
    {
     "data": {
      "image/png": "[encoded data removed]",
      "text/latex": [
       "$$\\left ( -0.0510639861523, \\quad 0.000359687683064\\right )$$"
      ],
      "text/plain": [
       "(-0.0510639861523, 0.000359687683064)"
      ]
     },
     "execution_count": 18,
     "metadata": {},
     "output_type": "execute_result"
    }
   ],
   "source": [
    "fitN=fitNs.mean(); fitNError=fitNsError.mean()\n",
    "fitN, fitNError"
   ]
  },
  {
   "cell_type": "code",
   "execution_count": 19,
   "metadata": {},
   "outputs": [
    {
     "data": {
      "image/png": "[encoded data removed]",
      "text/latex": [
       "$$r_{\\pi} = - \\frac{0.00131196505914283}{I_{b}}$$"
      ],
      "text/plain": [
       "      -0.00131196505914283 \n",
       "rₚᵢ = ─────────────────────\n",
       "               I_b         "
      ]
     },
     "execution_count": 19,
     "metadata": {},
     "output_type": "execute_result"
    }
   ],
   "source": [
    "sups_rpi={**{fit:fitN}, **{VTherm: VThermDef.subs(supsVT)}}\n",
    "rpiEq.subs(sups_rpi)"
   ]
  },
  {
   "cell_type": "code",
   "execution_count": 20,
   "metadata": {},
   "outputs": [
    {
     "data": {
      "image/png": "[encoded data removed]",
      "text/latex": [
       "$$g_{\\pi} = - 762.215421082438 I_{b}$$"
      ],
      "text/plain": [
       "gₚᵢ = -762.215421082438⋅I_b"
      ]
     },
     "execution_count": 20,
     "metadata": {},
     "output_type": "execute_result"
    }
   ],
   "source": [
    "gpiEq.subs(sups_rpi)"
   ]
  },
  {
   "cell_type": "markdown",
   "metadata": {},
   "source": [
    "### Using the Input Resistince to determine the threshhold voltage"
   ]
  },
  {
   "cell_type": "code",
   "execution_count": 21,
   "metadata": {},
   "outputs": [],
   "source": [
    "#https://www.science-emergence.com/Articles/Find-nearest-value-and-the-index-in-array-with-python-and-numpy/\n",
    "D1LocFinder=lambda Array, Target: np.abs(Array-Target).idxmin()"
   ]
  },
  {
   "cell_type": "code",
   "execution_count": 22,
   "metadata": {},
   "outputs": [
    {
     "data": {
      "text/plain": [
       "{'Vbe[V];0': 105,\n",
       " 'Vbe[V];1': 103,\n",
       " 'Vbe[V];2': 101,\n",
       " 'Vbe[V];3': 99,\n",
       " 'Vbe[V];4': 96,\n",
       " 'Vbe[V];5': 94}"
      ]
     },
     "execution_count": 22,
     "metadata": {},
     "output_type": "execute_result"
    }
   ],
   "source": [
    "TurnOnCondition=0.01\n",
    "xs=InputCondutance.columns[0::2]\n",
    "ys=InputCondutance.columns[1::2]\n",
    "\n",
    "ThreshholdV_locs={x:D1LocFinder(InputCondutance[y], TurnOnCondition) for x, y in zip(xs, ys)}\n",
    "ThreshholdV_locs"
   ]
  },
  {
   "cell_type": "code",
   "execution_count": 23,
   "metadata": {
    "scrolled": true
   },
   "outputs": [
    {
     "data": {
      "text/plain": [
       "{'Vbe[V];0': 0.75219550241186717,\n",
       " 'Vbe[V];1': 0.75323315593474949,\n",
       " 'Vbe[V];2': 0.75427126747877349,\n",
       " 'Vbe[V];3': 0.7553101908618296,\n",
       " 'Vbe[V];4': 0.75544317971273678,\n",
       " 'Vbe[V];5': 0.75649001346422717}"
      ]
     },
     "execution_count": 23,
     "metadata": {},
     "output_type": "execute_result"
    }
   ],
   "source": [
    "\n",
    "ThreshholdV_vals={i:InputCondutance[i][j] for i, j in ThreshholdV_locs.items()}\n",
    "ThreshholdV_vals"
   ]
  },
  {
   "cell_type": "code",
   "execution_count": 24,
   "metadata": {},
   "outputs": [
    {
     "data": {
      "text/plain": [
       "(array([ 0.754]), array([ 0.001]))"
      ]
     },
     "execution_count": 24,
     "metadata": {},
     "output_type": "execute_result"
    }
   ],
   "source": [
    "Threshhold_VoltageVals=np.array([*ThreshholdV_vals.values()])\n",
    "ThershholdVoltageMean=Threshhold_VoltageVals.mean()\n",
    "ThershholdVoltageStdDev=Threshhold_VoltageVals.std()\n",
    "#ThershholdVoltageMean, ThershholdVoltageStdDev\n",
    "ThershholdVoltageMean=np.around([ThershholdVoltageMean], decimals=3)\n",
    "ThershholdVoltageStdDev=np.around([ThershholdVoltageStdDev], decimals=3)\n",
    "ThershholdVoltageMean, ThershholdVoltageStdDev\n"
   ]
  },
  {
   "cell_type": "code",
   "execution_count": 25,
   "metadata": {},
   "outputs": [
    {
     "data": {
      "image/png": "[encoded data removed]",
      "text/plain": [
       "<matplotlib.figure.Figure at 0x7f3cdda45208>"
      ]
     },
     "metadata": {},
     "output_type": "display_data"
    }
   ],
   "source": [
    "plt.title('$V_{be}$ vs. $I_b$')\n",
    "\n",
    "xs=InputData.columns[0::2]\n",
    "ys=InputData.columns[1::2]\n",
    "for x, y in zip(xs, ys):\n",
    "    plt.plot(InputData[x], InputData[y]*1000, label=f'Vce={y[6:]}[V]')\n",
    "plt.axvline(x=ThershholdVoltageMean, linestyle='--', color='k', \n",
    "            label=f'Vth={ThershholdVoltageMean}+-{ThershholdVoltageStdDev}[V]')\n",
    "plt.legend(loc='best')\n",
    "plt.grid()\n",
    "plt.xlabel('Vbe [V]'); plt.ylabel('Ib [mA]');\n",
    "plt.xlim(0.4, 0.9);"
   ]
  },
  {
   "cell_type": "markdown",
   "metadata": {},
   "source": [
    "## Input load line anylsis\n",
    "This will be used for proper Q point determition as shown by the master Leon Chua in 4.2 of got to look up the book from the pages I scanned"
   ]
  },
  {
   "cell_type": "code",
   "execution_count": 26,
   "metadata": {},
   "outputs": [],
   "source": [
    "def findIntersection(f1, f2, x0):\n",
    "    return fsolve(lambda x:f1(x)-f2(x), x0)"
   ]
  },
  {
   "cell_type": "code",
   "execution_count": 27,
   "metadata": {},
   "outputs": [
    {
     "data": {
      "image/png": "[encoded data removed]",
      "text/latex": [
       "$$\\left ( -0.001, \\quad 0.0015\\right )$$"
      ],
      "text/plain": [
       "(-0.001, 0.0015)"
      ]
     },
     "execution_count": 27,
     "metadata": {},
     "output_type": "execute_result"
    }
   ],
   "source": [
    "def LoadLine(Vmax, R):\n",
    "    b=Vmax/R; m=-1/R\n",
    "    f=lambda x:m*x+b\n",
    "    return m, b, f\n",
    "m, b, L1Line=LoadLine(1.5, Rb)\n",
    "m, b"
   ]
  },
  {
   "cell_type": "code",
   "execution_count": 28,
   "metadata": {},
   "outputs": [],
   "source": [
    "#create 1D interpolation functions to the input curve data\n",
    "xs=InputData.columns[0::2]\n",
    "ys=InputData.columns[1::2]\n",
    "\n",
    "InputFits=OrderedDict()\n",
    "for x, y in zip(xs, ys):\n",
    "    InputFits[y]=SciInterPol.interp1d(InputData[x], InputData[y], \n",
    "                                      bounds_error=False, fill_value='extrapolate')"
   ]
  },
  {
   "cell_type": "code",
   "execution_count": 29,
   "metadata": {},
   "outputs": [
    {
     "data": {
      "text/plain": [
       "[<matplotlib.lines.Line2D at 0x7f3cdfed07f0>]"
      ]
     },
     "execution_count": 29,
     "metadata": {},
     "output_type": "execute_result"
    },
    {
     "data": {
      "image/png": "[encoded data removed]",
      "text/plain": [
       "<matplotlib.figure.Figure at 0x7f3cdfed0780>"
      ]
     },
     "metadata": {},
     "output_type": "display_data"
    }
   ],
   "source": [
    "plt.title('input load line on input curves')\n",
    "for x, y in zip(xs, InputFits.keys()):\n",
    "    plt.plot(InputData[x], InputFits[y](InputData[x]))\n",
    "xN=np.linspace(0, InputData[xs[0]].max(), InputData[xs[0]].count())\n",
    "plt.plot(xN, L1Line(xN))"
   ]
  },
  {
   "cell_type": "code",
   "execution_count": 30,
   "metadata": {},
   "outputs": [
    {
     "data": {
      "text/plain": [
       "['Ib[A];0', 'Ib[A];1', 'Ib[A];2', 'Ib[A];3', 'Ib[A];4', 'Ib[A];5']"
      ]
     },
     "execution_count": 30,
     "metadata": {},
     "output_type": "execute_result"
    }
   ],
   "source": [
    "K=list(InputFits.keys()); K"
   ]
  },
  {
   "cell_type": "code",
   "execution_count": 31,
   "metadata": {},
   "outputs": [
    {
     "name": "stdout",
     "output_type": "stream",
     "text": [
      "[ 0.7787331]\n",
      "[ 0.78032789]\n",
      "[ 0.78189105]\n",
      "[ 0.78342395]\n",
      "[ 0.78492787]\n",
      "[ 0.78640397]\n"
     ]
    },
    {
     "data": {
      "text/plain": [
       "(array([ 0.7787331 ,  0.78032789,  0.78189105,  0.78342395,  0.78492787,\n",
       "         0.78640397]),\n",
       " array([ 0.00072127,  0.00071967,  0.00071811,  0.00071658,  0.00071507,\n",
       "         0.0007136 ]))"
      ]
     },
     "execution_count": 31,
     "metadata": {},
     "output_type": "execute_result"
    }
   ],
   "source": [
    "LoadLineInterSectionsX=[]\n",
    "LoadLineInterSectionsY=[]\n",
    "x=np.linspace(0.0, InputData[xs[0]].max(), InputData[xs[0]].count())\n",
    "for i in K:\n",
    "    X=findIntersection(InputFits[i] ,L1Line , 0.6)\n",
    "    print(X)\n",
    "    LoadLineInterSectionsX.append(X[0])\n",
    "    LoadLineInterSectionsY.append(InputFits[i](LoadLineInterSectionsX[-1]))\n",
    "\n",
    "LoadLineInterSectionsX=np.array(LoadLineInterSectionsX)\n",
    "LoadLineInterSectionsY=np.array(LoadLineInterSectionsY)\n",
    "LoadLineInterSectionsX, LoadLineInterSectionsY\n"
   ]
  },
  {
   "cell_type": "code",
   "execution_count": 32,
   "metadata": {},
   "outputs": [
    {
     "data": {
      "image/png": "[encoded data removed]",
      "text/plain": [
       "<matplotlib.figure.Figure at 0x7f3cddb5cf60>"
      ]
     },
     "metadata": {},
     "output_type": "display_data"
    }
   ],
   "source": [
    "plt.title('$V_{be}$ vs. $I_b$ with thrshold and load line intersection')\n",
    "\n",
    "xs=InputData.columns[0::2]\n",
    "ys=InputData.columns[1::2]\n",
    "\n",
    "for x, y in zip(xs, ys):\n",
    "    plt.plot(InputData[x], InputData[y]*1000, label=f'Vce={y[6:]}[V]')\n",
    "\n",
    "#add thereshold line\n",
    "plt.axvline(x=ThershholdVoltageMean, linestyle='--', color='k', \n",
    "            label=f'Vth={ThershholdVoltageMean}+-{ThershholdVoltageStdDev}[V]')\n",
    "\n",
    "xN=np.linspace(0.0, InputData[xs[0]].max(), InputData[xs[0]].count())\n",
    "\n",
    "plt.plot(xN, L1Line(xN)*1000, label='LLine')\n",
    "plt.plot(LoadLineInterSectionsX, LoadLineInterSectionsY*1000, '*', \n",
    "         label='InterSections')\n",
    "plt.legend(loc='best')\n",
    "plt.grid()\n",
    "plt.xlabel('Vbe [V]'); plt.ylabel('Ib [mA]');\n",
    "plt.xlim(0.4, 0.9);"
   ]
  },
  {
   "cell_type": "code",
   "execution_count": 33,
   "metadata": {},
   "outputs": [
    {
     "data": {
      "text/plain": [
       "array([ 0.00072127,  0.00071967,  0.00071811,  0.00071658,  0.00071507,\n",
       "        0.0007136 ])"
      ]
     },
     "execution_count": 33,
     "metadata": {},
     "output_type": "execute_result"
    }
   ],
   "source": [
    "LoadLineInterSectionsY"
   ]
  },
  {
   "cell_type": "code",
   "execution_count": 34,
   "metadata": {},
   "outputs": [
    {
     "data": {
      "text/plain": [
       "array([ 0.,  1.,  2.,  3.,  4.,  5.])"
      ]
     },
     "execution_count": 34,
     "metadata": {},
     "output_type": "execute_result"
    }
   ],
   "source": [
    "Vce_s=np.array([float(i[6:]) for i in K]); Vce_s"
   ]
  },
  {
   "cell_type": "code",
   "execution_count": 35,
   "metadata": {},
   "outputs": [
    {
     "data": {
      "image/png": "[encoded data removed]",
      "text/plain": [
       "<matplotlib.figure.Figure at 0x7f3cddaa1240>"
      ]
     },
     "metadata": {},
     "output_type": "display_data"
    }
   ],
   "source": [
    "L1LineOutput=SciInterPol.interp1d(Vce_s, LoadLineInterSectionsY,\n",
    "                                     bounds_error=False, fill_value='extrapolate')\n",
    "plt.plot(np.linspace(0, 15), L1LineOutput(np.linspace(0, 15))*1000)\n",
    "plt.xlabel('Vce'); plt.ylabel('Ib[mA]')\n",
    "plt.title('Stage 1 Project LL input to output');"
   ]
  },
  {
   "cell_type": "markdown",
   "metadata": {},
   "source": [
    "# VTC"
   ]
  },
  {
   "cell_type": "code",
   "execution_count": 36,
   "metadata": {},
   "outputs": [
    {
     "data": {
      "text/plain": [
       "BipolarJunctionTransistor Q1"
      ]
     },
     "execution_count": 36,
     "metadata": {},
     "output_type": "execute_result"
    }
   ],
   "source": [
    "circuit = Circuit('Transistor')\n",
    "Rb=1@u_kΩ; Rc=1@u_kΩ; VcollMax=3; TempC=25\n",
    "\n",
    "Vbase = circuit.V('base', '1', circuit.gnd, 1@u_V)\n",
    "circuit.R('base', 1, 'base', Rb)\n",
    "Vcollector = circuit.V('collector', '2', circuit.gnd, 0@u_V)\n",
    "circuit.R('collector', 2, 'collector', Rc)\n",
    "# circuit.BJT(1, 'collector', 'base', circuit.gnd, 'generic')\n",
    "# circuit.model('generic', 'npn')\n",
    "circuit.include(spice_library['2n2222a'])\n",
    "circuit.BJT(1, 'collector', 'base', circuit.gnd, '2n2222a')"
   ]
  },
  {
   "cell_type": "code",
   "execution_count": 37,
   "metadata": {},
   "outputs": [
    {
     "name": "stdout",
     "output_type": "stream",
     "text": [
      "\u001b[1;32m2018-01-24 23:50:02,473\u001b[0m - \u001b[1;34mPySpice.Spice.Simulation.NgSpiceSharedCircuitSimulator._run\u001b[0m - \u001b[1;31mDEBUG\u001b[0m - desk\n",
      ".title Transistor\n",
      ".include /home/iridium/string12oil@gmail.com/MyProjects/EEM-Circuits/SpiceLib/2N2222A.lib\n",
      "Vbase 1 0 1V\n",
      "Rbase 1 base 1kOhm\n",
      "Vcollector 2 0 0V\n",
      "Rcollector 2 collector 1kOhm\n",
      "Q1 collector base 0 2n2222a \n",
      ".options TEMP = 25°C\n",
      ".options TNOM = 25°C\n",
      ".ic \n",
      ".dc Vbase 0 3 0.01\n",
      ".end\n",
      "\n",
      "\u001b[1;32m2018-01-24 23:50:02,474\u001b[0m - \u001b[1;34mPySpice.Spice.NgSpice.Shared.NgSpiceShared.exec_command\u001b[0m - \u001b[1;31mDEBUG\u001b[0m - Execute command: destroy all\n",
      "\u001b[1;32m2018-01-24 23:50:02,479\u001b[0m - \u001b[1;34mPySpice.Spice.NgSpice.Shared.NgSpiceShared.run\u001b[0m - \u001b[1;31mDEBUG\u001b[0m - Simulation is done\n",
      "\u001b[1;32m2018-01-24 23:50:02,480\u001b[0m - \u001b[1;34mPySpice.Spice.Simulation.NgSpiceSharedCircuitSimulator._run\u001b[0m - \u001b[1;31mDEBUG\u001b[0m - ['dc1', 'const']\n"
     ]
    }
   ],
   "source": [
    "simulator = circuit.simulator(temperature=TempC, nominal_temperature=TempC)\n",
    "analysisInputCurve = simulator.dc(Vbase=slice(0, VcollMax, .01))"
   ]
  },
  {
   "cell_type": "code",
   "execution_count": 38,
   "metadata": {},
   "outputs": [],
   "source": [
    "#collect vtc curve\n",
    "VTCData=pd.DataFrame()\n",
    "#need to douple check to make sure I am calling the right vi vo values\n",
    "VTCData['Vin']=analysisInputCurve.base\n",
    "VTCData['Vout']= -analysisInputCurve.collector"
   ]
  },
  {
   "cell_type": "code",
   "execution_count": 39,
   "metadata": {},
   "outputs": [
    {
     "data": {
      "text/plain": [
       "<matplotlib.axes._subplots.AxesSubplot at 0x7f3cdda1f630>"
      ]
     },
     "execution_count": 39,
     "metadata": {},
     "output_type": "execute_result"
    },
    {
     "data": {
      "image/png": "[encoded data removed]",
      "text/plain": [
       "<matplotlib.figure.Figure at 0x7f3cdff10710>"
      ]
     },
     "metadata": {},
     "output_type": "display_data"
    }
   ],
   "source": [
    "VTCData.plot(x='Vin', title='VTC curve & Grad, GradMag of VTC')"
   ]
  },
  {
   "cell_type": "code",
   "execution_count": 40,
   "metadata": {
    "scrolled": false
   },
   "outputs": [
    {
     "data": {
      "text/html": [
       "<div>\n",
       "<style scoped>\n",
       "    .dataframe tbody tr th:only-of-type {\n",
       "        vertical-align: middle;\n",
       "    }\n",
       "\n",
       "    .dataframe tbody tr th {\n",
       "        vertical-align: top;\n",
       "    }\n",
       "\n",
       "    .dataframe thead th {\n",
       "        text-align: right;\n",
       "    }\n",
       "</style>\n",
       "<table border=\"1\" class=\"dataframe\">\n",
       "  <thead>\n",
       "    <tr style=\"text-align: right;\">\n",
       "      <th></th>\n",
       "      <th>Vin</th>\n",
       "      <th>Vout</th>\n",
       "      <th>Grad</th>\n",
       "      <th>GradMag</th>\n",
       "      <th>GGrad</th>\n",
       "    </tr>\n",
       "  </thead>\n",
       "  <tbody>\n",
       "    <tr>\n",
       "      <th>0</th>\n",
       "      <td>4.652014e-26</td>\n",
       "      <td>1.707819e-26</td>\n",
       "      <td>-1.000157e-07</td>\n",
       "      <td>1.000157e-07</td>\n",
       "      <td>-0.000001</td>\n",
       "    </tr>\n",
       "    <tr>\n",
       "      <th>1</th>\n",
       "      <td>9.999997e-03</td>\n",
       "      <td>-1.000156e-09</td>\n",
       "      <td>-1.103598e-07</td>\n",
       "      <td>1.103598e-07</td>\n",
       "      <td>-0.000001</td>\n",
       "    </tr>\n",
       "    <tr>\n",
       "      <th>2</th>\n",
       "      <td>1.999999e-02</td>\n",
       "      <td>-2.207196e-09</td>\n",
       "      <td>-1.241133e-07</td>\n",
       "      <td>1.241133e-07</td>\n",
       "      <td>-0.000001</td>\n",
       "    </tr>\n",
       "    <tr>\n",
       "      <th>3</th>\n",
       "      <td>2.999999e-02</td>\n",
       "      <td>-3.482421e-09</td>\n",
       "      <td>-1.340621e-07</td>\n",
       "      <td>1.340621e-07</td>\n",
       "      <td>-0.000001</td>\n",
       "    </tr>\n",
       "    <tr>\n",
       "      <th>4</th>\n",
       "      <td>3.999998e-02</td>\n",
       "      <td>-4.888437e-09</td>\n",
       "      <td>-1.478507e-07</td>\n",
       "      <td>1.478507e-07</td>\n",
       "      <td>-0.000001</td>\n",
       "    </tr>\n",
       "  </tbody>\n",
       "</table>\n",
       "</div>"
      ],
      "text/plain": [
       "            Vin          Vout          Grad       GradMag     GGrad\n",
       "0  4.652014e-26  1.707819e-26 -1.000157e-07  1.000157e-07 -0.000001\n",
       "1  9.999997e-03 -1.000156e-09 -1.103598e-07  1.103598e-07 -0.000001\n",
       "2  1.999999e-02 -2.207196e-09 -1.241133e-07  1.241133e-07 -0.000001\n",
       "3  2.999999e-02 -3.482421e-09 -1.340621e-07  1.340621e-07 -0.000001\n",
       "4  3.999998e-02 -4.888437e-09 -1.478507e-07  1.478507e-07 -0.000001"
      ]
     },
     "execution_count": 40,
     "metadata": {},
     "output_type": "execute_result"
    }
   ],
   "source": [
    "VTCData['Grad']=np.gradient(VTCData['Vout'], VTCData['Vin'])\n",
    "VTCData['GradMag']=np.abs(VTCData['Grad'])\n",
    "VTCData['GGrad']=np.gradient(VTCData['Grad'], VTCData['Vin'])\n",
    "VTCData.head(5)"
   ]
  },
  {
   "cell_type": "code",
   "execution_count": 41,
   "metadata": {},
   "outputs": [],
   "source": [
    "VILLoc=np.abs(VTCData['GGrad']--1.0).idxmax()\n",
    "VIHLoc=np.abs(VTCData['GGrad']--1.0).idxmin()\n",
    "VIHLoc=np.abs(VTCData['GGrad']--1.0).idxmin()\n",
    "VIMLoc=np.abs(VTCData['Grad']-0).idxmax()\n",
    "VILLoc, VIHLoc, VIMLoc\n",
    "VILV=VTCData['Vin'][VILLoc]; VOLV=VTCData['Vout'][VILLoc]\n",
    "VIHV=VTCData['Vin'][VIHLoc]; VOHV=VTCData['Vout'][VIHLoc]\n",
    "VIMV=VTCData['Vin'][VIMLoc]; VOMV=VTCData['Vout'][VIMLoc]"
   ]
  },
  {
   "cell_type": "code",
   "execution_count": 42,
   "metadata": {},
   "outputs": [
    {
     "data": {
      "image/png": "[encoded data removed]",
      "text/plain": [
       "<matplotlib.figure.Figure at 0x7f3cdd96b588>"
      ]
     },
     "metadata": {},
     "output_type": "display_data"
    }
   ],
   "source": [
    "fig, [vtc, vtcGrad, vtcGradM,  vtcGGrad]=plt.subplots(nrows=4, ncols=1, sharex=True)\n",
    "vtc.set_title('VTC and VTC parmeters')\n",
    "\n",
    "VTCData.plot(x='Vin', y='Vout', ax=vtc)\n",
    "vtc.set_ylabel('v_o')\n",
    "\n",
    "VTCData.plot(x='Vin', y='Grad', ax=vtcGrad)\n",
    "vtcGrad.set_ylabel(r'$\\partial v_o$')\n",
    "\n",
    "VTCData.plot(x='Vin', y='GradMag', ax=vtcGradM)\n",
    "vtcGradM.set_ylabel(r'$|\\partial v_o|$')\n",
    "\n",
    "VTCData.plot(x='Vin', y='GGrad', ax=vtcGGrad);\n",
    "vtcGGrad.set_ylabel(r'$\\partial^2 v_o$')\n",
    "\n",
    "\n",
    "for i in [vtc, vtcGrad, vtcGGrad, vtcGradM]:\n",
    "    i.axvline(x=VILV, linestyle='--', alpha=0.7, color='k')\n",
    "    i.axhline(y=VOLV, linestyle=':', alpha=0.4, color='k')\n",
    "    \n",
    "    i.axvline(x=VIHV, linestyle='--', alpha=0.7, color='r')\n",
    "    i.axhline(y=VOHV, linestyle=':', alpha=0.4, color='r')\n",
    "\n",
    "    i.axvline(x=VIMV, linestyle='--', alpha=0.7, color='g')\n",
    "    i.axhline(y=VOMV, linestyle=':', alpha=0.4, color='g')\n",
    "\n",
    "\n",
    "\n",
    "\n"
   ]
  },
  {
   "cell_type": "markdown",
   "metadata": {},
   "source": [
    "like to do fitting around the GradMag and also find the FWHM to then find the standard devation with would be the loss of Av per devation from the Av Max"
   ]
  },
  {
   "cell_type": "markdown",
   "metadata": {},
   "source": [
    "from sec 1.4 of DeMassa & Ciccone "
   ]
  },
  {
   "cell_type": "code",
   "execution_count": 43,
   "metadata": {},
   "outputs": [
    {
     "data": {
      "text/plain": [
       "{'LogicSwing': 0.016062403524019477,\n",
       " 'NoiseImmuntyHigh': -36.047191893526573,\n",
       " 'NoiseImmuntyLow': -36.047191893526573,\n",
       " 'NoiseMarHigh': -0.49062954368294137,\n",
       " 'NoiseMarLow': 0.64098632035666736,\n",
       " 'NoiseSenHigh': -0.57900454210158758,\n",
       " 'NoiseSenLow': 0.59506694562560714,\n",
       " 'TranssitionWidth': -0.13429437314970649}"
      ]
     },
     "execution_count": 43,
     "metadata": {},
     "output_type": "execute_result"
    }
   ],
   "source": [
    "VTCMeassures={'LogicSwing':VOHV-VOLV,\n",
    "            'TranssitionWidth':VIHV-VILV,\n",
    "             'NoiseMarHigh':VOHV-VIHV,\n",
    "             'NoiseMarLow':VILV-VOLV,\n",
    "             'NoiseSenHigh': VOHV-VIMV,\n",
    "             'NoiseSenLow': VIMV-VOLV          \n",
    "            }\n",
    "VTCMeassures['NoiseImmuntyHigh']=VTCMeassures['NoiseSenHigh']/VTCMeassures['LogicSwing']\n",
    "VTCMeassures['NoiseImmuntyLow']=VTCMeassures['NoiseSenHigh']/VTCMeassures['LogicSwing']\n",
    "VTCMeassures"
   ]
  },
  {
   "cell_type": "code",
   "execution_count": 44,
   "metadata": {},
   "outputs": [],
   "source": [
    "VTCFit=SciInterPol.interp1d(VTCData['Vin'], VTCData['Vout'],\n",
    "                            bounds_error=False, fill_value='extrapolate')\n"
   ]
  },
  {
   "cell_type": "markdown",
   "metadata": {},
   "source": [
    "### Distrortion Anyleis\n",
    "This is my attempt at this; be nice"
   ]
  },
  {
   "cell_type": "code",
   "execution_count": 45,
   "metadata": {},
   "outputs": [],
   "source": [
    "Vbias=np.where(VTCData['GradMag']==VTCData['GradMag'].max())\n",
    "Vbias=np.array(VTCData['Vin'][Vbias[0]])"
   ]
  },
  {
   "cell_type": "code",
   "execution_count": 46,
   "metadata": {},
   "outputs": [
    {
     "data": {
      "text/plain": [
       "[<matplotlib.lines.Line2D at 0x7f3cdd7697f0>]"
      ]
     },
     "execution_count": 46,
     "metadata": {},
     "output_type": "execute_result"
    },
    {
     "data": {
      "image/png": "[encoded data removed]",
      "text/plain": [
       "<matplotlib.figure.Figure at 0x7f3cdd769780>"
      ]
     },
     "metadata": {},
     "output_type": "display_data"
    }
   ],
   "source": [
    "tN=np.linspace(0, .5, 1000)\n",
    "SinIn=Vbias+.01*np.sin(80e3*2*np.pi*tN)\n",
    "SinOut=VTCFit(SinIn)\n",
    "plt.plot(tN, SinIn)\n",
    "plt.plot(tN, SinOut)"
   ]
  },
  {
   "cell_type": "code",
   "execution_count": 47,
   "metadata": {},
   "outputs": [
    {
     "data": {
      "text/plain": [
       "[<matplotlib.lines.Line2D at 0x7f3cdd6f6be0>]"
      ]
     },
     "execution_count": 47,
     "metadata": {},
     "output_type": "execute_result"
    },
    {
     "data": {
      "image/png": "[encoded data removed]",
      "text/plain": [
       "<matplotlib.figure.Figure at 0x7f3cdd6f6c88>"
      ]
     },
     "metadata": {},
     "output_type": "display_data"
    }
   ],
   "source": [
    "SinInF=np.fft.fftshift(np.fft.fft(SinIn))\n",
    "SinInFNorm=SinInF/np.linalg.norm(SinInF)\n",
    "\n",
    "SinOutF=np.fft.fftshift(np.fft.fft(SinOut))\n",
    "SinOutFNorm=SinOutF/np.linalg.norm(SinOutF)\n",
    "\n",
    "\n",
    "Fs=np.fft.fftshift(np.fft.fftfreq(len(tN)))\n",
    "plt.plot(Fs, np.abs(SinInFNorm), label='InNorm')\n",
    "plt.plot(Fs, np.abs(SinOutFNorm), alpha=.5, label='OutNorm')\n"
   ]
  },
  {
   "cell_type": "code",
   "execution_count": 48,
   "metadata": {},
   "outputs": [
    {
     "data": {
      "text/plain": [
       "[<matplotlib.lines.Line2D at 0x7f3cdd6d5320>]"
      ]
     },
     "execution_count": 48,
     "metadata": {},
     "output_type": "execute_result"
    },
    {
     "data": {
      "image/png": "[encoded data removed]",
      "text/plain": [
       "<matplotlib.figure.Figure at 0x7f3cdd75bdd8>"
      ]
     },
     "metadata": {},
     "output_type": "display_data"
    }
   ],
   "source": [
    "plt.plot(Fs, np.rad2deg(np.angle(SinInFNorm)), label='InNorm')\n",
    "plt.plot(Fs, np.rad2deg(np.angle(SinOutFNorm)), alpha=0.5, label='OutNorm')"
   ]
  },
  {
   "cell_type": "code",
   "execution_count": 49,
   "metadata": {},
   "outputs": [
    {
     "data": {
      "text/plain": [
       "[<matplotlib.lines.Line2D at 0x7f3cdff9df28>]"
      ]
     },
     "execution_count": 49,
     "metadata": {},
     "output_type": "execute_result"
    },
    {
     "data": {
      "image/png": "[encoded data removed]",
      "text/plain": [
       "<matplotlib.figure.Figure at 0x7f3cdda1f5f8>"
      ]
     },
     "metadata": {},
     "output_type": "display_data"
    }
   ],
   "source": [
    "DisF=np.abs(SinInFNorm-SinOutFNorm)\n",
    "DisF=DisF/np.linalg.norm(DisF)\n",
    "plt.plot(Fs, DisF)"
   ]
  },
  {
   "cell_type": "code",
   "execution_count": 50,
   "metadata": {},
   "outputs": [
    {
     "data": {
      "text/plain": [
       "[<matplotlib.lines.Line2D at 0x7f3cdfed5f98>]"
      ]
     },
     "execution_count": 50,
     "metadata": {},
     "output_type": "execute_result"
    },
    {
     "data": {
      "image/png": "[encoded data removed]",
      "text/plain": [
       "<matplotlib.figure.Figure at 0x7f3cdd6926d8>"
      ]
     },
     "metadata": {},
     "output_type": "display_data"
    }
   ],
   "source": [
    "H=SinOutF/SinInF\n",
    "plt.plot(Fs, np.abs(H))"
   ]
  },
  {
   "cell_type": "code",
   "execution_count": 51,
   "metadata": {},
   "outputs": [
    {
     "data": {
      "text/plain": [
       "[<matplotlib.lines.Line2D at 0x7f3cdda4bcc0>]"
      ]
     },
     "execution_count": 51,
     "metadata": {},
     "output_type": "execute_result"
    },
    {
     "data": {
      "image/png": "[encoded data removed]",
      "text/plain": [
       "<matplotlib.figure.Figure at 0x7f3cdff3e9b0>"
      ]
     },
     "metadata": {},
     "output_type": "display_data"
    }
   ],
   "source": [
    "plt.plot(Fs, np.rad2deg(np.angle(H)))"
   ]
  },
  {
   "cell_type": "code",
   "execution_count": 52,
   "metadata": {},
   "outputs": [
    {
     "data": {
      "text/plain": [
       "[<matplotlib.lines.Line2D at 0x7f3cdda91da0>]"
      ]
     },
     "execution_count": 52,
     "metadata": {},
     "output_type": "execute_result"
    },
    {
     "data": {
      "image/png": "[encoded data removed]",
      "text/plain": [
       "<matplotlib.figure.Figure at 0x7f3cdfbb8208>"
      ]
     },
     "metadata": {},
     "output_type": "display_data"
    }
   ],
   "source": [
    "h=np.abs((np.fft.ifft(H)))\n",
    "plt.plot(tN, h)"
   ]
  },
  {
   "cell_type": "code",
   "execution_count": 53,
   "metadata": {},
   "outputs": [],
   "source": [
    "DisT=np.abs((np.fft.ifft(H)))\n"
   ]
  },
  {
   "cell_type": "markdown",
   "metadata": {},
   "source": [
    "# Output Curves"
   ]
  },
  {
   "cell_type": "code",
   "execution_count": 54,
   "metadata": {},
   "outputs": [
    {
     "name": "stdout",
     "output_type": "stream",
     "text": [
      "\u001b[1;32m2018-01-24 23:50:05,424\u001b[0m - \u001b[1;34mPySpice.Spice.Simulation.NgSpiceSharedCircuitSimulator._run\u001b[0m - \u001b[1;31mDEBUG\u001b[0m - desk\n",
      ".title Transistor\n",
      ".include /home/iridium/string12oil@gmail.com/MyProjects/EEM-Circuits/SpiceLib/2N2222A.lib\n",
      "Vbase 1 0 1V\n",
      "Rbase 1 base 1kOhm\n",
      "Vcollector 2 0 0.0V\n",
      "Rcollector 2 collector 1kOhm\n",
      "Q1 collector base 0 2n2222a \n",
      ".options TEMP = 25°C\n",
      ".options TNOM = 25°C\n",
      ".ic \n",
      ".dc Vbase 0 3 0.01\n",
      ".end\n",
      "\n",
      "\u001b[1;32m2018-01-24 23:50:05,425\u001b[0m - \u001b[1;34mPySpice.Spice.NgSpice.Shared.NgSpiceShared.exec_command\u001b[0m - \u001b[1;31mDEBUG\u001b[0m - Execute command: destroy all\n",
      "\u001b[1;32m2018-01-24 23:50:05,428\u001b[0m - \u001b[1;34mPySpice.Spice.NgSpice.Shared.NgSpiceShared.run\u001b[0m - \u001b[1;31mDEBUG\u001b[0m - Simulation is done\n",
      "\u001b[1;32m2018-01-24 23:50:05,429\u001b[0m - \u001b[1;34mPySpice.Spice.Simulation.NgSpiceSharedCircuitSimulator._run\u001b[0m - \u001b[1;31mDEBUG\u001b[0m - ['dc1', 'const']\n",
      "\u001b[1;32m2018-01-24 23:50:05,432\u001b[0m - \u001b[1;34mPySpice.Spice.Simulation.NgSpiceSharedCircuitSimulator._run\u001b[0m - \u001b[1;31mDEBUG\u001b[0m - desk\n",
      ".title Transistor\n",
      ".include /home/iridium/string12oil@gmail.com/MyProjects/EEM-Circuits/SpiceLib/2N2222A.lib\n",
      "Vbase 1 0 1V\n",
      "Rbase 1 base 1kOhm\n",
      "Vcollector 2 0 1.0V\n",
      "Rcollector 2 collector 1kOhm\n",
      "Q1 collector base 0 2n2222a \n",
      ".options TEMP = 25°C\n",
      ".options TNOM = 25°C\n",
      ".ic \n",
      ".dc Vbase 0 3 0.01\n",
      ".end\n",
      "\n",
      "\u001b[1;32m2018-01-24 23:50:05,434\u001b[0m - \u001b[1;34mPySpice.Spice.NgSpice.Shared.NgSpiceShared.exec_command\u001b[0m - \u001b[1;31mDEBUG\u001b[0m - Execute command: destroy all\n",
      "\u001b[1;32m2018-01-24 23:50:05,439\u001b[0m - \u001b[1;34mPySpice.Spice.NgSpice.Shared.NgSpiceShared.run\u001b[0m - \u001b[1;31mDEBUG\u001b[0m - Simulation is done\n",
      "\u001b[1;32m2018-01-24 23:50:05,439\u001b[0m - \u001b[1;34mPySpice.Spice.Simulation.NgSpiceSharedCircuitSimulator._run\u001b[0m - \u001b[1;31mDEBUG\u001b[0m - ['dc1', 'const']\n",
      "\u001b[1;32m2018-01-24 23:50:05,442\u001b[0m - \u001b[1;34mPySpice.Spice.Simulation.NgSpiceSharedCircuitSimulator._run\u001b[0m - \u001b[1;31mDEBUG\u001b[0m - desk\n",
      ".title Transistor\n",
      ".include /home/iridium/string12oil@gmail.com/MyProjects/EEM-Circuits/SpiceLib/2N2222A.lib\n",
      "Vbase 1 0 1V\n",
      "Rbase 1 base 1kOhm\n",
      "Vcollector 2 0 2.0V\n",
      "Rcollector 2 collector 1kOhm\n",
      "Q1 collector base 0 2n2222a \n",
      ".options TEMP = 25°C\n",
      ".options TNOM = 25°C\n",
      ".ic \n",
      ".dc Vbase 0 3 0.01\n",
      ".end\n",
      "\n",
      "\u001b[1;32m2018-01-24 23:50:05,443\u001b[0m - \u001b[1;34mPySpice.Spice.NgSpice.Shared.NgSpiceShared.exec_command\u001b[0m - \u001b[1;31mDEBUG\u001b[0m - Execute command: destroy all\n",
      "\u001b[1;32m2018-01-24 23:50:05,448\u001b[0m - \u001b[1;34mPySpice.Spice.NgSpice.Shared.NgSpiceShared.run\u001b[0m - \u001b[1;31mDEBUG\u001b[0m - Simulation is done\n",
      "\u001b[1;32m2018-01-24 23:50:05,448\u001b[0m - \u001b[1;34mPySpice.Spice.Simulation.NgSpiceSharedCircuitSimulator._run\u001b[0m - \u001b[1;31mDEBUG\u001b[0m - ['dc1', 'const']\n",
      "\u001b[1;32m2018-01-24 23:50:05,450\u001b[0m - \u001b[1;34mPySpice.Spice.Simulation.NgSpiceSharedCircuitSimulator._run\u001b[0m - \u001b[1;31mDEBUG\u001b[0m - desk\n",
      ".title Transistor\n",
      ".include /home/iridium/string12oil@gmail.com/MyProjects/EEM-Circuits/SpiceLib/2N2222A.lib\n",
      "Vbase 1 0 1V\n",
      "Rbase 1 base 1kOhm\n",
      "Vcollector 2 0 3.0V\n",
      "Rcollector 2 collector 1kOhm\n",
      "Q1 collector base 0 2n2222a \n",
      ".options TEMP = 25°C\n",
      ".options TNOM = 25°C\n",
      ".ic \n",
      ".dc Vbase 0 3 0.01\n",
      ".end\n",
      "\n",
      "\u001b[1;32m2018-01-24 23:50:05,452\u001b[0m - \u001b[1;34mPySpice.Spice.NgSpice.Shared.NgSpiceShared.exec_command\u001b[0m - \u001b[1;31mDEBUG\u001b[0m - Execute command: destroy all\n",
      "\u001b[1;32m2018-01-24 23:50:05,457\u001b[0m - \u001b[1;34mPySpice.Spice.NgSpice.Shared.NgSpiceShared.run\u001b[0m - \u001b[1;31mDEBUG\u001b[0m - Simulation is done\n",
      "\u001b[1;32m2018-01-24 23:50:05,458\u001b[0m - \u001b[1;34mPySpice.Spice.Simulation.NgSpiceSharedCircuitSimulator._run\u001b[0m - \u001b[1;31mDEBUG\u001b[0m - ['dc1', 'const']\n",
      "\u001b[1;32m2018-01-24 23:50:05,461\u001b[0m - \u001b[1;34mPySpice.Spice.Simulation.NgSpiceSharedCircuitSimulator._run\u001b[0m - \u001b[1;31mDEBUG\u001b[0m - desk\n",
      ".title Transistor\n",
      ".include /home/iridium/string12oil@gmail.com/MyProjects/EEM-Circuits/SpiceLib/2N2222A.lib\n",
      "Vbase 1 0 1V\n",
      "Rbase 1 base 1kOhm\n",
      "Vcollector 2 0 4.0V\n",
      "Rcollector 2 collector 1kOhm\n",
      "Q1 collector base 0 2n2222a \n",
      ".options TEMP = 25°C\n",
      ".options TNOM = 25°C\n",
      ".ic \n",
      ".dc Vbase 0 3 0.01\n",
      ".end\n",
      "\n",
      "\u001b[1;32m2018-01-24 23:50:05,462\u001b[0m - \u001b[1;34mPySpice.Spice.NgSpice.Shared.NgSpiceShared.exec_command\u001b[0m - \u001b[1;31mDEBUG\u001b[0m - Execute command: destroy all\n",
      "\u001b[1;32m2018-01-24 23:50:05,467\u001b[0m - \u001b[1;34mPySpice.Spice.NgSpice.Shared.NgSpiceShared.run\u001b[0m - \u001b[1;31mDEBUG\u001b[0m - Simulation is done\n",
      "\u001b[1;32m2018-01-24 23:50:05,467\u001b[0m - \u001b[1;34mPySpice.Spice.Simulation.NgSpiceSharedCircuitSimulator._run\u001b[0m - \u001b[1;31mDEBUG\u001b[0m - ['dc1', 'const']\n",
      "\u001b[1;32m2018-01-24 23:50:05,469\u001b[0m - \u001b[1;34mPySpice.Spice.Simulation.NgSpiceSharedCircuitSimulator._run\u001b[0m - \u001b[1;31mDEBUG\u001b[0m - desk\n",
      ".title Transistor\n",
      ".include /home/iridium/string12oil@gmail.com/MyProjects/EEM-Circuits/SpiceLib/2N2222A.lib\n",
      "Vbase 1 0 1V\n",
      "Rbase 1 base 1kOhm\n",
      "Vcollector 2 0 5.0V\n",
      "Rcollector 2 collector 1kOhm\n",
      "Q1 collector base 0 2n2222a \n",
      ".options TEMP = 25°C\n",
      ".options TNOM = 25°C\n",
      ".ic \n",
      ".dc Vbase 0 3 0.01\n",
      ".end\n",
      "\n",
      "\u001b[1;32m2018-01-24 23:50:05,471\u001b[0m - \u001b[1;34mPySpice.Spice.NgSpice.Shared.NgSpiceShared.exec_command\u001b[0m - \u001b[1;31mDEBUG\u001b[0m - Execute command: destroy all\n",
      "\u001b[1;32m2018-01-24 23:50:05,475\u001b[0m - \u001b[1;34mPySpice.Spice.NgSpice.Shared.NgSpiceShared.run\u001b[0m - \u001b[1;31mDEBUG\u001b[0m - Simulation is done\n",
      "\u001b[1;32m2018-01-24 23:50:05,476\u001b[0m - \u001b[1;34mPySpice.Spice.Simulation.NgSpiceSharedCircuitSimulator._run\u001b[0m - \u001b[1;31mDEBUG\u001b[0m - ['dc1', 'const']\n"
     ]
    }
   ],
   "source": [
    "OutputData=pd.DataFrame()\n",
    "for Vce in np.arange(0, 5+1, 1):\n",
    "    Vcollector.dc_value=Vce@u_V\n",
    "    analysisInputCurve = simulator.dc(Vbase=slice(0, 3, .01))\n",
    "    InputData[f'Vbe[V];{Vce}']=analysisInputCurve.base\n",
    "    InputData[f'Ib[A];{Vce}']=-analysisInputCurve.Vbase"
   ]
  },
  {
   "cell_type": "code",
   "execution_count": 55,
   "metadata": {},
   "outputs": [
    {
     "data": {
      "text/plain": [
       "BipolarJunctionTransistor Q1"
      ]
     },
     "execution_count": 55,
     "metadata": {},
     "output_type": "execute_result"
    }
   ],
   "source": [
    "Rb=1@u_kΩ; Rc=1@u_kΩ; VcollMax=3; TempC=25\n",
    "\n",
    "circuit = Circuit('Transistor')\n",
    "Ibase = circuit.I('base', circuit.gnd, 'base', 10@u_uA) # take care to the orientation\n",
    "Vcollector = circuit.V('collector', 'collector', circuit.gnd, 5)\n",
    "# circuit.BJT(1, 'collector', 'base', circuit.gnd, 'generic')\n",
    "# circuit.model('generic', 'npn')\n",
    "circuit.include(spice_library['2n2222a'])\n",
    "circuit.BJT(1, 'collector', 'base', circuit.gnd, '2n2222a')\n"
   ]
  },
  {
   "cell_type": "code",
   "execution_count": 56,
   "metadata": {},
   "outputs": [
    {
     "name": "stdout",
     "output_type": "stream",
     "text": [
      "\u001b[1;32m2018-01-24 23:50:05,656\u001b[0m - \u001b[1;34mPySpice.Spice.Simulation.NgSpiceSharedCircuitSimulator._run\u001b[0m - \u001b[1;31mDEBUG\u001b[0m - desk\n",
      ".title Transistor\n",
      ".include /home/iridium/string12oil@gmail.com/MyProjects/EEM-Circuits/SpiceLib/2N2222A.lib\n",
      "Ibase 0 base 10uA\n",
      "Vcollector collector 0 5\n",
      "Q1 collector base 0 2n2222a \n",
      ".options TEMP = 25°C\n",
      ".options TNOM = 25°C\n",
      ".ic \n",
      ".dc Vcollector 0 5 0.01\n",
      ".end\n",
      "\n",
      "\u001b[1;32m2018-01-24 23:50:05,657\u001b[0m - \u001b[1;34mPySpice.Spice.NgSpice.Shared.NgSpiceShared.exec_command\u001b[0m - \u001b[1;31mDEBUG\u001b[0m - Execute command: destroy all\n",
      "\u001b[1;32m2018-01-24 23:50:05,663\u001b[0m - \u001b[1;34mPySpice.Spice.NgSpice.Shared.NgSpiceShared.run\u001b[0m - \u001b[1;31mDEBUG\u001b[0m - Simulation is done\n",
      "\u001b[1;32m2018-01-24 23:50:05,664\u001b[0m - \u001b[1;34mPySpice.Spice.Simulation.NgSpiceSharedCircuitSimulator._run\u001b[0m - \u001b[1;31mDEBUG\u001b[0m - ['dc1', 'const']\n"
     ]
    }
   ],
   "source": [
    "simulator = circuit.simulator(temperature=TempC, nominal_temperature=TempC)\n",
    "analysis = simulator.dc(Vcollector=slice(0, 5, .01))"
   ]
  },
  {
   "cell_type": "code",
   "execution_count": 57,
   "metadata": {},
   "outputs": [
    {
     "name": "stdout",
     "output_type": "stream",
     "text": [
      "\u001b[1;32m2018-01-24 23:50:05,779\u001b[0m - \u001b[1;34mPySpice.Spice.Simulation.NgSpiceSharedCircuitSimulator._run\u001b[0m - \u001b[1;31mDEBUG\u001b[0m - desk\n",
      ".title Transistor\n",
      ".include /home/iridium/string12oil@gmail.com/MyProjects/EEM-Circuits/SpiceLib/2N2222A.lib\n",
      "Ibase 0 base 0.0uA\n",
      "Vcollector collector 0 5\n",
      "Q1 collector base 0 2n2222a \n",
      ".options TEMP = 25°C\n",
      ".options TNOM = 25°C\n",
      ".ic \n",
      ".dc Vcollector 0 5 0.01\n",
      ".end\n",
      "\n",
      "\u001b[1;32m2018-01-24 23:50:05,780\u001b[0m - \u001b[1;34mPySpice.Spice.NgSpice.Shared.NgSpiceShared.exec_command\u001b[0m - \u001b[1;31mDEBUG\u001b[0m - Execute command: destroy all\n",
      "\u001b[1;32m2018-01-24 23:50:05,785\u001b[0m - \u001b[1;34mPySpice.Spice.NgSpice.Shared.NgSpiceShared.run\u001b[0m - \u001b[1;31mDEBUG\u001b[0m - Simulation is done\n",
      "\u001b[1;32m2018-01-24 23:50:05,786\u001b[0m - \u001b[1;34mPySpice.Spice.Simulation.NgSpiceSharedCircuitSimulator._run\u001b[0m - \u001b[1;31mDEBUG\u001b[0m - ['dc1', 'const']\n",
      "\u001b[1;32m2018-01-24 23:50:05,830\u001b[0m - \u001b[1;34mPySpice.Spice.Simulation.NgSpiceSharedCircuitSimulator._run\u001b[0m - \u001b[1;31mDEBUG\u001b[0m - desk\n",
      ".title Transistor\n",
      ".include /home/iridium/string12oil@gmail.com/MyProjects/EEM-Circuits/SpiceLib/2N2222A.lib\n",
      "Ibase 0 base 10.0uA\n",
      "Vcollector collector 0 5\n",
      "Q1 collector base 0 2n2222a \n",
      ".options TEMP = 25°C\n",
      ".options TNOM = 25°C\n",
      ".ic \n",
      ".dc Vcollector 0 5 0.01\n",
      ".end\n",
      "\n",
      "\u001b[1;32m2018-01-24 23:50:05,831\u001b[0m - \u001b[1;34mPySpice.Spice.NgSpice.Shared.NgSpiceShared.exec_command\u001b[0m - \u001b[1;31mDEBUG\u001b[0m - Execute command: destroy all\n",
      "\u001b[1;32m2018-01-24 23:50:05,837\u001b[0m - \u001b[1;34mPySpice.Spice.NgSpice.Shared.NgSpiceShared.run\u001b[0m - \u001b[1;31mDEBUG\u001b[0m - Simulation is done\n",
      "\u001b[1;32m2018-01-24 23:50:05,837\u001b[0m - \u001b[1;34mPySpice.Spice.Simulation.NgSpiceSharedCircuitSimulator._run\u001b[0m - \u001b[1;31mDEBUG\u001b[0m - ['dc1', 'const']\n",
      "\u001b[1;32m2018-01-24 23:50:05,841\u001b[0m - \u001b[1;34mPySpice.Spice.Simulation.NgSpiceSharedCircuitSimulator._run\u001b[0m - \u001b[1;31mDEBUG\u001b[0m - desk\n",
      ".title Transistor\n",
      ".include /home/iridium/string12oil@gmail.com/MyProjects/EEM-Circuits/SpiceLib/2N2222A.lib\n",
      "Ibase 0 base 20.0uA\n",
      "Vcollector collector 0 5\n",
      "Q1 collector base 0 2n2222a \n",
      ".options TEMP = 25°C\n",
      ".options TNOM = 25°C\n",
      ".ic \n",
      ".dc Vcollector 0 5 0.01\n",
      ".end\n",
      "\n",
      "\u001b[1;32m2018-01-24 23:50:05,842\u001b[0m - \u001b[1;34mPySpice.Spice.NgSpice.Shared.NgSpiceShared.exec_command\u001b[0m - \u001b[1;31mDEBUG\u001b[0m - Execute command: destroy all\n",
      "\u001b[1;32m2018-01-24 23:50:05,846\u001b[0m - \u001b[1;34mPySpice.Spice.NgSpice.Shared.NgSpiceShared.run\u001b[0m - \u001b[1;31mDEBUG\u001b[0m - Simulation is done\n",
      "\u001b[1;32m2018-01-24 23:50:05,847\u001b[0m - \u001b[1;34mPySpice.Spice.Simulation.NgSpiceSharedCircuitSimulator._run\u001b[0m - \u001b[1;31mDEBUG\u001b[0m - ['dc1', 'const']\n",
      "\u001b[1;32m2018-01-24 23:50:05,851\u001b[0m - \u001b[1;34mPySpice.Spice.Simulation.NgSpiceSharedCircuitSimulator._run\u001b[0m - \u001b[1;31mDEBUG\u001b[0m - desk\n",
      ".title Transistor\n",
      ".include /home/iridium/string12oil@gmail.com/MyProjects/EEM-Circuits/SpiceLib/2N2222A.lib\n",
      "Ibase 0 base 30.0uA\n",
      "Vcollector collector 0 5\n",
      "Q1 collector base 0 2n2222a \n",
      ".options TEMP = 25°C\n",
      ".options TNOM = 25°C\n",
      ".ic \n",
      ".dc Vcollector 0 5 0.01\n",
      ".end\n",
      "\n",
      "\u001b[1;32m2018-01-24 23:50:05,852\u001b[0m - \u001b[1;34mPySpice.Spice.NgSpice.Shared.NgSpiceShared.exec_command\u001b[0m - \u001b[1;31mDEBUG\u001b[0m - Execute command: destroy all\n",
      "\u001b[1;32m2018-01-24 23:50:05,859\u001b[0m - \u001b[1;34mPySpice.Spice.NgSpice.Shared.NgSpiceShared.run\u001b[0m - \u001b[1;31mDEBUG\u001b[0m - Simulation is done\n",
      "\u001b[1;32m2018-01-24 23:50:05,859\u001b[0m - \u001b[1;34mPySpice.Spice.Simulation.NgSpiceSharedCircuitSimulator._run\u001b[0m - \u001b[1;31mDEBUG\u001b[0m - ['dc1', 'const']\n",
      "\u001b[1;32m2018-01-24 23:50:05,864\u001b[0m - \u001b[1;34mPySpice.Spice.Simulation.NgSpiceSharedCircuitSimulator._run\u001b[0m - \u001b[1;31mDEBUG\u001b[0m - desk\n",
      ".title Transistor\n",
      ".include /home/iridium/string12oil@gmail.com/MyProjects/EEM-Circuits/SpiceLib/2N2222A.lib\n",
      "Ibase 0 base 40.0uA\n",
      "Vcollector collector 0 5\n",
      "Q1 collector base 0 2n2222a \n",
      ".options TEMP = 25°C\n",
      ".options TNOM = 25°C\n",
      ".ic \n",
      ".dc Vcollector 0 5 0.01\n",
      ".end\n",
      "\n",
      "\u001b[1;32m2018-01-24 23:50:05,865\u001b[0m - \u001b[1;34mPySpice.Spice.NgSpice.Shared.NgSpiceShared.exec_command\u001b[0m - \u001b[1;31mDEBUG\u001b[0m - Execute command: destroy all\n",
      "\u001b[1;32m2018-01-24 23:50:05,871\u001b[0m - \u001b[1;34mPySpice.Spice.NgSpice.Shared.NgSpiceShared.run\u001b[0m - \u001b[1;31mDEBUG\u001b[0m - Simulation is done\n",
      "\u001b[1;32m2018-01-24 23:50:05,872\u001b[0m - \u001b[1;34mPySpice.Spice.Simulation.NgSpiceSharedCircuitSimulator._run\u001b[0m - \u001b[1;31mDEBUG\u001b[0m - ['dc1', 'const']\n",
      "\u001b[1;32m2018-01-24 23:50:05,877\u001b[0m - \u001b[1;34mPySpice.Spice.Simulation.NgSpiceSharedCircuitSimulator._run\u001b[0m - \u001b[1;31mDEBUG\u001b[0m - desk\n",
      ".title Transistor\n",
      ".include /home/iridium/string12oil@gmail.com/MyProjects/EEM-Circuits/SpiceLib/2N2222A.lib\n",
      "Ibase 0 base 50.0uA\n",
      "Vcollector collector 0 5\n",
      "Q1 collector base 0 2n2222a \n",
      ".options TEMP = 25°C\n",
      ".options TNOM = 25°C\n",
      ".ic \n",
      ".dc Vcollector 0 5 0.01\n",
      ".end\n",
      "\n",
      "\u001b[1;32m2018-01-24 23:50:05,878\u001b[0m - \u001b[1;34mPySpice.Spice.NgSpice.Shared.NgSpiceShared.exec_command\u001b[0m - \u001b[1;31mDEBUG\u001b[0m - Execute command: destroy all\n",
      "\u001b[1;32m2018-01-24 23:50:05,882\u001b[0m - \u001b[1;34mPySpice.Spice.NgSpice.Shared.NgSpiceShared.run\u001b[0m - \u001b[1;31mDEBUG\u001b[0m - Simulation is done\n",
      "\u001b[1;32m2018-01-24 23:50:05,883\u001b[0m - \u001b[1;34mPySpice.Spice.Simulation.NgSpiceSharedCircuitSimulator._run\u001b[0m - \u001b[1;31mDEBUG\u001b[0m - ['dc1', 'const']\n",
      "\u001b[1;32m2018-01-24 23:50:05,887\u001b[0m - \u001b[1;34mPySpice.Spice.Simulation.NgSpiceSharedCircuitSimulator._run\u001b[0m - \u001b[1;31mDEBUG\u001b[0m - desk\n",
      ".title Transistor\n",
      ".include /home/iridium/string12oil@gmail.com/MyProjects/EEM-Circuits/SpiceLib/2N2222A.lib\n",
      "Ibase 0 base 60.0uA\n",
      "Vcollector collector 0 5\n",
      "Q1 collector base 0 2n2222a \n",
      ".options TEMP = 25°C\n",
      ".options TNOM = 25°C\n",
      ".ic \n",
      ".dc Vcollector 0 5 0.01\n",
      ".end\n",
      "\n",
      "\u001b[1;32m2018-01-24 23:50:05,888\u001b[0m - \u001b[1;34mPySpice.Spice.NgSpice.Shared.NgSpiceShared.exec_command\u001b[0m - \u001b[1;31mDEBUG\u001b[0m - Execute command: destroy all\n",
      "\u001b[1;32m2018-01-24 23:50:05,893\u001b[0m - \u001b[1;34mPySpice.Spice.NgSpice.Shared.NgSpiceShared.run\u001b[0m - \u001b[1;31mDEBUG\u001b[0m - Simulation is done\n",
      "\u001b[1;32m2018-01-24 23:50:05,893\u001b[0m - \u001b[1;34mPySpice.Spice.Simulation.NgSpiceSharedCircuitSimulator._run\u001b[0m - \u001b[1;31mDEBUG\u001b[0m - ['dc1', 'const']\n",
      "\u001b[1;32m2018-01-24 23:50:05,898\u001b[0m - \u001b[1;34mPySpice.Spice.Simulation.NgSpiceSharedCircuitSimulator._run\u001b[0m - \u001b[1;31mDEBUG\u001b[0m - desk\n",
      ".title Transistor\n",
      ".include /home/iridium/string12oil@gmail.com/MyProjects/EEM-Circuits/SpiceLib/2N2222A.lib\n",
      "Ibase 0 base 70.0uA\n",
      "Vcollector collector 0 5\n",
      "Q1 collector base 0 2n2222a \n",
      ".options TEMP = 25°C\n",
      ".options TNOM = 25°C\n",
      ".ic \n",
      ".dc Vcollector 0 5 0.01\n",
      ".end\n",
      "\n",
      "\u001b[1;32m2018-01-24 23:50:05,899\u001b[0m - \u001b[1;34mPySpice.Spice.NgSpice.Shared.NgSpiceShared.exec_command\u001b[0m - \u001b[1;31mDEBUG\u001b[0m - Execute command: destroy all\n",
      "\u001b[1;32m2018-01-24 23:50:05,905\u001b[0m - \u001b[1;34mPySpice.Spice.NgSpice.Shared.NgSpiceShared.run\u001b[0m - \u001b[1;31mDEBUG\u001b[0m - Simulation is done\n",
      "\u001b[1;32m2018-01-24 23:50:05,905\u001b[0m - \u001b[1;34mPySpice.Spice.Simulation.NgSpiceSharedCircuitSimulator._run\u001b[0m - \u001b[1;31mDEBUG\u001b[0m - ['dc1', 'const']\n",
      "\u001b[1;32m2018-01-24 23:50:05,909\u001b[0m - \u001b[1;34mPySpice.Spice.Simulation.NgSpiceSharedCircuitSimulator._run\u001b[0m - \u001b[1;31mDEBUG\u001b[0m - desk\n",
      ".title Transistor\n",
      ".include /home/iridium/string12oil@gmail.com/MyProjects/EEM-Circuits/SpiceLib/2N2222A.lib\n",
      "Ibase 0 base 80.0uA\n",
      "Vcollector collector 0 5\n",
      "Q1 collector base 0 2n2222a \n",
      ".options TEMP = 25°C\n",
      ".options TNOM = 25°C\n",
      ".ic \n",
      ".dc Vcollector 0 5 0.01\n",
      ".end\n",
      "\n",
      "\u001b[1;32m2018-01-24 23:50:05,910\u001b[0m - \u001b[1;34mPySpice.Spice.NgSpice.Shared.NgSpiceShared.exec_command\u001b[0m - \u001b[1;31mDEBUG\u001b[0m - Execute command: destroy all\n",
      "\u001b[1;32m2018-01-24 23:50:05,914\u001b[0m - \u001b[1;34mPySpice.Spice.NgSpice.Shared.NgSpiceShared.run\u001b[0m - \u001b[1;31mDEBUG\u001b[0m - Simulation is done\n",
      "\u001b[1;32m2018-01-24 23:50:05,915\u001b[0m - \u001b[1;34mPySpice.Spice.Simulation.NgSpiceSharedCircuitSimulator._run\u001b[0m - \u001b[1;31mDEBUG\u001b[0m - ['dc1', 'const']\n",
      "\u001b[1;32m2018-01-24 23:50:05,920\u001b[0m - \u001b[1;34mPySpice.Spice.Simulation.NgSpiceSharedCircuitSimulator._run\u001b[0m - \u001b[1;31mDEBUG\u001b[0m - desk\n",
      ".title Transistor\n",
      ".include /home/iridium/string12oil@gmail.com/MyProjects/EEM-Circuits/SpiceLib/2N2222A.lib\n",
      "Ibase 0 base 90.0uA\n",
      "Vcollector collector 0 5\n",
      "Q1 collector base 0 2n2222a \n",
      ".options TEMP = 25°C\n",
      ".options TNOM = 25°C\n",
      ".ic \n",
      ".dc Vcollector 0 5 0.01\n",
      ".end\n",
      "\n",
      "\u001b[1;32m2018-01-24 23:50:05,920\u001b[0m - \u001b[1;34mPySpice.Spice.NgSpice.Shared.NgSpiceShared.exec_command\u001b[0m - \u001b[1;31mDEBUG\u001b[0m - Execute command: destroy all\n",
      "\u001b[1;32m2018-01-24 23:50:05,926\u001b[0m - \u001b[1;34mPySpice.Spice.NgSpice.Shared.NgSpiceShared.run\u001b[0m - \u001b[1;31mDEBUG\u001b[0m - Simulation is done\n",
      "\u001b[1;32m2018-01-24 23:50:05,927\u001b[0m - \u001b[1;34mPySpice.Spice.Simulation.NgSpiceSharedCircuitSimulator._run\u001b[0m - \u001b[1;31mDEBUG\u001b[0m - ['dc1', 'const']\n"
     ]
    },
    {
     "data": {
      "text/plain": [
       "<matplotlib.legend.Legend at 0x7f3cdd60fe48>"
      ]
     },
     "execution_count": 57,
     "metadata": {},
     "output_type": "execute_result"
    },
    {
     "data": {
      "image/png": "[encoded data removed]",
      "text/plain": [
       "<matplotlib.figure.Figure at 0x7f3cdda45668>"
      ]
     },
     "metadata": {},
     "output_type": "display_data"
    }
   ],
   "source": [
    "simulator = circuit.simulator(temperature=25, nominal_temperature=25)\n",
    "\n",
    "for base_current in np.arange(0, 100, 10):\n",
    "    base_current = base_current@u_uA\n",
    "    Ibase.dc_value = base_current\n",
    "    analysisOut = simulator.dc(Vcollector=slice(0, 5, .01))\n",
    "    plt.plot(analysis.collector, -analysis.Vcollector*1000)\n",
    "\n",
    "plt.legend()"
   ]
  },
  {
   "cell_type": "code",
   "execution_count": 58,
   "metadata": {},
   "outputs": [
    {
     "name": "stdout",
     "output_type": "stream",
     "text": [
      "\u001b[1;32m2018-01-24 23:50:06,160\u001b[0m - \u001b[1;34mPySpice.Spice.Simulation.NgSpiceSharedCircuitSimulator._run\u001b[0m - \u001b[1;31mDEBUG\u001b[0m - desk\n",
      ".title Transistor\n",
      ".include /home/iridium/string12oil@gmail.com/MyProjects/EEM-Circuits/SpiceLib/2N2222A.lib\n",
      "Ibase 0 base 0.0uA\n",
      "Vcollector collector 0 5\n",
      "Q1 collector base 0 2n2222a \n",
      ".options TEMP = 25°C\n",
      ".options TNOM = 25°C\n",
      ".ic \n",
      ".dc Vcollector 0 5 0.01\n",
      ".end\n",
      "\n",
      "\u001b[1;32m2018-01-24 23:50:06,162\u001b[0m - \u001b[1;34mPySpice.Spice.NgSpice.Shared.NgSpiceShared.exec_command\u001b[0m - \u001b[1;31mDEBUG\u001b[0m - Execute command: destroy all\n",
      "\u001b[1;32m2018-01-24 23:50:06,166\u001b[0m - \u001b[1;34mPySpice.Spice.NgSpice.Shared.NgSpiceShared.run\u001b[0m - \u001b[1;31mDEBUG\u001b[0m - Simulation is done\n",
      "\u001b[1;32m2018-01-24 23:50:06,167\u001b[0m - \u001b[1;34mPySpice.Spice.Simulation.NgSpiceSharedCircuitSimulator._run\u001b[0m - \u001b[1;31mDEBUG\u001b[0m - ['dc1', 'const']\n",
      "\u001b[1;32m2018-01-24 23:50:06,170\u001b[0m - \u001b[1;34mPySpice.Spice.Simulation.NgSpiceSharedCircuitSimulator._run\u001b[0m - \u001b[1;31mDEBUG\u001b[0m - desk\n",
      ".title Transistor\n",
      ".include /home/iridium/string12oil@gmail.com/MyProjects/EEM-Circuits/SpiceLib/2N2222A.lib\n",
      "Ibase 0 base 10.0uA\n",
      "Vcollector collector 0 5\n",
      "Q1 collector base 0 2n2222a \n",
      ".options TEMP = 25°C\n",
      ".options TNOM = 25°C\n",
      ".ic \n",
      ".dc Vcollector 0 5 0.01\n",
      ".end\n",
      "\n",
      "\u001b[1;32m2018-01-24 23:50:06,171\u001b[0m - \u001b[1;34mPySpice.Spice.NgSpice.Shared.NgSpiceShared.exec_command\u001b[0m - \u001b[1;31mDEBUG\u001b[0m - Execute command: destroy all\n",
      "\u001b[1;32m2018-01-24 23:50:06,175\u001b[0m - \u001b[1;34mPySpice.Spice.NgSpice.Shared.NgSpiceShared.run\u001b[0m - \u001b[1;31mDEBUG\u001b[0m - Simulation is done\n",
      "\u001b[1;32m2018-01-24 23:50:06,176\u001b[0m - \u001b[1;34mPySpice.Spice.Simulation.NgSpiceSharedCircuitSimulator._run\u001b[0m - \u001b[1;31mDEBUG\u001b[0m - ['dc1', 'const']\n",
      "\u001b[1;32m2018-01-24 23:50:06,178\u001b[0m - \u001b[1;34mPySpice.Spice.Simulation.NgSpiceSharedCircuitSimulator._run\u001b[0m - \u001b[1;31mDEBUG\u001b[0m - desk\n",
      ".title Transistor\n",
      ".include /home/iridium/string12oil@gmail.com/MyProjects/EEM-Circuits/SpiceLib/2N2222A.lib\n",
      "Ibase 0 base 20.0uA\n",
      "Vcollector collector 0 5\n",
      "Q1 collector base 0 2n2222a \n",
      ".options TEMP = 25°C\n",
      ".options TNOM = 25°C\n",
      ".ic \n",
      ".dc Vcollector 0 5 0.01\n",
      ".end\n",
      "\n",
      "\u001b[1;32m2018-01-24 23:50:06,179\u001b[0m - \u001b[1;34mPySpice.Spice.NgSpice.Shared.NgSpiceShared.exec_command\u001b[0m - \u001b[1;31mDEBUG\u001b[0m - Execute command: destroy all\n",
      "\u001b[1;32m2018-01-24 23:50:06,183\u001b[0m - \u001b[1;34mPySpice.Spice.NgSpice.Shared.NgSpiceShared.run\u001b[0m - \u001b[1;31mDEBUG\u001b[0m - Simulation is done\n",
      "\u001b[1;32m2018-01-24 23:50:06,184\u001b[0m - \u001b[1;34mPySpice.Spice.Simulation.NgSpiceSharedCircuitSimulator._run\u001b[0m - \u001b[1;31mDEBUG\u001b[0m - ['dc1', 'const']\n",
      "\u001b[1;32m2018-01-24 23:50:06,186\u001b[0m - \u001b[1;34mPySpice.Spice.Simulation.NgSpiceSharedCircuitSimulator._run\u001b[0m - \u001b[1;31mDEBUG\u001b[0m - desk\n",
      ".title Transistor\n",
      ".include /home/iridium/string12oil@gmail.com/MyProjects/EEM-Circuits/SpiceLib/2N2222A.lib\n",
      "Ibase 0 base 30.0uA\n",
      "Vcollector collector 0 5\n",
      "Q1 collector base 0 2n2222a \n",
      ".options TEMP = 25°C\n",
      ".options TNOM = 25°C\n",
      ".ic \n",
      ".dc Vcollector 0 5 0.01\n",
      ".end\n",
      "\n",
      "\u001b[1;32m2018-01-24 23:50:06,187\u001b[0m - \u001b[1;34mPySpice.Spice.NgSpice.Shared.NgSpiceShared.exec_command\u001b[0m - \u001b[1;31mDEBUG\u001b[0m - Execute command: destroy all\n",
      "\u001b[1;32m2018-01-24 23:50:06,191\u001b[0m - \u001b[1;34mPySpice.Spice.NgSpice.Shared.NgSpiceShared.run\u001b[0m - \u001b[1;31mDEBUG\u001b[0m - Simulation is done\n",
      "\u001b[1;32m2018-01-24 23:50:06,192\u001b[0m - \u001b[1;34mPySpice.Spice.Simulation.NgSpiceSharedCircuitSimulator._run\u001b[0m - \u001b[1;31mDEBUG\u001b[0m - ['dc1', 'const']\n",
      "\u001b[1;32m2018-01-24 23:50:06,195\u001b[0m - \u001b[1;34mPySpice.Spice.Simulation.NgSpiceSharedCircuitSimulator._run\u001b[0m - \u001b[1;31mDEBUG\u001b[0m - desk\n",
      ".title Transistor\n",
      ".include /home/iridium/string12oil@gmail.com/MyProjects/EEM-Circuits/SpiceLib/2N2222A.lib\n",
      "Ibase 0 base 40.0uA\n",
      "Vcollector collector 0 5\n",
      "Q1 collector base 0 2n2222a \n",
      ".options TEMP = 25°C\n",
      ".options TNOM = 25°C\n",
      ".ic \n",
      ".dc Vcollector 0 5 0.01\n",
      ".end\n",
      "\n",
      "\u001b[1;32m2018-01-24 23:50:06,195\u001b[0m - \u001b[1;34mPySpice.Spice.NgSpice.Shared.NgSpiceShared.exec_command\u001b[0m - \u001b[1;31mDEBUG\u001b[0m - Execute command: destroy all\n",
      "\u001b[1;32m2018-01-24 23:50:06,200\u001b[0m - \u001b[1;34mPySpice.Spice.NgSpice.Shared.NgSpiceShared.run\u001b[0m - \u001b[1;31mDEBUG\u001b[0m - Simulation is done\n",
      "\u001b[1;32m2018-01-24 23:50:06,200\u001b[0m - \u001b[1;34mPySpice.Spice.Simulation.NgSpiceSharedCircuitSimulator._run\u001b[0m - \u001b[1;31mDEBUG\u001b[0m - ['dc1', 'const']\n",
      "\u001b[1;32m2018-01-24 23:50:06,202\u001b[0m - \u001b[1;34mPySpice.Spice.Simulation.NgSpiceSharedCircuitSimulator._run\u001b[0m - \u001b[1;31mDEBUG\u001b[0m - desk\n",
      ".title Transistor\n",
      ".include /home/iridium/string12oil@gmail.com/MyProjects/EEM-Circuits/SpiceLib/2N2222A.lib\n",
      "Ibase 0 base 50.0uA\n",
      "Vcollector collector 0 5\n",
      "Q1 collector base 0 2n2222a \n",
      ".options TEMP = 25°C\n",
      ".options TNOM = 25°C\n",
      ".ic \n",
      ".dc Vcollector 0 5 0.01\n",
      ".end\n",
      "\n",
      "\u001b[1;32m2018-01-24 23:50:06,203\u001b[0m - \u001b[1;34mPySpice.Spice.NgSpice.Shared.NgSpiceShared.exec_command\u001b[0m - \u001b[1;31mDEBUG\u001b[0m - Execute command: destroy all\n",
      "\u001b[1;32m2018-01-24 23:50:06,208\u001b[0m - \u001b[1;34mPySpice.Spice.NgSpice.Shared.NgSpiceShared.run\u001b[0m - \u001b[1;31mDEBUG\u001b[0m - Simulation is done\n",
      "\u001b[1;32m2018-01-24 23:50:06,208\u001b[0m - \u001b[1;34mPySpice.Spice.Simulation.NgSpiceSharedCircuitSimulator._run\u001b[0m - \u001b[1;31mDEBUG\u001b[0m - ['dc1', 'const']\n",
      "\u001b[1;32m2018-01-24 23:50:06,211\u001b[0m - \u001b[1;34mPySpice.Spice.Simulation.NgSpiceSharedCircuitSimulator._run\u001b[0m - \u001b[1;31mDEBUG\u001b[0m - desk\n",
      ".title Transistor\n",
      ".include /home/iridium/string12oil@gmail.com/MyProjects/EEM-Circuits/SpiceLib/2N2222A.lib\n",
      "Ibase 0 base 60.0uA\n",
      "Vcollector collector 0 5\n",
      "Q1 collector base 0 2n2222a \n",
      ".options TEMP = 25°C\n",
      ".options TNOM = 25°C\n",
      ".ic \n",
      ".dc Vcollector 0 5 0.01\n",
      ".end\n",
      "\n",
      "\u001b[1;32m2018-01-24 23:50:06,212\u001b[0m - \u001b[1;34mPySpice.Spice.NgSpice.Shared.NgSpiceShared.exec_command\u001b[0m - \u001b[1;31mDEBUG\u001b[0m - Execute command: destroy all\n",
      "\u001b[1;32m2018-01-24 23:50:06,216\u001b[0m - \u001b[1;34mPySpice.Spice.NgSpice.Shared.NgSpiceShared.run\u001b[0m - \u001b[1;31mDEBUG\u001b[0m - Simulation is done\n",
      "\u001b[1;32m2018-01-24 23:50:06,217\u001b[0m - \u001b[1;34mPySpice.Spice.Simulation.NgSpiceSharedCircuitSimulator._run\u001b[0m - \u001b[1;31mDEBUG\u001b[0m - ['dc1', 'const']\n",
      "\u001b[1;32m2018-01-24 23:50:06,219\u001b[0m - \u001b[1;34mPySpice.Spice.Simulation.NgSpiceSharedCircuitSimulator._run\u001b[0m - \u001b[1;31mDEBUG\u001b[0m - desk\n",
      ".title Transistor\n",
      ".include /home/iridium/string12oil@gmail.com/MyProjects/EEM-Circuits/SpiceLib/2N2222A.lib\n",
      "Ibase 0 base 70.0uA\n",
      "Vcollector collector 0 5\n",
      "Q1 collector base 0 2n2222a \n",
      ".options TEMP = 25°C\n",
      ".options TNOM = 25°C\n",
      ".ic \n",
      ".dc Vcollector 0 5 0.01\n",
      ".end\n",
      "\n",
      "\u001b[1;32m2018-01-24 23:50:06,220\u001b[0m - \u001b[1;34mPySpice.Spice.NgSpice.Shared.NgSpiceShared.exec_command\u001b[0m - \u001b[1;31mDEBUG\u001b[0m - Execute command: destroy all\n",
      "\u001b[1;32m2018-01-24 23:50:06,224\u001b[0m - \u001b[1;34mPySpice.Spice.NgSpice.Shared.NgSpiceShared.run\u001b[0m - \u001b[1;31mDEBUG\u001b[0m - Simulation is done\n",
      "\u001b[1;32m2018-01-24 23:50:06,225\u001b[0m - \u001b[1;34mPySpice.Spice.Simulation.NgSpiceSharedCircuitSimulator._run\u001b[0m - \u001b[1;31mDEBUG\u001b[0m - ['dc1', 'const']\n",
      "\u001b[1;32m2018-01-24 23:50:06,227\u001b[0m - \u001b[1;34mPySpice.Spice.Simulation.NgSpiceSharedCircuitSimulator._run\u001b[0m - \u001b[1;31mDEBUG\u001b[0m - desk\n",
      ".title Transistor\n",
      ".include /home/iridium/string12oil@gmail.com/MyProjects/EEM-Circuits/SpiceLib/2N2222A.lib\n",
      "Ibase 0 base 80.0uA\n",
      "Vcollector collector 0 5\n",
      "Q1 collector base 0 2n2222a \n",
      ".options TEMP = 25°C\n",
      ".options TNOM = 25°C\n",
      ".ic \n",
      ".dc Vcollector 0 5 0.01\n",
      ".end\n",
      "\n",
      "\u001b[1;32m2018-01-24 23:50:06,228\u001b[0m - \u001b[1;34mPySpice.Spice.NgSpice.Shared.NgSpiceShared.exec_command\u001b[0m - \u001b[1;31mDEBUG\u001b[0m - Execute command: destroy all\n",
      "\u001b[1;32m2018-01-24 23:50:06,232\u001b[0m - \u001b[1;34mPySpice.Spice.NgSpice.Shared.NgSpiceShared.run\u001b[0m - \u001b[1;31mDEBUG\u001b[0m - Simulation is done\n",
      "\u001b[1;32m2018-01-24 23:50:06,232\u001b[0m - \u001b[1;34mPySpice.Spice.Simulation.NgSpiceSharedCircuitSimulator._run\u001b[0m - \u001b[1;31mDEBUG\u001b[0m - ['dc1', 'const']\n",
      "\u001b[1;32m2018-01-24 23:50:06,235\u001b[0m - \u001b[1;34mPySpice.Spice.Simulation.NgSpiceSharedCircuitSimulator._run\u001b[0m - \u001b[1;31mDEBUG\u001b[0m - desk\n",
      ".title Transistor\n",
      ".include /home/iridium/string12oil@gmail.com/MyProjects/EEM-Circuits/SpiceLib/2N2222A.lib\n",
      "Ibase 0 base 90.0uA\n",
      "Vcollector collector 0 5\n",
      "Q1 collector base 0 2n2222a \n",
      ".options TEMP = 25°C\n",
      ".options TNOM = 25°C\n",
      ".ic \n",
      ".dc Vcollector 0 5 0.01\n",
      ".end\n",
      "\n",
      "\u001b[1;32m2018-01-24 23:50:06,236\u001b[0m - \u001b[1;34mPySpice.Spice.NgSpice.Shared.NgSpiceShared.exec_command\u001b[0m - \u001b[1;31mDEBUG\u001b[0m - Execute command: destroy all\n",
      "\u001b[1;32m2018-01-24 23:50:06,240\u001b[0m - \u001b[1;34mPySpice.Spice.NgSpice.Shared.NgSpiceShared.run\u001b[0m - \u001b[1;31mDEBUG\u001b[0m - Simulation is done\n",
      "\u001b[1;32m2018-01-24 23:50:06,240\u001b[0m - \u001b[1;34mPySpice.Spice.Simulation.NgSpiceSharedCircuitSimulator._run\u001b[0m - \u001b[1;31mDEBUG\u001b[0m - ['dc1', 'const']\n"
     ]
    }
   ],
   "source": [
    "OutputData=pd.DataFrame()\n",
    "for Ib in np.arange(0, 100, 10):\n",
    "    Ibase.dc_value = Ib@u_uA\n",
    "    analysisOutputCurve = simulator.dc(Vcollector=slice(0, 5, .01))\n",
    "    OutputData[f'Vce[V];{Ib}u']=analysisOutputCurve.collector\n",
    "    OutputData[f'Ic[A];{Ib}u']=-analysisOutputCurve.Vcollector"
   ]
  },
  {
   "cell_type": "code",
   "execution_count": 59,
   "metadata": {},
   "outputs": [
    {
     "data": {
      "text/html": [
       "<div>\n",
       "<style scoped>\n",
       "    .dataframe tbody tr th:only-of-type {\n",
       "        vertical-align: middle;\n",
       "    }\n",
       "\n",
       "    .dataframe tbody tr th {\n",
       "        vertical-align: top;\n",
       "    }\n",
       "\n",
       "    .dataframe thead th {\n",
       "        text-align: right;\n",
       "    }\n",
       "</style>\n",
       "<table border=\"1\" class=\"dataframe\">\n",
       "  <thead>\n",
       "    <tr style=\"text-align: right;\">\n",
       "      <th></th>\n",
       "      <th>Vce[V];0u</th>\n",
       "      <th>Ic[A];0u</th>\n",
       "      <th>Vce[V];10u</th>\n",
       "      <th>Ic[A];10u</th>\n",
       "      <th>Vce[V];20u</th>\n",
       "      <th>Ic[A];20u</th>\n",
       "      <th>Vce[V];30u</th>\n",
       "      <th>Ic[A];30u</th>\n",
       "      <th>Vce[V];40u</th>\n",
       "      <th>Ic[A];40u</th>\n",
       "      <th>Vce[V];50u</th>\n",
       "      <th>Ic[A];50u</th>\n",
       "      <th>Vce[V];60u</th>\n",
       "      <th>Ic[A];60u</th>\n",
       "      <th>Vce[V];70u</th>\n",
       "      <th>Ic[A];70u</th>\n",
       "      <th>Vce[V];80u</th>\n",
       "      <th>Ic[A];80u</th>\n",
       "      <th>Vce[V];90u</th>\n",
       "      <th>Ic[A];90u</th>\n",
       "    </tr>\n",
       "  </thead>\n",
       "  <tbody>\n",
       "    <tr>\n",
       "      <th>0</th>\n",
       "      <td>0.00</td>\n",
       "      <td>-4.961523e-28</td>\n",
       "      <td>0.00</td>\n",
       "      <td>-0.000168</td>\n",
       "      <td>0.00</td>\n",
       "      <td>-0.000370</td>\n",
       "      <td>0.00</td>\n",
       "      <td>-0.000577</td>\n",
       "      <td>0.00</td>\n",
       "      <td>-0.000786</td>\n",
       "      <td>0.00</td>\n",
       "      <td>-0.000993</td>\n",
       "      <td>0.00</td>\n",
       "      <td>-0.001198</td>\n",
       "      <td>0.00</td>\n",
       "      <td>-0.001400</td>\n",
       "      <td>0.00</td>\n",
       "      <td>-0.001600</td>\n",
       "      <td>0.00</td>\n",
       "      <td>-0.001796</td>\n",
       "    </tr>\n",
       "    <tr>\n",
       "      <th>1</th>\n",
       "      <td>0.01</td>\n",
       "      <td>6.861560e-13</td>\n",
       "      <td>0.01</td>\n",
       "      <td>-0.000095</td>\n",
       "      <td>0.01</td>\n",
       "      <td>-0.000218</td>\n",
       "      <td>0.01</td>\n",
       "      <td>-0.000348</td>\n",
       "      <td>0.01</td>\n",
       "      <td>-0.000480</td>\n",
       "      <td>0.01</td>\n",
       "      <td>-0.000611</td>\n",
       "      <td>0.01</td>\n",
       "      <td>-0.000741</td>\n",
       "      <td>0.01</td>\n",
       "      <td>-0.000871</td>\n",
       "      <td>0.01</td>\n",
       "      <td>-0.000998</td>\n",
       "      <td>0.01</td>\n",
       "      <td>-0.001124</td>\n",
       "    </tr>\n",
       "    <tr>\n",
       "      <th>2</th>\n",
       "      <td>0.02</td>\n",
       "      <td>1.351766e-12</td>\n",
       "      <td>0.02</td>\n",
       "      <td>-0.000009</td>\n",
       "      <td>0.02</td>\n",
       "      <td>-0.000035</td>\n",
       "      <td>0.02</td>\n",
       "      <td>-0.000067</td>\n",
       "      <td>0.02</td>\n",
       "      <td>-0.000104</td>\n",
       "      <td>0.02</td>\n",
       "      <td>-0.000142</td>\n",
       "      <td>0.02</td>\n",
       "      <td>-0.000182</td>\n",
       "      <td>0.02</td>\n",
       "      <td>-0.000222</td>\n",
       "      <td>0.02</td>\n",
       "      <td>-0.000264</td>\n",
       "      <td>0.02</td>\n",
       "      <td>-0.000305</td>\n",
       "    </tr>\n",
       "    <tr>\n",
       "      <th>3</th>\n",
       "      <td>0.03</td>\n",
       "      <td>1.993600e-12</td>\n",
       "      <td>0.03</td>\n",
       "      <td>0.000089</td>\n",
       "      <td>0.03</td>\n",
       "      <td>0.000181</td>\n",
       "      <td>0.03</td>\n",
       "      <td>0.000267</td>\n",
       "      <td>0.03</td>\n",
       "      <td>0.000346</td>\n",
       "      <td>0.03</td>\n",
       "      <td>0.000420</td>\n",
       "      <td>0.03</td>\n",
       "      <td>0.000488</td>\n",
       "      <td>0.03</td>\n",
       "      <td>0.000551</td>\n",
       "      <td>0.03</td>\n",
       "      <td>0.000611</td>\n",
       "      <td>0.03</td>\n",
       "      <td>0.000666</td>\n",
       "    </tr>\n",
       "    <tr>\n",
       "      <th>4</th>\n",
       "      <td>0.04</td>\n",
       "      <td>2.609107e-12</td>\n",
       "      <td>0.04</td>\n",
       "      <td>0.000196</td>\n",
       "      <td>0.04</td>\n",
       "      <td>0.000429</td>\n",
       "      <td>0.04</td>\n",
       "      <td>0.000655</td>\n",
       "      <td>0.04</td>\n",
       "      <td>0.000870</td>\n",
       "      <td>0.04</td>\n",
       "      <td>0.001073</td>\n",
       "      <td>0.04</td>\n",
       "      <td>0.001265</td>\n",
       "      <td>0.04</td>\n",
       "      <td>0.001448</td>\n",
       "      <td>0.04</td>\n",
       "      <td>0.001621</td>\n",
       "      <td>0.04</td>\n",
       "      <td>0.001787</td>\n",
       "    </tr>\n",
       "  </tbody>\n",
       "</table>\n",
       "</div>"
      ],
      "text/plain": [
       "   Vce[V];0u      Ic[A];0u  Vce[V];10u  Ic[A];10u  Vce[V];20u  Ic[A];20u  \\\n",
       "0       0.00 -4.961523e-28        0.00  -0.000168        0.00  -0.000370   \n",
       "1       0.01  6.861560e-13        0.01  -0.000095        0.01  -0.000218   \n",
       "2       0.02  1.351766e-12        0.02  -0.000009        0.02  -0.000035   \n",
       "3       0.03  1.993600e-12        0.03   0.000089        0.03   0.000181   \n",
       "4       0.04  2.609107e-12        0.04   0.000196        0.04   0.000429   \n",
       "\n",
       "   Vce[V];30u  Ic[A];30u  Vce[V];40u  Ic[A];40u  Vce[V];50u  Ic[A];50u  \\\n",
       "0        0.00  -0.000577        0.00  -0.000786        0.00  -0.000993   \n",
       "1        0.01  -0.000348        0.01  -0.000480        0.01  -0.000611   \n",
       "2        0.02  -0.000067        0.02  -0.000104        0.02  -0.000142   \n",
       "3        0.03   0.000267        0.03   0.000346        0.03   0.000420   \n",
       "4        0.04   0.000655        0.04   0.000870        0.04   0.001073   \n",
       "\n",
       "   Vce[V];60u  Ic[A];60u  Vce[V];70u  Ic[A];70u  Vce[V];80u  Ic[A];80u  \\\n",
       "0        0.00  -0.001198        0.00  -0.001400        0.00  -0.001600   \n",
       "1        0.01  -0.000741        0.01  -0.000871        0.01  -0.000998   \n",
       "2        0.02  -0.000182        0.02  -0.000222        0.02  -0.000264   \n",
       "3        0.03   0.000488        0.03   0.000551        0.03   0.000611   \n",
       "4        0.04   0.001265        0.04   0.001448        0.04   0.001621   \n",
       "\n",
       "   Vce[V];90u  Ic[A];90u  \n",
       "0        0.00  -0.001796  \n",
       "1        0.01  -0.001124  \n",
       "2        0.02  -0.000305  \n",
       "3        0.03   0.000666  \n",
       "4        0.04   0.001787  "
      ]
     },
     "execution_count": 59,
     "metadata": {},
     "output_type": "execute_result"
    }
   ],
   "source": [
    "OutputData.head()"
   ]
  },
  {
   "cell_type": "code",
   "execution_count": 60,
   "metadata": {},
   "outputs": [
    {
     "data": {
      "image/png": "[encoded data removed]",
      "text/plain": [
       "<matplotlib.figure.Figure at 0x7f3cdff38710>"
      ]
     },
     "metadata": {},
     "output_type": "display_data"
    }
   ],
   "source": [
    "plt.title('$V_{ce}$ vs. $I_c$')\n",
    "\n",
    "xs=OutputData.columns[0::2]\n",
    "ys=OutputData.columns[1::2]\n",
    "for x, y in zip(xs, ys):\n",
    "    plt.plot(OutputData[x], OutputData[y]*1000, label=f'Ib={y[6:]}[A]')\n",
    "plt.legend(loc='best')\n",
    "plt.grid()\n",
    "plt.xlabel('Vce [V]'); plt.ylabel('Ib [mA]');\n"
   ]
  },
  {
   "cell_type": "markdown",
   "metadata": {},
   "source": [
    "## Find the large signal $\\beta$\n",
    "I am more then likly going to redo this for per the exsample"
   ]
  },
  {
   "cell_type": "code",
   "execution_count": 61,
   "metadata": {},
   "outputs": [
    {
     "name": "stderr",
     "output_type": "stream",
     "text": [
      "/home/iridium/anaconda3/lib/python3.6/site-packages/numpy/lib/function_base.py:4392: RuntimeWarning: invalid value encountered in multiply\n",
      "  x2 = take(ap, indices_above, axis=axis) * weights_above\n"
     ]
    },
    {
     "data": {
      "text/html": [
       "<div>\n",
       "<style scoped>\n",
       "    .dataframe tbody tr th:only-of-type {\n",
       "        vertical-align: middle;\n",
       "    }\n",
       "\n",
       "    .dataframe tbody tr th {\n",
       "        vertical-align: top;\n",
       "    }\n",
       "\n",
       "    .dataframe thead th {\n",
       "        text-align: right;\n",
       "    }\n",
       "</style>\n",
       "<table border=\"1\" class=\"dataframe\">\n",
       "  <thead>\n",
       "    <tr style=\"text-align: right;\">\n",
       "      <th></th>\n",
       "      <th>Vce[V];0u</th>\n",
       "      <th>BIc[A];0u</th>\n",
       "      <th>Vce[V];10u</th>\n",
       "      <th>BIc[A];10u</th>\n",
       "      <th>Vce[V];20u</th>\n",
       "      <th>BIc[A];20u</th>\n",
       "      <th>Vce[V];30u</th>\n",
       "      <th>BIc[A];30u</th>\n",
       "      <th>Vce[V];40u</th>\n",
       "      <th>BIc[A];40u</th>\n",
       "      <th>Vce[V];50u</th>\n",
       "      <th>BIc[A];50u</th>\n",
       "      <th>Vce[V];60u</th>\n",
       "      <th>BIc[A];60u</th>\n",
       "      <th>Vce[V];70u</th>\n",
       "      <th>BIc[A];70u</th>\n",
       "      <th>Vce[V];80u</th>\n",
       "      <th>BIc[A];80u</th>\n",
       "      <th>Vce[V];90u</th>\n",
       "      <th>BIc[A];90u</th>\n",
       "    </tr>\n",
       "  </thead>\n",
       "  <tbody>\n",
       "    <tr>\n",
       "      <th>count</th>\n",
       "      <td>501.000000</td>\n",
       "      <td>501.000000</td>\n",
       "      <td>501.000000</td>\n",
       "      <td>501.000000</td>\n",
       "      <td>501.000000</td>\n",
       "      <td>501.000000</td>\n",
       "      <td>501.000000</td>\n",
       "      <td>501.000000</td>\n",
       "      <td>501.000000</td>\n",
       "      <td>501.000000</td>\n",
       "      <td>501.000000</td>\n",
       "      <td>501.000000</td>\n",
       "      <td>501.000000</td>\n",
       "      <td>501.000000</td>\n",
       "      <td>501.000000</td>\n",
       "      <td>501.000000</td>\n",
       "      <td>501.000000</td>\n",
       "      <td>501.000000</td>\n",
       "      <td>501.000000</td>\n",
       "      <td>501.000000</td>\n",
       "    </tr>\n",
       "    <tr>\n",
       "      <th>mean</th>\n",
       "      <td>2.500000</td>\n",
       "      <td>NaN</td>\n",
       "      <td>2.500000</td>\n",
       "      <td>115.289449</td>\n",
       "      <td>2.500000</td>\n",
       "      <td>157.688392</td>\n",
       "      <td>2.500000</td>\n",
       "      <td>178.499382</td>\n",
       "      <td>2.500000</td>\n",
       "      <td>189.174665</td>\n",
       "      <td>2.500000</td>\n",
       "      <td>194.553463</td>\n",
       "      <td>2.500000</td>\n",
       "      <td>196.964581</td>\n",
       "      <td>2.500000</td>\n",
       "      <td>197.629426</td>\n",
       "      <td>2.500000</td>\n",
       "      <td>197.231858</td>\n",
       "      <td>2.500000</td>\n",
       "      <td>196.174807</td>\n",
       "    </tr>\n",
       "    <tr>\n",
       "      <th>std</th>\n",
       "      <td>1.447705</td>\n",
       "      <td>NaN</td>\n",
       "      <td>1.447705</td>\n",
       "      <td>16.393461</td>\n",
       "      <td>1.447705</td>\n",
       "      <td>22.901602</td>\n",
       "      <td>1.447705</td>\n",
       "      <td>26.210204</td>\n",
       "      <td>1.447705</td>\n",
       "      <td>27.974974</td>\n",
       "      <td>1.447705</td>\n",
       "      <td>28.919825</td>\n",
       "      <td>1.447705</td>\n",
       "      <td>29.398844</td>\n",
       "      <td>1.447705</td>\n",
       "      <td>29.599704</td>\n",
       "      <td>1.447705</td>\n",
       "      <td>29.628387</td>\n",
       "      <td>1.447705</td>\n",
       "      <td>29.547855</td>\n",
       "    </tr>\n",
       "    <tr>\n",
       "      <th>min</th>\n",
       "      <td>0.000000</td>\n",
       "      <td>-inf</td>\n",
       "      <td>0.000000</td>\n",
       "      <td>-16.761743</td>\n",
       "      <td>0.000000</td>\n",
       "      <td>-18.493571</td>\n",
       "      <td>0.000000</td>\n",
       "      <td>-19.246853</td>\n",
       "      <td>0.000000</td>\n",
       "      <td>-19.639589</td>\n",
       "      <td>0.000000</td>\n",
       "      <td>-19.851713</td>\n",
       "      <td>0.000000</td>\n",
       "      <td>-19.958762</td>\n",
       "      <td>0.000000</td>\n",
       "      <td>-19.999230</td>\n",
       "      <td>0.000000</td>\n",
       "      <td>-19.994969</td>\n",
       "      <td>0.000000</td>\n",
       "      <td>-19.959498</td>\n",
       "    </tr>\n",
       "    <tr>\n",
       "      <th>25%</th>\n",
       "      <td>1.250000</td>\n",
       "      <td>NaN</td>\n",
       "      <td>1.250000</td>\n",
       "      <td>108.834152</td>\n",
       "      <td>1.250000</td>\n",
       "      <td>148.970939</td>\n",
       "      <td>1.250000</td>\n",
       "      <td>168.694914</td>\n",
       "      <td>1.250000</td>\n",
       "      <td>178.826525</td>\n",
       "      <td>1.250000</td>\n",
       "      <td>183.943201</td>\n",
       "      <td>1.250000</td>\n",
       "      <td>186.248824</td>\n",
       "      <td>1.250000</td>\n",
       "      <td>186.899608</td>\n",
       "      <td>1.250000</td>\n",
       "      <td>186.543053</td>\n",
       "      <td>1.250000</td>\n",
       "      <td>185.560750</td>\n",
       "    </tr>\n",
       "    <tr>\n",
       "      <th>50%</th>\n",
       "      <td>2.500000</td>\n",
       "      <td>NaN</td>\n",
       "      <td>2.500000</td>\n",
       "      <td>116.937769</td>\n",
       "      <td>2.500000</td>\n",
       "      <td>160.092070</td>\n",
       "      <td>2.500000</td>\n",
       "      <td>181.307117</td>\n",
       "      <td>2.500000</td>\n",
       "      <td>192.209888</td>\n",
       "      <td>2.500000</td>\n",
       "      <td>197.720223</td>\n",
       "      <td>2.500000</td>\n",
       "      <td>200.207277</td>\n",
       "      <td>2.500000</td>\n",
       "      <td>200.914160</td>\n",
       "      <td>2.500000</td>\n",
       "      <td>200.537135</td>\n",
       "      <td>2.500000</td>\n",
       "      <td>199.486588</td>\n",
       "    </tr>\n",
       "    <tr>\n",
       "      <th>75%</th>\n",
       "      <td>3.750000</td>\n",
       "      <td>NaN</td>\n",
       "      <td>3.750000</td>\n",
       "      <td>125.041387</td>\n",
       "      <td>3.750000</td>\n",
       "      <td>171.213202</td>\n",
       "      <td>3.750000</td>\n",
       "      <td>193.919320</td>\n",
       "      <td>3.750000</td>\n",
       "      <td>205.593252</td>\n",
       "      <td>3.750000</td>\n",
       "      <td>211.497245</td>\n",
       "      <td>3.750000</td>\n",
       "      <td>214.165730</td>\n",
       "      <td>3.750000</td>\n",
       "      <td>214.928712</td>\n",
       "      <td>3.750000</td>\n",
       "      <td>214.531218</td>\n",
       "      <td>3.750000</td>\n",
       "      <td>213.412427</td>\n",
       "    </tr>\n",
       "    <tr>\n",
       "      <th>max</th>\n",
       "      <td>5.000000</td>\n",
       "      <td>inf</td>\n",
       "      <td>5.000000</td>\n",
       "      <td>133.145008</td>\n",
       "      <td>5.000000</td>\n",
       "      <td>182.334336</td>\n",
       "      <td>5.000000</td>\n",
       "      <td>206.531524</td>\n",
       "      <td>5.000000</td>\n",
       "      <td>218.976617</td>\n",
       "      <td>5.000000</td>\n",
       "      <td>225.274267</td>\n",
       "      <td>5.000000</td>\n",
       "      <td>228.124183</td>\n",
       "      <td>5.000000</td>\n",
       "      <td>228.943265</td>\n",
       "      <td>5.000000</td>\n",
       "      <td>228.525301</td>\n",
       "      <td>5.000000</td>\n",
       "      <td>227.338265</td>\n",
       "    </tr>\n",
       "  </tbody>\n",
       "</table>\n",
       "</div>"
      ],
      "text/plain": [
       "        Vce[V];0u   BIc[A];0u  Vce[V];10u  BIc[A];10u  Vce[V];20u  BIc[A];20u  \\\n",
       "count  501.000000  501.000000  501.000000  501.000000  501.000000  501.000000   \n",
       "mean     2.500000         NaN    2.500000  115.289449    2.500000  157.688392   \n",
       "std      1.447705         NaN    1.447705   16.393461    1.447705   22.901602   \n",
       "min      0.000000        -inf    0.000000  -16.761743    0.000000  -18.493571   \n",
       "25%      1.250000         NaN    1.250000  108.834152    1.250000  148.970939   \n",
       "50%      2.500000         NaN    2.500000  116.937769    2.500000  160.092070   \n",
       "75%      3.750000         NaN    3.750000  125.041387    3.750000  171.213202   \n",
       "max      5.000000         inf    5.000000  133.145008    5.000000  182.334336   \n",
       "\n",
       "       Vce[V];30u  BIc[A];30u  Vce[V];40u  BIc[A];40u  Vce[V];50u  BIc[A];50u  \\\n",
       "count  501.000000  501.000000  501.000000  501.000000  501.000000  501.000000   \n",
       "mean     2.500000  178.499382    2.500000  189.174665    2.500000  194.553463   \n",
       "std      1.447705   26.210204    1.447705   27.974974    1.447705   28.919825   \n",
       "min      0.000000  -19.246853    0.000000  -19.639589    0.000000  -19.851713   \n",
       "25%      1.250000  168.694914    1.250000  178.826525    1.250000  183.943201   \n",
       "50%      2.500000  181.307117    2.500000  192.209888    2.500000  197.720223   \n",
       "75%      3.750000  193.919320    3.750000  205.593252    3.750000  211.497245   \n",
       "max      5.000000  206.531524    5.000000  218.976617    5.000000  225.274267   \n",
       "\n",
       "       Vce[V];60u  BIc[A];60u  Vce[V];70u  BIc[A];70u  Vce[V];80u  BIc[A];80u  \\\n",
       "count  501.000000  501.000000  501.000000  501.000000  501.000000  501.000000   \n",
       "mean     2.500000  196.964581    2.500000  197.629426    2.500000  197.231858   \n",
       "std      1.447705   29.398844    1.447705   29.599704    1.447705   29.628387   \n",
       "min      0.000000  -19.958762    0.000000  -19.999230    0.000000  -19.994969   \n",
       "25%      1.250000  186.248824    1.250000  186.899608    1.250000  186.543053   \n",
       "50%      2.500000  200.207277    2.500000  200.914160    2.500000  200.537135   \n",
       "75%      3.750000  214.165730    3.750000  214.928712    3.750000  214.531218   \n",
       "max      5.000000  228.124183    5.000000  228.943265    5.000000  228.525301   \n",
       "\n",
       "       Vce[V];90u  BIc[A];90u  \n",
       "count  501.000000  501.000000  \n",
       "mean     2.500000  196.174807  \n",
       "std      1.447705   29.547855  \n",
       "min      0.000000  -19.959498  \n",
       "25%      1.250000  185.560750  \n",
       "50%      2.500000  199.486588  \n",
       "75%      3.750000  213.412427  \n",
       "max      5.000000  227.338265  "
      ]
     },
     "execution_count": 61,
     "metadata": {},
     "output_type": "execute_result"
    }
   ],
   "source": [
    "BetaLData=pd.DataFrame()\n",
    "xs=OutputData.columns[0::2]\n",
    "ys=OutputData.columns[1::2]\n",
    "for x, y in zip(xs, ys):\n",
    "    BetaLData[x]=OutputData[x]\n",
    "    BetaLData[f'B{y}']=OutputData[y]/(float(y[6:-1])*1e-6)\n",
    "BetaLData.describe()\n"
   ]
  },
  {
   "cell_type": "code",
   "execution_count": 62,
   "metadata": {},
   "outputs": [
    {
     "data": {
      "image/png": "[encoded data removed]",
      "text/latex": [
       "$$\\left ( 162.320602212, \\quad 24.057485573\\right )$$"
      ],
      "text/plain": [
       "(162.320602212, 24.057485573)"
      ]
     },
     "execution_count": 62,
     "metadata": {},
     "output_type": "execute_result"
    }
   ],
   "source": [
    "ys=BetaLData.columns[1::2]\n",
    "BetaLMean=np.nan_to_num(np.array(BetaLData[list(ys)].mean())).mean()\n",
    "BetaLStd=np.nan_to_num(np.array(BetaLData[list(ys)].std())).mean()\n",
    "BetaLMean, BetaLStd"
   ]
  },
  {
   "cell_type": "code",
   "execution_count": 63,
   "metadata": {},
   "outputs": [
    {
     "data": {
      "image/png": "[encoded data removed]",
      "text/plain": [
       "<matplotlib.figure.Figure at 0x7f3cdd4ebba8>"
      ]
     },
     "metadata": {},
     "output_type": "display_data"
    }
   ],
   "source": [
    "xs=BetaLData.columns[0::2]\n",
    "ys=BetaLData.columns[1::2]\n",
    "for x, y in zip(xs, ys):\n",
    "    plt.plot(BetaLData[x], BetaLData[y], label=f'Ib={x[7:]}[A]')\n",
    "plt.axhline(y=BetaLMean, linestyle='--', color='k', \n",
    "            label=r'$\\beta_\\mu=$'+f'{BetaLMean}')\n",
    "\n",
    "plt.legend(loc='best')\n",
    "plt.grid()\n",
    "plt.xlabel('Vce [V]'); plt.ylabel('Beta');"
   ]
  },
  {
   "cell_type": "markdown",
   "metadata": {},
   "source": [
    "## Early resistince\n",
    "output resistince\n",
    "    $$r_{ce}=\\dfrac{\\partial I_c}{\\partial V_{ce}}^{-1}$$"
   ]
  },
  {
   "cell_type": "code",
   "execution_count": 64,
   "metadata": {},
   "outputs": [
    {
     "data": {
      "text/html": [
       "<div>\n",
       "<style scoped>\n",
       "    .dataframe tbody tr th:only-of-type {\n",
       "        vertical-align: middle;\n",
       "    }\n",
       "\n",
       "    .dataframe tbody tr th {\n",
       "        vertical-align: top;\n",
       "    }\n",
       "\n",
       "    .dataframe thead th {\n",
       "        text-align: right;\n",
       "    }\n",
       "</style>\n",
       "<table border=\"1\" class=\"dataframe\">\n",
       "  <thead>\n",
       "    <tr style=\"text-align: right;\">\n",
       "      <th></th>\n",
       "      <th>Vce[V];0u</th>\n",
       "      <th>gceIc[A];0u</th>\n",
       "      <th>Vce[V];10u</th>\n",
       "      <th>gceIc[A];10u</th>\n",
       "      <th>Vce[V];20u</th>\n",
       "      <th>gceIc[A];20u</th>\n",
       "      <th>Vce[V];30u</th>\n",
       "      <th>gceIc[A];30u</th>\n",
       "      <th>Vce[V];40u</th>\n",
       "      <th>gceIc[A];40u</th>\n",
       "      <th>Vce[V];50u</th>\n",
       "      <th>gceIc[A];50u</th>\n",
       "      <th>Vce[V];60u</th>\n",
       "      <th>gceIc[A];60u</th>\n",
       "      <th>Vce[V];70u</th>\n",
       "      <th>gceIc[A];70u</th>\n",
       "      <th>Vce[V];80u</th>\n",
       "      <th>gceIc[A];80u</th>\n",
       "      <th>Vce[V];90u</th>\n",
       "      <th>gceIc[A];90u</th>\n",
       "    </tr>\n",
       "  </thead>\n",
       "  <tbody>\n",
       "    <tr>\n",
       "      <th>count</th>\n",
       "      <td>501.000000</td>\n",
       "      <td>5.010000e+02</td>\n",
       "      <td>501.000000</td>\n",
       "      <td>501.000000</td>\n",
       "      <td>501.000000</td>\n",
       "      <td>501.000000</td>\n",
       "      <td>501.000000</td>\n",
       "      <td>501.000000</td>\n",
       "      <td>501.000000</td>\n",
       "      <td>501.000000</td>\n",
       "      <td>501.000000</td>\n",
       "      <td>501.000000</td>\n",
       "      <td>501.000000</td>\n",
       "      <td>501.000000</td>\n",
       "      <td>501.000000</td>\n",
       "      <td>501.000000</td>\n",
       "      <td>501.000000</td>\n",
       "      <td>501.000000</td>\n",
       "      <td>501.000000</td>\n",
       "      <td>501.000000</td>\n",
       "    </tr>\n",
       "    <tr>\n",
       "      <th>mean</th>\n",
       "      <td>2.500000</td>\n",
       "      <td>4.500095e+11</td>\n",
       "      <td>2.500000</td>\n",
       "      <td>14671.731567</td>\n",
       "      <td>2.500000</td>\n",
       "      <td>5337.331466</td>\n",
       "      <td>2.500000</td>\n",
       "      <td>3135.050615</td>\n",
       "      <td>2.500000</td>\n",
       "      <td>2214.602327</td>\n",
       "      <td>2.500000</td>\n",
       "      <td>1720.334463</td>\n",
       "      <td>2.500000</td>\n",
       "      <td>1414.481547</td>\n",
       "      <td>2.500000</td>\n",
       "      <td>1207.190463</td>\n",
       "      <td>2.500000</td>\n",
       "      <td>1057.547223</td>\n",
       "      <td>2.500000</td>\n",
       "      <td>944.412765</td>\n",
       "    </tr>\n",
       "    <tr>\n",
       "      <th>std</th>\n",
       "      <td>1.447705</td>\n",
       "      <td>1.199249e+11</td>\n",
       "      <td>1.447705</td>\n",
       "      <td>3110.015725</td>\n",
       "      <td>1.447705</td>\n",
       "      <td>1151.842827</td>\n",
       "      <td>1.447705</td>\n",
       "      <td>682.710971</td>\n",
       "      <td>1.447705</td>\n",
       "      <td>485.166878</td>\n",
       "      <td>1.447705</td>\n",
       "      <td>378.609624</td>\n",
       "      <td>1.447705</td>\n",
       "      <td>312.469997</td>\n",
       "      <td>1.447705</td>\n",
       "      <td>267.543044</td>\n",
       "      <td>1.447705</td>\n",
       "      <td>235.053404</td>\n",
       "      <td>1.447705</td>\n",
       "      <td>210.455284</td>\n",
       "    </tr>\n",
       "    <tr>\n",
       "      <th>min</th>\n",
       "      <td>0.000000</td>\n",
       "      <td>1.457395e+10</td>\n",
       "      <td>0.000000</td>\n",
       "      <td>87.763945</td>\n",
       "      <td>0.000000</td>\n",
       "      <td>34.625418</td>\n",
       "      <td>0.000000</td>\n",
       "      <td>21.156423</td>\n",
       "      <td>0.000000</td>\n",
       "      <td>15.254734</td>\n",
       "      <td>0.000000</td>\n",
       "      <td>12.064658</td>\n",
       "      <td>0.000000</td>\n",
       "      <td>10.079038</td>\n",
       "      <td>0.000000</td>\n",
       "      <td>8.726422</td>\n",
       "      <td>0.000000</td>\n",
       "      <td>7.745595</td>\n",
       "      <td>0.000000</td>\n",
       "      <td>7.001097</td>\n",
       "    </tr>\n",
       "    <tr>\n",
       "      <th>25%</th>\n",
       "      <td>1.250000</td>\n",
       "      <td>4.691250e+11</td>\n",
       "      <td>1.250000</td>\n",
       "      <td>15425.197979</td>\n",
       "      <td>1.250000</td>\n",
       "      <td>5619.929401</td>\n",
       "      <td>1.250000</td>\n",
       "      <td>3303.677695</td>\n",
       "      <td>1.250000</td>\n",
       "      <td>2334.987954</td>\n",
       "      <td>1.250000</td>\n",
       "      <td>1814.615319</td>\n",
       "      <td>1.250000</td>\n",
       "      <td>1492.524317</td>\n",
       "      <td>1.250000</td>\n",
       "      <td>1274.185533</td>\n",
       "      <td>1.250000</td>\n",
       "      <td>1116.543206</td>\n",
       "      <td>1.250000</td>\n",
       "      <td>997.346577</td>\n",
       "    </tr>\n",
       "    <tr>\n",
       "      <th>50%</th>\n",
       "      <td>2.500000</td>\n",
       "      <td>4.895217e+11</td>\n",
       "      <td>2.500000</td>\n",
       "      <td>15425.205058</td>\n",
       "      <td>2.500000</td>\n",
       "      <td>5619.930818</td>\n",
       "      <td>2.500000</td>\n",
       "      <td>3303.678477</td>\n",
       "      <td>2.500000</td>\n",
       "      <td>2334.988363</td>\n",
       "      <td>2.500000</td>\n",
       "      <td>1814.615644</td>\n",
       "      <td>2.500000</td>\n",
       "      <td>1492.524506</td>\n",
       "      <td>2.500000</td>\n",
       "      <td>1274.185718</td>\n",
       "      <td>2.500000</td>\n",
       "      <td>1116.543340</td>\n",
       "      <td>2.500000</td>\n",
       "      <td>997.346678</td>\n",
       "    </tr>\n",
       "    <tr>\n",
       "      <th>75%</th>\n",
       "      <td>3.750000</td>\n",
       "      <td>5.004000e+11</td>\n",
       "      <td>3.750000</td>\n",
       "      <td>15425.210484</td>\n",
       "      <td>3.750000</td>\n",
       "      <td>5619.931622</td>\n",
       "      <td>3.750000</td>\n",
       "      <td>3303.678793</td>\n",
       "      <td>3.750000</td>\n",
       "      <td>2334.988509</td>\n",
       "      <td>3.750000</td>\n",
       "      <td>1814.615729</td>\n",
       "      <td>3.750000</td>\n",
       "      <td>1492.524564</td>\n",
       "      <td>3.750000</td>\n",
       "      <td>1274.185762</td>\n",
       "      <td>3.750000</td>\n",
       "      <td>1116.543370</td>\n",
       "      <td>3.750000</td>\n",
       "      <td>997.346701</td>\n",
       "    </tr>\n",
       "    <tr>\n",
       "      <th>max</th>\n",
       "      <td>5.000000</td>\n",
       "      <td>5.629500e+11</td>\n",
       "      <td>5.000000</td>\n",
       "      <td>15425.216618</td>\n",
       "      <td>5.000000</td>\n",
       "      <td>5619.932556</td>\n",
       "      <td>5.000000</td>\n",
       "      <td>3303.679159</td>\n",
       "      <td>5.000000</td>\n",
       "      <td>2334.988713</td>\n",
       "      <td>5.000000</td>\n",
       "      <td>1814.615835</td>\n",
       "      <td>5.000000</td>\n",
       "      <td>1492.524637</td>\n",
       "      <td>5.000000</td>\n",
       "      <td>1274.185813</td>\n",
       "      <td>5.000000</td>\n",
       "      <td>1116.543400</td>\n",
       "      <td>5.000000</td>\n",
       "      <td>997.346726</td>\n",
       "    </tr>\n",
       "  </tbody>\n",
       "</table>\n",
       "</div>"
      ],
      "text/plain": [
       "        Vce[V];0u   gceIc[A];0u  Vce[V];10u  gceIc[A];10u  Vce[V];20u  \\\n",
       "count  501.000000  5.010000e+02  501.000000    501.000000  501.000000   \n",
       "mean     2.500000  4.500095e+11    2.500000  14671.731567    2.500000   \n",
       "std      1.447705  1.199249e+11    1.447705   3110.015725    1.447705   \n",
       "min      0.000000  1.457395e+10    0.000000     87.763945    0.000000   \n",
       "25%      1.250000  4.691250e+11    1.250000  15425.197979    1.250000   \n",
       "50%      2.500000  4.895217e+11    2.500000  15425.205058    2.500000   \n",
       "75%      3.750000  5.004000e+11    3.750000  15425.210484    3.750000   \n",
       "max      5.000000  5.629500e+11    5.000000  15425.216618    5.000000   \n",
       "\n",
       "       gceIc[A];20u  Vce[V];30u  gceIc[A];30u  Vce[V];40u  gceIc[A];40u  \\\n",
       "count    501.000000  501.000000    501.000000  501.000000    501.000000   \n",
       "mean    5337.331466    2.500000   3135.050615    2.500000   2214.602327   \n",
       "std     1151.842827    1.447705    682.710971    1.447705    485.166878   \n",
       "min       34.625418    0.000000     21.156423    0.000000     15.254734   \n",
       "25%     5619.929401    1.250000   3303.677695    1.250000   2334.987954   \n",
       "50%     5619.930818    2.500000   3303.678477    2.500000   2334.988363   \n",
       "75%     5619.931622    3.750000   3303.678793    3.750000   2334.988509   \n",
       "max     5619.932556    5.000000   3303.679159    5.000000   2334.988713   \n",
       "\n",
       "       Vce[V];50u  gceIc[A];50u  Vce[V];60u  gceIc[A];60u  Vce[V];70u  \\\n",
       "count  501.000000    501.000000  501.000000    501.000000  501.000000   \n",
       "mean     2.500000   1720.334463    2.500000   1414.481547    2.500000   \n",
       "std      1.447705    378.609624    1.447705    312.469997    1.447705   \n",
       "min      0.000000     12.064658    0.000000     10.079038    0.000000   \n",
       "25%      1.250000   1814.615319    1.250000   1492.524317    1.250000   \n",
       "50%      2.500000   1814.615644    2.500000   1492.524506    2.500000   \n",
       "75%      3.750000   1814.615729    3.750000   1492.524564    3.750000   \n",
       "max      5.000000   1814.615835    5.000000   1492.524637    5.000000   \n",
       "\n",
       "       gceIc[A];70u  Vce[V];80u  gceIc[A];80u  Vce[V];90u  gceIc[A];90u  \n",
       "count    501.000000  501.000000    501.000000  501.000000    501.000000  \n",
       "mean    1207.190463    2.500000   1057.547223    2.500000    944.412765  \n",
       "std      267.543044    1.447705    235.053404    1.447705    210.455284  \n",
       "min        8.726422    0.000000      7.745595    0.000000      7.001097  \n",
       "25%     1274.185533    1.250000   1116.543206    1.250000    997.346577  \n",
       "50%     1274.185718    2.500000   1116.543340    2.500000    997.346678  \n",
       "75%     1274.185762    3.750000   1116.543370    3.750000    997.346701  \n",
       "max     1274.185813    5.000000   1116.543400    5.000000    997.346726  "
      ]
     },
     "execution_count": 64,
     "metadata": {},
     "output_type": "execute_result"
    }
   ],
   "source": [
    "rceData=pd.DataFrame()\n",
    "xs=OutputData.columns[0::2]\n",
    "ys=OutputData.columns[1::2]\n",
    "for x, y in zip(xs, ys):\n",
    "    rceData[x]=OutputData[x]\n",
    "    rceData[f'gce{y}']=1/np.gradient(OutputData[y], OutputData[x])\n",
    "rceData.describe()"
   ]
  },
  {
   "cell_type": "code",
   "execution_count": 65,
   "metadata": {},
   "outputs": [
    {
     "data": {
      "image/png": "[encoded data removed]",
      "text/plain": [
       "<matplotlib.figure.Figure at 0x7f3cdd4642b0>"
      ]
     },
     "metadata": {},
     "output_type": "display_data"
    }
   ],
   "source": [
    "xs=rceData.columns[0::2]\n",
    "ys=rceData.columns[1::2]\n",
    "plt.title('r_ce vs Vce')\n",
    "for x, y in zip(xs, ys):\n",
    "    if x==xs[0]:\n",
    "        continue\n",
    "    plt.plot(rceData[x], rceData[y]/1000, label=f'Ib={x[7:]}[A]')\n",
    "\n",
    "plt.legend(loc='best')\n",
    "plt.grid()\n",
    "plt.xlabel('Vce [V]'); plt.ylabel(r'$r_{ce}[k\\Omega]$');"
   ]
  },
  {
   "cell_type": "code",
   "execution_count": 66,
   "metadata": {},
   "outputs": [
    {
     "data": {
      "text/plain": [
       "(OrderedDict([('Vce[V];0u', 3.5499999999999683),\n",
       "              ('Vce[V];10u', 0.24000000000000007),\n",
       "              ('Vce[V];20u', 0.25000000000000006),\n",
       "              ('Vce[V];30u', 0.25000000000000006),\n",
       "              ('Vce[V];40u', 0.25000000000000006),\n",
       "              ('Vce[V];50u', 0.26000000000000006),\n",
       "              ('Vce[V];60u', 0.26000000000000006),\n",
       "              ('Vce[V];70u', 0.26000000000000006),\n",
       "              ('Vce[V];80u', 0.26000000000000006),\n",
       "              ('Vce[V];90u', 0.26000000000000006)]),\n",
       " OrderedDict([('Ic[A];0u', 1.7438495092392259e-11),\n",
       "              ('Ic[A];10u', 0.0010210539240195216),\n",
       "              ('Ic[A];20u', 0.002796971205107246),\n",
       "              ('Ic[A];30u', 0.0047493664336660801),\n",
       "              ('Ic[A];40u', 0.0067111326575767238),\n",
       "              ('Ic[A];50u', 0.00863836307729271),\n",
       "              ('Ic[A];60u', 0.010494534760910224),\n",
       "              ('Ic[A];70u', 0.012284895240498694),\n",
       "              ('Ic[A];80u', 0.014011509762627217),\n",
       "              ('Ic[A];90u', 0.015678281968446561)]))"
      ]
     },
     "execution_count": 66,
     "metadata": {},
     "output_type": "execute_result"
    }
   ],
   "source": [
    "SatLoc=OrderedDict()\n",
    "xs=rceData.columns[0::2]\n",
    "ys=rceData.columns[1::2]\n",
    "\n",
    "for x, y in zip(xs, ys):\n",
    "    X=rceData[x]\n",
    "    Y=np.gradient(rceData[y], X)\n",
    "    idx=np.where(Y==Y.max())[0][0]\n",
    "    SatLoc[x]=idx\n",
    "\n",
    "SatLoc\n",
    "SatVVals=OrderedDict()\n",
    "SatIVals=OrderedDict()\n",
    "K=list(SatLoc.keys())\n",
    "\n",
    "ys=OutputData.columns[1::2]\n",
    "\n",
    "for i in range(len(K)):\n",
    "    SatVVals[K[i]]=OutputData[K[i]][SatLoc[K[i]]]\n",
    "    SatIVals[ys[i]]=OutputData[ys[i]][SatLoc[K[i]]]\n",
    "\n",
    "SatVVals, SatIVals"
   ]
  },
  {
   "cell_type": "code",
   "execution_count": 67,
   "metadata": {
    "scrolled": true
   },
   "outputs": [],
   "source": [
    "SatCurve=SciInterPol.interp1d(list(SatVVals.values()), list(SatIVals.values()), \n",
    "                             bounds_error=False, fill_value='extrapolate')"
   ]
  },
  {
   "cell_type": "code",
   "execution_count": 68,
   "metadata": {},
   "outputs": [
    {
     "data": {
      "image/png": "[encoded data removed]",
      "text/plain": [
       "<matplotlib.figure.Figure at 0x7f3cdd2f6b38>"
      ]
     },
     "metadata": {},
     "output_type": "display_data"
    }
   ],
   "source": [
    "plt.title('$V_{ce}$ vs. $I_c$')\n",
    "\n",
    "xs=OutputData.columns[0::2]\n",
    "ys=OutputData.columns[1::2]\n",
    "SatCurveVals=SatCurve(OutputData[xs[0]])\n",
    "SatCurveM=SatCurveVals.max(); SatCurveM\n",
    "SatCurveU=np.where(SatCurveVals==SatCurveM.max())[0][0]\n",
    "SatCurveM, SatCurveU\n",
    "SatCurveB=np.where(SatCurveVals>=0)[0]\n",
    "SatCurveB=SatCurveB[np.where(SatCurveB<=SatCurveU)[0]]\n",
    "SatCurveB\n",
    "\n",
    "for x, y in zip(xs, ys):\n",
    "    plt.plot(OutputData[x], OutputData[y]*1000, label=f'Ib={y[6:]}[A]')\n",
    "\n",
    "    \n",
    "plt.plot(OutputData[xs[0]][SatCurveB], SatCurve(OutputData[xs[0]][SatCurveB])*1000, 'k--', alpha=0.4, label='SatCurve')\n",
    "\n",
    "plt.legend(loc='best')\n",
    "plt.grid()\n",
    "plt.xlabel('Vce [V]'); plt.ylabel('Ib [mA]');\n"
   ]
  },
  {
   "cell_type": "markdown",
   "metadata": {},
   "source": [
    "## ouput load line"
   ]
  },
  {
   "cell_type": "code",
   "execution_count": 69,
   "metadata": {},
   "outputs": [
    {
     "data": {
      "image/png": "[encoded data removed]",
      "text/latex": [
       "$$\\left ( -0.001, \\quad 0.005\\right )$$"
      ],
      "text/plain": [
       "(-0.001, 0.005)"
      ]
     },
     "execution_count": 69,
     "metadata": {},
     "output_type": "execute_result"
    }
   ],
   "source": [
    "m, b, L2Line=LoadLine(5, Rc)\n",
    "m, b"
   ]
  },
  {
   "cell_type": "code",
   "execution_count": 70,
   "metadata": {},
   "outputs": [
    {
     "data": {
      "image/png": "[encoded data removed]",
      "text/plain": [
       "<matplotlib.figure.Figure at 0x7f3cdd1d56a0>"
      ]
     },
     "metadata": {},
     "output_type": "display_data"
    }
   ],
   "source": [
    "plt.title('$V_{ce}$ vs. $I_c$')\n",
    "\n",
    "xs=OutputData.columns[0::2]\n",
    "ys=OutputData.columns[1::2]\n",
    "SatCurveVals=SatCurve(OutputData[xs[0]])\n",
    "SatCurveM=SatCurveVals.max(); SatCurveM\n",
    "SatCurveU=np.where(SatCurveVals==SatCurveM.max())[0][0]\n",
    "SatCurveM, SatCurveU\n",
    "SatCurveB=np.where(SatCurveVals>=0)[0]\n",
    "SatCurveB=SatCurveB[np.where(SatCurveB<=SatCurveU)[0]]\n",
    "SatCurveB\n",
    "\n",
    "for x, y in zip(xs, ys):\n",
    "    plt.plot(OutputData[x], OutputData[y]*1000, label=f'Ib={y[6:]}[A]')\n",
    "\n",
    "    \n",
    "plt.plot(OutputData[xs[0]][SatCurveB], SatCurve(OutputData[xs[0]][SatCurveB])*1000, 'k--', alpha=0.4, label='SatCurve')\n",
    "plt.plot(OutputData[xs[0]], L2Line(OutputData[xs[0]])*1000)\n",
    "\n",
    "plt.legend(loc='best')\n",
    "plt.grid()\n",
    "plt.xlabel('Vce [V]'); plt.ylabel('Ib [mA]');\n"
   ]
  },
  {
   "cell_type": "code",
   "execution_count": 71,
   "metadata": {},
   "outputs": [],
   "source": [
    "xs=OutputData.columns[0::2]\n",
    "ys=OutputData.columns[1::2]\n",
    "\n",
    "OutputFits=OrderedDict()\n",
    "for x, y in zip(xs, ys):\n",
    "    OutputFits[y]=SciInterPol.interp1d(OutputData[x], OutputData[y], \n",
    "                                      bounds_error=False, fill_value='extrapolate')"
   ]
  },
  {
   "cell_type": "code",
   "execution_count": 72,
   "metadata": {},
   "outputs": [
    {
     "name": "stdout",
     "output_type": "stream",
     "text": [
      "[ 4.99999998]\n",
      "[ 3.74961133]\n",
      "[ 1.90417803]\n",
      "[ 0.25040481]\n",
      "[ 0.10650807]\n",
      "[ 0.08821715]\n",
      "[ 0.0784775]\n",
      "[ 0.07207251]\n",
      "[ 0.06738974]\n",
      "[ 0.06379687]\n"
     ]
    },
    {
     "name": "stderr",
     "output_type": "stream",
     "text": [
      "/home/iridium/anaconda3/lib/python3.6/site-packages/scipy/optimize/minpack.py:161: RuntimeWarning: The iteration is not making good progress, as measured by the \n",
      "  improvement from the last ten iterations.\n",
      "  warnings.warn(msg, RuntimeWarning)\n"
     ]
    },
    {
     "data": {
      "text/plain": [
       "(array([ 4.99999998,  3.74961133,  1.90417803,  0.25040481,  0.10650807,\n",
       "         0.08821715,  0.0784775 ,  0.07207251,  0.06738974,  0.06379687]),\n",
       " array([  2.03765893e-11,   1.25038867e-03,   3.09582197e-03,\n",
       "          4.74959519e-03,   4.89349193e-03,   4.91178285e-03,\n",
       "          4.92152250e-03,   4.92792749e-03,   4.93261026e-03,\n",
       "          4.93620313e-03]))"
      ]
     },
     "execution_count": 72,
     "metadata": {},
     "output_type": "execute_result"
    }
   ],
   "source": [
    "LoadLineInterSectionsX2=[]\n",
    "LoadLineInterSectionsY2=[]\n",
    "x=np.linspace(0.0, OutputData[xs[0]].max(), OutputData[xs[0]].count())\n",
    "K=list(OutputFits.keys()); K\n",
    "for i in K:\n",
    "    X=findIntersection(OutputFits[i] ,L2Line , 0.6)\n",
    "    print(X)\n",
    "    LoadLineInterSectionsX2.append(X[0])\n",
    "    LoadLineInterSectionsY2.append(OutputFits[i](LoadLineInterSectionsX2[-1]))\n",
    "\n",
    "LoadLineInterSectionsX2=np.array(LoadLineInterSectionsX2)\n",
    "LoadLineInterSectionsY2=np.array(LoadLineInterSectionsY2)\n",
    "LoadLineInterSectionsX2, LoadLineInterSectionsY2"
   ]
  },
  {
   "cell_type": "code",
   "execution_count": 83,
   "metadata": {},
   "outputs": [
    {
     "data": {
      "image/png": "[encoded data removed]",
      "text/plain": [
       "<matplotlib.figure.Figure at 0x7f3cdcdd4a20>"
      ]
     },
     "metadata": {},
     "output_type": "display_data"
    }
   ],
   "source": [
    "#! Need to move the lagend to the right of the graph\n",
    "plt.title('$V_{be}$ vs. $I_b$')\n",
    "\n",
    "xs=OutputData.columns[0::2]\n",
    "ys=OutputData.columns[1::2]\n",
    "for x, y in zip(xs, ys):\n",
    "    plt.plot(OutputData[x], OutputData[y]*1000, label=f'Vce={y[6:]}[V]')\n",
    "plt.axvline(x=ThershholdVoltageMean, linestyle='--', color='k', \n",
    "            label=f'Vth={ThershholdVoltageMean}+-{ThershholdVoltageStdDev}[V]')\n",
    "\n",
    "xN=np.linspace(0.0, OutputData[xs[0]].max(), OutputData[xs[0]].count())\n",
    "plt.plot(xN, L1Line(xN)*1000, label='LLine')\n",
    "plt.plot(LoadLineInterSectionsX, LoadLineInterSectionsY*1000, '*', \n",
    "         label='InterSections')\n",
    "plt.legend(loc='best')\n",
    "plt.grid()\n",
    "plt.xlabel('Vbe [V]'); plt.ylabel('Ib [mA]');\n",
    "plt.xlim(0.4, 0.9);"
   ]
  },
  {
   "cell_type": "code",
   "execution_count": 84,
   "metadata": {},
   "outputs": [
    {
     "data": {
      "image/png": "[encoded data removed]",
      "text/plain": [
       "<matplotlib.figure.Figure at 0x7f3cdcbb4390>"
      ]
     },
     "metadata": {},
     "output_type": "display_data"
    }
   ],
   "source": [
    "plt.title('$V_{ce}$ vs. $I_c$')\n",
    "\n",
    "xs=OutputData.columns[0::2]\n",
    "ys=OutputData.columns[1::2]\n",
    "SatCurveVals=SatCurve(OutputData[xs[0]])\n",
    "SatCurveM=SatCurveVals.max(); SatCurveM\n",
    "SatCurveU=np.where(SatCurveVals==SatCurveM.max())[0][0]\n",
    "SatCurveM, SatCurveU\n",
    "SatCurveB=np.where(SatCurveVals>=0)[0]\n",
    "SatCurveB=SatCurveB[np.where(SatCurveB<=SatCurveU)[0]]\n",
    "SatCurveB\n",
    "\n",
    "for x, y in zip(xs, ys):\n",
    "    plt.plot(OutputData[x], OutputData[y]*1000, label=f'Ib={y[6:]}[A]')\n",
    "\n",
    "    \n",
    "plt.plot(OutputData[xs[0]][SatCurveB], SatCurve(OutputData[xs[0]][SatCurveB])*1000, 'k--', alpha=0.4, label='SatCurve')\n",
    "plt.plot(OutputData[xs[0]], L2Line(OutputData[xs[0]])*1000)\n",
    "\n",
    "xN=np.linspace(0.0, OutputData[xs[0]].max(), OutputData[xs[0]].count())\n",
    "\n",
    "plt.plot(LoadLineInterSectionsX2, LoadLineInterSectionsY2*1000, '*', \n",
    "         label='InterSections')\n",
    "\n",
    "\n",
    "plt.legend(loc='best')\n",
    "plt.grid()\n",
    "plt.xlabel('Vce [V]'); plt.ylabel('Ib [mA]');\n"
   ]
  },
  {
   "cell_type": "code",
   "execution_count": 85,
   "metadata": {},
   "outputs": [],
   "source": [
    "VTCFit=SciInterPol.interp1d(LoadLineInterSectionsX2, LoadLineInterSectionsY2, \n",
    "                           bounds_error=False, fill_value='extrapolate')\n"
   ]
  },
  {
   "cell_type": "code",
   "execution_count": 86,
   "metadata": {},
   "outputs": [
    {
     "data": {
      "text/plain": [
       "[<matplotlib.lines.Line2D at 0x7f3cdcaae198>]"
      ]
     },
     "execution_count": 86,
     "metadata": {},
     "output_type": "execute_result"
    },
    {
     "data": {
      "image/png": "[encoded data removed]",
      "text/plain": [
       "<matplotlib.figure.Figure at 0x7f3cdcae8358>"
      ]
     },
     "metadata": {},
     "output_type": "display_data"
    }
   ],
   "source": [
    "plt.plot(OutputData[xs[0]], 5-1e3*VTCFit(OutputData[xs[0]]))"
   ]
  },
  {
   "cell_type": "code",
   "execution_count": 87,
   "metadata": {},
   "outputs": [
    {
     "data": {
      "text/plain": [
       "UnitValue(1 kΩ)"
      ]
     },
     "execution_count": 87,
     "metadata": {},
     "output_type": "execute_result"
    }
   ],
   "source": [
    "Rc"
   ]
  },
  {
   "cell_type": "markdown",
   "metadata": {},
   "source": [
    "# Current Transfer Curve (Need to work on)"
   ]
  },
  {
   "cell_type": "code",
   "execution_count": 88,
   "metadata": {},
   "outputs": [
    {
     "name": "stdout",
     "output_type": "stream",
     "text": [
      "\u001b[1;32m2018-01-24 23:52:43,205\u001b[0m - \u001b[1;34mPySpice.Spice.Simulation.NgSpiceSharedCircuitSimulator._run\u001b[0m - \u001b[1;31mDEBUG\u001b[0m - desk\n",
      ".title Transistor\n",
      ".include /home/iridium/string12oil@gmail.com/MyProjects/EEM-Circuits/SpiceLib/2N2222A.lib\n",
      "Ibase 0 base 90.0uA\n",
      "Vcollector collector 0 5\n",
      "Q1 collector base 0 2n2222a \n",
      ".options TEMP = 25°C\n",
      ".options TNOM = 25°C\n",
      ".ic \n",
      ".dc Ibase 0 0.0001 1e-05\n",
      ".end\n",
      "\n",
      "\u001b[1;32m2018-01-24 23:52:43,206\u001b[0m - \u001b[1;34mPySpice.Spice.NgSpice.Shared.NgSpiceShared.exec_command\u001b[0m - \u001b[1;31mDEBUG\u001b[0m - Execute command: destroy all\n",
      "\u001b[1;32m2018-01-24 23:52:43,209\u001b[0m - \u001b[1;34mPySpice.Spice.NgSpice.Shared.NgSpiceShared.run\u001b[0m - \u001b[1;31mDEBUG\u001b[0m - Simulation is done\n",
      "\u001b[1;32m2018-01-24 23:52:43,210\u001b[0m - \u001b[1;34mPySpice.Spice.Simulation.NgSpiceSharedCircuitSimulator._run\u001b[0m - \u001b[1;31mDEBUG\u001b[0m - ['dc1', 'const']\n"
     ]
    }
   ],
   "source": [
    "simulator = circuit.simulator(temperature=25, nominal_temperature=25)\n",
    "analysis = simulator.dc(Ibase=slice(0, 100e-6, 10e-6))"
   ]
  },
  {
   "cell_type": "code",
   "execution_count": 89,
   "metadata": {},
   "outputs": [
    {
     "data": {
      "text/plain": [
       "[<matplotlib.lines.Line2D at 0x7f3cdcabd588>]"
      ]
     },
     "execution_count": 89,
     "metadata": {},
     "output_type": "execute_result"
    },
    {
     "data": {
      "image/png": "[encoded data removed]",
      "text/plain": [
       "<matplotlib.figure.Figure at 0x7f3cdcafe4a8>"
      ]
     },
     "metadata": {},
     "output_type": "display_data"
    }
   ],
   "source": [
    "plt.plot(analysis.sweep*1e6, -analysis.Vcollector*1000, 'o-')\n"
   ]
  },
  {
   "cell_type": "code",
   "execution_count": null,
   "metadata": {},
   "outputs": [],
   "source": []
  }
 ],
 "metadata": {
  "author": "BJT Charteristic Anyslies via PySpice",
  "kernelspec": {
   "display_name": "Python 3",
   "language": "python",
   "name": "python3"
  },
  "language_info": {
   "codemirror_mode": {
    "name": "ipython",
    "version": 3
   },
   "file_extension": ".py",
   "mimetype": "text/x-python",
   "name": "python",
   "nbconvert_exporter": "python",
   "pygments_lexer": "ipython3",
   "version": "3.6.4"
  },
  "latex_envs": {
   "LaTeX_envs_menu_present": true,
   "autocomplete": true,
   "bibliofile": "biblio.bib",
   "cite_by": "apalike",
   "current_citInitial": 1,
   "eqLabelWithNumbers": true,
   "eqNumInitial": 1,
   "hotkeys": {
    "equation": "Ctrl-E",
    "itemize": "Ctrl-I"
   },
   "labels_anchors": false,
   "latex_user_defs": false,
   "report_style_numbering": false,
   "user_envs_cfg": false
  },
  "toc": {
   "nav_menu": {},
   "number_sections": true,
   "sideBar": true,
   "skip_h1_title": false,
   "title_cell": "Table of Contents",
   "title_sidebar": "Contents",
   "toc_cell": false,
   "toc_position": {},
   "toc_section_display": true,
   "toc_window_display": false
  }
 },
 "nbformat": 4,
 "nbformat_minor": 2
}
