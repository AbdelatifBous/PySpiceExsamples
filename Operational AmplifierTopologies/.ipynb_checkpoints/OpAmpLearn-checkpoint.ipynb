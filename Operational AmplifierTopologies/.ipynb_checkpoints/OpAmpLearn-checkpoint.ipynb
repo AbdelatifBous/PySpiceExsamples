{
 "cells": [
  {
   "cell_type": "markdown",
   "metadata": {},
   "source": [
    "\\title{Operatial Amplifier Topology Repository for use with Python}\n",
    "\\author{Steven K Armour}\n",
    "\\maketitle"
   ]
  },
  {
   "cell_type": "markdown",
   "metadata": {
    "toc": true
   },
   "source": [
    "<h1>Table of Contents<span class=\"tocSkip\"></span></h1>\n",
    "<div class=\"toc\"><ul class=\"toc-item\"><li><span><a href=\"#Premise\" data-toc-modified-id=\"Premise-1\"><span class=\"toc-item-num\">1&nbsp;&nbsp;</span>Premise</a></span></li><li><span><a href=\"#Libarys\" data-toc-modified-id=\"Libarys-2\"><span class=\"toc-item-num\">2&nbsp;&nbsp;</span>Libarys</a></span></li><li><span><a href=\"#Setup\" data-toc-modified-id=\"Setup-3\"><span class=\"toc-item-num\">3&nbsp;&nbsp;</span>Setup</a></span></li><li><span><a href=\"#Ideal-OpAmp\" data-toc-modified-id=\"Ideal-OpAmp-4\"><span class=\"toc-item-num\">4&nbsp;&nbsp;</span>Ideal OpAmp</a></span></li><li><span><a href=\"#TestBench\" data-toc-modified-id=\"TestBench-5\"><span class=\"toc-item-num\">5&nbsp;&nbsp;</span>TestBench</a></span></li><li><span><a href=\"#Buffer\" data-toc-modified-id=\"Buffer-6\"><span class=\"toc-item-num\">6&nbsp;&nbsp;</span>Buffer</a></span></li><li><span><a href=\"#Inverting\" data-toc-modified-id=\"Inverting-7\"><span class=\"toc-item-num\">7&nbsp;&nbsp;</span>Inverting</a></span></li><li><span><a href=\"#Noninverting\" data-toc-modified-id=\"Noninverting-8\"><span class=\"toc-item-num\">8&nbsp;&nbsp;</span>Noninverting</a></span></li><li><span><a href=\"#Miller-Capactive-Integrator\" data-toc-modified-id=\"Miller-Capactive-Integrator-9\"><span class=\"toc-item-num\">9&nbsp;&nbsp;</span>Miller Capactive Integrator</a></span></li><li><span><a href=\"#Miller-Inductive-Integrator\" data-toc-modified-id=\"Miller-Inductive-Integrator-10\"><span class=\"toc-item-num\">10&nbsp;&nbsp;</span>Miller Inductive Integrator</a></span></li><li><span><a href=\"#Low-Pass-1Pole\" data-toc-modified-id=\"Low-Pass-1Pole-11\"><span class=\"toc-item-num\">11&nbsp;&nbsp;</span>Low Pass 1Pole</a></span></li><li><span><a href=\"#Miller-Capacitive-Differentiator\" data-toc-modified-id=\"Miller-Capacitive-Differentiator-12\"><span class=\"toc-item-num\">12&nbsp;&nbsp;</span>Miller Capacitive Differentiator</a></span></li><li><span><a href=\"#Miller-Inductive-Differentiator\" data-toc-modified-id=\"Miller-Inductive-Differentiator-13\"><span class=\"toc-item-num\">13&nbsp;&nbsp;</span>Miller Inductive Differentiator</a></span></li><li><span><a href=\"#High-Pass-1Zero\" data-toc-modified-id=\"High-Pass-1Zero-14\"><span class=\"toc-item-num\">14&nbsp;&nbsp;</span>High Pass 1Zero</a></span></li><li><span><a href=\"#AllPass-(Phase)-Filter\" data-toc-modified-id=\"AllPass-(Phase)-Filter-15\"><span class=\"toc-item-num\">15&nbsp;&nbsp;</span>AllPass (Phase) Filter</a></span><ul class=\"toc-item\"><li><span><a href=\"#First-Order-Cap-First\" data-toc-modified-id=\"First-Order-Cap-First-15.1\"><span class=\"toc-item-num\">15.1&nbsp;&nbsp;</span>First Order Cap First</a></span></li><li><span><a href=\"#First-Order-Cap-Second\" data-toc-modified-id=\"First-Order-Cap-Second-15.2\"><span class=\"toc-item-num\">15.2&nbsp;&nbsp;</span>First Order Cap Second</a></span></li></ul></li><li><span><a href=\"#Sallen-Key-Filter\" data-toc-modified-id=\"Sallen-Key-Filter-16\"><span class=\"toc-item-num\">16&nbsp;&nbsp;</span>Sallen-Key Filter</a></span><ul class=\"toc-item\"><li><span><a href=\"#Low-Pass-with-Voltage-Gain\" data-toc-modified-id=\"Low-Pass-with-Voltage-Gain-16.1\"><span class=\"toc-item-num\">16.1&nbsp;&nbsp;</span>Low Pass with Voltage Gain</a></span></li><li><span><a href=\"#Band-Pass-with-Voltage-Gain\" data-toc-modified-id=\"Band-Pass-with-Voltage-Gain-16.2\"><span class=\"toc-item-num\">16.2&nbsp;&nbsp;</span>Band Pass with Voltage Gain</a></span></li><li><span><a href=\"#HIgh-Pass-with-Voltage-Gain\" data-toc-modified-id=\"HIgh-Pass-with-Voltage-Gain-16.3\"><span class=\"toc-item-num\">16.3&nbsp;&nbsp;</span>HIgh Pass with Voltage Gain</a></span></li></ul></li></ul></div>"
   ]
  },
  {
   "cell_type": "markdown",
   "metadata": {},
   "source": [
    "Note:\n",
    "This notebook uses the `ipywidgets` to provided a interactive exploration experience. In order to make use of this experience, this notebook must be downloaded and run on a computer what has `ipywidgets` installed and activated for directions for that see http://ipywidgets.readthedocs.io/en/latest/user_install.html\n",
    "\n",
    "this notebook also uses the [`(some) LaTeX environments for Jupyter\n",
    "`](http://jupyter-contrib-nbextensions.readthedocs.io/en/latest/nbextensions/latex_envs/README.html) found within the install of https://github.com/ipython-contrib/jupyter_contrib_nbextensions\n",
    "\n",
    "And all diagrams are made in **draw.io** where the source file is `OpAmpTobosDrawing.html` where that file and the exported files should accompany this notebook from its GitHub source\n",
    "\n"
   ]
  },
  {
   "cell_type": "markdown",
   "metadata": {},
   "source": [
    "# Premise\n",
    "This Notebook serves as a Repository of Operational Amplifier Topologies for use in [PySpice](https://pyspice.fabrice-salvaire.fr/) and for the topologies theory. The Goal for the Author personally is to make one or two upgrades to this notebook a week. Whether that be a new feature, expanded theory, or new topology.\n",
    "\n",
    "Some of the intended upgrades include:\n",
    "\\begin{itemize}\n",
    "\\item Enhanced analyses of output data\n",
    "\\item Routines to find figures of merits from output data\n",
    "\\item Added calculations from theory \n",
    "\\item Simulations from theory and compersion to SPICE sim\n",
    "\\item adding GUI interactivity via ipython notebook widgets\n",
    "\\end{itemize}\n",
    "\n"
   ]
  },
  {
   "cell_type": "markdown",
   "metadata": {},
   "source": [
    "# Libarys"
   ]
  },
  {
   "cell_type": "code",
   "execution_count": 1,
   "metadata": {},
   "outputs": [
    {
     "data": {
      "application/json": {
       "Software versions": [
        {
         "module": "Python",
         "version": "3.6.4 64bit [GCC 7.2.0]"
        },
        {
         "module": "IPython",
         "version": "6.2.1"
        },
        {
         "module": "OS",
         "version": "Linux 4.13.0 32 generic x86_64 with debian stretch sid"
        },
        {
         "module": "sympy",
         "version": "1.1.1"
        },
        {
         "module": "numpy",
         "version": "1.13.3"
        },
        {
         "module": "matplotlib",
         "version": "2.1.1"
        },
        {
         "module": "pandas",
         "version": "0.21.1"
        },
        {
         "module": "PySPice",
         "version": "1.2.0"
        },
        {
         "module": "ipywidgets",
         "version": "7.2.1"
        }
       ]
      },
      "text/html": [
       "<table><tr><th>Software</th><th>Version</th></tr><tr><td>Python</td><td>3.6.4 64bit [GCC 7.2.0]</td></tr><tr><td>IPython</td><td>6.2.1</td></tr><tr><td>OS</td><td>Linux 4.13.0 32 generic x86_64 with debian stretch sid</td></tr><tr><td>sympy</td><td>1.1.1</td></tr><tr><td>numpy</td><td>1.13.3</td></tr><tr><td>matplotlib</td><td>2.1.1</td></tr><tr><td>pandas</td><td>0.21.1</td></tr><tr><td>PySPice</td><td>1.2.0</td></tr><tr><td>ipywidgets</td><td>7.2.1</td></tr><tr><td colspan='2'>Sun May 06 07:39:41 2018 MDT</td></tr></table>"
      ],
      "text/latex": [
       "\\begin{tabular}{|l|l|}\\hline\n",
       "{\\bf Software} & {\\bf Version} \\\\ \\hline\\hline\n",
       "Python & 3.6.4 64bit [GCC 7.2.0] \\\\ \\hline\n",
       "IPython & 6.2.1 \\\\ \\hline\n",
       "OS & Linux 4.13.0 32 generic x86\\_64 with debian stretch sid \\\\ \\hline\n",
       "sympy & 1.1.1 \\\\ \\hline\n",
       "numpy & 1.13.3 \\\\ \\hline\n",
       "matplotlib & 2.1.1 \\\\ \\hline\n",
       "pandas & 0.21.1 \\\\ \\hline\n",
       "PySPice & 1.2.0 \\\\ \\hline\n",
       "ipywidgets & 7.2.1 \\\\ \\hline\n",
       "\\hline \\multicolumn{2}{|l|}{Sun May 06 07:39:41 2018 MDT} \\\\ \\hline\n",
       "\\end{tabular}\n"
      ],
      "text/plain": [
       "Software versions\n",
       "Python 3.6.4 64bit [GCC 7.2.0]\n",
       "IPython 6.2.1\n",
       "OS Linux 4.13.0 32 generic x86_64 with debian stretch sid\n",
       "sympy 1.1.1\n",
       "numpy 1.13.3\n",
       "matplotlib 2.1.1\n",
       "pandas 0.21.1\n",
       "PySPice 1.2.0\n",
       "ipywidgets 7.2.1\n",
       "Sun May 06 07:39:41 2018 MDT"
      ]
     },
     "execution_count": 1,
     "metadata": {},
     "output_type": "execute_result"
    }
   ],
   "source": [
    "from sympy import *\n",
    "init_printing()\n",
    "import ipywidgets as wgs\n",
    "\n",
    "import numpy as np\n",
    "import pandas as pd\n",
    "\n",
    "import matplotlib.pyplot as plt\n",
    "%matplotlib inline\n",
    "\n",
    "from PySpice.Plot.BodeDiagram import bode_diagram\n",
    "from PySpice.Probe.Plot import plot\n",
    "from PySpice.Spice.Netlist import Circuit\n",
    "from PySpice.Spice.Netlist import SubCircuitFactory\n",
    "from PySpice.Unit import *\n",
    "\n",
    "from ipywidgets import widgets\n",
    "from IPython.display import display\n",
    "\n",
    "#https://github.com/jrjohansson/version_information\n",
    "%load_ext version_information\n",
    "%version_information sympy, numpy, matplotlib, pandas, PySPice, ipywidgets"
   ]
  },
  {
   "cell_type": "markdown",
   "metadata": {},
   "source": [
    "# Setup"
   ]
  },
  {
   "cell_type": "code",
   "execution_count": 2,
   "metadata": {},
   "outputs": [],
   "source": [
    "def lambdify2(expresion, ReVars=False):\n",
    "    \"\"\"\n",
    "    Helper Function to more automate sympy `lambdify` function\n",
    "    \n",
    "    Args:\n",
    "        expresion: sympy expresion !Only Pass LHS of Equations\n",
    "        ReVars (bool; False): Control to return the Vars in a list if True\n",
    "    \n",
    "    Note:\n",
    "        lambdfy is set with `dummify=False` therefore do not pass\n",
    "        unsantied variabls to functin else error will be thrown\n",
    "    \"\"\"\n",
    "    #collect vars\n",
    "    Vars=sorted(list(expresion.free_symbols), key=lambda x: str(x))\n",
    "    #perform lambdfy with waver\n",
    "    F=lambdify(Vars, expresion, dummify=False)\n",
    "    if ReVars:\n",
    "        return F, Vars\n",
    "    else:\n",
    "        return F"
   ]
  },
  {
   "cell_type": "markdown",
   "metadata": {},
   "source": [
    "# Ideal OpAmp"
   ]
  },
  {
   "cell_type": "markdown",
   "metadata": {},
   "source": [
    "Using the Semi Ideal OpAmp model devloped by Fabrice Salvaire for the OpAmp Exsample [8.10.3. Operational Amplifier](https://pyspice.fabrice-salvaire.fr/examples/operational-amplifier/operational-amplifier.html)"
   ]
  },
  {
   "cell_type": "markdown",
   "metadata": {},
   "source": [
    "<img src=\"SemiIdelOpAmpModel.png\">"
   ]
  },
  {
   "cell_type": "code",
   "execution_count": 3,
   "metadata": {},
   "outputs": [],
   "source": [
    "class BasicOperationalAmplifier(SubCircuitFactory):\n",
    "    \"\"\"\n",
    "    Semi Ideal OpAmp Model SubCir from \n",
    "    https://pyspice.fabrice-salvaire.fr/examples/operational-amplifier/operational-amplifier.html\n",
    "    A0=100e3; pole=100; A=10e6Hz\n",
    "    Termanals:\n",
    "        non_inverting_input\n",
    "        inverting_input\n",
    "        output\n",
    "    \"\"\"\n",
    "\n",
    "    __name__ = 'BasicOperationalAmplifier'\n",
    "    __nodes__ = ('non_inverting_input', 'inverting_input', 'output')\n",
    "\n",
    "    ##############################################\n",
    "\n",
    "    def __init__(self):\n",
    "\n",
    "        super().__init__()\n",
    "\n",
    "        # Input impedance\n",
    "        self.R('input', 'non_inverting_input', 'inverting_input', 10@u_MΩ)\n",
    "\n",
    "        # dc gain=100k and pole1=100hz\n",
    "        # unity gain = dcgain x pole1 = 10MHZ\n",
    "        self.VCVS('gain', 1, self.gnd, 'non_inverting_input', 'inverting_input', voltage_gain=kilo(100))\n",
    "        self.R('P1', 1, 2, 1@u_kΩ)\n",
    "        self.C('P1', 2, self.gnd, 1.5915@u_uF)\n",
    "\n",
    "        # Output buffer and resistance\n",
    "        self.VCVS('buffer', 3, self.gnd, 2, self.gnd, 1)\n",
    "        self.R('out', 3, 'output', 10@u_Ω)"
   ]
  },
  {
   "cell_type": "markdown",
   "metadata": {},
   "source": [
    "# TestBench"
   ]
  },
  {
   "cell_type": "markdown",
   "metadata": {},
   "source": [
    "<img src=\"TestBench1P.png\">"
   ]
  },
  {
   "cell_type": "code",
   "execution_count": 4,
   "metadata": {
    "code_folding": []
   },
   "outputs": [],
   "source": [
    "class OnePortOpAmpTB(Circuit):\n",
    "    \"\"\"\n",
    "    Class for implimenting Bode plot simulation for One Port \n",
    "    (Two Termanal) Opertinal Amplifer topology \n",
    "    \"\"\"\n",
    "    def __init__(self, DUT, **kwargs):\n",
    "        \"\"\"\n",
    "        Args:\n",
    "            DUT (class SubCircuitFactory): The One Port OpAmp topology class to be tested\n",
    "            kwargs (dict): Addital Ciricut Parmters to the topology under test\n",
    "        \"\"\"\n",
    "        #bind the DUT class to TB instance\n",
    "        self.DUT=DUT\n",
    "        #self.Theory=self.DUT.Theory()\n",
    "        #create the ciruit name from DUT name\n",
    "        super().__init__(title=f'{self.DUT.__name__}_TB', **kwargs)\n",
    "        \n",
    "    \n",
    "    def SetupCir(self, **kwargs):\n",
    "        \"\"\"\n",
    "        Sets up the the DUT and the Testbench for simulation\n",
    "        see diagrm in source IPYNB for cirucit diagram\n",
    "        Args:\n",
    "            kwargs (dict): Addital Ciricut Parmters to the topology under test\n",
    "        \"\"\"\n",
    "        #create instatince of DUT and setuo with parmaters\n",
    "        self.DUT=self.DUT(**kwargs)\n",
    "        \n",
    "        #load the DUT in to the circuit\n",
    "        self.subcircuit(self.DUT)\n",
    "        self.X('Amp', self.DUT.__name__, 'Vin', 'Vout')\n",
    "        \n",
    "        #set up the TB elements\n",
    "        self.R('Sload', 'Vin' , '1', 50@u_Ω)\n",
    "        self.SinusoidalVoltageSource('Source', '1', self.gnd, amplitude=1@u_V)\n",
    "\n",
    "        self.R('Tload', 'Vout', self.gnd, 50@u_Ω)\n",
    "        #print out the resulting spice list\n",
    "        print(self)\n",
    "    \n",
    "    def Simulate(self, fMin=1, fMax=20e6):\n",
    "        \"\"\"\n",
    "        Method to perform a Bode plot simulation via NgSpice AC sim @25C\n",
    "        Args:\n",
    "            fMin(float; 1 [Hz]): the  starting frequnacy for \n",
    "            Bode plot sweep in hertz\n",
    "            \n",
    "            fMax(float; 100e3[Hz]): the ending  frequnacy for \n",
    "            Bode plot sweep in hertz\n",
    "        \n",
    "        Retured Attributes:\n",
    "            results: the ac simulation raw results from NGSpice\n",
    "            Data: Pandas Dataframe with ouputs and calcs from results\n",
    "            \n",
    "        \"\"\"\n",
    "        \n",
    "        simulator = self.simulator(temperature=25, nominal_temperature=25)\n",
    "        self.results = simulator.ac(start_frequency=fMin@u_Hz, stop_frequency=fMax@u_Hz, number_of_points=10,  variation='dec')\n",
    "        \n",
    "        # returned dataframe\n",
    "        self.Data=pd.DataFrame()\n",
    "        self.Data['freq[Hz]']=self.results.frequency\n",
    "        self.Data['Vin']=self.results.Vin\n",
    "        self.Data['Vout']=self.results.Vout\n",
    "        #normlized gain in dB\n",
    "        self.Data['Gain[dB]']=20*np.log10(np.abs(self.Data['Vout']/self.Data['Vin']))\n",
    "        # phase in radians unwraped\n",
    "        self.Data['Phase[rad_UW]']=(np.angle(self.Data['Vout']))\n",
    "    \n",
    "    def PlotResults(self):\n",
    "        \"\"\"\n",
    "        Create a Bode plot from the simulation\n",
    "        \"\"\"\n",
    "        self.fig, [self.axMag, self.axPh]=plt.subplots(ncols=1, nrows=2, sharex=True)\n",
    "        \n",
    "        A=self.Data['Gain[dB]']; F=self.Data['freq[Hz]']\n",
    "        L=np.abs(np.abs(A-A.max())-3.0).idxmin()\n",
    "        self.dB3=F[L]\n",
    "        \n",
    "        plt.suptitle(\"Bode Diagram of an Operational Amplifier\")\n",
    "        bode_diagram(axes=(self.axMag, self.axPh),\n",
    "                     frequency=self.Data['freq[Hz]'],\n",
    "                     gain=self.Data['Gain[dB]'],\n",
    "                     phase=self.Data['Phase[rad_UW]'],\n",
    "                     marker='.',\n",
    "                     color='blue',\n",
    "                     linestyle='-',\n",
    "                    )\n",
    "        \n",
    "        self.axMag.axvline(x=self.dB3, label='3dB[Hz]', \n",
    "                      linestyle='-.', alpha=.7, color='g')\n",
    "        self.axPh.axvline(x=self.dB3, label='3dB[Hz]', \n",
    "                      linestyle='-.', alpha=.7, color='g')\n",
    "        \n",
    "        \n",
    "    "
   ]
  },
  {
   "cell_type": "markdown",
   "metadata": {},
   "source": [
    "\\begin{definition}\n",
    "$A$ Open Loop Gain (no feedback)\n",
    "$$A=\\dfrac{V_o}{V_i}$$\n",
    "\\end{definition}\n",
    "\n",
    "\\begin{definition}\n",
    "$G$ Closed Loop Gain (with feedback)\n",
    "$$G=\\dfrac{V_o}{V_i}$$\n",
    "\\end{definition}\n",
    "\n",
    "\\begin{definition}\n",
    "$Z_{\\text{i}}$ Open Loop Input Impedance (no feedback)\n",
    "$$Z_{\\text{i}}=\\dfrac{V_{\\text{diff}}}{I_i}$$\n",
    "\\end{definition}\n",
    "\n",
    "\\begin{definition}\n",
    "$Z_{\\text{o}}$ Open Loop Output Impedance (no feedback)\n",
    "$$Z_{\\text{o}}=\\dfrac{V_o}{I_o}$$\n",
    "\\end{definition}\n",
    "\n",
    "\\begin{definition}\n",
    "$Z_{\\text{ifb}}$ Closed Loop Input Impedance (with feedback)\n",
    "$$Z_{\\text{ifb}}=\\dfrac{V_i}{I_i}$$\n",
    "\\end{definition}\n",
    "\n",
    "\\begin{definition}\n",
    "$Z_{\\text{ofb}}$ Closed Loop Output Impedance (with feedback)\n",
    "$$Z_{\\text{ofb}}=\\dfrac{V_o}{I_o}$$\n",
    "\\end{definition}\n",
    "\n",
    "\n",
    "\\begin{definition}\n",
    "$V_{\\text{diff}}$ the differential input voltage\n",
    "$$V_{\\text{diff}}=V_+-V_-$$\n",
    "\\end{definition}\n"
   ]
  },
  {
   "cell_type": "markdown",
   "metadata": {},
   "source": [
    "# Buffer"
   ]
  },
  {
   "cell_type": "markdown",
   "metadata": {},
   "source": [
    "<img src=\"Buffer.png\">"
   ]
  },
  {
   "cell_type": "markdown",
   "metadata": {},
   "source": [
    "[Analog Electronics: Circuits, Systems and Signal Processing](https://www.amazon.com/Analog-Electronics-Circuits-Systems-Processing-ebook/dp/B00CXO975A/ref=sr_1_1?ie=UTF8&qid=1524885102&sr=8-1&keywords=Analog+Electronics+Crecraft+Gergely) 3.5, 3.5.1, 3.5.2\n",
    "\n",
    "\n",
    "$$V_{\\text{diff}}=V_i-V_o$$\n",
    "$$V_o=AV_{\\text{diff}}$$\n",
    "$$V_o=AV_i-AV_o$$\n",
    "$$G=\\dfrac{V_o}{V_i}=\\dfrac{A}{1+A}\\approx 1$$\n"
   ]
  },
  {
   "cell_type": "markdown",
   "metadata": {},
   "source": [
    "$$I_i=\\dfrac{V_{\\text{diff}}}{Z_i} $$\n",
    "$$V_{\\text{diff}}=\\dfrac{1}{1+A}V_i$$\n",
    "$$I_i=\\dfrac{1}{1+A} \\dfrac{V_i}{Z_i}$$\n",
    "$$Z_{\\text{ifb}}=(1+A)Z_i$$"
   ]
  },
  {
   "cell_type": "markdown",
   "metadata": {},
   "source": [
    "$$V_o=AV_{\\text{diff}}-I_LZ_o$$\n",
    "$$(1+A)V_o=AV_i-I_L Z_o$$\n",
    "$$V_o=\\dfrac{A}{1+A}V_i -\\dfrac{Z_o}{1+A}I_L$$\n",
    "$$V_o=GV_i -Z_{\\text{ofb}}I_L$$\n",
    "$$Z_{\\text{ifb}}=\\dfrac{Z_o}{1+A}$$"
   ]
  },
  {
   "cell_type": "code",
   "execution_count": 5,
   "metadata": {},
   "outputs": [],
   "source": [
    "class BufferOpAmp(SubCircuitFactory):\n",
    "    \"\"\"\n",
    "    Buffer OpAmp SubCircuit\n",
    "    Termanals:\n",
    "        Vin\n",
    "        Vout\n",
    "    \n",
    "    \"\"\"\n",
    "    \n",
    "    __name__='BufferOpAmp'\n",
    "    __nodes__=('Vin','Vout')\n",
    "    \n",
    "    def __init__(self):\n",
    "        super().__init__()\n",
    "       \n",
    "        #'non_inverting_input', 'inverting_input', 'output'\n",
    "        self.subcircuit(BasicOperationalAmplifier())\n",
    "        self.X('op', 'BasicOperationalAmplifier', 'Vin', 'Vout', 'Vout')\n",
    "    \n",
    "    @staticmethod\n",
    "    def Theory():\n",
    "        \"\"\"Analog Electronics: Circuits, Systems and Signal Processing \n",
    "        Crecraft Gergely\"\"\"\n",
    "        A,Zi, Zo, s=symbols('A, Z_i, Z_o s')\n",
    "        H=Function('H')(s); Zin=Function('Z_ifb')(s); Zout=Function('Z_ofb')(s)\n",
    "        TF=Eq(H, A/(1+A)); Zin=Eq(Zin, (1+A)*Zi); Zout=Eq(Zout, Zo/(1+A))\n",
    "        return TF, Zin, Zout\n",
    "    "
   ]
  },
  {
   "cell_type": "code",
   "execution_count": 6,
   "metadata": {},
   "outputs": [
    {
     "data": {
      "image/png": "[encoded data removed]",
      "text/latex": [
       "$$\\left ( H{\\left (s \\right )} = \\frac{A}{A + 1}, \\quad \\operatorname{Z_{ifb}}{\\left (s \\right )} = Z_{i} \\left(A + 1\\right), \\quad \\operatorname{Z_{ofb}}{\\left (s \\right )} = \\frac{Z_{o}}{A + 1}\\right )$$"
      ],
      "text/plain": [
       "⎛         A                                        Zₒ ⎞\n",
       "⎜H(s) = ─────, Z_ifb(s) = Zᵢ⋅(A + 1), Z_ofb(s) = ─────⎟\n",
       "⎝       A + 1                                    A + 1⎠"
      ]
     },
     "execution_count": 6,
     "metadata": {},
     "output_type": "execute_result"
    }
   ],
   "source": [
    "#Print out the Buffer Op Amp Theory\n",
    "BufferOpAmp.Theory()"
   ]
  },
  {
   "cell_type": "code",
   "execution_count": 7,
   "metadata": {},
   "outputs": [
    {
     "name": "stdout",
     "output_type": "stream",
     "text": [
      ".title BufferOpAmp_TB\n",
      ".subckt BufferOpAmp Vin Vout\n",
      ".subckt BasicOperationalAmplifier non_inverting_input inverting_input output\n",
      "Rinput non_inverting_input inverting_input 10MegOhm\n",
      "Egain 1 0 non_inverting_input inverting_input 100k\n",
      "RP1 1 2 1kOhm\n",
      "CP1 2 0 1.5915uF\n",
      "Ebuffer 3 0 2 0 1\n",
      "Rout 3 output 10Ohm\n",
      ".ends BasicOperationalAmplifier\n",
      "Xop Vin Vout Vout BasicOperationalAmplifier\n",
      ".ends BufferOpAmp\n",
      "XAmp Vin Vout BufferOpAmp\n",
      "RSload Vin 1 50Ohm\n",
      "VSource 1 0 DC 0V AC SIN(0V 1V 50Hz 0s 0Hz)\n",
      "RTload Vout 0 50Ohm\n",
      "\n"
     ]
    },
    {
     "data": {
      "image/png": "[encoded data removed]",
      "text/plain": [
       "<matplotlib.figure.Figure at 0x7fbb816f44e0>"
      ]
     },
     "metadata": {},
     "output_type": "display_data"
    }
   ],
   "source": [
    "#create the Test Bench and Bind to this instance the BufferOpAmp Topo\n",
    "TB=OnePortOpAmpTB(BufferOpAmp)\n",
    "#Setup the Testbench and print the TB\n",
    "TB.SetupCir()\n",
    "#Run the AC Bode Simulation\n",
    "TB.Simulate()\n",
    "#View Bode Simulation\n",
    "TB.PlotResults()"
   ]
  },
  {
   "cell_type": "markdown",
   "metadata": {},
   "source": [
    "# Inverting"
   ]
  },
  {
   "cell_type": "markdown",
   "metadata": {},
   "source": [
    "<img src=\"InvertingOpAmp.png\">"
   ]
  },
  {
   "cell_type": "code",
   "execution_count": 8,
   "metadata": {},
   "outputs": [],
   "source": [
    "class InvertingOpAmp(SubCircuitFactory):\n",
    "    \"\"\"\n",
    "    Inverting OpAmp SubCir\n",
    "    Termanals:\n",
    "        Vin\n",
    "        Vout\n",
    "    Parms:\n",
    "        R1[Ohms]\n",
    "        R2[Ohms]\n",
    "    \"\"\"\n",
    "    \n",
    "    __name__='InvertingOpAmp'\n",
    "    __nodes__=('Vin','Vout')\n",
    "    \n",
    "    def __init__(self, R1=1, R2=1):\n",
    "        super().__init__()\n",
    "        self.R1=R1; self.R2=R2\n",
    "        \n",
    "        self.R('1', 'Vin', '2', R1@u_Ω)\n",
    "        self.R('2', '2', 'Vout', R2@u_Ω)\n",
    "        \n",
    "        self.subcircuit(BasicOperationalAmplifier())\n",
    "        self.X('op', 'BasicOperationalAmplifier', self.gnd, '2', 'Vout')\n",
    "        self.Theory()\n",
    "    \n",
    "    @staticmethod\n",
    "    def Theory():\n",
    "        \"\"\"Analog Electronics: Circuits, Systems and Signal Processing \n",
    "        Crecraft Gergely\"\"\"        \n",
    "        R1, R2=symbols('R_1, R_2', real=True, postive=True)\n",
    "        A,Zi, Zo, s=symbols('A, Z_i, Z_o s')\n",
    "        H=Function('H')(s); Zin=Function('Z_in')(s); Zout=Function('Z_out')(s)\n",
    "        TF=Eq(H, -R2/R1)\n",
    "        Zin=Eq(Zin, R1)\n",
    "        Zout=Eq(Zout, Zo*(R1+R2)/(A*R1))\n",
    "        return TF, Zin, Zout\n",
    "        \n",
    "    "
   ]
  },
  {
   "cell_type": "code",
   "execution_count": 9,
   "metadata": {},
   "outputs": [
    {
     "data": {
      "image/png": "[encoded data removed]",
      "text/latex": [
       "$$\\left ( H{\\left (s \\right )} = - \\frac{R_{2}}{R_{1}}, \\quad \\operatorname{Z_{in}}{\\left (s \\right )} = R_{1}, \\quad \\operatorname{Z_{out}}{\\left (s \\right )} = \\frac{Z_{o} \\left(R_{1} + R_{2}\\right)}{A R_{1}}\\right )$$"
      ],
      "text/plain": [
       "⎛       -R₂                          Zₒ⋅(R₁ + R₂)⎞\n",
       "⎜H(s) = ────, Zᵢₙ(s) = R₁, Zₒᵤₜ(s) = ────────────⎟\n",
       "⎝        R₁                              A⋅R₁    ⎠"
      ]
     },
     "execution_count": 9,
     "metadata": {},
     "output_type": "execute_result"
    }
   ],
   "source": [
    "#Print out the Inverting Op Amp Theory\n",
    "InvertingOpAmp.Theory()"
   ]
  },
  {
   "cell_type": "code",
   "execution_count": 10,
   "metadata": {},
   "outputs": [],
   "source": [
    "class InvertingExp():\n",
    "    \"\"\"\n",
    "    Class to provide GUI for Inverting Amplifer\n",
    "    \"\"\"\n",
    "    def __init__(self):\n",
    "        \"\"\"\n",
    "        Front end and binding to backend\n",
    "        \"\"\"\n",
    "        #create the GUI elments\n",
    "        self.R1Slider=widgets.FloatSlider(value=50,\n",
    "                                         min=10, max=100, step=5,\n",
    "                                         description='R1 kOhm',\n",
    "                                         )\n",
    "        self.R2Slider=widgets.FloatSlider(value=50,\n",
    "                                         min=10, max=100, step=5,\n",
    "                                         description='R2 kOhm',\n",
    "                                         )\n",
    "        #layout\n",
    "        self.RSVBox=widgets.VBox([self.R1Slider, self.R2Slider])\n",
    "        \n",
    "        #bind to the backend\n",
    "        I=widgets.interact_manual(self.BackEnd, R1=self.R1Slider, \n",
    "                              R2=self.R2Slider)\n",
    "        display(I)\n",
    "    \n",
    "    def BackEnd(self, R1, R2):\n",
    "        \"\"\"\n",
    "        The backend wrapper to the TB and simulation\n",
    "        \"\"\"\n",
    "        \n",
    "        #create the Test Bench and Bind to this instance the InvertingOpAmp Topo\n",
    "        TB=OnePortOpAmpTB(InvertingOpAmp)\n",
    "        #Setup the Testbench; use a R1=20 Ohm,R2=5 Ohm and print the TB\n",
    "        TB.SetupCir(**{'R1':R1*1e3, 'R2':R2*1e3})\n",
    "        #Run the AC Bode Simulation\n",
    "        TB.Simulate()\n",
    "        #View Bode Simulation\n",
    "        TB.PlotResults()\n"
   ]
  },
  {
   "cell_type": "code",
   "execution_count": 11,
   "metadata": {},
   "outputs": [
    {
     "data": {
      "application/vnd.jupyter.widget-view+json": {
       "model_id": "3c23c61e2071473eb1d9b01ef06688fd",
       "version_major": 2,
       "version_minor": 0
      },
      "text/plain": [
       "interactive(children=(FloatSlider(value=50.0, description='R1 kOhm', min=10.0, step=5.0), FloatSlider(value=50…"
      ]
     },
     "metadata": {},
     "output_type": "display_data"
    },
    {
     "data": {
      "text/plain": [
       "<function ipywidgets.widgets.interaction._InteractFactory.__call__.<locals>.<lambda>>"
      ]
     },
     "metadata": {},
     "output_type": "display_data"
    }
   ],
   "source": [
    "InvertingExp();"
   ]
  },
  {
   "cell_type": "markdown",
   "metadata": {},
   "source": [
    "# Noninverting"
   ]
  },
  {
   "cell_type": "markdown",
   "metadata": {},
   "source": [
    "<img src=\"NonInveringOpAmp.png\">"
   ]
  },
  {
   "cell_type": "code",
   "execution_count": 12,
   "metadata": {},
   "outputs": [],
   "source": [
    "class NonInvertingOpAmp(SubCircuitFactory):\n",
    "    \"\"\"\n",
    "    Non-Inverting OpAmp SubCir\n",
    "    Termanals:\n",
    "        Vin\n",
    "        Vout\n",
    "    Parms:\n",
    "        R1\n",
    "        R2\n",
    "    \"\"\"\n",
    "    \n",
    "    __name__='NonInvertingOpAmp'\n",
    "    __nodes__=('Vin','Vout')\n",
    "    \n",
    "    def __init__(self, R1, R2):\n",
    "        super().__init__()\n",
    "        self.R1=R1; self.R2=R2\n",
    "        \n",
    "        self.R('1', '2', self.gnd, R1@u_Ω)\n",
    "        self.R('2', '2', 'Vout', R2@u_Ω)\n",
    "        \n",
    "        self.subcircuit(BasicOperationalAmplifier())\n",
    "        self.X('op', 'BasicOperationalAmplifier', 'Vin', '2', 'Vout')\n",
    "    \n",
    "    @staticmethod\n",
    "    def Theory():\n",
    "        \"\"\"Analog Electronics: Circuits, Systems and Signal Processing \n",
    "        Crecraft Gergely\"\"\"        \n",
    "        R1, R2=symbols('R_1, R_2', real=True, postive=True)\n",
    "        A,Zi, Zo, s=symbols('A, Z_i, Z_o s')\n",
    "        H=Function('H')(s); Zin=Function('Z_in')(s); Zout=Function('Z_out')(s)\n",
    "        TF=Eq(H, (A(R1+R2))/(R2(1+A)+R1))\n",
    "        Zin=Eq(Zin, Zi*((1+A)*R2+R1)/(R2+(1-A)*R1))\n",
    "        Zout=Eq(Zout, Zo*(R1+R2)/(R1+(1+A)*R2))\n",
    "        return TF, Zin, Zout\n",
    "        \n"
   ]
  },
  {
   "cell_type": "code",
   "execution_count": 13,
   "metadata": {},
   "outputs": [
    {
     "data": {
      "image/png": "[encoded data removed]",
      "text/latex": [
       "$$\\left ( H{\\left (s \\right )} = \\frac{A{\\left (R_{1} + R_{2} \\right )}}{R_{1} + \\operatorname{R_{2}}{\\left (A + 1 \\right )}}, \\quad \\operatorname{Z_{in}}{\\left (s \\right )} = \\frac{Z_{i} \\left(R_{1} + R_{2} \\left(A + 1\\right)\\right)}{R_{1} \\left(- A + 1\\right) + R_{2}}, \\quad \\operatorname{Z_{out}}{\\left (s \\right )} = \\frac{Z_{o} \\left(R_{1} + R_{2}\\right)}{R_{1} + R_{2} \\left(A + 1\\right)}\\right )$$"
      ],
      "text/plain": [
       "⎛         A(R₁ + R₂)             Zᵢ⋅(R₁ + R₂⋅(A + 1))              Zₒ⋅(R₁ + R₂\n",
       "⎜H(s) = ──────────────, Zᵢₙ(s) = ────────────────────, Zₒᵤₜ(s) = ─────────────\n",
       "⎝       R₁ + R₂(A + 1)             R₁⋅(-A + 1) + R₂              R₁ + R₂⋅(A + \n",
       "\n",
       ") ⎞\n",
       "──⎟\n",
       "1)⎠"
      ]
     },
     "execution_count": 13,
     "metadata": {},
     "output_type": "execute_result"
    }
   ],
   "source": [
    "#Print out the NonInverting Op Amp Theory\n",
    "NonInvertingOpAmp.Theory()"
   ]
  },
  {
   "cell_type": "code",
   "execution_count": 14,
   "metadata": {},
   "outputs": [],
   "source": [
    "class NonInvertingExp():\n",
    "    \"\"\"\n",
    "    Class to provide GUI for Inverting Amplifer\n",
    "    \"\"\"\n",
    "    def __init__(self):\n",
    "        \"\"\"\n",
    "        Front end and binding to backend\n",
    "        \"\"\"\n",
    "        #create the GUI elments\n",
    "        self.R1Slider=widgets.FloatSlider(value=50,\n",
    "                                         min=10, max=100, step=5,\n",
    "                                         description='R1 kOhm'\n",
    "                                         )\n",
    "        self.R2Slider=widgets.FloatSlider(value=50,\n",
    "                                         min=10, max=100, step=5,\n",
    "                                         description='R2 kOhm'\n",
    "                                         )\n",
    "        #layout\n",
    "        self.RSVBox=widgets.VBox([self.R1Slider, self.R2Slider])\n",
    "        \n",
    "        #bind to the backend\n",
    "        I=widgets.interact_manual(self.BackEnd, R1=self.R1Slider, \n",
    "                              R2=self.R2Slider)\n",
    "        display(I)\n",
    "    \n",
    "    def BackEnd(self, R1, R2):\n",
    "        \"\"\"\n",
    "        The backend wrapper to the TB and simulation\n",
    "        \"\"\"\n",
    "        \n",
    "        #create the Test Bench and Bind to this instance the NonInverting Topo\n",
    "        TB=OnePortOpAmpTB(NonInvertingOpAmp)\n",
    "        #Setup the Testbench; use a R1=20 Ohm,R2=5 Ohm and print the TB\n",
    "        TB.SetupCir(**{'R1':R1*1e3, 'R2':R2*1e3})\n",
    "        #Run the AC Bode Simulation\n",
    "        TB.Simulate()\n",
    "        #View Bode Simulation\n",
    "        TB.PlotResults()\n"
   ]
  },
  {
   "cell_type": "code",
   "execution_count": 15,
   "metadata": {},
   "outputs": [
    {
     "data": {
      "application/vnd.jupyter.widget-view+json": {
       "model_id": "f566ef1890d14617bcd01edf0be7eec2",
       "version_major": 2,
       "version_minor": 0
      },
      "text/plain": [
       "interactive(children=(FloatSlider(value=50.0, description='R1 kOhm', min=10.0, step=5.0), FloatSlider(value=50…"
      ]
     },
     "metadata": {},
     "output_type": "display_data"
    },
    {
     "data": {
      "text/plain": [
       "<function ipywidgets.widgets.interaction._InteractFactory.__call__.<locals>.<lambda>>"
      ]
     },
     "metadata": {},
     "output_type": "display_data"
    }
   ],
   "source": [
    "NonInvertingExp();"
   ]
  },
  {
   "cell_type": "markdown",
   "metadata": {},
   "source": [
    "# Miller Capactive Integrator "
   ]
  },
  {
   "cell_type": "markdown",
   "metadata": {},
   "source": [
    "<img src=\"MillerCapInt.png\">"
   ]
  },
  {
   "cell_type": "code",
   "execution_count": 16,
   "metadata": {},
   "outputs": [],
   "source": [
    "class MillerCapIntOpAmp(SubCircuitFactory):\n",
    "    \"\"\"\n",
    "    Inverting OpAmp SubCir\n",
    "    Termanals:\n",
    "        Vin\n",
    "        Vout\n",
    "    Parms:\n",
    "        R1[Ohms]\n",
    "        C1[Fards]\n",
    "    \"\"\"\n",
    "    \n",
    "    __name__='MillerCapIntOpAmp'\n",
    "    __nodes__=('Vin','Vout')\n",
    "    \n",
    "    def __init__(self, R1=1, C1=1):\n",
    "        super().__init__()\n",
    "        self.R1=R1; self.C1=C1\n",
    "        \n",
    "        self.R('1', 'Vin', '2', R1@u_Ω)\n",
    "        self.C('1', '2', 'Vout', C1@u_F)\n",
    "        \n",
    "        self.subcircuit(BasicOperationalAmplifier())\n",
    "        self.X('op', 'BasicOperationalAmplifier', self.gnd, '2', 'Vout')\n",
    "        self.Theory()\n",
    "    \n",
    "    @staticmethod\n",
    "    def Theory():\n",
    "        \"\"\"Analog Electronics: Circuits, Systems and Signal Processing \n",
    "        Crecraft Gergely\"\"\"        \n",
    "        R1, C1=symbols('R_1, C_1', real=True, postive=True)\n",
    "        A,Zi, Zo, s=symbols('A, Z_i, Z_o s')\n",
    "        H=Function('H')(s); Zin=Function('Z_in')(s); Zout=Function('Z_out')(s)\n",
    "        TF=Eq(H, -(1/(s*C1))/R1)\n",
    "        Zin=simplify(Eq(Zin, R1))\n",
    "        Zout=Eq(Zout, Zo/(A(1+s*C1*R1)))\n",
    "        return TF, Zin, Zout\n",
    "        \n",
    "    "
   ]
  },
  {
   "cell_type": "code",
   "execution_count": 17,
   "metadata": {},
   "outputs": [
    {
     "data": {
      "image/png": "[encoded data removed]",
      "text/latex": [
       "$$\\left ( H{\\left (s \\right )} = - \\frac{1}{C_{1} R_{1} s}, \\quad R_{1} = \\operatorname{Z_{in}}{\\left (s \\right )}, \\quad \\operatorname{Z_{out}}{\\left (s \\right )} = \\frac{Z_{o}}{A{\\left (C_{1} R_{1} s + 1 \\right )}}\\right )$$"
      ],
      "text/plain": [
       "⎛         -1                                  Zₒ      ⎞\n",
       "⎜H(s) = ───────, R₁ = Zᵢₙ(s), Zₒᵤₜ(s) = ──────────────⎟\n",
       "⎝       C₁⋅R₁⋅s                         A(C₁⋅R₁⋅s + 1)⎠"
      ]
     },
     "execution_count": 17,
     "metadata": {},
     "output_type": "execute_result"
    }
   ],
   "source": [
    "#Print out the MillerCapInt Op Amp Theory\n",
    "MillerCapIntOpAmp.Theory()"
   ]
  },
  {
   "cell_type": "code",
   "execution_count": 18,
   "metadata": {},
   "outputs": [],
   "source": [
    "class MillerCapIntExp():\n",
    "    \"\"\"\n",
    "    Class to provide GUI for  MillerCapInt\n",
    "    \"\"\"\n",
    "    def __init__(self):\n",
    "        \"\"\"\n",
    "        Front end and binding to backend\n",
    "        \"\"\"\n",
    "        #create the GUI elments\n",
    "        self.R1Slider=widgets.FloatSlider(value=50,\n",
    "                                         min=10, max=100, step=5,\n",
    "                                         description='R1 kOhm',\n",
    "                                         readout_format='.1e')\n",
    "        self.C1Slider=widgets.FloatSlider(value=50,\n",
    "                                         min=1, max=500, step=25,\n",
    "                                         description='C1 pF')\n",
    "        #layout\n",
    "        self.RSVBox=widgets.VBox([self.R1Slider, self.C1Slider])\n",
    "        \n",
    "        #bind to the backend\n",
    "        I=widgets.interact_manual(self.BackEnd, R1=self.R1Slider, \n",
    "                              C1=self.C1Slider)\n",
    "        display(I)\n",
    "    \n",
    "    def BackEnd(self, R1, C1):\n",
    "        \"\"\"\n",
    "        The backend wrapper to the TB and simulation\n",
    "        \"\"\"\n",
    "        \n",
    "        #create the Test Bench and Bind to this instance the MillerCapInt Topo\n",
    "        TB=OnePortOpAmpTB(MillerCapIntOpAmp)\n",
    "        #Setup the Testbench; use a R1=20 Ohm,C1=10 muF and print the TB\n",
    "        TB.SetupCir(**{'R1':R1*1e3, 'C1':C1*1e-12})\n",
    "        #Run the AC Bode Simulation\n",
    "        TB.Simulate()\n",
    "        #View Bode Simulation\n",
    "        TB.PlotResults()"
   ]
  },
  {
   "cell_type": "code",
   "execution_count": 19,
   "metadata": {},
   "outputs": [
    {
     "data": {
      "application/vnd.jupyter.widget-view+json": {
       "model_id": "a75c091ed9a840fd98b9b7c3efe30cf2",
       "version_major": 2,
       "version_minor": 0
      },
      "text/plain": [
       "interactive(children=(FloatSlider(value=50.0, description='R1 kOhm', min=10.0, readout_format='.1e', step=5.0)…"
      ]
     },
     "metadata": {},
     "output_type": "display_data"
    },
    {
     "data": {
      "text/plain": [
       "<function ipywidgets.widgets.interaction._InteractFactory.__call__.<locals>.<lambda>>"
      ]
     },
     "metadata": {},
     "output_type": "display_data"
    },
    {
     "data": {
      "text/plain": [
       "<__main__.MillerCapIntExp at 0x7fbb73afbe48>"
      ]
     },
     "execution_count": 19,
     "metadata": {},
     "output_type": "execute_result"
    }
   ],
   "source": [
    "MillerCapIntExp()\n"
   ]
  },
  {
   "cell_type": "markdown",
   "metadata": {},
   "source": [
    "# Miller Inductive Integrator "
   ]
  },
  {
   "cell_type": "markdown",
   "metadata": {},
   "source": [
    "<img src=\"MillerIndInt.png\">"
   ]
  },
  {
   "cell_type": "code",
   "execution_count": 20,
   "metadata": {},
   "outputs": [],
   "source": [
    "class MillerIndIntOpAmp(SubCircuitFactory):\n",
    "    \"\"\"\n",
    "    Inverting OpAmp SubCir\n",
    "    Termanals:\n",
    "        Vin\n",
    "        Vout\n",
    "    Parms:\n",
    "        R1[Ohms]\n",
    "        L1[Henrys]\n",
    "    \"\"\"\n",
    "    \n",
    "    __name__='MillerIndIntOpAmp'\n",
    "    __nodes__=('Vin','Vout')\n",
    "    \n",
    "    def __init__(self, R1=1, L1=1):\n",
    "        super().__init__()\n",
    "        self.R1=R1; self.L1=L1\n",
    "        \n",
    "        self.L('1', 'Vin', '2', L1@u_H)\n",
    "        self.R('1', '2', 'Vout', R1@u_Ω)\n",
    "        \n",
    "        self.subcircuit(BasicOperationalAmplifier())\n",
    "        self.X('op', 'BasicOperationalAmplifier', self.gnd, '2', 'Vout')\n",
    "        self.Theory()\n",
    "    \n",
    "    @staticmethod\n",
    "    def Theory():\n",
    "        \"\"\"Analog Electronics: Circuits, Systems and Signal Processing \n",
    "        Crecraft Gergely\"\"\"        \n",
    "        R1, L1=symbols('R_1, L_1', real=True, postive=True)\n",
    "        A,Zi, Zo, s=symbols('A, Z_i, Z_o s')\n",
    "        H=Function('H')(s); Zin=Function('Z_in')(s); Zout=Function('Z_out')(s)\n",
    "        TF=Eq(H, -R1/(s*L1))\n",
    "        Zin=Eq(Zin, s*L1)\n",
    "        Zout=simplify(Eq(Zout, Zo*(s*L1+R1)/(A*s*L1)))\n",
    "        return TF, Zin, Zout\n",
    "        "
   ]
  },
  {
   "cell_type": "code",
   "execution_count": 21,
   "metadata": {},
   "outputs": [
    {
     "data": {
      "image/png": "[encoded data removed]",
      "text/latex": [
       "$$\\left ( H{\\left (s \\right )} = - \\frac{R_{1}}{L_{1} s}, \\quad \\operatorname{Z_{in}}{\\left (s \\right )} = L_{1} s, \\quad \\operatorname{Z_{out}}{\\left (s \\right )} = \\frac{Z_{o} \\left(L_{1} s + R_{1}\\right)}{A L_{1} s}\\right )$$"
      ],
      "text/plain": [
       "⎛       -R₁                            Zₒ⋅(L₁⋅s + R₁)⎞\n",
       "⎜H(s) = ────, Zᵢₙ(s) = L₁⋅s, Zₒᵤₜ(s) = ──────────────⎟\n",
       "⎝       L₁⋅s                               A⋅L₁⋅s    ⎠"
      ]
     },
     "execution_count": 21,
     "metadata": {},
     "output_type": "execute_result"
    }
   ],
   "source": [
    "#Print out the MillerIndInt Op Amp Theory\n",
    "MillerIndIntOpAmp.Theory()"
   ]
  },
  {
   "cell_type": "code",
   "execution_count": 22,
   "metadata": {},
   "outputs": [],
   "source": [
    "class MillerIndIntExp():\n",
    "    \"\"\"\n",
    "    Class to provide GUI for  MillerIndInt\n",
    "    \"\"\"\n",
    "    def __init__(self):\n",
    "        \"\"\"\n",
    "        Front end and binding to backend\n",
    "        \"\"\"\n",
    "        #create the GUI elments\n",
    "        self.R1Slider=widgets.FloatSlider(value=50,\n",
    "                                         min=10, max=100, step=5,\n",
    "                                         description='R1 kOhm',\n",
    "                                         readout_format='.1e')\n",
    "        self.L1Slider=widgets.FloatSlider(value=50,\n",
    "                                         min=1, max=500, step=25,\n",
    "                                         description='L1 uH')\n",
    "        #layout\n",
    "        self.RSVBox=widgets.VBox([self.R1Slider, self.L1Slider])\n",
    "        \n",
    "        #bind to the backend\n",
    "        I=widgets.interact_manual(self.BackEnd, R1=self.R1Slider, \n",
    "                              L1=self.L1Slider)\n",
    "        display(I)\n",
    "    \n",
    "    def BackEnd(self, R1, L1):\n",
    "        \"\"\"\n",
    "        The backend wrapper to the TB and simulation\n",
    "        \"\"\"\n",
    "        \n",
    "        #create the Test Bench and Bind to this instance the MillerCapInt Topo\n",
    "        TB=OnePortOpAmpTB(MillerIndIntOpAmp)\n",
    "        #Setup the Testbench; use a R1=20 Ohm,L1=10 muH and print the TB\n",
    "        TB.SetupCir(**{'R1':R1*1e3, 'L1':L1*1e-6})\n",
    "        #Run the AC Bode Simulation\n",
    "        TB.Simulate()\n",
    "        #View Bode Simulation\n",
    "        TB.PlotResults()"
   ]
  },
  {
   "cell_type": "code",
   "execution_count": 23,
   "metadata": {},
   "outputs": [
    {
     "data": {
      "application/vnd.jupyter.widget-view+json": {
       "model_id": "e2403fe99367434ebba27b399e3d4545",
       "version_major": 2,
       "version_minor": 0
      },
      "text/plain": [
       "interactive(children=(FloatSlider(value=50.0, description='R1 kOhm', min=10.0, readout_format='.1e', step=5.0)…"
      ]
     },
     "metadata": {},
     "output_type": "display_data"
    },
    {
     "data": {
      "text/plain": [
       "<function ipywidgets.widgets.interaction._InteractFactory.__call__.<locals>.<lambda>>"
      ]
     },
     "metadata": {},
     "output_type": "display_data"
    }
   ],
   "source": [
    "MillerIndIntExp();"
   ]
  },
  {
   "cell_type": "markdown",
   "metadata": {},
   "source": [
    "#  Low Pass 1Pole"
   ]
  },
  {
   "cell_type": "markdown",
   "metadata": {},
   "source": [
    "<img src=\"LowPass1P.png\">"
   ]
  },
  {
   "cell_type": "code",
   "execution_count": 24,
   "metadata": {},
   "outputs": [],
   "source": [
    "class LowPass1POpAmp(SubCircuitFactory):\n",
    "    \"\"\"\n",
    "    Single Pole Low Pass OpAmp SubCir\n",
    "\n",
    "    Termanals:\n",
    "        Vin\n",
    "        Vout\n",
    "    Parms:\n",
    "        R1[Ohms]\n",
    "        R2[Ohms]\n",
    "        C1[Farads]\n",
    "    \"\"\"\n",
    "    \n",
    "    __name__='LowPass1POpAmp'\n",
    "    __nodes__=('Vin','Vout')\n",
    "    \n",
    "    def __init__(self, R1=1, R2=1, C1=1):\n",
    "        super().__init__()\n",
    "        self.R1=R1; self.R2=R2; self.C1=C1\n",
    "        \n",
    "        self.R('1', 'Vin', '2', R1@u_Ω)\n",
    "        self.R('2', '2', 'Vout', R2@u_Ω)\n",
    "        self.C('1', '2', 'Vout', C1@u_F)\n",
    "        \n",
    "        self.subcircuit(BasicOperationalAmplifier())\n",
    "        #non, inv, out\n",
    "        self.X('op', 'BasicOperationalAmplifier', 'Vin', '2', 'Vout')\n",
    "        \n",
    "    @staticmethod\n",
    "    def Theory():\n",
    "        \"\"\"Analog Electronics: Circuits, Systems and Signal Processing \n",
    "        Crecraft Gergely\"\"\"        \n",
    "        R1, R2, C1=symbols('R_1, R_2, C_1', real=True, postive=True)\n",
    "        A,Zi, Zo, s=symbols('A, Z_i, Z_o s')\n",
    "        H=Function('H')(s); Zin=Function('Z_in')(s); Zout=Function('Z_out')(s)\n",
    "        TF=simplify(Eq(H, -(R2/(R2*s*C1+1))/R1))\n",
    "        Zin=Eq(Zin, R1)\n",
    "        Zout=simplify(Eq(Zout, Zo*(R1+(R2/(R2*s*C1+1)))/(A*R1)))\n",
    "        return TF, Zin, Zout\n",
    "        \n"
   ]
  },
  {
   "cell_type": "code",
   "execution_count": 25,
   "metadata": {},
   "outputs": [
    {
     "data": {
      "image/png": "[encoded data removed]",
      "text/latex": [
       "$$\\left ( H{\\left (s \\right )} = - \\frac{R_{2}}{R_{1} \\left(C_{1} R_{2} s + 1\\right)}, \\quad \\operatorname{Z_{in}}{\\left (s \\right )} = R_{1}, \\quad \\operatorname{Z_{out}}{\\left (s \\right )} = \\frac{Z_{o} \\left(R_{1} \\left(C_{1} R_{2} s + 1\\right) + R_{2}\\right)}{A R_{1} \\left(C_{1} R_{2} s + 1\\right)}\\right )$$"
      ],
      "text/plain": [
       "⎛             -R₂                                Zₒ⋅(R₁⋅(C₁⋅R₂⋅s + 1) + R₂)⎞\n",
       "⎜H(s) = ────────────────, Zᵢₙ(s) = R₁, Zₒᵤₜ(s) = ──────────────────────────⎟\n",
       "⎝       R₁⋅(C₁⋅R₂⋅s + 1)                             A⋅R₁⋅(C₁⋅R₂⋅s + 1)    ⎠"
      ]
     },
     "execution_count": 25,
     "metadata": {},
     "output_type": "execute_result"
    }
   ],
   "source": [
    "LowPass1POpAmp.Theory()"
   ]
  },
  {
   "cell_type": "code",
   "execution_count": 26,
   "metadata": {},
   "outputs": [],
   "source": [
    "class LowPass1POpAmpExp():\n",
    "    \"\"\"\n",
    "    Class to provide GUI for  LowPass1POpAmp\n",
    "    \"\"\"\n",
    "    def __init__(self):\n",
    "        \"\"\"\n",
    "        Front end and binding to backend\n",
    "        \"\"\"\n",
    "        #create the GUI elments\n",
    "        self.R1Slider=widgets.FloatSlider(value=50,\n",
    "                                         min=10, max=100, step=5,\n",
    "                                         description='R1 kOhm',\n",
    "                                         readout_format='.1e')\n",
    "        \n",
    "        self.R2Slider=widgets.FloatSlider(value=50,\n",
    "                                         min=10, max=100, step=5,\n",
    "                                         description='R2 kOhm',\n",
    "                                         readout_format='.1e')\n",
    "        \n",
    "        self.C1Slider=widgets.FloatSlider(value=50,\n",
    "                                         min=1, max=500, step=25,\n",
    "                                         description='C1 pF')\n",
    "        #layout\n",
    "        self.RSVBox=widgets.VBox([self.R1Slider, self.R2Slider, self.C1Slider])\n",
    "        \n",
    "        #bind to the backend\n",
    "        I=widgets.interact_manual(self.BackEnd, R1=self.R1Slider,\n",
    "                                  R2=self.R2Slider,\n",
    "                              C1=self.C1Slider)\n",
    "        display(I)\n",
    "    \n",
    "    def BackEnd(self, R1, R2, C1):\n",
    "        \"\"\"\n",
    "        The backend wrapper to the TB and simulation\n",
    "        \"\"\"\n",
    "        \n",
    "        #create the Test Bench and Bind to this instance the LowPass1POpAmp Topo\n",
    "        TB=OnePortOpAmpTB(LowPass1POpAmp)\n",
    "        #Setup the Testbench; use a R1=20 Ohm, R2=5 Ohm,C1=10 muH and print the TB\n",
    "        TB.SetupCir(**{'R1':R1*1e3, 'R2':R2*1e3, 'C1':C1*1e-12})\n",
    "        #Run the AC Bode Simulation\n",
    "        TB.Simulate()\n",
    "        #View Bode Simulation\n",
    "        TB.PlotResults()\n",
    "\n"
   ]
  },
  {
   "cell_type": "code",
   "execution_count": 27,
   "metadata": {},
   "outputs": [
    {
     "data": {
      "application/vnd.jupyter.widget-view+json": {
       "model_id": "bc49198bb0504d96a2fa2253b7ee48c7",
       "version_major": 2,
       "version_minor": 0
      },
      "text/plain": [
       "interactive(children=(FloatSlider(value=50.0, description='R1 kOhm', min=10.0, readout_format='.1e', step=5.0)…"
      ]
     },
     "metadata": {},
     "output_type": "display_data"
    },
    {
     "data": {
      "text/plain": [
       "<function ipywidgets.widgets.interaction._InteractFactory.__call__.<locals>.<lambda>>"
      ]
     },
     "metadata": {},
     "output_type": "display_data"
    }
   ],
   "source": [
    "LowPass1POpAmpExp();"
   ]
  },
  {
   "cell_type": "markdown",
   "metadata": {},
   "source": [
    "# Miller Capacitive Differentiator "
   ]
  },
  {
   "cell_type": "markdown",
   "metadata": {},
   "source": [
    "<img src=\"MillerCapDiff.png\">"
   ]
  },
  {
   "cell_type": "code",
   "execution_count": 28,
   "metadata": {},
   "outputs": [],
   "source": [
    "class MillerCapDiff(SubCircuitFactory):\n",
    "    \"\"\"\n",
    "    Miller Capacitive Differentiator  OpAmp SubCir\n",
    "    Termanals:\n",
    "        Vin\n",
    "        Vout\n",
    "    Parms:\n",
    "        R1[Ohms]\n",
    "        C1[Farads]\n",
    "    \"\"\"\n",
    "    \n",
    "    __name__='MillerCapDiff'\n",
    "    __nodes__=('Vin','Vout')\n",
    "    \n",
    "    def __init__(self, R1=1, C1=1):\n",
    "        super().__init__()\n",
    "        self.R1=R1; self.C1=C1\n",
    "        \n",
    "        self.C('1', 'Vin', '2', C1@u_F)\n",
    "        self.R('1', '2', 'Vout', R1@u_Ω)\n",
    "        \n",
    "        self.subcircuit(BasicOperationalAmplifier())\n",
    "        self.X('op', 'BasicOperationalAmplifier', self.gnd, '2', 'Vout')\n",
    "        self.Theory()\n",
    "    \n",
    "    @staticmethod\n",
    "    def Theory():\n",
    "        \"\"\"Analog Electronics: Circuits, Systems and Signal Processing \n",
    "        Crecraft Gergely\"\"\"        \n",
    "        R1, R2, C1=symbols('R_1, R_2, C_1', real=True, postive=True)\n",
    "        A,Zi, Zo, s=symbols('A, Z_i, Z_o s')\n",
    "        H=Function('H')(s); Zin=Function('Z_in')(s); Zout=Function('Z_out')(s)\n",
    "        TF=Eq(H, -R1/(1/(s*C1)))\n",
    "        Zin=Eq(Zin, (1/(s*C1)))\n",
    "        Zout=simplify(Eq(Zout, Zo*((1/(s*C1))+R1)/(A*(1/(s*C1)))))\n",
    "        return TF, Zin, Zout\n",
    "    "
   ]
  },
  {
   "cell_type": "code",
   "execution_count": 29,
   "metadata": {},
   "outputs": [
    {
     "data": {
      "image/png": "[encoded data removed]",
      "text/latex": [
       "$$\\left ( H{\\left (s \\right )} = - C_{1} R_{1} s, \\quad \\operatorname{Z_{in}}{\\left (s \\right )} = \\frac{1}{C_{1} s}, \\quad \\operatorname{Z_{out}}{\\left (s \\right )} = \\frac{Z_{o}}{A} \\left(C_{1} R_{1} s + 1\\right)\\right )$$"
      ],
      "text/plain": [
       "⎛                           1              Zₒ⋅(C₁⋅R₁⋅s + 1)⎞\n",
       "⎜H(s) = -C₁⋅R₁⋅s, Zᵢₙ(s) = ────, Zₒᵤₜ(s) = ────────────────⎟\n",
       "⎝                          C₁⋅s                   A        ⎠"
      ]
     },
     "execution_count": 29,
     "metadata": {},
     "output_type": "execute_result"
    }
   ],
   "source": [
    "MillerCapDiff.Theory()"
   ]
  },
  {
   "cell_type": "code",
   "execution_count": 30,
   "metadata": {},
   "outputs": [],
   "source": [
    "class MillerCapDiffExp():\n",
    "    \"\"\"\n",
    "    Class to provide GUI for  MillerCapDiff\n",
    "    \"\"\"\n",
    "    def __init__(self):\n",
    "        \"\"\"\n",
    "        Front end and binding to backend\n",
    "        \"\"\"\n",
    "        #create the GUI elments\n",
    "        self.R1Slider=widgets.FloatSlider(value=50,\n",
    "                                         min=10, max=100, step=5,\n",
    "                                         description='R1 kOhm',\n",
    "                                         readout_format='.1e')\n",
    "        self.C1Slider=widgets.FloatSlider(value=50,\n",
    "                                         min=1, max=500, step=25,\n",
    "                                         description='C1 pF')\n",
    "        #layout\n",
    "        self.RSVBox=widgets.VBox([self.R1Slider, self.C1Slider])\n",
    "        \n",
    "        #bind to the backend\n",
    "        I=widgets.interact_manual(self.BackEnd, R1=self.R1Slider, \n",
    "                              C1=self.C1Slider)\n",
    "        display(I)\n",
    "    \n",
    "    def BackEnd(self, R1, C1):\n",
    "        \"\"\"\n",
    "        The backend wrapper to the TB and simulation\n",
    "        \"\"\"\n",
    "        \n",
    "        #create the Test Bench and Bind to this instance the MillerCapDiff Topo\n",
    "        TB=OnePortOpAmpTB(MillerCapDiff)\n",
    "        #Setup the Testbench; use a R1=20 Ohm,C1=10 muF and print the TB\n",
    "        TB.SetupCir(**{'R1':R1*1e3, 'C1':C1*1e-12})\n",
    "        #Run the AC Bode Simulation\n",
    "        TB.Simulate()\n",
    "        #View Bode Simulation\n",
    "        TB.PlotResults()"
   ]
  },
  {
   "cell_type": "code",
   "execution_count": 31,
   "metadata": {},
   "outputs": [
    {
     "data": {
      "application/vnd.jupyter.widget-view+json": {
       "model_id": "50ffec3a3b344936ac6599b798c99dbe",
       "version_major": 2,
       "version_minor": 0
      },
      "text/plain": [
       "interactive(children=(FloatSlider(value=50.0, description='R1 kOhm', min=10.0, readout_format='.1e', step=5.0)…"
      ]
     },
     "metadata": {},
     "output_type": "display_data"
    },
    {
     "data": {
      "text/plain": [
       "<function ipywidgets.widgets.interaction._InteractFactory.__call__.<locals>.<lambda>>"
      ]
     },
     "metadata": {},
     "output_type": "display_data"
    }
   ],
   "source": [
    "MillerCapDiffExp();"
   ]
  },
  {
   "cell_type": "markdown",
   "metadata": {},
   "source": [
    "# Miller Inductive Differentiator "
   ]
  },
  {
   "cell_type": "markdown",
   "metadata": {},
   "source": [
    "<img src=\"MillerIndDiff.png\">"
   ]
  },
  {
   "cell_type": "code",
   "execution_count": 32,
   "metadata": {},
   "outputs": [],
   "source": [
    "class MillerIndDiff(SubCircuitFactory):\n",
    "    \"\"\"\n",
    "    Miller Inductive Differentiator  OpAmp SubCir\n",
    "    Termanals:\n",
    "        Vin\n",
    "        Vout\n",
    "    Parms:\n",
    "        R1[Ohms]\n",
    "        L1[Henerys]\n",
    "    \"\"\"\n",
    "    \n",
    "    __name__='MillerIndDiff'\n",
    "    __nodes__=('Vin','Vout')\n",
    "    \n",
    "    def __init__(self, R1=1, L1=1):\n",
    "        super().__init__()\n",
    "        self.R1=R1; self.L1=L1\n",
    "        \n",
    "        self.R('1', 'Vin', '2', R1@u_Ω)\n",
    "        self.L('1', '2', 'Vout', L1@u_H)\n",
    "        \n",
    "        self.subcircuit(BasicOperationalAmplifier())\n",
    "        self.X('op', 'BasicOperationalAmplifier', self.gnd, '2', 'Vout')\n",
    "        self.Theory()\n",
    "    \n",
    "    @staticmethod\n",
    "    def Theory():\n",
    "        \"\"\"Analog Electronics: Circuits, Systems and Signal Processing \n",
    "        Crecraft Gergely\"\"\"        \n",
    "        R1, R2, L1=symbols('R_1, R_2, L_1', real=True, postive=True)\n",
    "        A,Zi, Zo, s=symbols('A, Z_i, Z_o s')\n",
    "        H=Function('H')(s); Zin=Function('Z_in')(s); Zout=Function('Z_out')(s)\n",
    "        TF=Eq(H, -(s*L1)/R1)\n",
    "        Zin=Eq(Zin, R1)\n",
    "        Zout=Eq(Zout, Zo*(R1+(s*L1))/(A*R1))\n",
    "        return TF, Zin, Zout\n",
    "        "
   ]
  },
  {
   "cell_type": "code",
   "execution_count": 33,
   "metadata": {},
   "outputs": [
    {
     "data": {
      "image/png": "[encoded data removed]",
      "text/latex": [
       "$$\\left ( H{\\left (s \\right )} = - \\frac{L_{1} s}{R_{1}}, \\quad \\operatorname{Z_{in}}{\\left (s \\right )} = R_{1}, \\quad \\operatorname{Z_{out}}{\\left (s \\right )} = \\frac{Z_{o}}{A R_{1}} \\left(L_{1} s + R_{1}\\right)\\right )$$"
      ],
      "text/plain": [
       "⎛       -L₁⋅s                          Zₒ⋅(L₁⋅s + R₁)⎞\n",
       "⎜H(s) = ──────, Zᵢₙ(s) = R₁, Zₒᵤₜ(s) = ──────────────⎟\n",
       "⎝         R₁                                A⋅R₁     ⎠"
      ]
     },
     "execution_count": 33,
     "metadata": {},
     "output_type": "execute_result"
    }
   ],
   "source": [
    "MillerIndDiff.Theory()"
   ]
  },
  {
   "cell_type": "code",
   "execution_count": 34,
   "metadata": {},
   "outputs": [],
   "source": [
    "class MillerIndDiffExp():\n",
    "    \"\"\"\n",
    "    Class to provide GUI for  MillerIndDiff\n",
    "    \"\"\"\n",
    "    def __init__(self):\n",
    "        \"\"\"\n",
    "        Front end and binding to backend\n",
    "        \"\"\"\n",
    "        #create the GUI elments\n",
    "        self.R1Slider=widgets.FloatSlider(value=50,\n",
    "                                         min=10, max=100, step=5,\n",
    "                                         description='R1 kOhm',\n",
    "                                         readout_format='.1e')\n",
    "        self.L1Slider=widgets.FloatSlider(value=50,\n",
    "                                         min=1, max=500, step=25,\n",
    "                                         description='L1 uH')\n",
    "        #layout\n",
    "        self.RSVBox=widgets.VBox([self.R1Slider, self.L1Slider])\n",
    "        \n",
    "        #bind to the backend\n",
    "        I=widgets.interact_manual(self.BackEnd, R1=self.R1Slider, \n",
    "                              L1=self.L1Slider)\n",
    "        display(I)\n",
    "    \n",
    "    def BackEnd(self, R1, L1):\n",
    "        \"\"\"\n",
    "        The backend wrapper to the TB and simulation\n",
    "        \"\"\"\n",
    "        \n",
    "        #create the Test Bench and Bind to this instance the MillerCapInt Topo\n",
    "        TB=OnePortOpAmpTB(MillerIndDiff)\n",
    "        #Setup the Testbench; use a R1=20 Ohm,L1=10 muH and print the TB\n",
    "        TB.SetupCir(**{'R1':R1*1e3, 'L1':L1*1e-12})\n",
    "        #Run the AC Bode Simulation\n",
    "        TB.Simulate()\n",
    "        #View Bode Simulation\n",
    "        TB.PlotResults()"
   ]
  },
  {
   "cell_type": "code",
   "execution_count": 35,
   "metadata": {
    "scrolled": true
   },
   "outputs": [
    {
     "data": {
      "application/vnd.jupyter.widget-view+json": {
       "model_id": "2fbc99e26e67460a9973d9e3759505f3",
       "version_major": 2,
       "version_minor": 0
      },
      "text/plain": [
       "interactive(children=(FloatSlider(value=50.0, description='R1 kOhm', min=10.0, readout_format='.1e', step=5.0)…"
      ]
     },
     "metadata": {},
     "output_type": "display_data"
    },
    {
     "data": {
      "text/plain": [
       "<function ipywidgets.widgets.interaction._InteractFactory.__call__.<locals>.<lambda>>"
      ]
     },
     "metadata": {},
     "output_type": "display_data"
    }
   ],
   "source": [
    "MillerIndDiffExp();"
   ]
  },
  {
   "cell_type": "markdown",
   "metadata": {},
   "source": [
    "# High Pass 1Zero"
   ]
  },
  {
   "cell_type": "markdown",
   "metadata": {},
   "source": [
    "<img src=\"HighPass1Z.png\">"
   ]
  },
  {
   "cell_type": "code",
   "execution_count": 36,
   "metadata": {},
   "outputs": [],
   "source": [
    "class HighPass1ZOpAmp(SubCircuitFactory):\n",
    "    \"\"\"\n",
    "    Single Pole Low Pass OpAmp SubCir\n",
    "\n",
    "    Termanals:\n",
    "        Vin\n",
    "        Vout\n",
    "    Parms:\n",
    "        R1[Ohms]\n",
    "        R2[Ohms]\n",
    "        L1[Henerys]\n",
    "    \"\"\"\n",
    "    \n",
    "    __name__='HighPass1ZOpAmp'\n",
    "    __nodes__=('Vin','Vout')\n",
    "    \n",
    "    def __init__(self, R1=1, R2=1, L1=1):\n",
    "        super().__init__()\n",
    "        self.R1=R1; self.R2=R2; self.L1=L1\n",
    "        \n",
    "        self.R('1', 'Vin', '2', R1@u_Ω)\n",
    "        self.R('2', '2', 'Vout', R2@u_Ω)\n",
    "        self.L('1', '2', 'Vout', L1@u_H)\n",
    "        \n",
    "        self.subcircuit(BasicOperationalAmplifier())\n",
    "        #non, inv, out\n",
    "        self.X('op', 'BasicOperationalAmplifier', 'Vin', '2', 'Vout')\n",
    "        \n",
    "    @staticmethod\n",
    "    def Theory():\n",
    "        \"\"\"Analog Electronics: Circuits, Systems and Signal Processing \n",
    "        Crecraft Gergely\"\"\"        \n",
    "        R1, R2, L1=symbols('R_1, R_2, L_1', real=True, postive=True)\n",
    "        A,Zi, Zo, s=symbols('A, Z_i, Z_o s')\n",
    "        H=Function('H')(s); Zin=Function('Z_in')(s); Zout=Function('Z_out')(s)\n",
    "        TF=simplify(Eq(H, -((R2*s*L1)/(s*L1+R2))/R1))\n",
    "        Zin=Eq(Zin, R1)\n",
    "        Zout=simplify(Eq(Zout, Zo*(R1+((R2*s*L1)/(s*L1+R2)))/(A*R1)))\n",
    "        return TF, Zin, Zout\n",
    "        \n"
   ]
  },
  {
   "cell_type": "code",
   "execution_count": 37,
   "metadata": {},
   "outputs": [
    {
     "data": {
      "image/png": "[encoded data removed]",
      "text/latex": [
       "$$\\left ( H{\\left (s \\right )} = - \\frac{L_{1} R_{2} s}{R_{1} \\left(L_{1} s + R_{2}\\right)}, \\quad \\operatorname{Z_{in}}{\\left (s \\right )} = R_{1}, \\quad \\operatorname{Z_{out}}{\\left (s \\right )} = \\frac{Z_{o} \\left(L_{1} R_{2} s + R_{1} \\left(L_{1} s + R_{2}\\right)\\right)}{A R_{1} \\left(L_{1} s + R_{2}\\right)}\\right )$$"
      ],
      "text/plain": [
       "⎛         -L₁⋅R₂⋅s                             Zₒ⋅(L₁⋅R₂⋅s + R₁⋅(L₁⋅s + R₂))⎞\n",
       "⎜H(s) = ──────────────, Zᵢₙ(s) = R₁, Zₒᵤₜ(s) = ─────────────────────────────⎟\n",
       "⎝       R₁⋅(L₁⋅s + R₂)                                A⋅R₁⋅(L₁⋅s + R₂)      ⎠"
      ]
     },
     "execution_count": 37,
     "metadata": {},
     "output_type": "execute_result"
    }
   ],
   "source": [
    "HighPass1ZOpAmp.Theory()"
   ]
  },
  {
   "cell_type": "code",
   "execution_count": 38,
   "metadata": {},
   "outputs": [],
   "source": [
    "class HighPass1ZExp():\n",
    "    \"\"\"\n",
    "    Class to provide GUI for  HighPass1ZOpAmp\n",
    "    \"\"\"\n",
    "    def __init__(self):\n",
    "        \"\"\"\n",
    "        Front end and binding to backend\n",
    "        \"\"\"\n",
    "        #create the GUI elments\n",
    "        self.R1Slider=widgets.FloatSlider(value=50,\n",
    "                                         min=10, max=100, step=5,\n",
    "                                         description='R1 kOhm',\n",
    "                                         readout_format='.1e')\n",
    "        \n",
    "        self.R2Slider=widgets.FloatSlider(value=50,\n",
    "                                         min=10, max=100, step=5,\n",
    "                                         description='R2 kOhm',\n",
    "                                         readout_format='.1e')\n",
    "        \n",
    "        self.L1Slider=widgets.FloatSlider(value=50,\n",
    "                                         min=1, max=500, step=25,\n",
    "                                         description='L1 uH')\n",
    "        #layout\n",
    "        self.RSVBox=widgets.VBox([self.R1Slider, self.R2Slider, self.L1Slider])\n",
    "        \n",
    "        #bind to the backend\n",
    "        I=widgets.interact_manual(self.BackEnd, R1=self.R1Slider,\n",
    "                                  R2=self.R2Slider,\n",
    "                              L1=self.L1Slider)\n",
    "        display(I)\n",
    "    \n",
    "    def BackEnd(self, R1, R2, L1):\n",
    "        \"\"\"\n",
    "        The backend wrapper to the TB and simulation\n",
    "        \"\"\"\n",
    "        \n",
    "        #create the Test Bench and Bind to this instance the HighPass1ZOpAmp Topo\n",
    "        TB=OnePortOpAmpTB(HighPass1ZOpAmp)\n",
    "        #Setup the Testbench; use a R1=20 Ohm,R2=5 Ohm, L1=10 muH and print the TB\n",
    "        TB.SetupCir(**{'R1':R1*1e3, 'R2':R2*1e3, 'L1':L1*1e-6})\n",
    "        #Run the AC Bode Simulation\n",
    "        TB.Simulate()\n",
    "        #View Bode Simulation\n",
    "        TB.PlotResults()\n",
    "\n"
   ]
  },
  {
   "cell_type": "code",
   "execution_count": 39,
   "metadata": {},
   "outputs": [
    {
     "data": {
      "application/vnd.jupyter.widget-view+json": {
       "model_id": "aa12b5f61e5b47f7a53c39cef4eced7b",
       "version_major": 2,
       "version_minor": 0
      },
      "text/plain": [
       "interactive(children=(FloatSlider(value=50.0, description='R1 kOhm', min=10.0, readout_format='.1e', step=5.0)…"
      ]
     },
     "metadata": {},
     "output_type": "display_data"
    },
    {
     "data": {
      "text/plain": [
       "<function ipywidgets.widgets.interaction._InteractFactory.__call__.<locals>.<lambda>>"
      ]
     },
     "metadata": {},
     "output_type": "display_data"
    }
   ],
   "source": [
    "HighPass1ZExp();"
   ]
  },
  {
   "cell_type": "markdown",
   "metadata": {},
   "source": [
    "# AllPass (Phase) Filter\n",
    "http://www.analog.com/media/en/training-seminars/tutorials/MT-202.pdf"
   ]
  },
  {
   "cell_type": "markdown",
   "metadata": {},
   "source": [
    "## First Order Cap First \n",
    "<img src=\"AllPase1stCap1st.png\">"
   ]
  },
  {
   "cell_type": "code",
   "execution_count": 40,
   "metadata": {},
   "outputs": [],
   "source": [
    "class AllPass1CapFOpAmp(SubCircuitFactory):\n",
    "    \"\"\"\n",
    "    AllPass 1st Order Cap First\n",
    "    Termanals:\n",
    "        Vin\n",
    "        Vout\n",
    "    Parms:\n",
    "        R1[Ohms]\n",
    "        R2[Ohms]\n",
    "        R3[Ohms]\n",
    "        C1[Farads]\n",
    "        \n",
    "    \"\"\"\n",
    "    \n",
    "    __name__='AllPass1CapFOpAmp'\n",
    "    __nodes__=('Vin','Vout')\n",
    "    \n",
    "    def __init__(self, R1=1, R2=1, R3=1, C1=1):\n",
    "        super().__init__()\n",
    "        self.R1=R1; self.R2=R2; self.R3=R3\n",
    "        self.C1=C1\n",
    "        \n",
    "        #inverting feedback stucter\n",
    "        self.R('1', 'Vin', '2', R1@u_Ω)\n",
    "        self.R('2', '2', 'Vout', R2@u_Ω)\n",
    "        \n",
    "        #Voltage Divider\n",
    "        self.C('1', 'Vin', '3', C1@u_F)\n",
    "        self.R('3', '3', self.gnd, R3@u_Ω)\n",
    "        \n",
    "        self.subcircuit(BasicOperationalAmplifier())\n",
    "        self.X('op', 'BasicOperationalAmplifier', '3', '2', 'Vout')\n",
    "        self.Theory()\n",
    "    \n",
    "    @staticmethod\n",
    "    def Theory():\n",
    "        A, R1, R2, R3, C1=symbols('A, R_1, R_2, R_3, C_1', real=True, postive=True)\n",
    "        Vn, Vp, Vo, Vi=symbols('V_n, V_p, V_o, V_i')\n",
    "        s=symbols('s')\n",
    "        VpEq=Eq(Vp, (s*C1*R3)/(1+s*C1*R3)* Vi); VpEq\n",
    "        VnEq=Eq(Vn, (R1/(R1+R2))*Vo+(R2/(R1+R2))*Vi); VnEq\n",
    "        VoEq=Eq(Vo, A*(Vp-Vn)); VoEq\n",
    "        VoEq=VoEq.subs({VpEq.lhs: VpEq.rhs, VnEq.lhs:VnEq.rhs})\n",
    "        H=Function('H')(s)\n",
    "        TF=Eq(H, (solve(VoEq, Vo)[0]/Vi)); TF\n",
    "        return TF\n"
   ]
  },
  {
   "cell_type": "code",
   "execution_count": 57,
   "metadata": {},
   "outputs": [],
   "source": [
    "class AllPass1CapFExp():\n",
    "    \"\"\"\n",
    "    Class to provide GUI for Inverting AllPass1CapF\n",
    "    \"\"\"\n",
    "    def __init__(self):\n",
    "        \"\"\"\n",
    "        Front end and binding to backend\n",
    "        \"\"\"\n",
    "        #create the GUI elments\n",
    "        self.R1Slider=widgets.FloatSlider(value=50,\n",
    "                                         min=10, max=100, step=5,\n",
    "                                         description='R1 kOhm',\n",
    "                                         )\n",
    "        self.R2Slider=widgets.FloatSlider(value=50,\n",
    "                                         min=10, max=100, step=5,\n",
    "                                         description='R2 kOhm',\n",
    "                                         )\n",
    "        \n",
    "        self.R3Slider=widgets.FloatSlider(value=50,\n",
    "                                         min=10, max=100, step=5,\n",
    "                                         description='R2 kOhm',\n",
    "                                         )\n",
    "        \n",
    "        \n",
    "        self.C1Slider=widgets.FloatSlider(value=50,\n",
    "                                         min=1, max=500, step=25,\n",
    "                                         description='C1 pF')\n",
    "        #layout\n",
    "        self.RSVBox=widgets.VBox([self.R1Slider, self.R2Slider])\n",
    "        \n",
    "        #bind to the backend\n",
    "        I=widgets.interact_manual(self.BackEnd, R1=self.R1Slider, \n",
    "                              R2=self.R2Slider, R3=self.R3Slider, C1=self.C1Slider)\n",
    "        display(I)\n",
    "    \n",
    "    def BackEnd(self, R1, R2, R3, C1):\n",
    "        \"\"\"\n",
    "        The backend wrapper to the TB and simulation\n",
    "        \"\"\"\n",
    "        \n",
    "        #create the Test Bench and Bind to this instance the HighPass1ZOpAmp Topo\n",
    "        TB=OnePortOpAmpTB(AllPass1CapFOpAmp)\n",
    "        #Setup the Testbench; use a R1=20 Ohm,R2=5 Ohm, L1=10 muH and print the TB\n",
    "        TB.SetupCir(**{'R1':R1*1e3, 'R2':R2*1e3, 'R3':R3*1e3, 'C1':C1*1e-9})\n",
    "        #Run the AC Bode Simulation\n",
    "        TB.Simulate()\n",
    "        #View Bode Simulation\n",
    "        TB.PlotResults()\n"
   ]
  },
  {
   "cell_type": "code",
   "execution_count": 58,
   "metadata": {},
   "outputs": [
    {
     "data": {
      "application/vnd.jupyter.widget-view+json": {
       "model_id": "d17a77494b1f49b2baf9d1a7af3cbde7",
       "version_major": 2,
       "version_minor": 0
      },
      "text/plain": [
       "interactive(children=(FloatSlider(value=50.0, description='R1 kOhm', min=10.0, step=5.0), FloatSlider(value=50…"
      ]
     },
     "metadata": {},
     "output_type": "display_data"
    },
    {
     "data": {
      "text/plain": [
       "<function ipywidgets.widgets.interaction._InteractFactory.__call__.<locals>.<lambda>>"
      ]
     },
     "metadata": {},
     "output_type": "display_data"
    },
    {
     "data": {
      "text/plain": [
       "<__main__.AllPass1CapFExp at 0x7fbb734a3dd8>"
      ]
     },
     "execution_count": 58,
     "metadata": {},
     "output_type": "execute_result"
    }
   ],
   "source": [
    "AllPass1CapFExp()"
   ]
  },
  {
   "cell_type": "markdown",
   "metadata": {},
   "source": [
    "## First Order Cap Second \n",
    "<img src=\"AllPase1stCap2nd.png\">"
   ]
  },
  {
   "cell_type": "code",
   "execution_count": 42,
   "metadata": {},
   "outputs": [],
   "source": [
    "class AllPass1CapSOpAmp(SubCircuitFactory):\n",
    "    \"\"\"\n",
    "    AllPass 1st Order Cap Second\n",
    "    Termanals:\n",
    "        Vin\n",
    "        Vout\n",
    "    Parms:\n",
    "        R1[Ohms]\n",
    "        R2[Ohms]\n",
    "        R3[Ohms]\n",
    "        C1[Farads]\n",
    "        \n",
    "    \"\"\"\n",
    "    \n",
    "    __name__='AllPass1CapSOpAmp'\n",
    "    __nodes__=('Vin','Vout')\n",
    "    \n",
    "    def __init__(self, R1=1, R2=1, R3=1, C1=1):\n",
    "        super().__init__()\n",
    "        self.R1=R1; self.R2=R2; self.R3=R3\n",
    "        self.C1=C1\n",
    "        \n",
    "        #inverting feedback stucter\n",
    "        self.R('1', 'Vin', '2', R1@u_Ω)\n",
    "        self.R('2', '2', 'Vout', R2@u_Ω)\n",
    "        \n",
    "        #Voltage Divider\n",
    "        self.R('3', 'Vin', '3', R3@u_Ω)\n",
    "        self.C('1', '3', self.gnd, C1@u_F)\n",
    "\n",
    "        \n",
    "        self.subcircuit(BasicOperationalAmplifier())\n",
    "        self.X('op', 'BasicOperationalAmplifier', '3', '2', 'Vout')\n",
    "        self.Theory()\n",
    "    \n",
    "    @staticmethod\n",
    "    def Theory():\n",
    "        A, R1, R2, R3, C1=symbols('A, R_1, R_2, R_3, C_1', real=True, postive=True)\n",
    "        Vn, Vp, Vo, Vi=symbols('V_n, V_p, V_o, V_i')\n",
    "        s=symbols('s')\n",
    "        VpEq=simplify(Eq(Vp, ((1/(s*C1))/((1/s*C1 +R3)))* Vi)); VpEq\n",
    "        VnEq=Eq(Vn, (R1/(R1+R2))*Vo+(R2/(R1+R2))*Vi); VnEq\n",
    "        VoEq=Eq(Vo, A*(Vp-Vn)); VoEq\n",
    "        VoEq=VoEq.subs({VpEq.lhs: VpEq.rhs, VnEq.lhs:VnEq.rhs})\n",
    "        H=Function('H')(s)\n",
    "        TF=Eq(H, (solve(VoEq, Vo)[0]/Vi)); TF\n",
    "        return TF\n"
   ]
  },
  {
   "cell_type": "code",
   "execution_count": 43,
   "metadata": {},
   "outputs": [
    {
     "data": {
      "image/png": "[encoded data removed]",
      "text/latex": [
       "$$H{\\left (s \\right )} = \\frac{A \\left(- C_{1}^{2} R_{2} - C_{1} R_{2} R_{3} s + R_{1} + R_{2}\\right)}{C_{1} \\left(A C_{1} R_{1} + A R_{1} R_{3} s + C_{1} R_{1} + C_{1} R_{2} + R_{1} R_{3} s + R_{2} R_{3} s\\right)}$$"
      ],
      "text/plain": [
       "                     ⎛    2                          ⎞             \n",
       "                   A⋅⎝- C₁ ⋅R₂ - C₁⋅R₂⋅R₃⋅s + R₁ + R₂⎠             \n",
       "H(s) = ────────────────────────────────────────────────────────────\n",
       "       C₁⋅(A⋅C₁⋅R₁ + A⋅R₁⋅R₃⋅s + C₁⋅R₁ + C₁⋅R₂ + R₁⋅R₃⋅s + R₂⋅R₃⋅s)"
      ]
     },
     "execution_count": 43,
     "metadata": {},
     "output_type": "execute_result"
    }
   ],
   "source": [
    "AllPass1CapSOpAmp.Theory()"
   ]
  },
  {
   "cell_type": "code",
   "execution_count": 59,
   "metadata": {},
   "outputs": [],
   "source": [
    "class AllPass1CapSExp():\n",
    "    \"\"\"\n",
    "    Class to provide GUI for Inverting AllPass1CapS\n",
    "    \"\"\"\n",
    "    def __init__(self):\n",
    "        \"\"\"\n",
    "        Front end and binding to backend\n",
    "        \"\"\"\n",
    "        #create the GUI elments\n",
    "        self.R1Slider=widgets.FloatSlider(value=50,\n",
    "                                         min=10, max=100, step=5,\n",
    "                                         description='R1 kOhm',\n",
    "                                         )\n",
    "        self.R2Slider=widgets.FloatSlider(value=50,\n",
    "                                         min=10, max=100, step=5,\n",
    "                                         description='R2 kOhm',\n",
    "                                         )\n",
    "        \n",
    "        self.R3Slider=widgets.FloatSlider(value=50,\n",
    "                                         min=10, max=100, step=5,\n",
    "                                         description='R2 kOhm',\n",
    "                                         )\n",
    "        \n",
    "        \n",
    "        self.C1Slider=widgets.FloatSlider(value=50,\n",
    "                                         min=1, max=500, step=25,\n",
    "                                         description='C1 pF')\n",
    "        #layout\n",
    "        self.RSVBox=widgets.VBox([self.R1Slider, self.R2Slider])\n",
    "        \n",
    "        #bind to the backend\n",
    "        I=widgets.interact_manual(self.BackEnd, R1=self.R1Slider, \n",
    "                              R2=self.R2Slider, R3=self.R3Slider, C1=self.C1Slider)\n",
    "        display(I)\n",
    "    \n",
    "    def BackEnd(self, R1, R2, R3, C1):\n",
    "        \"\"\"\n",
    "        The backend wrapper to the TB and simulation\n",
    "        \"\"\"\n",
    "        \n",
    "        #create the Test Bench and Bind to this instance the HighPass1ZOpAmp Topo\n",
    "        TB=OnePortOpAmpTB(AllPass1CapSOpAmp)\n",
    "        #Setup the Testbench; use a R1=20 Ohm,R2=5 Ohm, L1=10 muH and print the TB\n",
    "        TB.SetupCir(**{'R1':R1*1e3, 'R2':R2*1e3, 'R3':R3*1e3, 'C1':C1*1e-9})\n",
    "        #Run the AC Bode Simulation\n",
    "        TB.Simulate()\n",
    "        #View Bode Simulation\n",
    "        TB.PlotResults()\n"
   ]
  },
  {
   "cell_type": "code",
   "execution_count": 60,
   "metadata": {},
   "outputs": [
    {
     "data": {
      "application/vnd.jupyter.widget-view+json": {
       "model_id": "5357e6551d804fd88aa4ef95908a6c02",
       "version_major": 2,
       "version_minor": 0
      },
      "text/plain": [
       "interactive(children=(FloatSlider(value=50.0, description='R1 kOhm', min=10.0, step=5.0), FloatSlider(value=50…"
      ]
     },
     "metadata": {},
     "output_type": "display_data"
    },
    {
     "data": {
      "text/plain": [
       "<function ipywidgets.widgets.interaction._InteractFactory.__call__.<locals>.<lambda>>"
      ]
     },
     "metadata": {},
     "output_type": "display_data"
    },
    {
     "data": {
      "text/plain": [
       "<__main__.AllPass1CapSExp at 0x7fbb73364dd8>"
      ]
     },
     "execution_count": 60,
     "metadata": {},
     "output_type": "execute_result"
    }
   ],
   "source": [
    "AllPass1CapSExp()"
   ]
  },
  {
   "cell_type": "markdown",
   "metadata": {},
   "source": [
    "# Sallen-Key Filter\n",
    "[Analog Electronics: Circuits, Systems and Signal Processing Crecraft & Gergely](https://www.amazon.com/Analog-Electronics-Circuits-Systems-Processing-ebook/dp/B00CXO975A/ref=sr_1_1?ie=UTF8&qid=1524885102&sr=8-1&keywords=Analog+Electronics+Crecraft+Gergely) 10.6.2"
   ]
  },
  {
   "cell_type": "markdown",
   "metadata": {},
   "source": [
    "<img src=\"SallanKeyGen.png\">\n",
    "$$G=\\dfrac{A_V Y_1 Y_3}{Y_5(Y_1+Y_2+Y_3+Y_4)+Y_3(Y_1+Y_2+Y_4(1+A_V))}$$"
   ]
  },
  {
   "cell_type": "markdown",
   "metadata": {},
   "source": [
    "## Low Pass with Voltage Gain\n",
    "$$Y_1=R_1$$\n",
    "$$Y_2=0$$\n",
    "$$Y_3=R_3$$\n",
    "$$Y_4=sC_4$$\n",
    "$$Y_5=sC_5$$"
   ]
  },
  {
   "cell_type": "code",
   "execution_count": 45,
   "metadata": {},
   "outputs": [],
   "source": [
    "class LPSKV(SubCircuitFactory):\n",
    "    \"\"\"\n",
    "    Low Pass Sallen-Key with Voltage Gain NonInverting Amp\n",
    "\n",
    "    Termanals:\n",
    "        Vin\n",
    "        Vout\n",
    "    Parms:\n",
    "        R1[Ohms]\n",
    "        R3[Ohms]\n",
    "        C4[Farads]\n",
    "        C5[Farads]\n",
    "        RF1[Ohms]: NonInverting Feedback R1\n",
    "        RF2[Ohms]: NonInverting Feedback R2\n",
    "        \n",
    "    \"\"\"\n",
    "    \n",
    "    __name__='LPSKV'\n",
    "    __nodes__=('Vin','Vout')\n",
    "    \n",
    "    def __init__(self, R1=1, R3=1, C4=1e-12, C5=1e-12, RF1=1, RF2=1):\n",
    "        super().__init__()\n",
    "        self.R1=R1; self.R3=R3; self.C4=C4; self.C5=C5\n",
    "        self.RF1=RF1; self.RF2=RF2\n",
    "        \n",
    "        self.R('1', 'Vin', '1', R1@u_Ω)\n",
    "        self.R('3', '1', '2', R3@u_Ω)\n",
    "        self.C('4', '1', 'Vout', C4@u_F)\n",
    "        self.C('5', '2', self.gnd, C5@u_F)\n",
    "        \n",
    "        \n",
    "        self.subcircuit(NonInvertingOpAmp(R1=RF1, R2=RF2))\n",
    "        self.X('Av', 'NonInvertingOpAmp', '2', 'Vout')\n",
    "        \n",
    "    "
   ]
  },
  {
   "cell_type": "code",
   "execution_count": 46,
   "metadata": {},
   "outputs": [],
   "source": [
    "class LPSKVExp():\n",
    "    \"\"\"\n",
    "    Class to provide GUI for  LPSKV\n",
    "    \"\"\"\n",
    "    def __init__(self):\n",
    "        \"\"\"\n",
    "        Front end and binding to backend\n",
    "        \"\"\"\n",
    "        #create the GUI elments\n",
    "        self.R1Slider=widgets.FloatSlider(value=50,\n",
    "                                         min=10, max=100, step=5,\n",
    "                                         description='R1 kOhm',\n",
    "                                         readout_format='.1e')\n",
    "        \n",
    "        self.R3Slider=widgets.FloatSlider(value=50,\n",
    "                                         min=10, max=100, step=5,\n",
    "                                         description='R5 kOhm',\n",
    "                                         readout_format='.1e')\n",
    "        \n",
    "        self.C4Slider=widgets.FloatSlider(value=50,\n",
    "                                         min=1, max=500, step=25,\n",
    "                                         description='C4 pF')\n",
    "        \n",
    "        self.C5Slider=widgets.FloatSlider(value=50,\n",
    "                                         min=1, max=500, step=25,\n",
    "                                         description='C5 pF')\n",
    "        \n",
    "        self.RF1Slider=widgets.FloatSlider(value=50,\n",
    "                                         min=10, max=100, step=5,\n",
    "                                         description='RF1 kOhm',\n",
    "                                         readout_format='.1e')\n",
    "        \n",
    "        self.RF2Slider=widgets.FloatSlider(value=50,\n",
    "                                         min=10, max=100, step=5,\n",
    "                                         description='RF2 kOhm',\n",
    "                                         readout_format='.1e')\n",
    "        \n",
    "        \n",
    "        #layout\n",
    "        self.RSVBox=widgets.VBox([self.R1Slider, self.R3Slider, \n",
    "                                  self.C4Slider, self.C5Slider,\n",
    "                                 self.RF1Slider, self.RF2Slider])\n",
    "        \n",
    "        #bind to the backend\n",
    "        I=widgets.interact_manual(self.BackEnd, \n",
    "                                  R1=self.R1Slider, \n",
    "                                  R3=self.R3Slider, \n",
    "                                  C4=self.C4Slider, \n",
    "                                  C5=self.C5Slider, \n",
    "                                  RF1=self.RF1Slider, \n",
    "                                  RF2=self.RF2Slider)\n",
    "        display(I)\n",
    "    \n",
    "    def BackEnd(self, R1, R3, C4, C5, RF1, RF2):\n",
    "        \"\"\"\n",
    "        The backend wrapper to the TB and simulation\n",
    "        \"\"\"\n",
    "        \n",
    "        #create the Test Bench and Bind to this instance the LPSKV Topo\n",
    "        TB=OnePortOpAmpTB(LPSKV)\n",
    "        #Setup the Testbench; use a R1:20 Ohm,R2:5 Ohm, L1:10 muH and print the TB\n",
    "        TB.SetupCir(**{'R1':R1*1e3, 'R3':R3*1e3, 'C4':C4*1e-12, 'C5':C5*1e-12, \n",
    "                     'RF1':RF1*1e3, 'RF2':RF2*1e3})\n",
    "        #Run the AC Bode Simulation\n",
    "        TB.Simulate(fMax=10e9)\n",
    "        #View Bode Simulation\n",
    "        TB.PlotResults()\n"
   ]
  },
  {
   "cell_type": "code",
   "execution_count": 47,
   "metadata": {},
   "outputs": [
    {
     "data": {
      "application/vnd.jupyter.widget-view+json": {
       "model_id": "164d29efa72542488805cdb206a40397",
       "version_major": 2,
       "version_minor": 0
      },
      "text/plain": [
       "interactive(children=(FloatSlider(value=50.0, description='R1 kOhm', min=10.0, readout_format='.1e', step=5.0)…"
      ]
     },
     "metadata": {},
     "output_type": "display_data"
    },
    {
     "data": {
      "text/plain": [
       "<function ipywidgets.widgets.interaction._InteractFactory.__call__.<locals>.<lambda>>"
      ]
     },
     "metadata": {},
     "output_type": "display_data"
    }
   ],
   "source": [
    "LPSKVExp();"
   ]
  },
  {
   "cell_type": "markdown",
   "metadata": {},
   "source": [
    "## Band Pass with Voltage Gain\n",
    "$$Y_1=R_1$$\n",
    "$$Y_2=0$$\n",
    "$$Y_3=C_3$$\n",
    "$$Y_4=R_4$$\n",
    "$$Y_5=sC_5$$"
   ]
  },
  {
   "cell_type": "code",
   "execution_count": 48,
   "metadata": {},
   "outputs": [],
   "source": [
    "class BPSKV(SubCircuitFactory):\n",
    "    \"\"\"\n",
    "    Band Pass Sallen-Key with Voltage Gain NonInverting Amp\n",
    "\n",
    "    Termanals:\n",
    "        Vin\n",
    "        Vout\n",
    "    Parms:\n",
    "        R1[Ohms]\n",
    "        R4[Ohms]\n",
    "        R5[Ohms]\n",
    "        C3[Farads]\n",
    "        C5[Farads]\n",
    "        RF1[Ohms]: NonInverting Feedback R1\n",
    "        RF2[Ohms]: NonInverting Feedback R2\n",
    "        \n",
    "    \"\"\"\n",
    "    \n",
    "    __name__='BPSKV'\n",
    "    __nodes__=('Vin','Vout')\n",
    "    \n",
    "    def __init__(self, R1=1, R4=1, R5=1, C3=1e-12, C5=1e-12, RF1=1, RF2=1):\n",
    "        super().__init__()\n",
    "        self.R1=R1; self.R4=R4; self.C3=C3; self.C5=C5\n",
    "        self.RF1=RF1; self.RF2=RF2\n",
    "        \n",
    "        self.R('1', 'Vin', '1', R1@u_Ω)\n",
    "        self.C('3', '1', '2', C3@u_F)\n",
    "        self.R('4', '1', 'Vout', R4@u_Ω)\n",
    "        self.C('5', '2', self.gnd, C5@u_F)\n",
    "        self.R('5', '2', self.gnd, R5@u_Ω)\n",
    "        \n",
    "        \n",
    "        self.subcircuit(NonInvertingOpAmp(R1=RF1, R2=RF2))\n",
    "        self.X('Av', 'NonInvertingOpAmp', '2', 'Vout')\n",
    "        \n",
    "    "
   ]
  },
  {
   "cell_type": "code",
   "execution_count": 49,
   "metadata": {},
   "outputs": [],
   "source": [
    "class BPSKVExp():\n",
    "    \"\"\"\n",
    "    Class to provide GUI for  BPSKV\n",
    "    \"\"\"\n",
    "    def __init__(self):\n",
    "        \"\"\"\n",
    "        Front end and binding to backend\n",
    "        \"\"\"\n",
    "        #create the GUI elments\n",
    "        self.R1Slider=widgets.FloatSlider(value=50,\n",
    "                                         min=10, max=100, step=5,\n",
    "                                         description='R1 kOhm',\n",
    "                                         readout_format='.1e')\n",
    "        \n",
    "        self.R4Slider=widgets.FloatSlider(value=50,\n",
    "                                         min=10, max=100, step=5,\n",
    "                                         description='R4 kOhm',\n",
    "                                         readout_format='.1e')\n",
    "        self.R5Slider=widgets.FloatSlider(value=50,\n",
    "                                         min=10, max=100, step=5,\n",
    "                                         description='R5 kOhm',\n",
    "                                         readout_format='.1e')\n",
    "        \n",
    "        self.C3Slider=widgets.FloatSlider(value=50,\n",
    "                                         min=1, max=500, step=25,\n",
    "                                         description='C3 pF')\n",
    "        \n",
    "        self.C5Slider=widgets.FloatSlider(value=50,\n",
    "                                         min=1, max=500, step=5,\n",
    "                                         description='C5 pF')\n",
    "        \n",
    "        self.RF1Slider=widgets.FloatSlider(value=50,\n",
    "                                         min=10, max=100, step=5,\n",
    "                                         description='RF1 kOhm',\n",
    "                                         readout_format='.1e')\n",
    "        \n",
    "        self.RF2Slider=widgets.FloatSlider(value=50,\n",
    "                                         min=10, max=100, step=5,\n",
    "                                         description='RF2 kOhm',\n",
    "                                         readout_format='.1e')\n",
    "        \n",
    "        \n",
    "        #layout\n",
    "        self.RSVBox=widgets.VBox([self.R1Slider, self.R4Slider, self.R5Slider, \n",
    "                                  self.C3Slider, self.C5Slider,\n",
    "                                 self.RF1Slider, self.RF2Slider])\n",
    "        \n",
    "        #bind to the backend\n",
    "        I=widgets.interact_manual(self.BackEnd, \n",
    "                                  R1=self.R1Slider, \n",
    "                                  R4=self.R4Slider,\n",
    "                                  R5=self.R5Slider, \n",
    "                                  C3=self.C3Slider, \n",
    "                                  C5=self.C5Slider, \n",
    "                                  RF1=self.RF1Slider, \n",
    "                                  RF2=self.RF2Slider)\n",
    "        display(I)\n",
    "    \n",
    "    def BackEnd(self, R1, R4, R5, C3, C5, RF1, RF2):\n",
    "        \"\"\"\n",
    "        The backend wrapper to the TB and simulation\n",
    "        \"\"\"\n",
    "        \n",
    "        #create the Test Bench and Bind to this instance the BPSKV Topo\n",
    "        TB=OnePortOpAmpTB(BPSKV)\n",
    "        #Setup the Testbench; use a R1:20 Ohm,R2:5 Ohm, L1:10 muH and print the TB\n",
    "        TB.SetupCir(**{'R1':R1*1e3, 'R4':1e3, 'R5':1e3, \n",
    "                       'C3':C3*1e-12, 'C5':C5*1e-12, \n",
    "                     'RF1':RF1*1e3, 'RF2':RF2*1e3})\n",
    "        #Run the AC Bode Simulation\n",
    "        TB.Simulate(fMax=10e9)\n",
    "        #View Bode Simulation\n",
    "        TB.PlotResults()\n"
   ]
  },
  {
   "cell_type": "code",
   "execution_count": 50,
   "metadata": {},
   "outputs": [
    {
     "data": {
      "application/vnd.jupyter.widget-view+json": {
       "model_id": "514683fdf0d146f79b3c8861f5b12f9f",
       "version_major": 2,
       "version_minor": 0
      },
      "text/plain": [
       "interactive(children=(FloatSlider(value=50.0, description='R1 kOhm', min=10.0, readout_format='.1e', step=5.0)…"
      ]
     },
     "metadata": {},
     "output_type": "display_data"
    },
    {
     "data": {
      "text/plain": [
       "<function ipywidgets.widgets.interaction._InteractFactory.__call__.<locals>.<lambda>>"
      ]
     },
     "metadata": {},
     "output_type": "display_data"
    }
   ],
   "source": [
    "BPSKVExp();"
   ]
  },
  {
   "cell_type": "markdown",
   "metadata": {},
   "source": [
    "## HIgh Pass with Voltage Gain\n",
    "$$Y_1=sC_1$$\n",
    "$$Y_2=0$$\n",
    "$$Y_3=sC_3$$\n",
    "$$Y_4=R_4$$\n",
    "$$Y_5=R_5$$"
   ]
  },
  {
   "cell_type": "code",
   "execution_count": 51,
   "metadata": {
    "code_folding": []
   },
   "outputs": [],
   "source": [
    "class HPSKV(SubCircuitFactory):\n",
    "    \"\"\"\n",
    "    High Pass Sallen-Key with Voltage Gain NonInverting Amp\n",
    "\n",
    "    Termanals:\n",
    "        Vin\n",
    "        Vout\n",
    "    Parms:\n",
    "        R4[Ohms]\n",
    "        R5[Ohms]\n",
    "        C1[Farads]\n",
    "        C3[Farads]\n",
    "        RF1[Ohms]: NonInverting Feedback R1\n",
    "        RF2[Ohms]: NonInverting Feedback R2\n",
    "        \n",
    "    \"\"\"\n",
    "    \n",
    "    __name__='HPSKV'\n",
    "    __nodes__=('Vin','Vout')\n",
    "    \n",
    "    def __init__(self, R4=1, R5=1, C1=1e-12, C3=1e-12, RF1=1, RF2=1):\n",
    "        super().__init__()\n",
    "        self.R4=R4; self.R5=R5; self.C1=C1; self.C3=C3\n",
    "        self.RF1=RF1; self.RF2=RF2\n",
    "        \n",
    "        self.C('1', 'Vin', '1', C1@u_F)\n",
    "        self.C('3', '1', '2', C3@u_F)\n",
    "        self.R('4', '1', 'Vout', R4@u_Ω)\n",
    "        self.R('5', '2', self.gnd, R5@u_Ω)\n",
    "        \n",
    "        \n",
    "        self.subcircuit(NonInvertingOpAmp(R1=RF1, R2=RF2))\n",
    "        self.X('Av', 'NonInvertingOpAmp', '2', 'Vout')\n",
    "        \n",
    "    "
   ]
  },
  {
   "cell_type": "code",
   "execution_count": 54,
   "metadata": {},
   "outputs": [],
   "source": [
    "class HPSKVExp():\n",
    "    \"\"\"\n",
    "    Class to provide GUI for  HPSKV\n",
    "    \"\"\"\n",
    "    def __init__(self):\n",
    "        \"\"\"\n",
    "        Front end and binding to backend\n",
    "        \"\"\"\n",
    "        #create the GUI elments\n",
    "        self.R4Slider=widgets.FloatSlider(value=50,\n",
    "                                         min=10, max=100, step=5,\n",
    "                                         description='R4 kOhm',\n",
    "                                         readout_format='.1e')\n",
    "        \n",
    "        \n",
    "        self.R5Slider=widgets.FloatSlider(value=50,\n",
    "                                         min=10, max=100, step=5,\n",
    "                                         description='R5 kOhm',\n",
    "                                         readout_format='.1e')\n",
    "        \n",
    "        self.C1Slider=widgets.FloatSlider(value=50,\n",
    "                                         min=1, max=500, step=25,\n",
    "                                         description='C1 pF')\n",
    "        \n",
    "        self.C3Slider=widgets.FloatSlider(value=50,\n",
    "                                         min=1, max=500, step=5,\n",
    "                                         description='C5 pF')\n",
    "        \n",
    "        self.RF1Slider=widgets.FloatSlider(value=50,\n",
    "                                         min=10, max=100, step=5,\n",
    "                                         description='RF1 kOhm',\n",
    "                                         readout_format='.1e')\n",
    "        \n",
    "        self.RF2Slider=widgets.FloatSlider(value=50,\n",
    "                                         min=10, max=100, step=5,\n",
    "                                         description='RF2 kOhm',\n",
    "                                         readout_format='.1e')\n",
    "        \n",
    "        \n",
    "        #layout\n",
    "        self.RSVBox=widgets.VBox([self.R4Slider, self.R5Slider,\n",
    "                                  self.C1Slider, self.C3Slider,\n",
    "                                 self.RF1Slider, self.RF2Slider])\n",
    "        \n",
    "        #bind to the backend\n",
    "        I=widgets.interact_manual(self.BackEnd, \n",
    "                                  R4=self.R4Slider,\n",
    "                                  R5=self.R5Slider, \n",
    "                                  C1=self.C1Slider, \n",
    "                                  C3=self.C3Slider, \n",
    "                                  RF1=self.RF1Slider, \n",
    "                                  RF2=self.RF2Slider)\n",
    "        \n",
    "        display(I)\n",
    "    \n",
    "    def BackEnd(self, R4, R5, C1, C3, RF1, RF2):\n",
    "        \"\"\"\n",
    "        The backend wrapper to the TB and simulation\n",
    "        \"\"\"\n",
    "        \n",
    "        #create the Test Bench and Bind to this instance the LPSKV Topo\n",
    "        TB=OnePortOpAmpTB(HPSKV)\n",
    "        #Setup the Testbench; use a R1:20 Ohm,R2:5 Ohm, L1:10 muH and print the TB\n",
    "        TB.SetupCir(**{'R4':R4*1e3, 'R5':R5*1e3, 'C1':C1*1e-12, 'C3':C3*1e-12, \n",
    "                     'RF1':RF1*1e3, 'RF2':RF2*1e3})\n",
    "        #Run the AC Bode Simulation\n",
    "        TB.Simulate(fMax=10e9)\n",
    "        #View Bode Simulation\n",
    "        TB.PlotResults()"
   ]
  },
  {
   "cell_type": "code",
   "execution_count": 55,
   "metadata": {},
   "outputs": [
    {
     "data": {
      "application/vnd.jupyter.widget-view+json": {
       "model_id": "034c05f7b9664233b04e3238ccfb8352",
       "version_major": 2,
       "version_minor": 0
      },
      "text/plain": [
       "interactive(children=(FloatSlider(value=50.0, description='R4 kOhm', min=10.0, readout_format='.1e', step=5.0)…"
      ]
     },
     "metadata": {},
     "output_type": "display_data"
    },
    {
     "data": {
      "text/plain": [
       "<function ipywidgets.widgets.interaction._InteractFactory.__call__.<locals>.<lambda>>"
      ]
     },
     "metadata": {},
     "output_type": "display_data"
    }
   ],
   "source": [
    "HPSKVExp();"
   ]
  }
 ],
 "metadata": {
  "author": "Operatial Amplifier Topology Repository for use with Python",
  "hide_input": false,
  "kernelspec": {
   "display_name": "Python 3",
   "language": "python",
   "name": "python3"
  },
  "language_info": {
   "codemirror_mode": {
    "name": "ipython",
    "version": 3
   },
   "file_extension": ".py",
   "mimetype": "text/x-python",
   "name": "python",
   "nbconvert_exporter": "python",
   "pygments_lexer": "ipython3",
   "version": "3.6.4"
  },
  "latex_envs": {
   "LaTeX_envs_menu_present": true,
   "autocomplete": true,
   "bibliofile": "biblio.bib",
   "cite_by": "apalike",
   "current_citInitial": 1,
   "eqLabelWithNumbers": true,
   "eqNumInitial": 1,
   "hotkeys": {
    "equation": "Ctrl-E",
    "itemize": "Ctrl-I"
   },
   "labels_anchors": false,
   "latex_user_defs": false,
   "report_style_numbering": false,
   "user_envs_cfg": false
  },
  "toc": {
   "nav_menu": {},
   "number_sections": true,
   "sideBar": true,
   "skip_h1_title": false,
   "title_cell": "Table of Contents",
   "title_sidebar": "Contents",
   "toc_cell": true,
   "toc_position": {},
   "toc_section_display": true,
   "toc_window_display": true
  }
 },
 "nbformat": 4,
 "nbformat_minor": 2
}
