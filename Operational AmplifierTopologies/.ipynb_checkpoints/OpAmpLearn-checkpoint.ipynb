{
 "cells": [
  {
   "cell_type": "markdown",
   "metadata": {},
   "source": [
    "\\title{Operatial Amplifier Topology Repository for use with Python}\n",
    "\\author{Steven K Armour}\n",
    "\\maketitle"
   ]
  },
  {
   "cell_type": "markdown",
   "metadata": {
    "toc": true
   },
   "source": [
    "<h1>Table of Contents<span class=\"tocSkip\"></span></h1>\n",
    "<div class=\"toc\" style=\"margin-top: 1em;\"><ul class=\"toc-item\"><li><span><a href=\"#Premise\" data-toc-modified-id=\"Premise-1\"><span class=\"toc-item-num\">1&nbsp;&nbsp;</span>Premise</a></span></li><li><span><a href=\"#Libarys\" data-toc-modified-id=\"Libarys-2\"><span class=\"toc-item-num\">2&nbsp;&nbsp;</span>Libarys</a></span></li><li><span><a href=\"#Setup\" data-toc-modified-id=\"Setup-3\"><span class=\"toc-item-num\">3&nbsp;&nbsp;</span>Setup</a></span></li><li><span><a href=\"#Ideal-OpAmp\" data-toc-modified-id=\"Ideal-OpAmp-4\"><span class=\"toc-item-num\">4&nbsp;&nbsp;</span>Ideal OpAmp</a></span></li><li><span><a href=\"#TestBench\" data-toc-modified-id=\"TestBench-5\"><span class=\"toc-item-num\">5&nbsp;&nbsp;</span>TestBench</a></span></li><li><span><a href=\"#Buffer\" data-toc-modified-id=\"Buffer-6\"><span class=\"toc-item-num\">6&nbsp;&nbsp;</span>Buffer</a></span></li><li><span><a href=\"#Inverting\" data-toc-modified-id=\"Inverting-7\"><span class=\"toc-item-num\">7&nbsp;&nbsp;</span>Inverting</a></span></li><li><span><a href=\"#Noninverting\" data-toc-modified-id=\"Noninverting-8\"><span class=\"toc-item-num\">8&nbsp;&nbsp;</span>Noninverting</a></span></li><li><span><a href=\"#Miller-Capactive-Integrator\" data-toc-modified-id=\"Miller-Capactive-Integrator-9\"><span class=\"toc-item-num\">9&nbsp;&nbsp;</span>Miller Capactive Integrator</a></span></li><li><span><a href=\"#Miller-Inductive-Integrator\" data-toc-modified-id=\"Miller-Inductive-Integrator-10\"><span class=\"toc-item-num\">10&nbsp;&nbsp;</span>Miller Inductive Integrator</a></span></li><li><span><a href=\"#Low-Pass-1Pole\" data-toc-modified-id=\"Low-Pass-1Pole-11\"><span class=\"toc-item-num\">11&nbsp;&nbsp;</span>Low Pass 1Pole</a></span></li><li><span><a href=\"#Miller-Capacitive-Differentiator\" data-toc-modified-id=\"Miller-Capacitive-Differentiator-12\"><span class=\"toc-item-num\">12&nbsp;&nbsp;</span>Miller Capacitive Differentiator</a></span></li><li><span><a href=\"#Miller-Inductive-Differentiator\" data-toc-modified-id=\"Miller-Inductive-Differentiator-13\"><span class=\"toc-item-num\">13&nbsp;&nbsp;</span>Miller Inductive Differentiator</a></span></li><li><span><a href=\"#High-Pass-1Zero\" data-toc-modified-id=\"High-Pass-1Zero-14\"><span class=\"toc-item-num\">14&nbsp;&nbsp;</span>High Pass 1Zero</a></span></li></ul></div>"
   ]
  },
  {
   "cell_type": "markdown",
   "metadata": {},
   "source": [
    "Note:\n",
    "this notebook uses the [`(some) LaTeX environments for Jupyter\n",
    "`](http://jupyter-contrib-nbextensions.readthedocs.io/en/latest/nbextensions/latex_envs/README.html) found within the install of https://github.com/ipython-contrib/jupyter_contrib_nbextensions\n",
    "\n",
    "And all diagrams are made in **draw.io** where the source file is `OpAmpTobosDrawing.html` where that file and the exported files should accompany this notebook from its GitHub source\n",
    "\n",
    "!!! Also, note at this point with PySpice 1.2 complex numbers are not being returned from NgSpice; when this is fixed this notebook will be updated"
   ]
  },
  {
   "cell_type": "markdown",
   "metadata": {},
   "source": [
    "# Premise\n",
    "This Notebook serves as a Repository of Operational Amplifier Topologies for use in [PySpice](https://pyspice.fabrice-salvaire.fr/) and for the topologies theory. The Goal for the Author personally is to make one or two upgrades to this notebook a week. Whether that be a new feature, expanded theory, or new topology.\n",
    "\n",
    "Some of the intended upgrades include:\n",
    "\\begin{itemize}\n",
    "\\item Enhanced analyses of output data\n",
    "\\item Routines to find figures of merits from output data\n",
    "\\item Added calculations from theory \n",
    "\\item Simulations from theory and compersion to SPICE sim\n",
    "\\item adding GUI interactivity via ipython notebook widgets\n",
    "\\end{itemize}\n",
    "\n"
   ]
  },
  {
   "cell_type": "markdown",
   "metadata": {},
   "source": [
    "# Libarys"
   ]
  },
  {
   "cell_type": "code",
   "execution_count": 1,
   "metadata": {},
   "outputs": [
    {
     "data": {
      "application/json": {
       "Software versions": [
        {
         "module": "Python",
         "version": "3.6.3 64bit [GCC 7.2.0]"
        },
        {
         "module": "IPython",
         "version": "6.2.1"
        },
        {
         "module": "OS",
         "version": "Linux 4.13.0 38 generic x86_64 with debian stretch sid"
        },
        {
         "module": "sympy",
         "version": "1.1.2.dev"
        },
        {
         "module": "numpy",
         "version": "1.13.3"
        },
        {
         "module": "matplotlib",
         "version": "2.1.0"
        },
        {
         "module": "pandas",
         "version": "0.21.0"
        },
        {
         "module": "PySPice",
         "version": "1.2.0"
        }
       ]
      },
      "text/html": [
       "<table><tr><th>Software</th><th>Version</th></tr><tr><td>Python</td><td>3.6.3 64bit [GCC 7.2.0]</td></tr><tr><td>IPython</td><td>6.2.1</td></tr><tr><td>OS</td><td>Linux 4.13.0 38 generic x86_64 with debian stretch sid</td></tr><tr><td>sympy</td><td>1.1.2.dev</td></tr><tr><td>numpy</td><td>1.13.3</td></tr><tr><td>matplotlib</td><td>2.1.0</td></tr><tr><td>pandas</td><td>0.21.0</td></tr><tr><td>PySPice</td><td>1.2.0</td></tr><tr><td colspan='2'>Thu Apr 19 04:20:46 2018 MDT</td></tr></table>"
      ],
      "text/latex": [
       "\\begin{tabular}{|l|l|}\\hline\n",
       "{\\bf Software} & {\\bf Version} \\\\ \\hline\\hline\n",
       "Python & 3.6.3 64bit [GCC 7.2.0] \\\\ \\hline\n",
       "IPython & 6.2.1 \\\\ \\hline\n",
       "OS & Linux 4.13.0 38 generic x86\\_64 with debian stretch sid \\\\ \\hline\n",
       "sympy & 1.1.2.dev \\\\ \\hline\n",
       "numpy & 1.13.3 \\\\ \\hline\n",
       "matplotlib & 2.1.0 \\\\ \\hline\n",
       "pandas & 0.21.0 \\\\ \\hline\n",
       "PySPice & 1.2.0 \\\\ \\hline\n",
       "\\hline \\multicolumn{2}{|l|}{Thu Apr 19 04:20:46 2018 MDT} \\\\ \\hline\n",
       "\\end{tabular}\n"
      ],
      "text/plain": [
       "Software versions\n",
       "Python 3.6.3 64bit [GCC 7.2.0]\n",
       "IPython 6.2.1\n",
       "OS Linux 4.13.0 38 generic x86_64 with debian stretch sid\n",
       "sympy 1.1.2.dev\n",
       "numpy 1.13.3\n",
       "matplotlib 2.1.0\n",
       "pandas 0.21.0\n",
       "PySPice 1.2.0\n",
       "Thu Apr 19 04:20:46 2018 MDT"
      ]
     },
     "execution_count": 1,
     "metadata": {},
     "output_type": "execute_result"
    }
   ],
   "source": [
    "from sympy import *\n",
    "init_printing()\n",
    "import ipywidgets as wgs\n",
    "\n",
    "import numpy as np\n",
    "import pandas as pd\n",
    "\n",
    "import matplotlib.pyplot as plt\n",
    "%matplotlib inline\n",
    "\n",
    "from PySpice.Plot.BodeDiagram import bode_diagram\n",
    "from PySpice.Probe.Plot import plot\n",
    "from PySpice.Spice.Netlist import Circuit\n",
    "from PySpice.Spice.Netlist import SubCircuitFactory\n",
    "from PySpice.Unit import *\n",
    "\n",
    "#https://github.com/jrjohansson/version_information\n",
    "%load_ext version_information\n",
    "%version_information sympy, numpy, matplotlib, pandas, PySPice"
   ]
  },
  {
   "cell_type": "markdown",
   "metadata": {},
   "source": [
    "# Setup"
   ]
  },
  {
   "cell_type": "code",
   "execution_count": 2,
   "metadata": {},
   "outputs": [],
   "source": [
    "def lambdify2(expresion, ReVars=False):\n",
    "    \"\"\"\n",
    "    Helper Function to more automate sympy `lambdify` function\n",
    "    \n",
    "    Args:\n",
    "        expresion: sympy expresion !Only Pass LHS of Equations\n",
    "        ReVars (bool; False): Control to return the Vars in a list if True\n",
    "    \n",
    "    Note:\n",
    "        lambdfy is set with `dummify=False` therefore do not pass\n",
    "        unsantied variabls to functin else error will be thrown\n",
    "    \"\"\"\n",
    "    #collect vars\n",
    "    Vars=sorted(list(expresion.free_symbols), key=lambda x: str(x))\n",
    "    #perform lambdfy with waver\n",
    "    F=lambdify(Vars, expresion, dummify=False)\n",
    "    if ReVars:\n",
    "        return F, Vars\n",
    "    else:\n",
    "        return F"
   ]
  },
  {
   "cell_type": "markdown",
   "metadata": {},
   "source": [
    "# Ideal OpAmp"
   ]
  },
  {
   "cell_type": "markdown",
   "metadata": {},
   "source": [
    "Using the Semi Ideal OpAmp model devloped by Fabrice Salvaire for the OpAmp Exsample [8.10.3. Operational Amplifier](https://pyspice.fabrice-salvaire.fr/examples/operational-amplifier/operational-amplifier.html)"
   ]
  },
  {
   "cell_type": "markdown",
   "metadata": {},
   "source": [
    "<img src=\"SemiIdelOpAmpModel.png\">"
   ]
  },
  {
   "cell_type": "code",
   "execution_count": 3,
   "metadata": {},
   "outputs": [],
   "source": [
    "class BasicOperationalAmplifier(SubCircuitFactory):\n",
    "    \"\"\"\n",
    "    Semi Ideal OpAmp Model SubCir from \n",
    "    https://pyspice.fabrice-salvaire.fr/examples/operational-amplifier/operational-amplifier.html\n",
    "    A0=100e3; pole=100; A=10e6Hz\n",
    "    Termanals:\n",
    "        non_inverting_input\n",
    "        inverting_input\n",
    "        output\n",
    "    \"\"\"\n",
    "\n",
    "    __name__ = 'BasicOperationalAmplifier'\n",
    "    __nodes__ = ('non_inverting_input', 'inverting_input', 'output')\n",
    "\n",
    "    ##############################################\n",
    "\n",
    "    def __init__(self):\n",
    "\n",
    "        super().__init__()\n",
    "\n",
    "        # Input impedance\n",
    "        self.R('input', 'non_inverting_input', 'inverting_input', 10@u_MΩ)\n",
    "\n",
    "        # dc gain=100k and pole1=100hz\n",
    "        # unity gain = dcgain x pole1 = 10MHZ\n",
    "        self.VCVS('gain', 1, self.gnd, 'non_inverting_input', 'inverting_input', voltage_gain=kilo(100))\n",
    "        self.R('P1', 1, 2, 1@u_kΩ)\n",
    "        self.C('P1', 2, self.gnd, 1.5915@u_uF)\n",
    "\n",
    "        # Output buffer and resistance\n",
    "        self.VCVS('buffer', 3, self.gnd, 2, self.gnd, 1)\n",
    "        self.R('out', 3, 'output', 10@u_Ω)"
   ]
  },
  {
   "cell_type": "markdown",
   "metadata": {},
   "source": [
    "# TestBench"
   ]
  },
  {
   "cell_type": "markdown",
   "metadata": {},
   "source": [
    "<img src=\"TestBench1P.png\">"
   ]
  },
  {
   "cell_type": "code",
   "execution_count": 4,
   "metadata": {
    "code_folding": []
   },
   "outputs": [],
   "source": [
    "class OnePortOpAmpTB(Circuit):\n",
    "    \"\"\"\n",
    "    Class for implimenting Bode plot simulation for One Port \n",
    "    (Two Termanal) Opertinal Amplifer topology \n",
    "    \"\"\"\n",
    "    def __init__(self, DUT, **kwargs):\n",
    "        \"\"\"\n",
    "        Args:\n",
    "            DUT (class SubCircuitFactory): The One Port OpAmp topology class to be tested\n",
    "            kwargs (dict): Addital Ciricut Parmters to the topology under test\n",
    "        \"\"\"\n",
    "        #bind the DUT class to TB instance\n",
    "        self.DUT=DUT\n",
    "        #self.Theory=self.DUT.Theory()\n",
    "        #create the ciruit name from DUT name\n",
    "        super().__init__(title=f'{self.DUT.__name__}_TB', **kwargs)\n",
    "        \n",
    "    \n",
    "    def SetupCir(self, **kwargs):\n",
    "        \"\"\"\n",
    "        Sets up the the DUT and the Testbench for simulation\n",
    "        see diagrm in source IPYNB for cirucit diagram\n",
    "        Args:\n",
    "            kwargs (dict): Addital Ciricut Parmters to the topology under test\n",
    "        \"\"\"\n",
    "        #create instatince of DUT and setuo with parmaters\n",
    "        self.DUT=self.DUT(**kwargs)\n",
    "        \n",
    "        #load the DUT in to the circuit\n",
    "        self.subcircuit(self.DUT)\n",
    "        self.X('Amp', self.DUT.__name__, 'Vin', 'Vout')\n",
    "        \n",
    "        #set up the TB elements\n",
    "        self.R('Sload', 'Vin' , '1', 50@u_Ω)\n",
    "        self.SinusoidalVoltageSource('Source', '1', self.gnd, amplitude=1@u_V)\n",
    "\n",
    "        self.R('Tload', 'Vout', self.gnd, 50@u_Ω)\n",
    "        #print out the resulting spice list\n",
    "        print(self)\n",
    "    \n",
    "    def Simulate(self, fMin=1, fMax=100e3):\n",
    "        \"\"\"\n",
    "        Method to perform a Bode plot simulation via NgSpice AC sim @25C\n",
    "        Args:\n",
    "            fMin(float; 1 [Hz]): the  starting frequnacy for \n",
    "            Bode plot sweep in hertz\n",
    "            \n",
    "            fMax(float; 100e3[Hz]): the ending  frequnacy for \n",
    "            Bode plot sweep in hertz\n",
    "        \n",
    "        Retured Attributes:\n",
    "            results: the ac simulation raw results from NGSpice\n",
    "            Data: Pandas Dataframe with ouputs and calcs from results\n",
    "            \n",
    "        \"\"\"\n",
    "        \n",
    "        simulator = self.simulator(temperature=25, nominal_temperature=25)\n",
    "        self.results = simulator.ac(start_frequency=fMin@u_Hz, stop_frequency=fMax@u_Hz, number_of_points=10,  variation='dec')\n",
    "        \n",
    "        # returned dataframe\n",
    "        self.Data=pd.DataFrame()\n",
    "        self.Data['freq[Hz]']=self.results.frequency\n",
    "        self.Data['Vin']=self.results.Vin\n",
    "        self.Data['Vout']=self.results.Vout\n",
    "        #normlized gain in dB\n",
    "        self.Data['Gain[dB]']=20*np.log10(np.abs(self.Data['Vout']/self.Data['Vin']))\n",
    "        # phase in radians unwraped\n",
    "        self.Data['Phase[rad_UW]']=np.unwrap(np.angle(self.Data['Vout']))\n",
    "    \n",
    "    def PlotResults(self):\n",
    "        \"\"\"\n",
    "        Create a Bode plot from the simulation\n",
    "        \"\"\"\n",
    "        self.fig, [self.axMag, self.axPh]=plt.subplots(ncols=1, nrows=2, sharex=True)\n",
    "\n",
    "        plt.suptitle(\"Bode Diagram of an Operational Amplifier\")\n",
    "        bode_diagram(axes=(self.axMag, self.axPh),\n",
    "                     frequency=self.Data['freq[Hz]'],\n",
    "                     gain=self.Data['Gain[dB]'],\n",
    "                     phase=self.Data['Phase[rad_UW]'],\n",
    "                     marker='.',\n",
    "                     color='blue',\n",
    "                     linestyle='-',\n",
    "                    )\n",
    "        \n",
    "        \n",
    "    "
   ]
  },
  {
   "cell_type": "markdown",
   "metadata": {},
   "source": [
    "# Buffer"
   ]
  },
  {
   "cell_type": "markdown",
   "metadata": {},
   "source": [
    "<img src=\"Buffer.png\">"
   ]
  },
  {
   "cell_type": "code",
   "execution_count": 5,
   "metadata": {},
   "outputs": [],
   "source": [
    "class BufferOpAmp(SubCircuitFactory):\n",
    "    \"\"\"\n",
    "    Buffer OpAmp SubCircuit\n",
    "    Termanals:\n",
    "        Vin\n",
    "        Vout\n",
    "    \n",
    "    \"\"\"\n",
    "    \n",
    "    __name__='BufferOpAmp'\n",
    "    __nodes__=('Vin','Vout')\n",
    "    \n",
    "    def __init__(self):\n",
    "        super().__init__()\n",
    "       \n",
    "        #'non_inverting_input', 'inverting_input', 'output'\n",
    "        self.subcircuit(BasicOperationalAmplifier())\n",
    "        self.X('op', 'BasicOperationalAmplifier', 'Vin', 'Vout', 'Vout')\n",
    "    \n",
    "    @staticmethod\n",
    "    def Theory():\n",
    "        \"\"\"Practical Electrical Engineering Sergey Makarov; V-235\"\"\"\n",
    "        s=symbols('s')\n",
    "        H=Function('H')(s); Rin=Function('R_in')(s); Rout=Function('R_out')(s)\n",
    "        TF=Eq(H, 1); Rin=Eq(Rin, oo); Rout=Eq(Rout, 0)\n",
    "        return TF, Rin, Rout\n",
    "    "
   ]
  },
  {
   "cell_type": "code",
   "execution_count": 6,
   "metadata": {},
   "outputs": [
    {
     "data": {
      "image/png": "[encoded data removed]",
      "text/latex": [
       "$$\\left ( H{\\left (s \\right )} = 1, \\quad \\operatorname{R_{in}}{\\left (s \\right )} = \\infty, \\quad \\operatorname{R_{out}}{\\left (s \\right )} = 0\\right )$$"
      ],
      "text/plain": [
       "(H(s) = 1, Rᵢₙ(s) = ∞, Rₒᵤₜ(s) = 0)"
      ]
     },
     "execution_count": 6,
     "metadata": {},
     "output_type": "execute_result"
    }
   ],
   "source": [
    "#Print out the Buffer Op Amp Theory\n",
    "BufferOpAmp.Theory()"
   ]
  },
  {
   "cell_type": "code",
   "execution_count": 7,
   "metadata": {},
   "outputs": [
    {
     "name": "stdout",
     "output_type": "stream",
     "text": [
      ".title BufferOpAmp_TB\n",
      ".subckt BufferOpAmp Vin Vout\n",
      ".subckt BasicOperationalAmplifier non_inverting_input inverting_input output\n",
      "Rinput non_inverting_input inverting_input 10MegOhm\n",
      "Egain 1 0 non_inverting_input inverting_input 100k\n",
      "RP1 1 2 1kOhm\n",
      "CP1 2 0 1.5915uF\n",
      "Ebuffer 3 0 2 0 1\n",
      "Rout 3 output 10Ohm\n",
      ".ends BasicOperationalAmplifier\n",
      "Xop Vin Vout Vout BasicOperationalAmplifier\n",
      ".ends BufferOpAmp\n",
      "XAmp Vin Vout BufferOpAmp\n",
      "RSload Vin 1 50Ohm\n",
      "VSource 1 0 DC 0V AC SIN(0V 1V 50Hz 0s 0Hz)\n",
      "RTload Vout 0 50Ohm\n",
      "\n"
     ]
    },
    {
     "name": "stderr",
     "output_type": "stream",
     "text": [
      "/home/iridium/anaconda3/lib/python3.6/site-packages/PySpice/Unit/Unit.py:1879: ComplexWarning: Casting complex values to real discards the imaginary part\n",
      "  super(UnitValues, self).__setitem__(_slice, value)\n"
     ]
    },
    {
     "data": {
      "image/png": "[encoded data removed]",
      "text/plain": [
       "<matplotlib.figure.Figure at 0x7f21f1633710>"
      ]
     },
     "metadata": {},
     "output_type": "display_data"
    }
   ],
   "source": [
    "#create the Test Bench and Bind to this instance the BufferOpAmp Topo\n",
    "TB=OnePortOpAmpTB(BufferOpAmp)\n",
    "#Setup the Testbench and print the TB\n",
    "TB.SetupCir()\n",
    "#Run the AC Bode Simulation\n",
    "TB.Simulate()\n",
    "#View Bode Simulation\n",
    "TB.PlotResults()"
   ]
  },
  {
   "cell_type": "markdown",
   "metadata": {},
   "source": [
    "# Inverting"
   ]
  },
  {
   "cell_type": "markdown",
   "metadata": {},
   "source": [
    "<img src=\"InvertingOpAmp.png\">"
   ]
  },
  {
   "cell_type": "code",
   "execution_count": 8,
   "metadata": {},
   "outputs": [],
   "source": [
    "class InvertingOpAmp(SubCircuitFactory):\n",
    "    \"\"\"\n",
    "    Inverting OpAmp SubCir\n",
    "    Termanals:\n",
    "        Vin\n",
    "        Vout\n",
    "    Parms:\n",
    "        R1[Ohms]\n",
    "        R2[Ohms]\n",
    "    \"\"\"\n",
    "    \n",
    "    __name__='InvertingOpAmp'\n",
    "    __nodes__=('Vin','Vout')\n",
    "    \n",
    "    def __init__(self, R1=1, R2=1):\n",
    "        super().__init__()\n",
    "        self.R1=R1; self.R2=R2\n",
    "        \n",
    "        self.R('1', 'Vin', '2', R1@u_Ω)\n",
    "        self.R('2', '2', 'Vout', R2@u_Ω)\n",
    "        \n",
    "        self.subcircuit(BasicOperationalAmplifier())\n",
    "        self.X('op', 'BasicOperationalAmplifier', self.gnd, '2', 'Vout')\n",
    "        self.Theory()\n",
    "    \n",
    "    @staticmethod\n",
    "    def Theory():\n",
    "        \"\"\"Practical Electrical Engineering Sergey Makarov; V-235\"\"\"\n",
    "        R1, R2=symbols('R_1, R_2', real=True, postive=True)\n",
    "        s=symbols('s')\n",
    "        H=Function('H')(s); Rin=Function('R_in')(s); Rout=Function('R_out')(s)\n",
    "        TF=Eq(H, -R2/R1); Rin=Eq(Rin, R1); Rout=Eq(Rout, 0)\n",
    "        return TF, Rin, Rout\n",
    "    "
   ]
  },
  {
   "cell_type": "code",
   "execution_count": 9,
   "metadata": {},
   "outputs": [
    {
     "data": {
      "image/png": "[encoded data removed]",
      "text/latex": [
       "$$\\left ( H{\\left (s \\right )} = - \\frac{R_{2}}{R_{1}}, \\quad \\operatorname{R_{in}}{\\left (s \\right )} = R_{1}, \\quad \\operatorname{R_{out}}{\\left (s \\right )} = 0\\right )$$"
      ],
      "text/plain": [
       "⎛       -R₂                           ⎞\n",
       "⎜H(s) = ────, Rᵢₙ(s) = R₁, Rₒᵤₜ(s) = 0⎟\n",
       "⎝        R₁                           ⎠"
      ]
     },
     "execution_count": 9,
     "metadata": {},
     "output_type": "execute_result"
    }
   ],
   "source": [
    "#Print out the Inverting Op Amp Theory\n",
    "InvertingOpAmp.Theory()"
   ]
  },
  {
   "cell_type": "code",
   "execution_count": 10,
   "metadata": {},
   "outputs": [
    {
     "name": "stdout",
     "output_type": "stream",
     "text": [
      ".title InvertingOpAmp_TB\n",
      ".subckt InvertingOpAmp Vin Vout\n",
      ".subckt BasicOperationalAmplifier non_inverting_input inverting_input output\n",
      "Rinput non_inverting_input inverting_input 10MegOhm\n",
      "Egain 1 0 non_inverting_input inverting_input 100k\n",
      "RP1 1 2 1kOhm\n",
      "CP1 2 0 1.5915uF\n",
      "Ebuffer 3 0 2 0 1\n",
      "Rout 3 output 10Ohm\n",
      ".ends BasicOperationalAmplifier\n",
      "R1 Vin 2 20Ohm\n",
      "R2 2 Vout 5Ohm\n",
      "Xop 0 2 Vout BasicOperationalAmplifier\n",
      ".ends InvertingOpAmp\n",
      "XAmp Vin Vout InvertingOpAmp\n",
      "RSload Vin 1 50Ohm\n",
      "VSource 1 0 DC 0V AC SIN(0V 1V 50Hz 0s 0Hz)\n",
      "RTload Vout 0 50Ohm\n",
      "\n"
     ]
    },
    {
     "name": "stderr",
     "output_type": "stream",
     "text": [
      "/home/iridium/anaconda3/lib/python3.6/site-packages/PySpice/Unit/Unit.py:1879: ComplexWarning: Casting complex values to real discards the imaginary part\n",
      "  super(UnitValues, self).__setitem__(_slice, value)\n"
     ]
    },
    {
     "data": {
      "image/png": "[encoded data removed]",
      "text/plain": [
       "<matplotlib.figure.Figure at 0x7f21e4e34908>"
      ]
     },
     "metadata": {},
     "output_type": "display_data"
    }
   ],
   "source": [
    "#create the Test Bench and Bind to this instance the InvertingOpAmp Topo\n",
    "TB=OnePortOpAmpTB(InvertingOpAmp)\n",
    "#Setup the Testbench; use a R1=20 Ohm,R2=5 Ohm and print the TB\n",
    "TB.SetupCir(**{'R1':20, 'R2':5})\n",
    "#Run the AC Bode Simulation\n",
    "TB.Simulate()\n",
    "#View Bode Simulation\n",
    "TB.PlotResults()"
   ]
  },
  {
   "cell_type": "markdown",
   "metadata": {},
   "source": [
    "# Noninverting"
   ]
  },
  {
   "cell_type": "markdown",
   "metadata": {},
   "source": [
    "<img src=\"NonInveringOpAmp.png\">"
   ]
  },
  {
   "cell_type": "code",
   "execution_count": 11,
   "metadata": {},
   "outputs": [],
   "source": [
    "class NonInvertingOpAmp(SubCircuitFactory):\n",
    "    \"\"\"\n",
    "    Non-Inverting OpAmp SubCir\n",
    "    Termanals:\n",
    "        Vin\n",
    "        Vout\n",
    "    Parms:\n",
    "        R1\n",
    "        R2\n",
    "    \"\"\"\n",
    "    \n",
    "    __name__='NonInvertingOpAmp'\n",
    "    __nodes__=('Vin','Vout')\n",
    "    \n",
    "    def __init__(self, R1, R2):\n",
    "        super().__init__()\n",
    "        self.R1=R1; self.R2=R2\n",
    "        \n",
    "        self.R('1', '2', self.gnd, R1@u_Ω)\n",
    "        self.R('2', '2', 'Vout', R2@u_Ω)\n",
    "        \n",
    "        self.subcircuit(BasicOperationalAmplifier())\n",
    "        self.X('op', 'BasicOperationalAmplifier', 'Vin', '2', 'Vout')\n",
    "    \n",
    "    @staticmethod\n",
    "    def Theory():\n",
    "        \"\"\"Practical Electrical Engineering Sergey Makarov; V-235\"\"\"\n",
    "        R1, R2=symbols('R_1, R_2', real=True, postive=True)\n",
    "        s=symbols('s')\n",
    "        H=Function('H')(s); Rin=Function('R_in')(s); Rout=Function('R_out')(s)\n",
    "        TF=Eq(H, 1+R2/R1); Rin=Eq(Rin, oo); Rout=Eq(Rout, 0)\n",
    "        return TF, Rin, Rout\n",
    "        \n"
   ]
  },
  {
   "cell_type": "code",
   "execution_count": 12,
   "metadata": {},
   "outputs": [
    {
     "data": {
      "image/png": "[encoded data removed]",
      "text/latex": [
       "$$\\left ( H{\\left (s \\right )} = 1 + \\frac{R_{2}}{R_{1}}, \\quad \\operatorname{R_{in}}{\\left (s \\right )} = \\infty, \\quad \\operatorname{R_{out}}{\\left (s \\right )} = 0\\right )$$"
      ],
      "text/plain": [
       "⎛           R₂                         ⎞\n",
       "⎜H(s) = 1 + ──, Rᵢₙ(s) = ∞, Rₒᵤₜ(s) = 0⎟\n",
       "⎝           R₁                         ⎠"
      ]
     },
     "execution_count": 12,
     "metadata": {},
     "output_type": "execute_result"
    }
   ],
   "source": [
    "#Print out the NonInverting Op Amp Theory\n",
    "NonInvertingOpAmp.Theory()"
   ]
  },
  {
   "cell_type": "code",
   "execution_count": 13,
   "metadata": {},
   "outputs": [
    {
     "name": "stdout",
     "output_type": "stream",
     "text": [
      ".title NonInvertingOpAmp_TB\n",
      ".subckt NonInvertingOpAmp Vin Vout\n",
      ".subckt BasicOperationalAmplifier non_inverting_input inverting_input output\n",
      "Rinput non_inverting_input inverting_input 10MegOhm\n",
      "Egain 1 0 non_inverting_input inverting_input 100k\n",
      "RP1 1 2 1kOhm\n",
      "CP1 2 0 1.5915uF\n",
      "Ebuffer 3 0 2 0 1\n",
      "Rout 3 output 10Ohm\n",
      ".ends BasicOperationalAmplifier\n",
      "R1 2 0 20Ohm\n",
      "R2 2 Vout 5Ohm\n",
      "Xop Vin 2 Vout BasicOperationalAmplifier\n",
      ".ends NonInvertingOpAmp\n",
      "XAmp Vin Vout NonInvertingOpAmp\n",
      "RSload Vin 1 50Ohm\n",
      "VSource 1 0 DC 0V AC SIN(0V 1V 50Hz 0s 0Hz)\n",
      "RTload Vout 0 50Ohm\n",
      "\n"
     ]
    },
    {
     "name": "stderr",
     "output_type": "stream",
     "text": [
      "/home/iridium/anaconda3/lib/python3.6/site-packages/PySpice/Unit/Unit.py:1879: ComplexWarning: Casting complex values to real discards the imaginary part\n",
      "  super(UnitValues, self).__setitem__(_slice, value)\n"
     ]
    },
    {
     "data": {
      "image/png": "[encoded data removed]",
      "text/plain": [
       "<matplotlib.figure.Figure at 0x7f21e4fd2710>"
      ]
     },
     "metadata": {},
     "output_type": "display_data"
    }
   ],
   "source": [
    "#create the Test Bench and Bind to this instance the NonInverting Topo\n",
    "TB=OnePortOpAmpTB(NonInvertingOpAmp)\n",
    "#Setup the Testbench; use a R1=20 Ohm,R2=5 Ohm and print the TB\n",
    "TB.SetupCir(**{'R1':20, 'R2':5})\n",
    "#Run the AC Bode Simulation\n",
    "TB.Simulate()\n",
    "#View Bode Simulation\n",
    "TB.PlotResults()"
   ]
  },
  {
   "cell_type": "markdown",
   "metadata": {},
   "source": [
    "# Miller Capactive Integrator "
   ]
  },
  {
   "cell_type": "markdown",
   "metadata": {},
   "source": [
    "<img src=\"MillerCapInt.png\">"
   ]
  },
  {
   "cell_type": "code",
   "execution_count": 14,
   "metadata": {},
   "outputs": [],
   "source": [
    "class MillerCapIntOpAmp(SubCircuitFactory):\n",
    "    \"\"\"\n",
    "    Inverting OpAmp SubCir\n",
    "    Termanals:\n",
    "        Vin\n",
    "        Vout\n",
    "    Parms:\n",
    "        R1[Ohms]\n",
    "        C1[Fards]\n",
    "    \"\"\"\n",
    "    \n",
    "    __name__='MillerCapIntOpAmp'\n",
    "    __nodes__=('Vin','Vout')\n",
    "    \n",
    "    def __init__(self, R1=1, C1=1):\n",
    "        super().__init__()\n",
    "        self.R1=R1; self.C1=C1\n",
    "        \n",
    "        self.R('1', 'Vin', '2', R1@u_Ω)\n",
    "        self.C('1', '2', 'Vout', C1@u_F)\n",
    "        \n",
    "        self.subcircuit(BasicOperationalAmplifier())\n",
    "        self.X('op', 'BasicOperationalAmplifier', self.gnd, '2', 'Vout')\n",
    "        self.Theory()\n",
    "    \n",
    "    @staticmethod\n",
    "    def Theory():\n",
    "        R1, C1=symbols('R_1, C_1', real=True, postive=True)\n",
    "        s=symbols('s')\n",
    "        H=Function('H')(s)\n",
    "        TF=Eq(H, -1/(s*C1*R1))\n",
    "        return TF\n",
    "    "
   ]
  },
  {
   "cell_type": "code",
   "execution_count": null,
   "metadata": {},
   "outputs": [],
   "source": [
    "#Print out the MillerCapInt Op Amp Theory\n",
    "MillerCapIntOpAmp.Theory()"
   ]
  },
  {
   "cell_type": "code",
   "execution_count": 15,
   "metadata": {},
   "outputs": [
    {
     "name": "stdout",
     "output_type": "stream",
     "text": [
      ".title MillerCapIntOpAmp_TB\n",
      ".subckt MillerCapIntOpAmp Vin Vout\n",
      ".subckt BasicOperationalAmplifier non_inverting_input inverting_input output\n",
      "Rinput non_inverting_input inverting_input 10MegOhm\n",
      "Egain 1 0 non_inverting_input inverting_input 100k\n",
      "RP1 1 2 1kOhm\n",
      "CP1 2 0 1.5915uF\n",
      "Ebuffer 3 0 2 0 1\n",
      "Rout 3 output 10Ohm\n",
      ".ends BasicOperationalAmplifier\n",
      "R1 Vin 2 20Ohm\n",
      "C1 2 Vout 1e-05\n",
      "Xop 0 2 Vout BasicOperationalAmplifier\n",
      ".ends MillerCapIntOpAmp\n",
      "XAmp Vin Vout MillerCapIntOpAmp\n",
      "RSload Vin 1 50Ohm\n",
      "VSource 1 0 DC 0V AC SIN(0V 1V 50Hz 0s 0Hz)\n",
      "RTload Vout 0 50Ohm\n",
      "\n"
     ]
    },
    {
     "name": "stderr",
     "output_type": "stream",
     "text": [
      "/home/iridium/anaconda3/lib/python3.6/site-packages/PySpice/Unit/Unit.py:1879: ComplexWarning: Casting complex values to real discards the imaginary part\n",
      "  super(UnitValues, self).__setitem__(_slice, value)\n"
     ]
    },
    {
     "data": {
      "image/png": "[encoded data removed]",
      "text/plain": [
       "<matplotlib.figure.Figure at 0x7f21e4f38d68>"
      ]
     },
     "metadata": {},
     "output_type": "display_data"
    }
   ],
   "source": [
    "#create the Test Bench and Bind to this instance the MillerCapInt Topo\n",
    "TB=OnePortOpAmpTB(MillerCapIntOpAmp)\n",
    "#Setup the Testbench; use a R1=20 Ohm,C1=10 muF and print the TB\n",
    "TB.SetupCir(**{'R1':20, 'C1':10e-6})\n",
    "#Run the AC Bode Simulation\n",
    "TB.Simulate()\n",
    "#View Bode Simulation\n",
    "TB.PlotResults()"
   ]
  },
  {
   "cell_type": "markdown",
   "metadata": {},
   "source": [
    "# Miller Inductive Integrator "
   ]
  },
  {
   "cell_type": "markdown",
   "metadata": {},
   "source": [
    "<img src=\"MillerIndInt.png\">"
   ]
  },
  {
   "cell_type": "code",
   "execution_count": 16,
   "metadata": {},
   "outputs": [],
   "source": [
    "class MillerIndIntOpAmp(SubCircuitFactory):\n",
    "    \"\"\"\n",
    "    Inverting OpAmp SubCir\n",
    "    Termanals:\n",
    "        Vin\n",
    "        Vout\n",
    "    Parms:\n",
    "        R1[Ohms]\n",
    "        L1[Henrys]\n",
    "    \"\"\"\n",
    "    \n",
    "    __name__='MillerIndIntOpAmp'\n",
    "    __nodes__=('Vin','Vout')\n",
    "    \n",
    "    def __init__(self, R1=1, L1=1):\n",
    "        super().__init__()\n",
    "        self.R1=R1; self.L1=L1\n",
    "        \n",
    "        self.L('1', 'Vin', '2', L1@u_H)\n",
    "        self.R('1', '2', 'Vout', R1@u_Ω)\n",
    "        \n",
    "        self.subcircuit(BasicOperationalAmplifier())\n",
    "        self.X('op', 'BasicOperationalAmplifier', self.gnd, '2', 'Vout')\n",
    "        self.Theory()\n",
    "    \n",
    "    @staticmethod\n",
    "    def Theory():\n",
    "        \"\"\"Practical Electrical Engineering Sergey Makarov; V-235\"\"\"\n",
    "        R1, L1=symbols('R_1, L_1', real=True, postive=True)\n",
    "        s=symbols('s')\n",
    "        H=Function('H')(s)\n",
    "        TF=Eq(H, -R1/(s*L1))\n",
    "        return TF\n",
    "    "
   ]
  },
  {
   "cell_type": "code",
   "execution_count": 17,
   "metadata": {},
   "outputs": [
    {
     "data": {
      "image/png": "[encoded data removed]",
      "text/latex": [
       "$$H{\\left (s \\right )} = - \\frac{R_{1}}{L_{1} s}$$"
      ],
      "text/plain": [
       "       -R₁ \n",
       "H(s) = ────\n",
       "       L₁⋅s"
      ]
     },
     "execution_count": 17,
     "metadata": {},
     "output_type": "execute_result"
    }
   ],
   "source": [
    "#Print out the MillerIndInt Op Amp Theory\n",
    "MillerIndIntOpAmp.Theory()"
   ]
  },
  {
   "cell_type": "code",
   "execution_count": 18,
   "metadata": {},
   "outputs": [
    {
     "name": "stdout",
     "output_type": "stream",
     "text": [
      ".title MillerIndIntOpAmp_TB\n",
      ".subckt MillerIndIntOpAmp Vin Vout\n",
      ".subckt BasicOperationalAmplifier non_inverting_input inverting_input output\n",
      "Rinput non_inverting_input inverting_input 10MegOhm\n",
      "Egain 1 0 non_inverting_input inverting_input 100k\n",
      "RP1 1 2 1kOhm\n",
      "CP1 2 0 1.5915uF\n",
      "Ebuffer 3 0 2 0 1\n",
      "Rout 3 output 10Ohm\n",
      ".ends BasicOperationalAmplifier\n",
      "L1 Vin 2 1e-05H\n",
      "R1 2 Vout 20Ohm\n",
      "Xop 0 2 Vout BasicOperationalAmplifier\n",
      ".ends MillerIndIntOpAmp\n",
      "XAmp Vin Vout MillerIndIntOpAmp\n",
      "RSload Vin 1 50Ohm\n",
      "VSource 1 0 DC 0V AC SIN(0V 1V 50Hz 0s 0Hz)\n",
      "RTload Vout 0 50Ohm\n",
      "\n"
     ]
    },
    {
     "name": "stderr",
     "output_type": "stream",
     "text": [
      "/home/iridium/anaconda3/lib/python3.6/site-packages/PySpice/Unit/Unit.py:1879: ComplexWarning: Casting complex values to real discards the imaginary part\n",
      "  super(UnitValues, self).__setitem__(_slice, value)\n"
     ]
    },
    {
     "data": {
      "image/png": "[encoded data removed]",
      "text/plain": [
       "<matplotlib.figure.Figure at 0x7f21e4ec7ef0>"
      ]
     },
     "metadata": {},
     "output_type": "display_data"
    }
   ],
   "source": [
    "#create the Test Bench and Bind to this instance the MillerCapInt Topo\n",
    "TB=OnePortOpAmpTB(MillerIndIntOpAmp)\n",
    "#Setup the Testbench; use a R1=20 Ohm,L1=10 muH and print the TB\n",
    "TB.SetupCir(**{'R1':20, 'L1':10e-6})\n",
    "#Run the AC Bode Simulation\n",
    "TB.Simulate()\n",
    "#View Bode Simulation\n",
    "TB.PlotResults()"
   ]
  },
  {
   "cell_type": "markdown",
   "metadata": {},
   "source": [
    "#  Low Pass 1Pole"
   ]
  },
  {
   "cell_type": "markdown",
   "metadata": {},
   "source": [
    "<img src=\"LowPass1P.png\">"
   ]
  },
  {
   "cell_type": "code",
   "execution_count": 19,
   "metadata": {},
   "outputs": [],
   "source": [
    "class LowPass1POpAmp(SubCircuitFactory):\n",
    "    \"\"\"\n",
    "    Single Pole Low Pass OpAmp SubCir\n",
    "\n",
    "    Termanals:\n",
    "        Vin\n",
    "        Vout\n",
    "    Parms:\n",
    "        R1[Ohms]\n",
    "        R2[Ohms]\n",
    "        C1[Farads]\n",
    "    \"\"\"\n",
    "    \n",
    "    __name__='LowPass1POpAmp'\n",
    "    __nodes__=('Vin','Vout')\n",
    "    \n",
    "    def __init__(self, R1=1, R2=1, C1=1):\n",
    "        super().__init__()\n",
    "        self.R1=R1; self.R2=R2; self.C1=C1\n",
    "        \n",
    "        self.R('1', 'Vin', '2', R1@u_Ω)\n",
    "        self.R('2', '2', 'Vout', R2@u_Ω)\n",
    "        self.C('1', '2', 'Vout', C1@u_F)\n",
    "        \n",
    "        self.subcircuit(BasicOperationalAmplifier())\n",
    "        #non, inv, out\n",
    "        self.X('op', 'BasicOperationalAmplifier', 'Vin', '2', 'Vout')\n",
    "        \n",
    "    @staticmethod\n",
    "    def Theory():\n",
    "        R1, R2, C1=symbols('R_1, R_2, C_1', real=True, postive=True)\n",
    "        s=symbols('s')\n",
    "        H=Function('H')(s)\n",
    "        TF=simplify(Eq(H, -(1/(s*C1+1/R2))/ R1))\n",
    "        return TF\n"
   ]
  },
  {
   "cell_type": "code",
   "execution_count": 20,
   "metadata": {},
   "outputs": [
    {
     "data": {
      "image/png": "[encoded data removed]",
      "text/latex": [
       "$$H{\\left (s \\right )} = - \\frac{R_{2}}{R_{1} \\left(C_{1} R_{2} s + 1\\right)}$$"
      ],
      "text/plain": [
       "             -R₂       \n",
       "H(s) = ────────────────\n",
       "       R₁⋅(C₁⋅R₂⋅s + 1)"
      ]
     },
     "execution_count": 20,
     "metadata": {},
     "output_type": "execute_result"
    }
   ],
   "source": [
    "LowPass1POpAmp.Theory()"
   ]
  },
  {
   "cell_type": "code",
   "execution_count": 21,
   "metadata": {},
   "outputs": [
    {
     "name": "stdout",
     "output_type": "stream",
     "text": [
      ".title LowPass1POpAmp_TB\n",
      ".subckt LowPass1POpAmp Vin Vout\n",
      ".subckt BasicOperationalAmplifier non_inverting_input inverting_input output\n",
      "Rinput non_inverting_input inverting_input 10MegOhm\n",
      "Egain 1 0 non_inverting_input inverting_input 100k\n",
      "RP1 1 2 1kOhm\n",
      "CP1 2 0 1.5915uF\n",
      "Ebuffer 3 0 2 0 1\n",
      "Rout 3 output 10Ohm\n",
      ".ends BasicOperationalAmplifier\n",
      "R1 Vin 2 20Ohm\n",
      "R2 2 Vout 5Ohm\n",
      "C1 2 Vout 1e-05\n",
      "Xop Vin 2 Vout BasicOperationalAmplifier\n",
      ".ends LowPass1POpAmp\n",
      "XAmp Vin Vout LowPass1POpAmp\n",
      "RSload Vin 1 50Ohm\n",
      "VSource 1 0 DC 0V AC SIN(0V 1V 50Hz 0s 0Hz)\n",
      "RTload Vout 0 50Ohm\n",
      "\n"
     ]
    },
    {
     "name": "stderr",
     "output_type": "stream",
     "text": [
      "/home/iridium/anaconda3/lib/python3.6/site-packages/PySpice/Unit/Unit.py:1879: ComplexWarning: Casting complex values to real discards the imaginary part\n",
      "  super(UnitValues, self).__setitem__(_slice, value)\n"
     ]
    },
    {
     "data": {
      "image/png": "[encoded data removed]",
      "text/plain": [
       "<matplotlib.figure.Figure at 0x7f21e4cdf898>"
      ]
     },
     "metadata": {},
     "output_type": "display_data"
    }
   ],
   "source": [
    "#create the Test Bench and Bind to this instance the LowPass1POpAmp Topo\n",
    "TB=OnePortOpAmpTB(LowPass1POpAmp)\n",
    "#Setup the Testbench; use a R1=20 Ohm, R2=5 Ohm,C1=10 muH and print the TB\n",
    "TB.SetupCir(**{'R1':20, 'R2':5, 'C1':10e-6})\n",
    "#Run the AC Bode Simulation\n",
    "TB.Simulate()\n",
    "#View Bode Simulation\n",
    "TB.PlotResults()"
   ]
  },
  {
   "cell_type": "markdown",
   "metadata": {},
   "source": [
    "# Miller Capacitive Differentiator "
   ]
  },
  {
   "cell_type": "markdown",
   "metadata": {},
   "source": [
    "<img src=\"MillerCapDiff.png\">"
   ]
  },
  {
   "cell_type": "code",
   "execution_count": 22,
   "metadata": {},
   "outputs": [],
   "source": [
    "class MillerCapDiff(SubCircuitFactory):\n",
    "    \"\"\"\n",
    "    Miller Capacitive Differentiator  OpAmp SubCir\n",
    "    Termanals:\n",
    "        Vin\n",
    "        Vout\n",
    "    Parms:\n",
    "        R1[Ohms]\n",
    "        C1[Farads]\n",
    "    \"\"\"\n",
    "    \n",
    "    __name__='MillerCapDiff'\n",
    "    __nodes__=('Vin','Vout')\n",
    "    \n",
    "    def __init__(self, R1=1, C1=1):\n",
    "        super().__init__()\n",
    "        self.R1=R1; self.C1=C1\n",
    "        \n",
    "        self.C('1', 'Vin', '2', C1@u_F)\n",
    "        self.R('1', '2', 'Vout', R1@u_Ω)\n",
    "        \n",
    "        self.subcircuit(BasicOperationalAmplifier())\n",
    "        self.X('op', 'BasicOperationalAmplifier', self.gnd, '2', 'Vout')\n",
    "        self.Theory()\n",
    "    \n",
    "    @staticmethod\n",
    "    def Theory():\n",
    "        R1, C1=symbols('R_1, C_1', real=True, postive=True)\n",
    "        s=symbols('s')\n",
    "        H=Function('H')(s)\n",
    "        TF=simplify(Eq(H, -R1/(1/s*C1)))\n",
    "        return TF\n",
    "    "
   ]
  },
  {
   "cell_type": "code",
   "execution_count": 23,
   "metadata": {},
   "outputs": [
    {
     "data": {
      "image/png": "[encoded data removed]",
      "text/latex": [
       "$$H{\\left (s \\right )} = - \\frac{R_{1} s}{C_{1}}$$"
      ],
      "text/plain": [
       "       -R₁⋅s \n",
       "H(s) = ──────\n",
       "         C₁  "
      ]
     },
     "execution_count": 23,
     "metadata": {},
     "output_type": "execute_result"
    }
   ],
   "source": [
    "MillerCapDiff.Theory()"
   ]
  },
  {
   "cell_type": "code",
   "execution_count": 24,
   "metadata": {},
   "outputs": [
    {
     "name": "stdout",
     "output_type": "stream",
     "text": [
      ".title MillerCapDiff_TB\n",
      ".subckt MillerCapDiff Vin Vout\n",
      ".subckt BasicOperationalAmplifier non_inverting_input inverting_input output\n",
      "Rinput non_inverting_input inverting_input 10MegOhm\n",
      "Egain 1 0 non_inverting_input inverting_input 100k\n",
      "RP1 1 2 1kOhm\n",
      "CP1 2 0 1.5915uF\n",
      "Ebuffer 3 0 2 0 1\n",
      "Rout 3 output 10Ohm\n",
      ".ends BasicOperationalAmplifier\n",
      "C1 Vin 2 1e-05\n",
      "R1 2 Vout 20Ohm\n",
      "Xop 0 2 Vout BasicOperationalAmplifier\n",
      ".ends MillerCapDiff\n",
      "XAmp Vin Vout MillerCapDiff\n",
      "RSload Vin 1 50Ohm\n",
      "VSource 1 0 DC 0V AC SIN(0V 1V 50Hz 0s 0Hz)\n",
      "RTload Vout 0 50Ohm\n",
      "\n"
     ]
    },
    {
     "name": "stderr",
     "output_type": "stream",
     "text": [
      "/home/iridium/anaconda3/lib/python3.6/site-packages/PySpice/Unit/Unit.py:1879: ComplexWarning: Casting complex values to real discards the imaginary part\n",
      "  super(UnitValues, self).__setitem__(_slice, value)\n"
     ]
    },
    {
     "data": {
      "image/png": "[encoded data removed]",
      "text/plain": [
       "<matplotlib.figure.Figure at 0x7f21e4a069b0>"
      ]
     },
     "metadata": {},
     "output_type": "display_data"
    }
   ],
   "source": [
    "#create the Test Bench and Bind to this instance the MillerCapDiff Topo\n",
    "TB=OnePortOpAmpTB(MillerCapDiff)\n",
    "#Setup the Testbench; use a R1=20 Ohm,C1=10 muF and print the TB\n",
    "TB.SetupCir(**{'R1':20, 'C1':10e-6})\n",
    "#Run the AC Bode Simulation\n",
    "TB.Simulate()\n",
    "#View Bode Simulation\n",
    "TB.PlotResults()"
   ]
  },
  {
   "cell_type": "markdown",
   "metadata": {},
   "source": [
    "# Miller Inductive Differentiator "
   ]
  },
  {
   "cell_type": "markdown",
   "metadata": {},
   "source": [
    "<img src=\"MillerIndDiff.png\">"
   ]
  },
  {
   "cell_type": "code",
   "execution_count": 25,
   "metadata": {},
   "outputs": [],
   "source": [
    "class MillerIndDiff(SubCircuitFactory):\n",
    "    \"\"\"\n",
    "    Miller Inductive Differentiator  OpAmp SubCir\n",
    "    Termanals:\n",
    "        Vin\n",
    "        Vout\n",
    "    Parms:\n",
    "        R1[Ohms]\n",
    "        L1[Henerys]\n",
    "    \"\"\"\n",
    "    \n",
    "    __name__='MillerIndDiff'\n",
    "    __nodes__=('Vin','Vout')\n",
    "    \n",
    "    def __init__(self, R1=1, L1=1):\n",
    "        super().__init__()\n",
    "        self.R1=R1; self.L1=L1\n",
    "        \n",
    "        self.R('1', 'Vin', '2', R1@u_Ω)\n",
    "        self.L('1', '2', 'Vout', L1@u_H)\n",
    "        \n",
    "        self.subcircuit(BasicOperationalAmplifier())\n",
    "        self.X('op', 'BasicOperationalAmplifier', self.gnd, '2', 'Vout')\n",
    "        self.Theory()\n",
    "    \n",
    "    @staticmethod\n",
    "    def Theory():\n",
    "        R1, L1=symbols('R_1, L_1', real=True, postive=True)\n",
    "        s=symbols('s')\n",
    "        H=Function('H')(s)\n",
    "        TF=simplify(Eq(H, -s*L1/R1))\n",
    "        return TF\n",
    "    "
   ]
  },
  {
   "cell_type": "code",
   "execution_count": 26,
   "metadata": {},
   "outputs": [
    {
     "data": {
      "image/png": "[encoded data removed]",
      "text/latex": [
       "$$H{\\left (s \\right )} = - \\frac{L_{1} s}{R_{1}}$$"
      ],
      "text/plain": [
       "       -L₁⋅s \n",
       "H(s) = ──────\n",
       "         R₁  "
      ]
     },
     "execution_count": 26,
     "metadata": {},
     "output_type": "execute_result"
    }
   ],
   "source": [
    "MillerIndDiff.Theory()"
   ]
  },
  {
   "cell_type": "code",
   "execution_count": 27,
   "metadata": {
    "scrolled": true
   },
   "outputs": [
    {
     "name": "stdout",
     "output_type": "stream",
     "text": [
      ".title MillerIndDiff_TB\n",
      ".subckt MillerIndDiff Vin Vout\n",
      ".subckt BasicOperationalAmplifier non_inverting_input inverting_input output\n",
      "Rinput non_inverting_input inverting_input 10MegOhm\n",
      "Egain 1 0 non_inverting_input inverting_input 100k\n",
      "RP1 1 2 1kOhm\n",
      "CP1 2 0 1.5915uF\n",
      "Ebuffer 3 0 2 0 1\n",
      "Rout 3 output 10Ohm\n",
      ".ends BasicOperationalAmplifier\n",
      "R1 Vin 2 20Ohm\n",
      "L1 2 Vout 1e-05H\n",
      "Xop 0 2 Vout BasicOperationalAmplifier\n",
      ".ends MillerIndDiff\n",
      "XAmp Vin Vout MillerIndDiff\n",
      "RSload Vin 1 50Ohm\n",
      "VSource 1 0 DC 0V AC SIN(0V 1V 50Hz 0s 0Hz)\n",
      "RTload Vout 0 50Ohm\n",
      "\n"
     ]
    },
    {
     "name": "stderr",
     "output_type": "stream",
     "text": [
      "/home/iridium/anaconda3/lib/python3.6/site-packages/PySpice/Unit/Unit.py:1879: ComplexWarning: Casting complex values to real discards the imaginary part\n",
      "  super(UnitValues, self).__setitem__(_slice, value)\n"
     ]
    },
    {
     "data": {
      "image/png": "[encoded data removed]",
      "text/plain": [
       "<matplotlib.figure.Figure at 0x7f21e4936a90>"
      ]
     },
     "metadata": {},
     "output_type": "display_data"
    }
   ],
   "source": [
    "#create the Test Bench and Bind to this instance the MillerCapInt Topo\n",
    "TB=OnePortOpAmpTB(MillerIndDiff)\n",
    "#Setup the Testbench; use a R1=20 Ohm,L1=10 muH and print the TB\n",
    "TB.SetupCir(**{'R1':20, 'L1':10e-6})\n",
    "#Run the AC Bode Simulation\n",
    "TB.Simulate()\n",
    "#View Bode Simulation\n",
    "TB.PlotResults()"
   ]
  },
  {
   "cell_type": "markdown",
   "metadata": {},
   "source": [
    "# High Pass 1Zero"
   ]
  },
  {
   "cell_type": "markdown",
   "metadata": {},
   "source": [
    "<img src=\"HighPass1Z.png\">"
   ]
  },
  {
   "cell_type": "code",
   "execution_count": 28,
   "metadata": {},
   "outputs": [],
   "source": [
    "class HighPass1ZOpAmp(SubCircuitFactory):\n",
    "    \"\"\"\n",
    "    Single Pole Low Pass OpAmp SubCir\n",
    "\n",
    "    Termanals:\n",
    "        Vin\n",
    "        Vout\n",
    "    Parms:\n",
    "        R1[Ohms]\n",
    "        R2[Ohms]\n",
    "        L1[Henerys]\n",
    "    \"\"\"\n",
    "    \n",
    "    __name__='HighPass1ZOpAmp'\n",
    "    __nodes__=('Vin','Vout')\n",
    "    \n",
    "    def __init__(self, R1=1, R2=1, L1=1):\n",
    "        super().__init__()\n",
    "        self.R1=R1; self.R2=R2; self.L1=L1\n",
    "        \n",
    "        self.R('1', 'Vin', '2', R1@u_Ω)\n",
    "        self.R('2', '2', 'Vout', R2@u_Ω)\n",
    "        self.L('1', '2', 'Vout', L1@u_H)\n",
    "        \n",
    "        self.subcircuit(BasicOperationalAmplifier())\n",
    "        #non, inv, out\n",
    "        self.X('op', 'BasicOperationalAmplifier', 'Vin', '2', 'Vout')\n",
    "        \n",
    "    @staticmethod\n",
    "    def Theory():\n",
    "        R1, R2, L1=symbols('R_1, R_2, L_1', real=True, postive=True)\n",
    "        s=symbols('s')\n",
    "        H=Function('H')(s)\n",
    "        TF=simplify(Eq(H, -(1/(1/R2+1/(s*L1)))/ R1))\n",
    "        return TF\n"
   ]
  },
  {
   "cell_type": "code",
   "execution_count": 29,
   "metadata": {},
   "outputs": [
    {
     "data": {
      "image/png": "[encoded data removed]",
      "text/latex": [
       "$$H{\\left (s \\right )} = - \\frac{L_{1} R_{2} s}{R_{1} \\left(L_{1} s + R_{2}\\right)}$$"
      ],
      "text/plain": [
       "         -L₁⋅R₂⋅s    \n",
       "H(s) = ──────────────\n",
       "       R₁⋅(L₁⋅s + R₂)"
      ]
     },
     "execution_count": 29,
     "metadata": {},
     "output_type": "execute_result"
    }
   ],
   "source": [
    "HighPass1ZOpAmp.Theory()"
   ]
  },
  {
   "cell_type": "code",
   "execution_count": 30,
   "metadata": {},
   "outputs": [
    {
     "name": "stdout",
     "output_type": "stream",
     "text": [
      ".title HighPass1ZOpAmp_TB\n",
      ".subckt HighPass1ZOpAmp Vin Vout\n",
      ".subckt BasicOperationalAmplifier non_inverting_input inverting_input output\n",
      "Rinput non_inverting_input inverting_input 10MegOhm\n",
      "Egain 1 0 non_inverting_input inverting_input 100k\n",
      "RP1 1 2 1kOhm\n",
      "CP1 2 0 1.5915uF\n",
      "Ebuffer 3 0 2 0 1\n",
      "Rout 3 output 10Ohm\n",
      ".ends BasicOperationalAmplifier\n",
      "R1 Vin 2 20Ohm\n",
      "R2 2 Vout 5Ohm\n",
      "L1 2 Vout 1e-05H\n",
      "Xop Vin 2 Vout BasicOperationalAmplifier\n",
      ".ends HighPass1ZOpAmp\n",
      "XAmp Vin Vout HighPass1ZOpAmp\n",
      "RSload Vin 1 50Ohm\n",
      "VSource 1 0 DC 0V AC SIN(0V 1V 50Hz 0s 0Hz)\n",
      "RTload Vout 0 50Ohm\n",
      "\n"
     ]
    },
    {
     "name": "stderr",
     "output_type": "stream",
     "text": [
      "/home/iridium/anaconda3/lib/python3.6/site-packages/PySpice/Unit/Unit.py:1879: ComplexWarning: Casting complex values to real discards the imaginary part\n",
      "  super(UnitValues, self).__setitem__(_slice, value)\n"
     ]
    },
    {
     "data": {
      "image/png": "[encoded data removed]",
      "text/plain": [
       "<matplotlib.figure.Figure at 0x7f21e4cef780>"
      ]
     },
     "metadata": {},
     "output_type": "display_data"
    }
   ],
   "source": [
    "#create the Test Bench and Bind to this instance the HighPass1ZOpAmp Topo\n",
    "TB=OnePortOpAmpTB(HighPass1ZOpAmp)\n",
    "#Setup the Testbench; use a R1=20 Ohm,R2=5 Ohm, L1=10 muH and print the TB\n",
    "TB.SetupCir(**{'R1':20, 'R2':5, 'L1':10e-6})\n",
    "#Run the AC Bode Simulation\n",
    "TB.Simulate()\n",
    "#View Bode Simulation\n",
    "TB.PlotResults()"
   ]
  },
  {
   "cell_type": "code",
   "execution_count": null,
   "metadata": {},
   "outputs": [],
   "source": []
  }
 ],
 "metadata": {
  "author": "Operatial Amplifier Topology Repository for use with Python",
  "hide_input": false,
  "kernelspec": {
   "display_name": "Python 3",
   "language": "python",
   "name": "python3"
  },
  "language_info": {
   "codemirror_mode": {
    "name": "ipython",
    "version": 3
   },
   "file_extension": ".py",
   "mimetype": "text/x-python",
   "name": "python",
   "nbconvert_exporter": "python",
   "pygments_lexer": "ipython3",
   "version": "3.6.3"
  },
  "latex_envs": {
   "LaTeX_envs_menu_present": true,
   "autocomplete": true,
   "bibliofile": "biblio.bib",
   "cite_by": "apalike",
   "current_citInitial": 1,
   "eqLabelWithNumbers": true,
   "eqNumInitial": 1,
   "hotkeys": {
    "equation": "Ctrl-E",
    "itemize": "Ctrl-I"
   },
   "labels_anchors": false,
   "latex_user_defs": false,
   "report_style_numbering": false,
   "user_envs_cfg": false
  },
  "toc": {
   "nav_menu": {},
   "number_sections": true,
   "sideBar": true,
   "skip_h1_title": false,
   "toc_cell": true,
   "toc_position": {},
   "toc_section_display": true,
   "toc_window_display": true
  }
 },
 "nbformat": 4,
 "nbformat_minor": 2
}
