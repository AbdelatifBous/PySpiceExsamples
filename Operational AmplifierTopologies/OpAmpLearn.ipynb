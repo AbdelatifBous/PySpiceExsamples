{
 "cells": [
  {
   "cell_type": "markdown",
   "metadata": {},
   "source": [
    "\\title{Operatial Amplifier Topology Repository for use with Python}\n",
    "\\author{Steven K Armour}\n",
    "\\maketitle"
   ]
  },
  {
   "cell_type": "markdown",
   "metadata": {
    "toc": true
   },
   "source": [
    "<h1>Table of Contents<span class=\"tocSkip\"></span></h1>\n",
    "<div class=\"toc\" style=\"margin-top: 1em;\"><ul class=\"toc-item\"><li><span><a href=\"#Premise\" data-toc-modified-id=\"Premise-1\"><span class=\"toc-item-num\">1&nbsp;&nbsp;</span>Premise</a></span></li><li><span><a href=\"#Libarys\" data-toc-modified-id=\"Libarys-2\"><span class=\"toc-item-num\">2&nbsp;&nbsp;</span>Libarys</a></span></li><li><span><a href=\"#Setup\" data-toc-modified-id=\"Setup-3\"><span class=\"toc-item-num\">3&nbsp;&nbsp;</span>Setup</a></span></li><li><span><a href=\"#Ideal-OpAmp\" data-toc-modified-id=\"Ideal-OpAmp-4\"><span class=\"toc-item-num\">4&nbsp;&nbsp;</span>Ideal OpAmp</a></span></li><li><span><a href=\"#TestBench\" data-toc-modified-id=\"TestBench-5\"><span class=\"toc-item-num\">5&nbsp;&nbsp;</span>TestBench</a></span></li><li><span><a href=\"#Buffer\" data-toc-modified-id=\"Buffer-6\"><span class=\"toc-item-num\">6&nbsp;&nbsp;</span>Buffer</a></span></li><li><span><a href=\"#Inverting\" data-toc-modified-id=\"Inverting-7\"><span class=\"toc-item-num\">7&nbsp;&nbsp;</span>Inverting</a></span></li><li><span><a href=\"#Noninverting\" data-toc-modified-id=\"Noninverting-8\"><span class=\"toc-item-num\">8&nbsp;&nbsp;</span>Noninverting</a></span></li><li><span><a href=\"#Miller-Capactive-Integrator\" data-toc-modified-id=\"Miller-Capactive-Integrator-9\"><span class=\"toc-item-num\">9&nbsp;&nbsp;</span>Miller Capactive Integrator</a></span></li><li><span><a href=\"#Miller-Inductive-Integrator\" data-toc-modified-id=\"Miller-Inductive-Integrator-10\"><span class=\"toc-item-num\">10&nbsp;&nbsp;</span>Miller Inductive Integrator</a></span></li><li><span><a href=\"#Low-Pass-1Pole\" data-toc-modified-id=\"Low-Pass-1Pole-11\"><span class=\"toc-item-num\">11&nbsp;&nbsp;</span>Low Pass 1Pole</a></span></li><li><span><a href=\"#Miller-Capacitive-Differentiator\" data-toc-modified-id=\"Miller-Capacitive-Differentiator-12\"><span class=\"toc-item-num\">12&nbsp;&nbsp;</span>Miller Capacitive Differentiator</a></span></li><li><span><a href=\"#Miller-Inductive-Differentiator\" data-toc-modified-id=\"Miller-Inductive-Differentiator-13\"><span class=\"toc-item-num\">13&nbsp;&nbsp;</span>Miller Inductive Differentiator</a></span></li><li><span><a href=\"#High-Pass-1Zero\" data-toc-modified-id=\"High-Pass-1Zero-14\"><span class=\"toc-item-num\">14&nbsp;&nbsp;</span>High Pass 1Zero</a></span></li><li><span><a href=\"#Sallen-Key-Filter\" data-toc-modified-id=\"Sallen-Key-Filter-15\"><span class=\"toc-item-num\">15&nbsp;&nbsp;</span>Sallen-Key Filter</a></span><ul class=\"toc-item\"><li><span><a href=\"#Low-Pass-with-Voltage-Gain\" data-toc-modified-id=\"Low-Pass-with-Voltage-Gain-15.1\"><span class=\"toc-item-num\">15.1&nbsp;&nbsp;</span>Low Pass with Voltage Gain</a></span></li><li><span><a href=\"#Band-Pass-with-Voltage-Gain\" data-toc-modified-id=\"Band-Pass-with-Voltage-Gain-15.2\"><span class=\"toc-item-num\">15.2&nbsp;&nbsp;</span>Band Pass with Voltage Gain</a></span></li><li><span><a href=\"#HIgh-Pass-with-Voltage-Gain\" data-toc-modified-id=\"HIgh-Pass-with-Voltage-Gain-15.3\"><span class=\"toc-item-num\">15.3&nbsp;&nbsp;</span>HIgh Pass with Voltage Gain</a></span></li></ul></li></ul></div>"
   ]
  },
  {
   "cell_type": "markdown",
   "metadata": {},
   "source": [
    "Note:\n",
    "this notebook uses the [`(some) LaTeX environments for Jupyter\n",
    "`](http://jupyter-contrib-nbextensions.readthedocs.io/en/latest/nbextensions/latex_envs/README.html) found within the install of https://github.com/ipython-contrib/jupyter_contrib_nbextensions\n",
    "\n",
    "And all diagrams are made in **draw.io** where the source file is `OpAmpTobosDrawing.html` where that file and the exported files should accompany this notebook from its GitHub source\n",
    "\n"
   ]
  },
  {
   "cell_type": "markdown",
   "metadata": {},
   "source": [
    "# Premise\n",
    "This Notebook serves as a Repository of Operational Amplifier Topologies for use in [PySpice](https://pyspice.fabrice-salvaire.fr/) and for the topologies theory. The Goal for the Author personally is to make one or two upgrades to this notebook a week. Whether that be a new feature, expanded theory, or new topology.\n",
    "\n",
    "Some of the intended upgrades include:\n",
    "\\begin{itemize}\n",
    "\\item Enhanced analyses of output data\n",
    "\\item Routines to find figures of merits from output data\n",
    "\\item Added calculations from theory \n",
    "\\item Simulations from theory and compersion to SPICE sim\n",
    "\\item adding GUI interactivity via ipython notebook widgets\n",
    "\\end{itemize}\n",
    "\n"
   ]
  },
  {
   "cell_type": "markdown",
   "metadata": {},
   "source": [
    "# Libarys"
   ]
  },
  {
   "cell_type": "code",
   "execution_count": null,
   "metadata": {},
   "outputs": [],
   "source": [
    "from sympy import *\n",
    "init_printing()\n",
    "import ipywidgets as wgs\n",
    "\n",
    "import numpy as np\n",
    "import pandas as pd\n",
    "\n",
    "import matplotlib.pyplot as plt\n",
    "%matplotlib inline\n",
    "\n",
    "from PySpice.Plot.BodeDiagram import bode_diagram\n",
    "from PySpice.Probe.Plot import plot\n",
    "from PySpice.Spice.Netlist import Circuit\n",
    "from PySpice.Spice.Netlist import SubCircuitFactory\n",
    "from PySpice.Unit import *\n",
    "\n",
    "from ipywidgets import widgets\n",
    "from IPython.display import display\n",
    "\n",
    "#https://github.com/jrjohansson/version_information\n",
    "%load_ext version_information\n",
    "%version_information sympy, numpy, matplotlib, pandas, PySPice, ipywidgets"
   ]
  },
  {
   "cell_type": "markdown",
   "metadata": {},
   "source": [
    "# Setup"
   ]
  },
  {
   "cell_type": "code",
   "execution_count": null,
   "metadata": {},
   "outputs": [],
   "source": [
    "def lambdify2(expresion, ReVars=False):\n",
    "    \"\"\"\n",
    "    Helper Function to more automate sympy `lambdify` function\n",
    "    \n",
    "    Args:\n",
    "        expresion: sympy expresion !Only Pass LHS of Equations\n",
    "        ReVars (bool; False): Control to return the Vars in a list if True\n",
    "    \n",
    "    Note:\n",
    "        lambdfy is set with `dummify=False` therefore do not pass\n",
    "        unsantied variabls to functin else error will be thrown\n",
    "    \"\"\"\n",
    "    #collect vars\n",
    "    Vars=sorted(list(expresion.free_symbols), key=lambda x: str(x))\n",
    "    #perform lambdfy with waver\n",
    "    F=lambdify(Vars, expresion, dummify=False)\n",
    "    if ReVars:\n",
    "        return F, Vars\n",
    "    else:\n",
    "        return F"
   ]
  },
  {
   "cell_type": "markdown",
   "metadata": {},
   "source": [
    "# Ideal OpAmp"
   ]
  },
  {
   "cell_type": "markdown",
   "metadata": {},
   "source": [
    "Using the Semi Ideal OpAmp model devloped by Fabrice Salvaire for the OpAmp Exsample [8.10.3. Operational Amplifier](https://pyspice.fabrice-salvaire.fr/examples/operational-amplifier/operational-amplifier.html)"
   ]
  },
  {
   "cell_type": "markdown",
   "metadata": {},
   "source": [
    "<img src=\"SemiIdelOpAmpModel.png\">"
   ]
  },
  {
   "cell_type": "code",
   "execution_count": null,
   "metadata": {},
   "outputs": [],
   "source": [
    "class BasicOperationalAmplifier(SubCircuitFactory):\n",
    "    \"\"\"\n",
    "    Semi Ideal OpAmp Model SubCir from \n",
    "    https://pyspice.fabrice-salvaire.fr/examples/operational-amplifier/operational-amplifier.html\n",
    "    A0=100e3; pole=100; A=10e6Hz\n",
    "    Termanals:\n",
    "        non_inverting_input\n",
    "        inverting_input\n",
    "        output\n",
    "    \"\"\"\n",
    "\n",
    "    __name__ = 'BasicOperationalAmplifier'\n",
    "    __nodes__ = ('non_inverting_input', 'inverting_input', 'output')\n",
    "\n",
    "    ##############################################\n",
    "\n",
    "    def __init__(self):\n",
    "\n",
    "        super().__init__()\n",
    "\n",
    "        # Input impedance\n",
    "        self.R('input', 'non_inverting_input', 'inverting_input', 10@u_MΩ)\n",
    "\n",
    "        # dc gain=100k and pole1=100hz\n",
    "        # unity gain = dcgain x pole1 = 10MHZ\n",
    "        self.VCVS('gain', 1, self.gnd, 'non_inverting_input', 'inverting_input', voltage_gain=kilo(100))\n",
    "        self.R('P1', 1, 2, 1@u_kΩ)\n",
    "        self.C('P1', 2, self.gnd, 1.5915@u_uF)\n",
    "\n",
    "        # Output buffer and resistance\n",
    "        self.VCVS('buffer', 3, self.gnd, 2, self.gnd, 1)\n",
    "        self.R('out', 3, 'output', 10@u_Ω)"
   ]
  },
  {
   "cell_type": "markdown",
   "metadata": {},
   "source": [
    "# TestBench"
   ]
  },
  {
   "cell_type": "markdown",
   "metadata": {},
   "source": [
    "<img src=\"TestBench1P.png\">"
   ]
  },
  {
   "cell_type": "code",
   "execution_count": null,
   "metadata": {
    "code_folding": []
   },
   "outputs": [],
   "source": [
    "class OnePortOpAmpTB(Circuit):\n",
    "    \"\"\"\n",
    "    Class for implimenting Bode plot simulation for One Port \n",
    "    (Two Termanal) Opertinal Amplifer topology \n",
    "    \"\"\"\n",
    "    def __init__(self, DUT, **kwargs):\n",
    "        \"\"\"\n",
    "        Args:\n",
    "            DUT (class SubCircuitFactory): The One Port OpAmp topology class to be tested\n",
    "            kwargs (dict): Addital Ciricut Parmters to the topology under test\n",
    "        \"\"\"\n",
    "        #bind the DUT class to TB instance\n",
    "        self.DUT=DUT\n",
    "        #self.Theory=self.DUT.Theory()\n",
    "        #create the ciruit name from DUT name\n",
    "        super().__init__(title=f'{self.DUT.__name__}_TB', **kwargs)\n",
    "        \n",
    "    \n",
    "    def SetupCir(self, **kwargs):\n",
    "        \"\"\"\n",
    "        Sets up the the DUT and the Testbench for simulation\n",
    "        see diagrm in source IPYNB for cirucit diagram\n",
    "        Args:\n",
    "            kwargs (dict): Addital Ciricut Parmters to the topology under test\n",
    "        \"\"\"\n",
    "        #create instatince of DUT and setuo with parmaters\n",
    "        self.DUT=self.DUT(**kwargs)\n",
    "        \n",
    "        #load the DUT in to the circuit\n",
    "        self.subcircuit(self.DUT)\n",
    "        self.X('Amp', self.DUT.__name__, 'Vin', 'Vout')\n",
    "        \n",
    "        #set up the TB elements\n",
    "        self.R('Sload', 'Vin' , '1', 50@u_Ω)\n",
    "        self.SinusoidalVoltageSource('Source', '1', self.gnd, amplitude=1@u_V)\n",
    "\n",
    "        self.R('Tload', 'Vout', self.gnd, 50@u_Ω)\n",
    "        #print out the resulting spice list\n",
    "        print(self)\n",
    "    \n",
    "    def Simulate(self, fMin=1, fMax=20e6):\n",
    "        \"\"\"\n",
    "        Method to perform a Bode plot simulation via NgSpice AC sim @25C\n",
    "        Args:\n",
    "            fMin(float; 1 [Hz]): the  starting frequnacy for \n",
    "            Bode plot sweep in hertz\n",
    "            \n",
    "            fMax(float; 100e3[Hz]): the ending  frequnacy for \n",
    "            Bode plot sweep in hertz\n",
    "        \n",
    "        Retured Attributes:\n",
    "            results: the ac simulation raw results from NGSpice\n",
    "            Data: Pandas Dataframe with ouputs and calcs from results\n",
    "            \n",
    "        \"\"\"\n",
    "        \n",
    "        simulator = self.simulator(temperature=25, nominal_temperature=25)\n",
    "        self.results = simulator.ac(start_frequency=fMin@u_Hz, stop_frequency=fMax@u_Hz, number_of_points=10,  variation='dec')\n",
    "        \n",
    "        # returned dataframe\n",
    "        self.Data=pd.DataFrame()\n",
    "        self.Data['freq[Hz]']=self.results.frequency\n",
    "        self.Data['Vin']=self.results.Vin\n",
    "        self.Data['Vout']=self.results.Vout\n",
    "        #normlized gain in dB\n",
    "        self.Data['Gain[dB]']=20*np.log10(np.abs(self.Data['Vout']/self.Data['Vin']))\n",
    "        # phase in radians unwraped\n",
    "        self.Data['Phase[rad_UW]']=(np.angle(self.Data['Vout']))\n",
    "    \n",
    "    def PlotResults(self):\n",
    "        \"\"\"\n",
    "        Create a Bode plot from the simulation\n",
    "        \"\"\"\n",
    "        self.fig, [self.axMag, self.axPh]=plt.subplots(ncols=1, nrows=2, sharex=True)\n",
    "        \n",
    "        A=self.Data['Gain[dB]']; F=self.Data['freq[Hz]']\n",
    "        L=np.abs(np.abs(A-A.max())-3.0).idxmin()\n",
    "        self.dB3=F[L]\n",
    "        \n",
    "        plt.suptitle(\"Bode Diagram of an Operational Amplifier\")\n",
    "        bode_diagram(axes=(self.axMag, self.axPh),\n",
    "                     frequency=self.Data['freq[Hz]'],\n",
    "                     gain=self.Data['Gain[dB]'],\n",
    "                     phase=self.Data['Phase[rad_UW]'],\n",
    "                     marker='.',\n",
    "                     color='blue',\n",
    "                     linestyle='-',\n",
    "                    )\n",
    "        \n",
    "        self.axMag.axvline(x=self.dB3, label='3dB[Hz]', \n",
    "                      linestyle='-.', alpha=.5, color='g')\n",
    "        self.axPh.axvline(x=self.dB3, label='3dB[Hz]', \n",
    "                      linestyle='-.', alpha=.5, color='g')\n",
    "        \n",
    "        \n",
    "    "
   ]
  },
  {
   "cell_type": "markdown",
   "metadata": {},
   "source": [
    "\\begin{definition}\n",
    "$A$ Open Loop Gain (no feedback)\n",
    "$$A=\\dfrac{V_o}{V_i}$$\n",
    "\\end{definition}\n",
    "\n",
    "\\begin{definition}\n",
    "$G$ Closed Loop Gain (with feedback)\n",
    "$$G=\\dfrac{V_o}{V_i}$$\n",
    "\\end{definition}\n",
    "\n",
    "\\begin{definition}\n",
    "$Z_{\\text{i}}$ Open Loop Input Impedance (no feedback)\n",
    "$$Z_{\\text{i}}=\\dfrac{V_{\\text{diff}}}{I_i}$$\n",
    "\\end{definition}\n",
    "\n",
    "\\begin{definition}\n",
    "$Z_{\\text{o}}$ Open Loop Output Impedance (no feedback)\n",
    "$$Z_{\\text{o}}=\\dfrac{V_o}{I_o}$$\n",
    "\\end{definition}\n",
    "\n",
    "\\begin{definition}\n",
    "$Z_{\\text{ifb}}$ Closed Loop Input Impedance (with feedback)\n",
    "$$Z_{\\text{ifb}}=\\dfrac{V_i}{I_i}$$\n",
    "\\end{definition}\n",
    "\n",
    "\\begin{definition}\n",
    "$Z_{\\text{ofb}}$ Closed Loop Output Impedance (with feedback)\n",
    "$$Z_{\\text{ofb}}=\\dfrac{V_o}{I_o}$$\n",
    "\\end{definition}\n",
    "\n",
    "\n",
    "\\begin{definition}\n",
    "$V_{\\text{diff}}$ the differential input voltage\n",
    "$$V_{\\text{diff}}=V_+-V_-$$\n",
    "\\end{definition}\n"
   ]
  },
  {
   "cell_type": "markdown",
   "metadata": {},
   "source": [
    "# Buffer"
   ]
  },
  {
   "cell_type": "markdown",
   "metadata": {},
   "source": [
    "<img src=\"Buffer.png\">"
   ]
  },
  {
   "cell_type": "markdown",
   "metadata": {},
   "source": [
    "[Analog Electronics: Circuits, Systems and Signal Processing](https://www.amazon.com/Analog-Electronics-Circuits-Systems-Processing-ebook/dp/B00CXO975A/ref=sr_1_1?ie=UTF8&qid=1524885102&sr=8-1&keywords=Analog+Electronics+Crecraft+Gergely) 3.5, 3.5.1, 3.5.2\n",
    "\n",
    "\n",
    "$$V_{\\text{diff}}=V_i-V_o$$\n",
    "$$V_o=AV_{\\text{diff}}$$\n",
    "$$V_o=AV_i-AV_o$$\n",
    "$$G=\\dfrac{V_o}{V_i}=\\dfrac{A}{1+A}\\approx 1$$\n"
   ]
  },
  {
   "cell_type": "markdown",
   "metadata": {},
   "source": [
    "$$I_i=\\dfrac{V_{\\text{diff}}}{Z_i} $$\n",
    "$$V_{\\text{diff}}=\\dfrac{1}{1+A}V_i$$\n",
    "$$I_i=\\dfrac{1}{1+A} \\dfrac{V_i}{Z_i}$$\n",
    "$$Z_{\\text{ifb}}=(1+A)Z_i$$"
   ]
  },
  {
   "cell_type": "markdown",
   "metadata": {},
   "source": [
    "$$V_o=AV_{\\text{diff}}-I_LZ_o$$\n",
    "$$(1+A)V_o=AV_i-I_L Z_o$$\n",
    "$$V_o=\\dfrac{A}{1+A}V_i -\\dfrac{Z_o}{1+A}I_L$$\n",
    "$$V_o=GV_i -Z_{\\text{ofb}}I_L$$\n",
    "$$Z_{\\text{ifb}}=\\dfrac{Z_o}{1+A}$$"
   ]
  },
  {
   "cell_type": "code",
   "execution_count": null,
   "metadata": {},
   "outputs": [],
   "source": [
    "class BufferOpAmp(SubCircuitFactory):\n",
    "    \"\"\"\n",
    "    Buffer OpAmp SubCircuit\n",
    "    Termanals:\n",
    "        Vin\n",
    "        Vout\n",
    "    \n",
    "    \"\"\"\n",
    "    \n",
    "    __name__='BufferOpAmp'\n",
    "    __nodes__=('Vin','Vout')\n",
    "    \n",
    "    def __init__(self):\n",
    "        super().__init__()\n",
    "       \n",
    "        #'non_inverting_input', 'inverting_input', 'output'\n",
    "        self.subcircuit(BasicOperationalAmplifier())\n",
    "        self.X('op', 'BasicOperationalAmplifier', 'Vin', 'Vout', 'Vout')\n",
    "    \n",
    "    @staticmethod\n",
    "    def Theory():\n",
    "        \"\"\"Analog Electronics: Circuits, Systems and Signal Processing \n",
    "        Crecraft Gergely\"\"\"\n",
    "        A,Zi, Zo, s=symbols('A, Z_i, Z_o s')\n",
    "        H=Function('H')(s); Zin=Function('Z_ifb')(s); Zout=Function('Z_ofb')(s)\n",
    "        TF=Eq(H, A/(1+A)); Zin=Eq(Zin, (1+A)*Zi); Zout=Eq(Zout, Zo/(1+A))\n",
    "        return TF, Zin, Zout\n",
    "    "
   ]
  },
  {
   "cell_type": "code",
   "execution_count": null,
   "metadata": {},
   "outputs": [],
   "source": [
    "#Print out the Buffer Op Amp Theory\n",
    "BufferOpAmp.Theory()"
   ]
  },
  {
   "cell_type": "code",
   "execution_count": null,
   "metadata": {},
   "outputs": [],
   "source": [
    "#create the Test Bench and Bind to this instance the BufferOpAmp Topo\n",
    "TB=OnePortOpAmpTB(BufferOpAmp)\n",
    "#Setup the Testbench and print the TB\n",
    "TB.SetupCir()\n",
    "#Run the AC Bode Simulation\n",
    "TB.Simulate()\n",
    "#View Bode Simulation\n",
    "TB.PlotResults()"
   ]
  },
  {
   "cell_type": "code",
   "execution_count": null,
   "metadata": {},
   "outputs": [],
   "source": [
    "TB.dB3"
   ]
  },
  {
   "cell_type": "markdown",
   "metadata": {},
   "source": [
    "# Inverting"
   ]
  },
  {
   "cell_type": "markdown",
   "metadata": {},
   "source": [
    "<img src=\"InvertingOpAmp.png\">"
   ]
  },
  {
   "cell_type": "code",
   "execution_count": null,
   "metadata": {},
   "outputs": [],
   "source": [
    "class InvertingOpAmp(SubCircuitFactory):\n",
    "    \"\"\"\n",
    "    Inverting OpAmp SubCir\n",
    "    Termanals:\n",
    "        Vin\n",
    "        Vout\n",
    "    Parms:\n",
    "        R1[Ohms]\n",
    "        R2[Ohms]\n",
    "    \"\"\"\n",
    "    \n",
    "    __name__='InvertingOpAmp'\n",
    "    __nodes__=('Vin','Vout')\n",
    "    \n",
    "    def __init__(self, R1=1, R2=1):\n",
    "        super().__init__()\n",
    "        self.R1=R1; self.R2=R2\n",
    "        \n",
    "        self.R('1', 'Vin', '2', R1@u_Ω)\n",
    "        self.R('2', '2', 'Vout', R2@u_Ω)\n",
    "        \n",
    "        self.subcircuit(BasicOperationalAmplifier())\n",
    "        self.X('op', 'BasicOperationalAmplifier', self.gnd, '2', 'Vout')\n",
    "        self.Theory()\n",
    "    \n",
    "    @staticmethod\n",
    "    def Theory():\n",
    "        \"\"\"Analog Electronics: Circuits, Systems and Signal Processing \n",
    "        Crecraft Gergely\"\"\"        \n",
    "        R1, R2=symbols('R_1, R_2', real=True, postive=True)\n",
    "        A,Zi, Zo, s=symbols('A, Z_i, Z_o s')\n",
    "        H=Function('H')(s); Zin=Function('Z_in')(s); Zout=Function('Z_out')(s)\n",
    "        TF=Eq(H, -R2/R1)\n",
    "        Zin=Eq(Zin, R1)\n",
    "        Zout=Eq(Zout, Zo*(R1+R2)/(A*R1))\n",
    "        return TF, Zin, Zout\n",
    "        \n",
    "    "
   ]
  },
  {
   "cell_type": "code",
   "execution_count": null,
   "metadata": {},
   "outputs": [],
   "source": [
    "#Print out the Inverting Op Amp Theory\n",
    "InvertingOpAmp.Theory()"
   ]
  },
  {
   "cell_type": "code",
   "execution_count": null,
   "metadata": {},
   "outputs": [],
   "source": [
    "widgets.FloatSlider(value=50e3,\n",
    "                                         min=10e3, max=100e3, step=5e3,\n",
    "                                         description='R1 Resistince',\n",
    "                                         readout_format='.1e')"
   ]
  },
  {
   "cell_type": "code",
   "execution_count": null,
   "metadata": {},
   "outputs": [],
   "source": [
    "\n",
    "#create the Test Bench and Bind to this instance the InvertingOpAmp Topo\n",
    "TB=OnePortOpAmpTB(InvertingOpAmp)\n",
    "#Setup the Testbench; use a R1=20 Ohm,R2=5 Ohm and print the TB\n",
    "TB.SetupCir(**{'R1':20, 'R2':5})\n",
    "#Run the AC Bode Simulation\n",
    "TB.Simulate()\n",
    "#View Bode Simulation\n",
    "TB.PlotResults()"
   ]
  },
  {
   "cell_type": "markdown",
   "metadata": {},
   "source": [
    "# Noninverting"
   ]
  },
  {
   "cell_type": "markdown",
   "metadata": {},
   "source": [
    "<img src=\"NonInveringOpAmp.png\">"
   ]
  },
  {
   "cell_type": "code",
   "execution_count": null,
   "metadata": {},
   "outputs": [],
   "source": [
    "class NonInvertingOpAmp(SubCircuitFactory):\n",
    "    \"\"\"\n",
    "    Non-Inverting OpAmp SubCir\n",
    "    Termanals:\n",
    "        Vin\n",
    "        Vout\n",
    "    Parms:\n",
    "        R1\n",
    "        R2\n",
    "    \"\"\"\n",
    "    \n",
    "    __name__='NonInvertingOpAmp'\n",
    "    __nodes__=('Vin','Vout')\n",
    "    \n",
    "    def __init__(self, R1, R2):\n",
    "        super().__init__()\n",
    "        self.R1=R1; self.R2=R2\n",
    "        \n",
    "        self.R('1', '2', self.gnd, R1@u_Ω)\n",
    "        self.R('2', '2', 'Vout', R2@u_Ω)\n",
    "        \n",
    "        self.subcircuit(BasicOperationalAmplifier())\n",
    "        self.X('op', 'BasicOperationalAmplifier', 'Vin', '2', 'Vout')\n",
    "    \n",
    "    @staticmethod\n",
    "    def Theory():\n",
    "        \"\"\"Analog Electronics: Circuits, Systems and Signal Processing \n",
    "        Crecraft Gergely\"\"\"        \n",
    "        R1, R2=symbols('R_1, R_2', real=True, postive=True)\n",
    "        A,Zi, Zo, s=symbols('A, Z_i, Z_o s')\n",
    "        H=Function('H')(s); Zin=Function('Z_in')(s); Zout=Function('Z_out')(s)\n",
    "        TF=Eq(H, (A(R1+R2))/(R2(1+A)+R1))\n",
    "        Zin=Eq(Zin, Zi*((1+A)*R2+R1)/(R2+(1-A)*R1))\n",
    "        Zout=Eq(Zout, Zo*(R1+R2)/(R1+(1+A)*R2))\n",
    "        return TF, Zin, Zout\n",
    "        \n"
   ]
  },
  {
   "cell_type": "code",
   "execution_count": null,
   "metadata": {},
   "outputs": [],
   "source": [
    "#Print out the NonInverting Op Amp Theory\n",
    "NonInvertingOpAmp.Theory()"
   ]
  },
  {
   "cell_type": "code",
   "execution_count": null,
   "metadata": {},
   "outputs": [],
   "source": [
    "#create the Test Bench and Bind to this instance the NonInverting Topo\n",
    "TB=OnePortOpAmpTB(NonInvertingOpAmp)\n",
    "#Setup the Testbench; use a R1=20 Ohm,R2=5 Ohm and print the TB\n",
    "TB.SetupCir(**{'R1':20, 'R2':5})\n",
    "#Run the AC Bode Simulation\n",
    "TB.Simulate()\n",
    "#View Bode Simulation\n",
    "TB.PlotResults()"
   ]
  },
  {
   "cell_type": "markdown",
   "metadata": {},
   "source": [
    "# Miller Capactive Integrator "
   ]
  },
  {
   "cell_type": "markdown",
   "metadata": {},
   "source": [
    "<img src=\"MillerCapInt.png\">"
   ]
  },
  {
   "cell_type": "code",
   "execution_count": null,
   "metadata": {},
   "outputs": [],
   "source": [
    "class MillerCapIntOpAmp(SubCircuitFactory):\n",
    "    \"\"\"\n",
    "    Inverting OpAmp SubCir\n",
    "    Termanals:\n",
    "        Vin\n",
    "        Vout\n",
    "    Parms:\n",
    "        R1[Ohms]\n",
    "        C1[Fards]\n",
    "    \"\"\"\n",
    "    \n",
    "    __name__='MillerCapIntOpAmp'\n",
    "    __nodes__=('Vin','Vout')\n",
    "    \n",
    "    def __init__(self, R1=1, C1=1):\n",
    "        super().__init__()\n",
    "        self.R1=R1; self.C1=C1\n",
    "        \n",
    "        self.R('1', 'Vin', '2', R1@u_Ω)\n",
    "        self.C('1', '2', 'Vout', C1@u_F)\n",
    "        \n",
    "        self.subcircuit(BasicOperationalAmplifier())\n",
    "        self.X('op', 'BasicOperationalAmplifier', self.gnd, '2', 'Vout')\n",
    "        self.Theory()\n",
    "    \n",
    "    @staticmethod\n",
    "    def Theory():\n",
    "        \"\"\"Analog Electronics: Circuits, Systems and Signal Processing \n",
    "        Crecraft Gergely\"\"\"        \n",
    "        R1, C1=symbols('R_1, C_1', real=True, postive=True)\n",
    "        A,Zi, Zo, s=symbols('A, Z_i, Z_o s')\n",
    "        H=Function('H')(s); Zin=Function('Z_in')(s); Zout=Function('Z_out')(s)\n",
    "        TF=Eq(H, -(1/(s*C1))/R1)\n",
    "        Zin=simplify(Eq(Zin, R1))\n",
    "        Zout=Eq(Zout, Zo/(A(1+s*C1*R1)))\n",
    "        return TF, Zin, Zout\n",
    "        \n",
    "    "
   ]
  },
  {
   "cell_type": "code",
   "execution_count": null,
   "metadata": {},
   "outputs": [],
   "source": [
    "#Print out the MillerCapInt Op Amp Theory\n",
    "MillerCapIntOpAmp.Theory()"
   ]
  },
  {
   "cell_type": "code",
   "execution_count": null,
   "metadata": {},
   "outputs": [],
   "source": [
    "#create the Test Bench and Bind to this instance the MillerCapInt Topo\n",
    "TB=OnePortOpAmpTB(MillerCapIntOpAmp)\n",
    "#Setup the Testbench; use a R1=20 Ohm,C1=10 muF and print the TB\n",
    "TB.SetupCir(**{'R1':20, 'C1':10e-6})\n",
    "#Run the AC Bode Simulation\n",
    "TB.Simulate()\n",
    "#View Bode Simulation\n",
    "TB.PlotResults()"
   ]
  },
  {
   "cell_type": "markdown",
   "metadata": {},
   "source": [
    "# Miller Inductive Integrator "
   ]
  },
  {
   "cell_type": "markdown",
   "metadata": {},
   "source": [
    "<img src=\"MillerIndInt.png\">"
   ]
  },
  {
   "cell_type": "code",
   "execution_count": null,
   "metadata": {},
   "outputs": [],
   "source": [
    "class MillerIndIntOpAmp(SubCircuitFactory):\n",
    "    \"\"\"\n",
    "    Inverting OpAmp SubCir\n",
    "    Termanals:\n",
    "        Vin\n",
    "        Vout\n",
    "    Parms:\n",
    "        R1[Ohms]\n",
    "        L1[Henrys]\n",
    "    \"\"\"\n",
    "    \n",
    "    __name__='MillerIndIntOpAmp'\n",
    "    __nodes__=('Vin','Vout')\n",
    "    \n",
    "    def __init__(self, R1=1, L1=1):\n",
    "        super().__init__()\n",
    "        self.R1=R1; self.L1=L1\n",
    "        \n",
    "        self.L('1', 'Vin', '2', L1@u_H)\n",
    "        self.R('1', '2', 'Vout', R1@u_Ω)\n",
    "        \n",
    "        self.subcircuit(BasicOperationalAmplifier())\n",
    "        self.X('op', 'BasicOperationalAmplifier', self.gnd, '2', 'Vout')\n",
    "        self.Theory()\n",
    "    \n",
    "    @staticmethod\n",
    "    def Theory():\n",
    "        \"\"\"Analog Electronics: Circuits, Systems and Signal Processing \n",
    "        Crecraft Gergely\"\"\"        \n",
    "        R1, L1=symbols('R_1, L_1', real=True, postive=True)\n",
    "        A,Zi, Zo, s=symbols('A, Z_i, Z_o s')\n",
    "        H=Function('H')(s); Zin=Function('Z_in')(s); Zout=Function('Z_out')(s)\n",
    "        TF=Eq(H, -R1/(s*L1))\n",
    "        Zin=Eq(Zin, s*L1)\n",
    "        Zout=simplify(Eq(Zout, Zo*(s*L1+R1)/(A*s*L1)))\n",
    "        return TF, Zin, Zout\n",
    "        "
   ]
  },
  {
   "cell_type": "code",
   "execution_count": null,
   "metadata": {},
   "outputs": [],
   "source": [
    "#Print out the MillerIndInt Op Amp Theory\n",
    "MillerIndIntOpAmp.Theory()"
   ]
  },
  {
   "cell_type": "code",
   "execution_count": null,
   "metadata": {},
   "outputs": [],
   "source": [
    "#create the Test Bench and Bind to this instance the MillerCapInt Topo\n",
    "TB=OnePortOpAmpTB(MillerIndIntOpAmp)\n",
    "#Setup the Testbench; use a R1=20 Ohm,L1=10 muH and print the TB\n",
    "TB.SetupCir(**{'R1':20, 'L1':10e-6})\n",
    "#Run the AC Bode Simulation\n",
    "TB.Simulate()\n",
    "#View Bode Simulation\n",
    "TB.PlotResults()"
   ]
  },
  {
   "cell_type": "markdown",
   "metadata": {},
   "source": [
    "#  Low Pass 1Pole"
   ]
  },
  {
   "cell_type": "markdown",
   "metadata": {},
   "source": [
    "<img src=\"LowPass1P.png\">"
   ]
  },
  {
   "cell_type": "code",
   "execution_count": null,
   "metadata": {},
   "outputs": [],
   "source": [
    "class LowPass1POpAmp(SubCircuitFactory):\n",
    "    \"\"\"\n",
    "    Single Pole Low Pass OpAmp SubCir\n",
    "\n",
    "    Termanals:\n",
    "        Vin\n",
    "        Vout\n",
    "    Parms:\n",
    "        R1[Ohms]\n",
    "        R2[Ohms]\n",
    "        C1[Farads]\n",
    "    \"\"\"\n",
    "    \n",
    "    __name__='LowPass1POpAmp'\n",
    "    __nodes__=('Vin','Vout')\n",
    "    \n",
    "    def __init__(self, R1=1, R2=1, C1=1):\n",
    "        super().__init__()\n",
    "        self.R1=R1; self.R2=R2; self.C1=C1\n",
    "        \n",
    "        self.R('1', 'Vin', '2', R1@u_Ω)\n",
    "        self.R('2', '2', 'Vout', R2@u_Ω)\n",
    "        self.C('1', '2', 'Vout', C1@u_F)\n",
    "        \n",
    "        self.subcircuit(BasicOperationalAmplifier())\n",
    "        #non, inv, out\n",
    "        self.X('op', 'BasicOperationalAmplifier', 'Vin', '2', 'Vout')\n",
    "        \n",
    "    @staticmethod\n",
    "    def Theory():\n",
    "        \"\"\"Analog Electronics: Circuits, Systems and Signal Processing \n",
    "        Crecraft Gergely\"\"\"        \n",
    "        R1, R2, C1=symbols('R_1, R_2, C_1', real=True, postive=True)\n",
    "        A,Zi, Zo, s=symbols('A, Z_i, Z_o s')\n",
    "        H=Function('H')(s); Zin=Function('Z_in')(s); Zout=Function('Z_out')(s)\n",
    "        TF=simplify(Eq(H, -(R2/(R2*s*C1+1))/R1))\n",
    "        Zin=Eq(Zin, R1)\n",
    "        Zout=simplify(Eq(Zout, Zo*(R1+(R2/(R2*s*C1+1)))/(A*R1)))\n",
    "        return TF, Zin, Zout\n",
    "        \n"
   ]
  },
  {
   "cell_type": "code",
   "execution_count": null,
   "metadata": {},
   "outputs": [],
   "source": [
    "LowPass1POpAmp.Theory()"
   ]
  },
  {
   "cell_type": "code",
   "execution_count": null,
   "metadata": {},
   "outputs": [],
   "source": [
    "#create the Test Bench and Bind to this instance the LowPass1POpAmp Topo\n",
    "TB=OnePortOpAmpTB(LowPass1POpAmp)\n",
    "#Setup the Testbench; use a R1=20 Ohm, R2=5 Ohm,C1=10 muH and print the TB\n",
    "TB.SetupCir(**{'R1':20, 'R2':5, 'C1':10e-6})\n",
    "#Run the AC Bode Simulation\n",
    "TB.Simulate()\n",
    "#View Bode Simulation\n",
    "TB.PlotResults()"
   ]
  },
  {
   "cell_type": "markdown",
   "metadata": {},
   "source": [
    "# Miller Capacitive Differentiator "
   ]
  },
  {
   "cell_type": "markdown",
   "metadata": {},
   "source": [
    "<img src=\"MillerCapDiff.png\">"
   ]
  },
  {
   "cell_type": "code",
   "execution_count": null,
   "metadata": {},
   "outputs": [],
   "source": [
    "class MillerCapDiff(SubCircuitFactory):\n",
    "    \"\"\"\n",
    "    Miller Capacitive Differentiator  OpAmp SubCir\n",
    "    Termanals:\n",
    "        Vin\n",
    "        Vout\n",
    "    Parms:\n",
    "        R1[Ohms]\n",
    "        C1[Farads]\n",
    "    \"\"\"\n",
    "    \n",
    "    __name__='MillerCapDiff'\n",
    "    __nodes__=('Vin','Vout')\n",
    "    \n",
    "    def __init__(self, R1=1, C1=1):\n",
    "        super().__init__()\n",
    "        self.R1=R1; self.C1=C1\n",
    "        \n",
    "        self.C('1', 'Vin', '2', C1@u_F)\n",
    "        self.R('1', '2', 'Vout', R1@u_Ω)\n",
    "        \n",
    "        self.subcircuit(BasicOperationalAmplifier())\n",
    "        self.X('op', 'BasicOperationalAmplifier', self.gnd, '2', 'Vout')\n",
    "        self.Theory()\n",
    "    \n",
    "    @staticmethod\n",
    "    def Theory():\n",
    "        \"\"\"Analog Electronics: Circuits, Systems and Signal Processing \n",
    "        Crecraft Gergely\"\"\"        \n",
    "        R1, R2, C1=symbols('R_1, R_2, C_1', real=True, postive=True)\n",
    "        A,Zi, Zo, s=symbols('A, Z_i, Z_o s')\n",
    "        H=Function('H')(s); Zin=Function('Z_in')(s); Zout=Function('Z_out')(s)\n",
    "        TF=Eq(H, -R1/(1/(s*C1)))\n",
    "        Zin=Eq(Zin, (1/(s*C1)))\n",
    "        Zout=simplify(Eq(Zout, Zo*((1/(s*C1))+R1)/(A*(1/(s*C1)))))\n",
    "        return TF, Zin, Zout\n",
    "    "
   ]
  },
  {
   "cell_type": "code",
   "execution_count": null,
   "metadata": {},
   "outputs": [],
   "source": [
    "MillerCapDiff.Theory()"
   ]
  },
  {
   "cell_type": "code",
   "execution_count": null,
   "metadata": {},
   "outputs": [],
   "source": [
    "#create the Test Bench and Bind to this instance the MillerCapDiff Topo\n",
    "TB=OnePortOpAmpTB(MillerCapDiff)\n",
    "#Setup the Testbench; use a R1=20 Ohm,C1=10 muF and print the TB\n",
    "TB.SetupCir(**{'R1':20, 'C1':10e-6})\n",
    "#Run the AC Bode Simulation\n",
    "TB.Simulate()\n",
    "#View Bode Simulation\n",
    "TB.PlotResults()"
   ]
  },
  {
   "cell_type": "markdown",
   "metadata": {},
   "source": [
    "# Miller Inductive Differentiator "
   ]
  },
  {
   "cell_type": "markdown",
   "metadata": {},
   "source": [
    "<img src=\"MillerIndDiff.png\">"
   ]
  },
  {
   "cell_type": "code",
   "execution_count": null,
   "metadata": {},
   "outputs": [],
   "source": [
    "class MillerIndDiff(SubCircuitFactory):\n",
    "    \"\"\"\n",
    "    Miller Inductive Differentiator  OpAmp SubCir\n",
    "    Termanals:\n",
    "        Vin\n",
    "        Vout\n",
    "    Parms:\n",
    "        R1[Ohms]\n",
    "        L1[Henerys]\n",
    "    \"\"\"\n",
    "    \n",
    "    __name__='MillerIndDiff'\n",
    "    __nodes__=('Vin','Vout')\n",
    "    \n",
    "    def __init__(self, R1=1, L1=1):\n",
    "        super().__init__()\n",
    "        self.R1=R1; self.L1=L1\n",
    "        \n",
    "        self.R('1', 'Vin', '2', R1@u_Ω)\n",
    "        self.L('1', '2', 'Vout', L1@u_H)\n",
    "        \n",
    "        self.subcircuit(BasicOperationalAmplifier())\n",
    "        self.X('op', 'BasicOperationalAmplifier', self.gnd, '2', 'Vout')\n",
    "        self.Theory()\n",
    "    \n",
    "    @staticmethod\n",
    "    def Theory():\n",
    "        \"\"\"Analog Electronics: Circuits, Systems and Signal Processing \n",
    "        Crecraft Gergely\"\"\"        \n",
    "        R1, R2, L1=symbols('R_1, R_2, L_1', real=True, postive=True)\n",
    "        A,Zi, Zo, s=symbols('A, Z_i, Z_o s')\n",
    "        H=Function('H')(s); Zin=Function('Z_in')(s); Zout=Function('Z_out')(s)\n",
    "        TF=Eq(H, -(s*L1)/R1)\n",
    "        Zin=Eq(Zin, R1)\n",
    "        Zout=Eq(Zout, Zo*(R1+(s*L1))/(A*R1))\n",
    "        return TF, Zin, Zout\n",
    "        "
   ]
  },
  {
   "cell_type": "code",
   "execution_count": null,
   "metadata": {},
   "outputs": [],
   "source": [
    "MillerIndDiff.Theory()"
   ]
  },
  {
   "cell_type": "code",
   "execution_count": null,
   "metadata": {
    "scrolled": true
   },
   "outputs": [],
   "source": [
    "#create the Test Bench and Bind to this instance the MillerCapInt Topo\n",
    "TB=OnePortOpAmpTB(MillerIndDiff)\n",
    "#Setup the Testbench; use a R1=20 Ohm,L1=10 muH and print the TB\n",
    "TB.SetupCir(**{'R1':20, 'L1':10e-6})\n",
    "#Run the AC Bode Simulation\n",
    "TB.Simulate()\n",
    "#View Bode Simulation\n",
    "TB.PlotResults()"
   ]
  },
  {
   "cell_type": "markdown",
   "metadata": {},
   "source": [
    "# High Pass 1Zero"
   ]
  },
  {
   "cell_type": "markdown",
   "metadata": {},
   "source": [
    "<img src=\"HighPass1Z.png\">"
   ]
  },
  {
   "cell_type": "code",
   "execution_count": null,
   "metadata": {},
   "outputs": [],
   "source": [
    "class HighPass1ZOpAmp(SubCircuitFactory):\n",
    "    \"\"\"\n",
    "    Single Pole Low Pass OpAmp SubCir\n",
    "\n",
    "    Termanals:\n",
    "        Vin\n",
    "        Vout\n",
    "    Parms:\n",
    "        R1[Ohms]\n",
    "        R2[Ohms]\n",
    "        L1[Henerys]\n",
    "    \"\"\"\n",
    "    \n",
    "    __name__='HighPass1ZOpAmp'\n",
    "    __nodes__=('Vin','Vout')\n",
    "    \n",
    "    def __init__(self, R1=1, R2=1, L1=1):\n",
    "        super().__init__()\n",
    "        self.R1=R1; self.R2=R2; self.L1=L1\n",
    "        \n",
    "        self.R('1', 'Vin', '2', R1@u_Ω)\n",
    "        self.R('2', '2', 'Vout', R2@u_Ω)\n",
    "        self.L('1', '2', 'Vout', L1@u_H)\n",
    "        \n",
    "        self.subcircuit(BasicOperationalAmplifier())\n",
    "        #non, inv, out\n",
    "        self.X('op', 'BasicOperationalAmplifier', 'Vin', '2', 'Vout')\n",
    "        \n",
    "    @staticmethod\n",
    "    def Theory():\n",
    "        \"\"\"Analog Electronics: Circuits, Systems and Signal Processing \n",
    "        Crecraft Gergely\"\"\"        \n",
    "        R1, R2, L1=symbols('R_1, R_2, L_1', real=True, postive=True)\n",
    "        A,Zi, Zo, s=symbols('A, Z_i, Z_o s')\n",
    "        H=Function('H')(s); Zin=Function('Z_in')(s); Zout=Function('Z_out')(s)\n",
    "        TF=simplify(Eq(H, -((R2*s*L1)/(s*L1+R2))/R1))\n",
    "        Zin=Eq(Zin, R1)\n",
    "        Zout=simplify(Eq(Zout, Zo*(R1+((R2*s*L1)/(s*L1+R2)))/(A*R1)))\n",
    "        return TF, Zin, Zout\n",
    "        \n"
   ]
  },
  {
   "cell_type": "code",
   "execution_count": null,
   "metadata": {},
   "outputs": [],
   "source": [
    "HighPass1ZOpAmp.Theory()"
   ]
  },
  {
   "cell_type": "code",
   "execution_count": null,
   "metadata": {},
   "outputs": [],
   "source": [
    "#create the Test Bench and Bind to this instance the HighPass1ZOpAmp Topo\n",
    "TB=OnePortOpAmpTB(HighPass1ZOpAmp)\n",
    "#Setup the Testbench; use a R1=20 Ohm,R2=5 Ohm, L1=10 muH and print the TB\n",
    "TB.SetupCir(**{'R1':20, 'R2':5, 'L1':10e-6})\n",
    "#Run the AC Bode Simulation\n",
    "TB.Simulate()\n",
    "#View Bode Simulation\n",
    "TB.PlotResults()"
   ]
  },
  {
   "cell_type": "markdown",
   "metadata": {},
   "source": [
    "# Sallen-Key Filter\n",
    "[Analog Electronics: Circuits, Systems and Signal Processing Crecraft & Gergely](https://www.amazon.com/Analog-Electronics-Circuits-Systems-Processing-ebook/dp/B00CXO975A/ref=sr_1_1?ie=UTF8&qid=1524885102&sr=8-1&keywords=Analog+Electronics+Crecraft+Gergely) 10.6.2"
   ]
  },
  {
   "cell_type": "markdown",
   "metadata": {},
   "source": [
    "$$G=\\dfrac{A_V Y_1 Y_3}{Y_5(Y_1+Y_2+Y_3+Y_4)+Y_3(Y_1+Y_2+Y_4(1+A_V))}$$"
   ]
  },
  {
   "cell_type": "markdown",
   "metadata": {},
   "source": [
    "## Low Pass with Voltage Gain\n",
    "$$Y_1=R_1$$\n",
    "$$Y_2=0$$\n",
    "$$Y_3=R_3$$\n",
    "$$Y_4=sC_4$$\n",
    "$$Y_5=sC_5$$"
   ]
  },
  {
   "cell_type": "code",
   "execution_count": null,
   "metadata": {},
   "outputs": [],
   "source": [
    "class LPSKV(SubCircuitFactory):\n",
    "    \"\"\"\n",
    "    Low Pass Sallen-Key with Voltage Gain NonInverting Amp\n",
    "\n",
    "    Termanals:\n",
    "        Vin\n",
    "        Vout\n",
    "    Parms:\n",
    "        R1[Ohms]\n",
    "        R3[Ohms]\n",
    "        C4[Farads]\n",
    "        C5[Farads]\n",
    "        RF1[Ohms]: NonInverting Feedback R1\n",
    "        RF2[Ohms]: NonInverting Feedback R2\n",
    "        \n",
    "    \"\"\"\n",
    "    \n",
    "    __name__='LPSKV'\n",
    "    __nodes__=('Vin','Vout')\n",
    "    \n",
    "    def __init__(self, R1=1, R3=1, C4=1e-12, C5=1e-12, RF1=1, RF2=1):\n",
    "        super().__init__()\n",
    "        self.R1=R1; self.R3=R3; self.C4=C4; self.C5=C5\n",
    "        self.RF1=RF1; self.RF2=RF2\n",
    "        \n",
    "        self.R('1', 'Vin', '1', R1@u_Ω)\n",
    "        self.R('3', '1', '2', R3@u_Ω)\n",
    "        self.C('4', '1', 'Vout', C4@u_F)\n",
    "        self.C('5', '2', self.gnd, C5@u_F)\n",
    "        \n",
    "        \n",
    "        self.subcircuit(NonInvertingOpAmp(R1=RF1, R2=RF2))\n",
    "        self.X('Av', 'NonInvertingOpAmp', '2', 'Vout')\n",
    "        \n",
    "    "
   ]
  },
  {
   "cell_type": "code",
   "execution_count": null,
   "metadata": {},
   "outputs": [],
   "source": [
    "#create the Test Bench and Bind to this instance the LPSKV Topo\n",
    "TB=OnePortOpAmpTB(LPSKV)\n",
    "#Setup the Testbench; use a R1:20 Ohm,R2:5 Ohm, L1:10 muH and print the TB\n",
    "TB.SetupCir(**{'R1':20e3, 'R3':20e3, 'C4':1e-12, 'C5':1e-12, \n",
    "             'RF1':1, 'RF2':1})\n",
    "#Run the AC Bode Simulation\n",
    "TB.Simulate(fMax=10e9)\n",
    "#View Bode Simulation\n",
    "TB.PlotResults()"
   ]
  },
  {
   "cell_type": "markdown",
   "metadata": {},
   "source": [
    "## Band Pass with Voltage Gain\n",
    "$$Y_1=R_1$$\n",
    "$$Y_2=0$$\n",
    "$$Y_3=C_3$$\n",
    "$$Y_4=R_4$$\n",
    "$$Y_5=sC_5$$"
   ]
  },
  {
   "cell_type": "code",
   "execution_count": null,
   "metadata": {},
   "outputs": [],
   "source": [
    "class BPSKV(SubCircuitFactory):\n",
    "    \"\"\"\n",
    "    Band Pass Sallen-Key with Voltage Gain NonInverting Amp\n",
    "\n",
    "    Termanals:\n",
    "        Vin\n",
    "        Vout\n",
    "    Parms:\n",
    "        R1[Ohms]\n",
    "        R4[Ohms]\n",
    "        R5[Ohms]\n",
    "        C3[Farads]\n",
    "        C5[Farads]\n",
    "        RF1[Ohms]: NonInverting Feedback R1\n",
    "        RF2[Ohms]: NonInverting Feedback R2\n",
    "        \n",
    "    \"\"\"\n",
    "    \n",
    "    __name__='BPSKV'\n",
    "    __nodes__=('Vin','Vout')\n",
    "    \n",
    "    def __init__(self, R1=1, R4=1, R5=1, C3=1e-12, C5=1e-12, RF1=1, RF2=1):\n",
    "        super().__init__()\n",
    "        self.R1=R1; self.R4=R4; self.C3=C3; self.C5=C5\n",
    "        self.RF1=RF1; self.RF2=RF2\n",
    "        \n",
    "        self.R('1', 'Vin', '1', R1@u_Ω)\n",
    "        self.C('3', '1', '2', C3@u_F)\n",
    "        self.R('4', '1', 'Vout', R4@u_Ω)\n",
    "        self.C('5', '2', self.gnd, C5@u_F)\n",
    "        self.R('5', '2', self.gnd, R5@u_Ω)\n",
    "        \n",
    "        \n",
    "        self.subcircuit(NonInvertingOpAmp(R1=RF1, R2=RF2))\n",
    "        self.X('Av', 'NonInvertingOpAmp', '2', 'Vout')\n",
    "        \n",
    "    "
   ]
  },
  {
   "cell_type": "code",
   "execution_count": null,
   "metadata": {},
   "outputs": [],
   "source": [
    "#create the Test Bench and Bind to this instance the BPSKV Topo\n",
    "TB=OnePortOpAmpTB(BPSKV)\n",
    "#Setup the Testbench; use a R1:20 Ohm,R2:5 Ohm, L1:10 muH and print the TB\n",
    "TB.SetupCir(**{'R1':20e3, 'R4':20e3, 'R5':20e3, 'C3':1e-12, 'C5':1e-12, \n",
    "             'RF1':1, 'RF2':1})\n",
    "#Run the AC Bode Simulation\n",
    "TB.Simulate(fMax=10e9)\n",
    "#View Bode Simulation\n",
    "TB.PlotResults()"
   ]
  },
  {
   "cell_type": "markdown",
   "metadata": {},
   "source": [
    "## HIgh Pass with Voltage Gain\n",
    "$$Y_1=sC_1$$\n",
    "$$Y_2=0$$\n",
    "$$Y_3=sC_3$$\n",
    "$$Y_4=R_4$$\n",
    "$$Y_5=R_5$$"
   ]
  },
  {
   "cell_type": "code",
   "execution_count": null,
   "metadata": {
    "code_folding": []
   },
   "outputs": [],
   "source": [
    "class HPSKV(SubCircuitFactory):\n",
    "    \"\"\"\n",
    "    High Pass Sallen-Key with Voltage Gain NonInverting Amp\n",
    "\n",
    "    Termanals:\n",
    "        Vin\n",
    "        Vout\n",
    "    Parms:\n",
    "        R4[Ohms]\n",
    "        R5[Ohms]\n",
    "        C1[Farads]\n",
    "        C3[Farads]\n",
    "        RF1[Ohms]: NonInverting Feedback R1\n",
    "        RF2[Ohms]: NonInverting Feedback R2\n",
    "        \n",
    "    \"\"\"\n",
    "    \n",
    "    __name__='HPSKV'\n",
    "    __nodes__=('Vin','Vout')\n",
    "    \n",
    "    def __init__(self, R4=1, R5=1, C1=1e-12, C3=1e-12, RF1=1, RF2=1):\n",
    "        super().__init__()\n",
    "        self.R4=R4; self.R5=R5; self.C1=C1; self.C3=C3\n",
    "        self.RF1=RF1; self.RF2=RF2\n",
    "        \n",
    "        self.C('1', 'Vin', '1', C1@u_F)\n",
    "        self.C('3', '1', '2', C3@u_F)\n",
    "        self.R('4', '1', 'Vout', R4@u_Ω)\n",
    "        self.R('5', '2', self.gnd, R5@u_Ω)\n",
    "        \n",
    "        \n",
    "        self.subcircuit(NonInvertingOpAmp(R1=RF1, R2=RF2))\n",
    "        self.X('Av', 'NonInvertingOpAmp', '2', 'Vout')\n",
    "        \n",
    "    "
   ]
  },
  {
   "cell_type": "code",
   "execution_count": null,
   "metadata": {},
   "outputs": [],
   "source": [
    "#create the Test Bench and Bind to this instance the LPSKV Topo\n",
    "TB=OnePortOpAmpTB(HPSKV)\n",
    "#Setup the Testbench; use a R1:20 Ohm,R2:5 Ohm, L1:10 muH and print the TB\n",
    "TB.SetupCir(**{'R4':20e3, 'R5':20e3, 'C1':1e-12, 'C3':1e-12, \n",
    "             'RF1':1, 'RF2':1})\n",
    "#Run the AC Bode Simulation\n",
    "TB.Simulate(fMax=10e9)\n",
    "#View Bode Simulation\n",
    "TB.PlotResults()"
   ]
  },
  {
   "cell_type": "code",
   "execution_count": null,
   "metadata": {},
   "outputs": [],
   "source": []
  }
 ],
 "metadata": {
  "author": "Operatial Amplifier Topology Repository for use with Python",
  "hide_input": false,
  "kernelspec": {
   "display_name": "Python 3",
   "language": "python",
   "name": "python3"
  },
  "language_info": {
   "codemirror_mode": {
    "name": "ipython",
    "version": 3
   },
   "file_extension": ".py",
   "mimetype": "text/x-python",
   "name": "python",
   "nbconvert_exporter": "python",
   "pygments_lexer": "ipython3",
   "version": "3.6.3"
  },
  "latex_envs": {
   "LaTeX_envs_menu_present": true,
   "autocomplete": true,
   "bibliofile": "biblio.bib",
   "cite_by": "apalike",
   "current_citInitial": 1,
   "eqLabelWithNumbers": true,
   "eqNumInitial": 1,
   "hotkeys": {
    "equation": "Ctrl-E",
    "itemize": "Ctrl-I"
   },
   "labels_anchors": false,
   "latex_user_defs": false,
   "report_style_numbering": false,
   "user_envs_cfg": false
  },
  "toc": {
   "nav_menu": {},
   "number_sections": true,
   "sideBar": true,
   "skip_h1_title": false,
   "toc_cell": true,
   "toc_position": {},
   "toc_section_display": true,
   "toc_window_display": false
  }
 },
 "nbformat": 4,
 "nbformat_minor": 2
}
