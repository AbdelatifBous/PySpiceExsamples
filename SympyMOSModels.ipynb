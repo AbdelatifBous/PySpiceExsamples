{
 "cells": [
  {
   "cell_type": "code",
   "execution_count": 1,
   "metadata": {},
   "outputs": [],
   "source": [
    "from sympy import *\n",
    "init_printing()"
   ]
  },
  {
   "cell_type": "markdown",
   "metadata": {},
   "source": [
    "http://een.iust.ac.ir/profs/Abrishamifar/Analog%20Integrated%20Circuit%20Design/Data%20For%20Design/Useful%20equations/Equations.pdf"
   ]
  },
  {
   "cell_type": "code",
   "execution_count": 2,
   "metadata": {},
   "outputs": [
    {
     "data": {
      "image/png": "[encoded data removed]",
      "text/latex": [
       "$$\\left ( I_{D}, \\quad W, \\quad L, \\quad V_{DS}, \\quad V_{GS}, \\quad V_{thn}, \\quad V_{An}, \\quad k_{n'}\\right )$$"
      ],
      "text/plain": [
       "(I_D, W, L, V_DS, V_GS, Vₜₕₙ, V_An, k_n')"
      ]
     },
     "execution_count": 2,
     "metadata": {},
     "output_type": "execute_result"
    }
   ],
   "source": [
    "Id, W,L, VDS, VGS, Vnth, VnA, nTechConst=symbols(\"I_D, W, L, V_DS, V_GS, V_thn, V_An, k_n'\")\n",
    "Id, W,L, VDS, VGS, Vnth, VnA, nTechConst"
   ]
  },
  {
   "cell_type": "code",
   "execution_count": 3,
   "metadata": {},
   "outputs": [
    {
     "data": {
      "image/png": "[encoded data removed]",
      "text/latex": [
       "$$\\frac{W k_{n'}}{L} \\left(1 + \\frac{V_{DS}}{V_{An}}\\right) \\left(- \\frac{V_{DS}^{2}}{2} + V_{DS} \\left(V_{GS} - V_{thn}\\right)\\right)$$"
      ],
      "text/plain": [
       "                  ⎛      2                     ⎞\n",
       "       ⎛    V_DS⎞ ⎜  V_DS                      ⎟\n",
       "W⋅k_n'⋅⎜1 + ────⎟⋅⎜- ───── + V_DS⋅(V_GS - Vₜₕₙ)⎟\n",
       "       ⎝    V_An⎠ ⎝    2                       ⎠\n",
       "────────────────────────────────────────────────\n",
       "                       L                        "
      ]
     },
     "execution_count": 3,
     "metadata": {},
     "output_type": "execute_result"
    }
   ],
   "source": [
    "NLinFull=nTechConst*(W/L)*((VGS-Vnth)*VDS-VDS**2/2)*(1+VDS/VnA)\n",
    "NLinFull"
   ]
  },
  {
   "cell_type": "code",
   "execution_count": 4,
   "metadata": {},
   "outputs": [
    {
     "data": {
      "image/png": "[encoded data removed]",
      "text/latex": [
       "$$\\frac{W k_{n'}}{L} \\left(- \\frac{V_{DS}^{2}}{2} + V_{DS} \\left(V_{GS} - V_{thn}\\right)\\right)$$"
      ],
      "text/plain": [
       "       ⎛      2                     ⎞\n",
       "       ⎜  V_DS                      ⎟\n",
       "W⋅k_n'⋅⎜- ───── + V_DS⋅(V_GS - Vₜₕₙ)⎟\n",
       "       ⎝    2                       ⎠\n",
       "─────────────────────────────────────\n",
       "                  L                  "
      ]
     },
     "execution_count": 4,
     "metadata": {},
     "output_type": "execute_result"
    }
   ],
   "source": [
    "NLinSimp=nTechConst*(W/L)*((VGS-Vnth)*VDS-VDS**2/2)\n",
    "NLinSimp"
   ]
  },
  {
   "cell_type": "code",
   "execution_count": 5,
   "metadata": {},
   "outputs": [
    {
     "data": {
      "image/png": "[encoded data removed]",
      "text/latex": [
       "$$\\frac{W k_{n'}}{2 L} \\left(1 + \\frac{V_{DS}}{V_{An}}\\right) \\left(V_{GS} - V_{thn}\\right)^{2}$$"
      ],
      "text/plain": [
       "       ⎛    V_DS⎞              2\n",
       "W⋅k_n'⋅⎜1 + ────⎟⋅(V_GS - Vₜₕₙ) \n",
       "       ⎝    V_An⎠               \n",
       "────────────────────────────────\n",
       "              2⋅L               "
      ]
     },
     "execution_count": 5,
     "metadata": {},
     "output_type": "execute_result"
    }
   ],
   "source": [
    "NSatFull=nTechConst/2*W/L*(VGS-Vnth)**2 *(1+VDS/VnA)\n",
    "NSatFull"
   ]
  },
  {
   "cell_type": "code",
   "execution_count": 6,
   "metadata": {},
   "outputs": [
    {
     "data": {
      "image/png": "[encoded data removed]",
      "text/latex": [
       "$$\\frac{W k_{n'}}{2 L} \\left(V_{GS} - V_{thn}\\right)^{2}$$"
      ],
      "text/plain": [
       "                    2\n",
       "W⋅k_n'⋅(V_GS - Vₜₕₙ) \n",
       "─────────────────────\n",
       "         2⋅L         "
      ]
     },
     "execution_count": 6,
     "metadata": {},
     "output_type": "execute_result"
    }
   ],
   "source": [
    "NSatSimp=nTechConst/2*W/L*(VGS-Vnth)**2\n",
    "NSatSimp"
   ]
  },
  {
   "cell_type": "code",
   "execution_count": 7,
   "metadata": {},
   "outputs": [
    {
     "data": {
      "image/png": "[encoded data removed]",
      "text/latex": [
       "$$\\begin{cases} 0 & \\text{for}\\: V_{GS} < V_{thn} \\\\\\frac{W k_{n'}}{L} \\left(1 + \\frac{V_{DS}}{V_{An}}\\right) \\left(- \\frac{V_{DS}^{2}}{2} + V_{DS} \\left(V_{GS} - V_{thn}\\right)\\right) & \\text{for}\\: V_{GS} \\geq V_{thn} \\wedge V_{DS} < V_{GS} - V_{thn} \\\\\\frac{W k_{n'}}{2 L} \\left(1 + \\frac{V_{DS}}{V_{An}}\\right) \\left(V_{GS} - V_{thn}\\right)^{2} & \\text{for}\\: V_{DS} \\geq V_{GS} - V_{thn} \\wedge V_{GS} \\geq V_{thn} \\end{cases}$$"
      ],
      "text/plain": [
       "⎧                       0                                    for V_GS < Vₜₕₙ  \n",
       "⎪                                                                             \n",
       "⎪                  ⎛      2                     ⎞                             \n",
       "⎪       ⎛    V_DS⎞ ⎜  V_DS                      ⎟                             \n",
       "⎪W⋅k_n'⋅⎜1 + ────⎟⋅⎜- ───── + V_DS⋅(V_GS - Vₜₕₙ)⎟                             \n",
       "⎪       ⎝    V_An⎠ ⎝    2                       ⎠                             \n",
       "⎪────────────────────────────────────────────────  for V_GS ≥ Vₜₕₙ ∧ V_DS < V_\n",
       "⎨                       L                                                     \n",
       "⎪                                                                             \n",
       "⎪               ⎛    V_DS⎞              2                                     \n",
       "⎪        W⋅k_n'⋅⎜1 + ────⎟⋅(V_GS - Vₜₕₙ)                                      \n",
       "⎪               ⎝    V_An⎠                                                    \n",
       "⎪        ────────────────────────────────          for V_DS ≥ V_GS - Vₜₕₙ ∧ V_\n",
       "⎪                      2⋅L                                                    \n",
       "⎩                                                                             \n",
       "\n",
       "         \n",
       "         \n",
       "         \n",
       "         \n",
       "         \n",
       "         \n",
       "GS - Vₜₕₙ\n",
       "         \n",
       "         \n",
       "         \n",
       "         \n",
       "         \n",
       "GS ≥ Vₜₕₙ\n",
       "         \n",
       "         "
      ]
     },
     "execution_count": 7,
     "metadata": {},
     "output_type": "execute_result"
    }
   ],
   "source": [
    "NIdFull=Piecewise(\n",
    "    (0, VGS<Vnth),\n",
    "    (NLinFull, And(VGS>=Vnth, VDS<VGS-Vnth)),\n",
    "    (NSatFull, And(VGS>=Vnth, VDS>=VGS-Vnth))\n",
    ")\n",
    "NIdFull"
   ]
  },
  {
   "cell_type": "code",
   "execution_count": 8,
   "metadata": {},
   "outputs": [
    {
     "data": {
      "image/png": "[encoded data removed]",
      "text/latex": [
       "$$\\begin{cases} 0 & \\text{for}\\: V_{GS} < V_{thn} \\\\\\frac{W k_{n'}}{L} \\left(- \\frac{V_{DS}^{2}}{2} + V_{DS} \\left(V_{GS} - V_{thn}\\right)\\right) & \\text{for}\\: V_{GS} \\geq V_{thn} \\wedge V_{DS} < V_{GS} - V_{thn} \\\\\\frac{W k_{n'}}{2 L} \\left(V_{GS} - V_{thn}\\right)^{2} & \\text{for}\\: V_{DS} \\geq V_{GS} - V_{thn} \\wedge V_{GS} \\geq V_{thn} \\end{cases}$$"
      ],
      "text/plain": [
       "⎧                  0                              for V_GS < Vₜₕₙ           \n",
       "⎪                                                                           \n",
       "⎪       ⎛      2                     ⎞                                      \n",
       "⎪       ⎜  V_DS                      ⎟                                      \n",
       "⎪W⋅k_n'⋅⎜- ───── + V_DS⋅(V_GS - Vₜₕₙ)⎟                                      \n",
       "⎪       ⎝    2                       ⎠                                      \n",
       "⎨─────────────────────────────────────  for V_GS ≥ Vₜₕₙ ∧ V_DS < V_GS - Vₜₕₙ\n",
       "⎪                  L                                                        \n",
       "⎪                                                                           \n",
       "⎪                            2                                              \n",
       "⎪        W⋅k_n'⋅(V_GS - Vₜₕₙ)                                               \n",
       "⎪        ─────────────────────          for V_DS ≥ V_GS - Vₜₕₙ ∧ V_GS ≥ Vₜₕₙ\n",
       "⎩                 2⋅L                                                       "
      ]
     },
     "execution_count": 8,
     "metadata": {},
     "output_type": "execute_result"
    }
   ],
   "source": [
    "NIdSimp=Piecewise(\n",
    "    (0, VGS<Vnth),\n",
    "    (NLinSimp, And(VGS>=Vnth, VDS<VGS-Vnth)),\n",
    "    (NSatSimp, And(VGS>=Vnth, VDS>=VGS-Vnth))\n",
    ")\n",
    "NIdSimp"
   ]
  },
  {
   "cell_type": "code",
   "execution_count": 9,
   "metadata": {},
   "outputs": [
    {
     "data": {
      "image/png": "[encoded data removed]",
      "text/latex": [
       "$$V_{GS} < V_{thn}$$"
      ],
      "text/plain": [
       "V_GS < Vₜₕₙ"
      ]
     },
     "execution_count": 9,
     "metadata": {},
     "output_type": "execute_result"
    }
   ],
   "source": [
    "NCutoffCond=VGS<Vnth; NCutoffCond"
   ]
  },
  {
   "cell_type": "code",
   "execution_count": 10,
   "metadata": {},
   "outputs": [
    {
     "data": {
      "image/png": "[encoded data removed]",
      "text/latex": [
       "$$V_{DS} < V_{GS} - V_{thn}$$"
      ],
      "text/plain": [
       "V_DS < V_GS - Vₜₕₙ"
      ]
     },
     "execution_count": 10,
     "metadata": {},
     "output_type": "execute_result"
    }
   ],
   "source": [
    "NLinearCond=VDS<VGS-Vnth; NLinearCond"
   ]
  },
  {
   "cell_type": "code",
   "execution_count": 11,
   "metadata": {},
   "outputs": [
    {
     "data": {
      "image/png": "[encoded data removed]",
      "text/latex": [
       "$$V_{DS} \\geq V_{GS} - V_{thn}$$"
      ],
      "text/plain": [
       "V_DS ≥ V_GS - Vₜₕₙ"
      ]
     },
     "execution_count": 11,
     "metadata": {},
     "output_type": "execute_result"
    }
   ],
   "source": [
    "NSatCond=VDS>=VGS-Vnth; NSatCond"
   ]
  },
  {
   "cell_type": "code",
   "execution_count": 12,
   "metadata": {},
   "outputs": [
    {
     "data": {
      "image/png": "[encoded data removed]",
      "text/latex": [
       "$$\\frac{W k_{n'}}{L} \\left(1 + \\frac{V_{DS}}{V_{An}}\\right) \\left(- \\frac{V_{DS}^{2}}{2} + V_{DS} \\left(V_{GS} - V_{thn}\\right)\\right)$$"
      ],
      "text/plain": [
       "                  ⎛      2                     ⎞\n",
       "       ⎛    V_DS⎞ ⎜  V_DS                      ⎟\n",
       "W⋅k_n'⋅⎜1 + ────⎟⋅⎜- ───── + V_DS⋅(V_GS - Vₜₕₙ)⎟\n",
       "       ⎝    V_An⎠ ⎝    2                       ⎠\n",
       "────────────────────────────────────────────────\n",
       "                       L                        "
      ]
     },
     "execution_count": 12,
     "metadata": {},
     "output_type": "execute_result"
    }
   ],
   "source": [
    "NLinFull.subs({})"
   ]
  },
  {
   "cell_type": "code",
   "execution_count": 13,
   "metadata": {},
   "outputs": [],
   "source": [
    "class NMOS():\n",
    "    def __init__():\n",
    "        pass\n",
    "    \n",
    "    @staticmethod\n",
    "    def LinFull(subs={}):\n",
    "        return NLinFull.subs(subs)\n",
    "    \n",
    "    @staticmethod\n",
    "    def LinSimp(subs={}):\n",
    "        return NLinSimp.subs(subs)\n",
    "    \n",
    "    @staticmethod\n",
    "    def SatFull(subs={}):\n",
    "        return NSatFull.subs(subs)\n",
    "    \n",
    "    @staticmethod\n",
    "    def IdFull(subs={}):\n",
    "        return NIdFull.subs(subs)\n",
    "    \n",
    "    @staticmethod\n",
    "    def IdSimp(subs={}):\n",
    "        return NIdSimp.subs(subs)\n",
    "    \n",
    "    @staticmethod\n",
    "    def CutoffCond(subs={}):\n",
    "        return NCutoffCond.subs(subs)\n",
    "    \n",
    "    @staticmethod\n",
    "    def LinearCond(subs={}):\n",
    "        return NLinearCond.subs(subs)\n",
    "    \n",
    "    @staticmethod\n",
    "    def SatCond(subs={}):\n",
    "        return NSatCond.subs(subs)"
   ]
  },
  {
   "cell_type": "raw",
   "metadata": {},
   "source": [
    "NMOS.LinFull(subs={VnA:5})"
   ]
  },
  {
   "cell_type": "raw",
   "metadata": {},
   "source": [
    "print(NMOS.LinFull())\n",
    "print(NMOS.LinSimp())\n",
    "print(NMOS.SatFull())\n",
    "print(NMOS.IdFull())\n",
    "print(NMOS.IdSimp())\n",
    "print(NMOS.CutoffCond())\n",
    "print(NMOS.LinearCond())\n",
    "print(NMOS.SatCond())"
   ]
  },
  {
   "cell_type": "code",
   "execution_count": 14,
   "metadata": {},
   "outputs": [
    {
     "data": {
      "image/png": "[encoded data removed]",
      "text/latex": [
       "$$\\left ( V_{SD}, \\quad V_{SG}, \\quad V_{thp}, \\quad V_{Ap}, \\quad k_{p'}\\right )$$"
      ],
      "text/plain": [
       "(V_SD, V_SG, Vₜₕₚ, V_Ap, k_p')"
      ]
     },
     "execution_count": 14,
     "metadata": {},
     "output_type": "execute_result"
    }
   ],
   "source": [
    "VSD, VSG, Vpth, VpA, pTechConst=symbols(\"V_SD, V_SG, V_thp, V_Ap, k_p'\")\n",
    "VSD, VSG, Vpth, VpA, pTechConst"
   ]
  },
  {
   "cell_type": "code",
   "execution_count": 15,
   "metadata": {},
   "outputs": [
    {
     "data": {
      "image/png": "[encoded data removed]",
      "text/latex": [
       "$$\\frac{W k_{p'}}{L} \\left(- \\frac{V_{SD}^{2}}{2} + V_{SD} \\left(V_{SG} - \\left|{V_{thp}}\\right|\\right)\\right) \\left(\\frac{V_{SD}}{\\left|{V_{Ap}}\\right|} + 1\\right)$$"
      ],
      "text/plain": [
       "       ⎛      2                       ⎞             \n",
       "       ⎜  V_SD                        ⎟ ⎛ V_SD     ⎞\n",
       "W⋅k_p'⋅⎜- ───── + V_SD⋅(V_SG - │Vₜₕₚ│)⎟⋅⎜────── + 1⎟\n",
       "       ⎝    2                         ⎠ ⎝│V_Ap│    ⎠\n",
       "────────────────────────────────────────────────────\n",
       "                         L                          "
      ]
     },
     "execution_count": 15,
     "metadata": {},
     "output_type": "execute_result"
    }
   ],
   "source": [
    "PLinFull=pTechConst*(W/L)*((VSG-abs(Vpth))*VSD-VSD**2/2)*(1+VSD/abs(VpA))\n",
    "PLinFull"
   ]
  },
  {
   "cell_type": "code",
   "execution_count": 16,
   "metadata": {},
   "outputs": [
    {
     "data": {
      "image/png": "[encoded data removed]",
      "text/latex": [
       "$$\\frac{W k_{p'}}{L} \\left(- \\frac{V_{SD}^{2}}{2} + V_{SD} \\left(V_{SG} - \\left|{V_{thp}}\\right|\\right)\\right)$$"
      ],
      "text/plain": [
       "       ⎛      2                       ⎞\n",
       "       ⎜  V_SD                        ⎟\n",
       "W⋅k_p'⋅⎜- ───── + V_SD⋅(V_SG - │Vₜₕₚ│)⎟\n",
       "       ⎝    2                         ⎠\n",
       "───────────────────────────────────────\n",
       "                   L                   "
      ]
     },
     "execution_count": 16,
     "metadata": {},
     "output_type": "execute_result"
    }
   ],
   "source": [
    "PLinSimp=pTechConst*(W/L)*((VSG-abs(Vpth))*VSD-VSD**2/2)\n",
    "PLinSimp"
   ]
  },
  {
   "cell_type": "code",
   "execution_count": 17,
   "metadata": {},
   "outputs": [
    {
     "data": {
      "image/png": "[encoded data removed]",
      "text/latex": [
       "$$\\frac{W k_{p'}}{2 L} \\left(V_{SG} - \\left|{V_{thp}}\\right|\\right)^{2} \\left(\\frac{V_{SD}}{\\left|{V_{Ap}}\\right|} + 1\\right)$$"
      ],
      "text/plain": [
       "                      2 ⎛ V_SD     ⎞\n",
       "W⋅k_p'⋅(V_SG - │Vₜₕₚ│) ⋅⎜────── + 1⎟\n",
       "                        ⎝│V_Ap│    ⎠\n",
       "────────────────────────────────────\n",
       "                2⋅L                 "
      ]
     },
     "execution_count": 17,
     "metadata": {},
     "output_type": "execute_result"
    }
   ],
   "source": [
    "PSatFull=pTechConst/2*W/L*(VSG-abs(Vpth))**2 *(1+VSD/abs(VpA))\n",
    "PSatFull"
   ]
  },
  {
   "cell_type": "code",
   "execution_count": 18,
   "metadata": {},
   "outputs": [
    {
     "data": {
      "image/png": "[encoded data removed]",
      "text/latex": [
       "$$\\frac{W k_{p'}}{2 L} \\left(V_{SG} - \\left|{V_{thp}}\\right|\\right)^{2}$$"
      ],
      "text/plain": [
       "                      2\n",
       "W⋅k_p'⋅(V_SG - │Vₜₕₚ│) \n",
       "───────────────────────\n",
       "          2⋅L          "
      ]
     },
     "execution_count": 18,
     "metadata": {},
     "output_type": "execute_result"
    }
   ],
   "source": [
    "PSatSimp=pTechConst/2*W/L*(VSG-abs(Vpth))**2\n",
    "PSatSimp"
   ]
  },
  {
   "cell_type": "code",
   "execution_count": 19,
   "metadata": {},
   "outputs": [
    {
     "data": {
      "image/png": "[encoded data removed]",
      "text/latex": [
       "$$\\begin{cases} 0 & \\text{for}\\: V_{SG} < \\left|{V_{thp}}\\right| \\\\\\frac{W k_{p'}}{L} \\left(- \\frac{V_{SD}^{2}}{2} + V_{SD} \\left(V_{SG} - \\left|{V_{thp}}\\right|\\right)\\right) \\left(\\frac{V_{SD}}{\\left|{V_{Ap}}\\right|} + 1\\right) & \\text{for}\\: V_{SG} \\geq \\left|{V_{thp}}\\right| \\wedge V_{SD} < V_{SG} - \\left|{V_{thp}}\\right| \\\\\\frac{W k_{p'}}{2 L} \\left(V_{SG} - \\left|{V_{thp}}\\right|\\right)^{2} \\left(\\frac{V_{SD}}{\\left|{V_{Ap}}\\right|} + 1\\right) & \\text{for}\\: V_{SD} \\geq V_{SG} - \\left|{V_{thp}}\\right| \\wedge V_{SG} \\geq \\left|{V_{thp}}\\right| \\end{cases}$$"
      ],
      "text/plain": [
       "⎧                         0                                       for V_SG < │\n",
       "⎪                                                                             \n",
       "⎪       ⎛      2                       ⎞                                      \n",
       "⎪       ⎜  V_SD                        ⎟ ⎛ V_SD     ⎞                         \n",
       "⎪W⋅k_p'⋅⎜- ───── + V_SD⋅(V_SG - │Vₜₕₚ│)⎟⋅⎜────── + 1⎟                         \n",
       "⎪       ⎝    2                         ⎠ ⎝│V_Ap│    ⎠                         \n",
       "⎪────────────────────────────────────────────────────  for V_SG ≥ │Vₜₕₚ│ ∧ V_S\n",
       "⎨                         L                                                   \n",
       "⎪                                                                             \n",
       "⎪                              2 ⎛ V_SD     ⎞                                 \n",
       "⎪        W⋅k_p'⋅(V_SG - │Vₜₕₚ│) ⋅⎜────── + 1⎟                                 \n",
       "⎪                                ⎝│V_Ap│    ⎠                                 \n",
       "⎪        ────────────────────────────────────          for V_SD ≥ V_SG - │Vₜₕₚ\n",
       "⎪                        2⋅L                                                  \n",
       "⎩                                                                             \n",
       "\n",
       "Vₜₕₚ│            \n",
       "                 \n",
       "                 \n",
       "                 \n",
       "                 \n",
       "                 \n",
       "D < V_SG - │Vₜₕₚ│\n",
       "                 \n",
       "                 \n",
       "                 \n",
       "                 \n",
       "                 \n",
       "│ ∧ V_SG ≥ │Vₜₕₚ│\n",
       "                 \n",
       "                 "
      ]
     },
     "execution_count": 19,
     "metadata": {},
     "output_type": "execute_result"
    }
   ],
   "source": [
    "PIdFull=Piecewise(\n",
    "    (0, VSG<abs(Vpth)),\n",
    "    (PLinFull, And(VSG>=abs(Vpth), VSD<VSG-abs(Vpth))),\n",
    "    (PSatFull, And(VSG>=abs(Vpth), VSD>=VSG-abs(Vpth)))\n",
    ")\n",
    "PIdFull"
   ]
  },
  {
   "cell_type": "code",
   "execution_count": 20,
   "metadata": {},
   "outputs": [
    {
     "data": {
      "image/png": "[encoded data removed]",
      "text/latex": [
       "$$\\begin{cases} 0 & \\text{for}\\: V_{SG} < \\left|{V_{thp}}\\right| \\\\\\frac{W k_{p'}}{L} \\left(- \\frac{V_{SD}^{2}}{2} + V_{SD} \\left(V_{SG} - \\left|{V_{thp}}\\right|\\right)\\right) & \\text{for}\\: V_{SG} \\geq \\left|{V_{thp}}\\right| \\wedge V_{SD} < V_{SG} - \\left|{V_{thp}}\\right| \\\\\\frac{W k_{p'}}{2 L} \\left(V_{SG} - \\left|{V_{thp}}\\right|\\right)^{2} & \\text{for}\\: V_{SD} \\geq V_{SG} - \\left|{V_{thp}}\\right| \\wedge V_{SG} \\geq \\left|{V_{thp}}\\right| \\end{cases}$$"
      ],
      "text/plain": [
       "⎧                   0                                for V_SG < │Vₜₕₚ│        \n",
       "⎪                                                                             \n",
       "⎪       ⎛      2                       ⎞                                      \n",
       "⎪       ⎜  V_SD                        ⎟                                      \n",
       "⎪W⋅k_p'⋅⎜- ───── + V_SD⋅(V_SG - │Vₜₕₚ│)⎟                                      \n",
       "⎪       ⎝    2                         ⎠                                      \n",
       "⎨───────────────────────────────────────  for V_SG ≥ │Vₜₕₚ│ ∧ V_SD < V_SG - │V\n",
       "⎪                   L                                                         \n",
       "⎪                                                                             \n",
       "⎪                              2                                              \n",
       "⎪        W⋅k_p'⋅(V_SG - │Vₜₕₚ│)                                               \n",
       "⎪        ───────────────────────          for V_SD ≥ V_SG - │Vₜₕₚ│ ∧ V_SG ≥ │V\n",
       "⎩                  2⋅L                                                        \n",
       "\n",
       "    \n",
       "    \n",
       "    \n",
       "    \n",
       "    \n",
       "    \n",
       "ₜₕₚ│\n",
       "    \n",
       "    \n",
       "    \n",
       "    \n",
       "ₜₕₚ│\n",
       "    "
      ]
     },
     "execution_count": 20,
     "metadata": {},
     "output_type": "execute_result"
    }
   ],
   "source": [
    "PIdSimp=Piecewise(\n",
    "    (0, VSG<abs(Vpth)),\n",
    "    (PLinSimp, And(VSG>=abs(Vpth), VSD<VSG-abs(Vpth))),\n",
    "    (PSatSimp, And(VSG>=abs(Vpth), VSD>=VSG-abs(Vpth)))\n",
    ")\n",
    "PIdSimp"
   ]
  },
  {
   "cell_type": "code",
   "execution_count": 21,
   "metadata": {},
   "outputs": [
    {
     "data": {
      "image/png": "[encoded data removed]",
      "text/latex": [
       "$$V_{SG} < \\left|{V_{thp}}\\right|$$"
      ],
      "text/plain": [
       "V_SG < │Vₜₕₚ│"
      ]
     },
     "execution_count": 21,
     "metadata": {},
     "output_type": "execute_result"
    }
   ],
   "source": [
    "PCutoffCond=VSG<abs(Vpth); PCutoffCond"
   ]
  },
  {
   "cell_type": "code",
   "execution_count": 22,
   "metadata": {},
   "outputs": [
    {
     "data": {
      "image/png": "[encoded data removed]",
      "text/latex": [
       "$$V_{SD} < V_{SG} - \\left|{V_{thp}}\\right|$$"
      ],
      "text/plain": [
       "V_SD < V_SG - │Vₜₕₚ│"
      ]
     },
     "execution_count": 22,
     "metadata": {},
     "output_type": "execute_result"
    }
   ],
   "source": [
    "PLinearCond=VSD<VSG-abs(Vpth); PLinearCond"
   ]
  },
  {
   "cell_type": "code",
   "execution_count": 23,
   "metadata": {},
   "outputs": [
    {
     "data": {
      "image/png": "[encoded data removed]",
      "text/latex": [
       "$$V_{SD} \\geq V_{SG} - \\left|{V_{thp}}\\right|$$"
      ],
      "text/plain": [
       "V_SD ≥ V_SG - │Vₜₕₚ│"
      ]
     },
     "execution_count": 23,
     "metadata": {},
     "output_type": "execute_result"
    }
   ],
   "source": [
    "PSatCond=VSD>=VSG-abs(Vpth); PSatCond"
   ]
  },
  {
   "cell_type": "code",
   "execution_count": 24,
   "metadata": {},
   "outputs": [],
   "source": [
    "class PMOS():\n",
    "    def __init__():\n",
    "        pass\n",
    "    \n",
    "    @staticmethod\n",
    "    def LinFull(subs={}):\n",
    "        return PLinFull.subs(subs)\n",
    "    \n",
    "    @staticmethod\n",
    "    def LinSimp(subs={}):\n",
    "        return PLinSimp.subs(subs)\n",
    "    \n",
    "    @staticmethod\n",
    "    def SatFull(subs={}):\n",
    "        return PSatFull.subs(subs)\n",
    "    \n",
    "    @staticmethod\n",
    "    def IdFull(subs={}):\n",
    "        return PIdFull.subs(subs)\n",
    "    \n",
    "    @staticmethod\n",
    "    def IdSimp(subs={}):\n",
    "        return PIdSimp.subs(subs)\n",
    "    \n",
    "    @staticmethod\n",
    "    def CutoffCond(subs={}):\n",
    "        return PCutoffCond.subs(subs)\n",
    "    \n",
    "    @staticmethod\n",
    "    def LinearCond(subs={}):\n",
    "        return PLinearCond.subs(subs)\n",
    "    \n",
    "    @staticmethod\n",
    "    def SatCond(subs={}):\n",
    "        return PSatCond.subs(subs)"
   ]
  },
  {
   "cell_type": "raw",
   "metadata": {},
   "source": [
    "print(PMOS.LinFull(subs={VpA:5}))\n",
    "print(PMOS.LinSimp())\n",
    "print(PMOS.SatFull())\n",
    "print(PMOS.IdFull())\n",
    "print(PMOS.IdSimp())\n",
    "print(PMOS.CutoffCond())\n",
    "print(PMOS.LinearCond())\n",
    "print(PMOS.SatCond())"
   ]
  },
  {
   "cell_type": "code",
   "execution_count": null,
   "metadata": {},
   "outputs": [],
   "source": []
  }
 ],
 "metadata": {
  "kernelspec": {
   "display_name": "Python 3",
   "language": "python",
   "name": "python3"
  },
  "language_info": {
   "codemirror_mode": {
    "name": "ipython",
    "version": 3
   },
   "file_extension": ".py",
   "mimetype": "text/x-python",
   "name": "python",
   "nbconvert_exporter": "python",
   "pygments_lexer": "ipython3",
   "version": "3.6.4"
  },
  "latex_envs": {
   "LaTeX_envs_menu_present": true,
   "autocomplete": true,
   "bibliofile": "biblio.bib",
   "cite_by": "apalike",
   "current_citInitial": 1,
   "eqLabelWithNumbers": true,
   "eqNumInitial": 1,
   "hotkeys": {
    "equation": "Ctrl-E",
    "itemize": "Ctrl-I"
   },
   "labels_anchors": false,
   "latex_user_defs": false,
   "report_style_numbering": false,
   "user_envs_cfg": false
  },
  "toc": {
   "nav_menu": {},
   "number_sections": true,
   "sideBar": true,
   "skip_h1_title": false,
   "title_cell": "Table of Contents",
   "title_sidebar": "Contents",
   "toc_cell": false,
   "toc_position": {},
   "toc_section_display": true,
   "toc_window_display": false
  }
 },
 "nbformat": 4,
 "nbformat_minor": 2
}
